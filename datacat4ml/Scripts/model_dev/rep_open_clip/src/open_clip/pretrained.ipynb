{
 "cells": [
  {
   "cell_type": "code",
   "execution_count": 10,
   "metadata": {},
   "outputs": [],
   "source": [
    "# conda env: pyg (Python 3.9.16)\n",
    "import copy\n",
    "import hashlib\n",
    "import os\n",
    "import urllib\n",
    "import warnings\n",
    "from functools import partial\n",
    "from typing import Dict, Iterable, Optional, Union\n",
    "\n",
    "from tqdm import tqdm\n",
    "\n",
    "\n",
    "try:\n",
    "    import safetensors.torch\n",
    "    _has_safetensors = True\n",
    "except ImportError:\n",
    "    _has_safetensors = False\n",
    "\n",
    "from datacat4ml.Scripts.model_dev.rep_open_clip.src.open_clip.version import __version__\n",
    "try:\n",
    "    from huggingface_hub import hf_hub_download\n",
    "    hf_hub_download = partial(hf_hub_download, library_name=\"open_clip\", library_version=__version__)\n",
    "    _has_hf_hub = True\n",
    "except ImportError:\n",
    "    hf_hub_download = None\n",
    "    _has_hf_hub = False"
   ]
  },
  {
   "cell_type": "code",
   "execution_count": 11,
   "metadata": {},
   "outputs": [],
   "source": [
    "#################   Yu's ##########################\n",
    "\n",
    "from datacat4ml.Scripts.model_dev.rep_open_clip.src.open_clip.constants import (\n",
    "#-->     IMAGENET_MEAN,\n",
    "#-->     IMAGENET_STD,\n",
    "#-->     INCEPTION_MEAN,\n",
    "#-->     INCEPTION_STD,\n",
    "#-->     OPENAI_DATASET_MEAN,\n",
    "#-->     OPENAI_DATASET_STD,\n",
    "    HF_WEIGHTS_NAME,\n",
    "    HF_SAFE_WEIGHTS_NAME,\n",
    ")\n",
    "\n",
    "\n",
    "#################   Yu's ##########################"
   ]
  },
  {
   "cell_type": "markdown",
   "metadata": {},
   "source": [
    "# `download_pretrained_from_hf`"
   ]
  },
  {
   "cell_type": "code",
   "execution_count": 12,
   "metadata": {},
   "outputs": [],
   "source": [
    "def has_hf_hub(necessary=False):\n",
    "    if not _has_hf_hub and necessary:\n",
    "        # if no HF Hub module installed, and it is necessary to continue, raise error\n",
    "        raise RuntimeError(\n",
    "            'Hugging Face hub model specified but package not installed. Run `pip install huggingface_hub`.')\n",
    "    return _has_hf_hub\n",
    "\n",
    "def _get_safe_alternatives(filename: str) -> Iterable[str]:\n",
    "    \"\"\"Returns potential safetensors alternatives for a given filename.\n",
    "\n",
    "    Use case:\n",
    "        When downloading a model from the Huggingface Hub, we first look if a .safetensors file exists and if yes, we use it.\n",
    "    \"\"\"\n",
    "    if filename == HF_WEIGHTS_NAME:\n",
    "        yield HF_SAFE_WEIGHTS_NAME\n",
    "\n",
    "    if filename not in (HF_WEIGHTS_NAME,) and (filename.endswith(\".bin\") or filename.endswith(\".pth\")):\n",
    "        yield filename[:-4] + \".safetensors\""
   ]
  },
  {
   "cell_type": "code",
   "execution_count": 13,
   "metadata": {},
   "outputs": [],
   "source": [
    "def download_pretrained_from_hf(\n",
    "        model_id: str,\n",
    "        filename: Optional[str] = None,\n",
    "        revision: Optional[str] = None,\n",
    "        cache_dir: Optional[str] = None,\n",
    "):\n",
    "    has_hf_hub(True)\n",
    "\n",
    "    filename = filename or HF_WEIGHTS_NAME\n",
    "\n",
    "    # Look for .safetensors alternatives and load from it if it exists\n",
    "    if _has_safetensors:\n",
    "        for safe_filename in _get_safe_alternatives(filename):\n",
    "            try:\n",
    "                cached_file = hf_hub_download(\n",
    "                    repo_id=model_id,\n",
    "                    filename=safe_filename,\n",
    "                    revision=revision,\n",
    "                    cache_dir=cache_dir,\n",
    "                )\n",
    "                return cached_file\n",
    "            except Exception:\n",
    "                pass\n",
    "\n",
    "    try:\n",
    "        # Attempt to download the file\n",
    "        cached_file = hf_hub_download(\n",
    "            repo_id=model_id,\n",
    "            filename=filename,\n",
    "            revision=revision,\n",
    "            cache_dir=cache_dir,\n",
    "        )\n",
    "        return cached_file  # Return the path to the downloaded file if successful\n",
    "    except Exception as e:\n",
    "        raise FileNotFoundError(f\"Failed to download file ({filename}) for {model_id}. Last error: {e}\")\n"
   ]
  }
 ],
 "metadata": {
  "kernelspec": {
   "display_name": "pyg",
   "language": "python",
   "name": "python3"
  },
  "language_info": {
   "codemirror_mode": {
    "name": "ipython",
    "version": 3
   },
   "file_extension": ".py",
   "mimetype": "text/x-python",
   "name": "python",
   "nbconvert_exporter": "python",
   "pygments_lexer": "ipython3",
   "version": "3.9.16"
  }
 },
 "nbformat": 4,
 "nbformat_minor": 2
}
