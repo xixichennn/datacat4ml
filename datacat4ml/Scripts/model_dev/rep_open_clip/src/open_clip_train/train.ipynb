{
 "cells": [
  {
   "cell_type": "code",
   "execution_count": 1,
   "metadata": {},
   "outputs": [],
   "source": [
    "# conda env: pyg (Python 3.9.16)\n",
    "import json\n",
    "import logging\n",
    "import math\n",
    "import os\n",
    "import time\n",
    "\n",
    "import numpy as np\n",
    "import torch\n",
    "import torch.nn.functional as F\n",
    "from torch.nn.parallel.distributed import DistributedDataParallel\n",
    "\n",
    "try:\n",
    "    import wandb\n",
    "except ImportError:\n",
    "    wandb = None\n"
   ]
  },
  {
   "cell_type": "code",
   "execution_count": 2,
   "metadata": {},
   "outputs": [],
   "source": [
    "#################   Yu's ##########################\n",
    "#--> from open_clip import get_input_dtype, CLIP, CustomTextCLIP\n",
    "#--> from open_clip_train.distributed import is_master\n",
    "from datacat4ml.Scripts.model_dev.rep_open_clip.src.open_clip_train.distributed import is_master\n",
    "#--> from open_clip_train.zero_shot import zero_shot_eval\n",
    "#--> from open_clip_train.precision import get_autocast\n",
    "#################   Yu's ##########################"
   ]
  }
 ],
 "metadata": {
  "kernelspec": {
   "display_name": "pyg",
   "language": "python",
   "name": "python3"
  },
  "language_info": {
   "codemirror_mode": {
    "name": "ipython",
    "version": 3
   },
   "file_extension": ".py",
   "mimetype": "text/x-python",
   "name": "python",
   "nbconvert_exporter": "python",
   "pygments_lexer": "ipython3",
   "version": "3.9.16"
  }
 },
 "nbformat": 4,
 "nbformat_minor": 2
}
