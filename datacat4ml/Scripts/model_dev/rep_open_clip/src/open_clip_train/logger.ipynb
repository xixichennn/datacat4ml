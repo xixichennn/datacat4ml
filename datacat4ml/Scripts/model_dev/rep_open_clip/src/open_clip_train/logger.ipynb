{
 "cells": [
  {
   "cell_type": "code",
   "execution_count": 1,
   "metadata": {},
   "outputs": [],
   "source": [
    "# conda environment: pyg (Python 3.9.16)\n",
    "import logging"
   ]
  },
  {
   "cell_type": "code",
   "execution_count": null,
   "metadata": {},
   "outputs": [],
   "source": [
    "def setup_logging(log_file, level, include_host=False):\n",
    "    \"\"\"\n",
    "    This function simplifies logging setup, making it easier to debug and monitor programs, especially in complex or distributed environments.\n",
    "    \"\"\"\n",
    "\n",
    "    # include hostname in log format if specified\n",
    "    if include_host:\n",
    "        import socket\n",
    "        hostname = socket.gethostname()\n",
    "        formatter = logging.Formatter(\n",
    "            f'%(asctime)s |  {hostname} | %(levelname)s | %(message)s', datefmt='%Y-%m-%d,%H:%M:%S')\n",
    "    else:\n",
    "        formatter = logging.Formatter('%(asctime)s | %(levelname)s | %(message)s', datefmt='%Y-%m-%d,%H:%M:%S')\n",
    "\n",
    "    # set global logging level\n",
    "    logging.root.setLevel(level)\n",
    "    # adjust levels of exsisiting loggers\n",
    "    loggers = [logging.getLogger(name) for name in logging.root.manager.loggerDict]\n",
    "    for logger in loggers:\n",
    "        logger.setLevel(level)\n",
    "\n",
    "    # add handlers:\n",
    "    # stream handler(console logging)\n",
    "    stream_handler = logging.StreamHandler()\n",
    "    stream_handler.setFormatter(formatter)\n",
    "    logging.root.addHandler(stream_handler)\n",
    "\n",
    "    # file handler (file logging)\n",
    "    if log_file:\n",
    "        file_handler = logging.FileHandler(filename=log_file)\n",
    "        file_handler.setFormatter(formatter)\n",
    "        logging.root.addHandler(file_handler)"
   ]
  }
 ],
 "metadata": {
  "kernelspec": {
   "display_name": "pyg",
   "language": "python",
   "name": "python3"
  },
  "language_info": {
   "codemirror_mode": {
    "name": "ipython",
    "version": 3
   },
   "file_extension": ".py",
   "mimetype": "text/x-python",
   "name": "python",
   "nbconvert_exporter": "python",
   "pygments_lexer": "ipython3",
   "version": "3.9.16"
  }
 },
 "nbformat": 4,
 "nbformat_minor": 2
}
