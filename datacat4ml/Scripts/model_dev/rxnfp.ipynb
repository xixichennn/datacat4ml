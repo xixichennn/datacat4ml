{
 "cells": [
  {
   "cell_type": "markdown",
   "metadata": {},
   "source": [
    "# 00_core.ipynb"
   ]
  },
  {
   "cell_type": "markdown",
   "metadata": {},
   "source": [
    "## Base classes for RXN fingerprints"
   ]
  },
  {
   "cell_type": "code",
   "execution_count": 2,
   "metadata": {},
   "outputs": [],
   "source": [
    "# hide\n",
    "from nbdev.showdoc import *"
   ]
  },
  {
   "cell_type": "code",
   "execution_count": 3,
   "metadata": {},
   "outputs": [],
   "source": [
    "# export\n",
    "from abc import ABC, abstractmethod\n",
    "from typing import List"
   ]
  },
  {
   "cell_type": "markdown",
   "metadata": {},
   "source": [
    "### Container"
   ]
  },
  {
   "cell_type": "code",
   "execution_count": 4,
   "metadata": {},
   "outputs": [],
   "source": [
    "# export\n",
    "class RXNFingerprintContainer(ABC):\n",
    "    \"\"\"\n",
    "    Base class for RXN Fingerprint Container\n",
    "    - Should facilitate the creation of a LSHForest\n",
    "    - Query nearest neighbors\n",
    "    \"\"\"\n",
    "\n",
    "    @abstractmethod\n",
    "    def add_finferprint(self, fingerprint: List, aux_info: List):\n",
    "        \"\"\"\n",
    "        Add fingerprint to container\n",
    "        \"\"\"\n",
    "    \n",
    "    @abstractmethod\n",
    "    def save(self, save_path:str):\n",
    "        \"\"\"\n",
    "        Convert batch of rxn_smiles to fingerprints\n",
    "        \"\"\"\n",
    "    \n",
    "    @abstractmethod\n",
    "    def load(self, load_path:str):\n",
    "        \"\"\"\n",
    "        Load fingerprints from file\n",
    "        \"\"\"\n",
    "    \n",
    "    @abstractmethod\n",
    "    def query_nearest_neighbors(self, fingerprint):\n",
    "        \"\"\" \n",
    "        Query nearest neighbors\n",
    "        \"\"\"\n",
    "# to use this class, you would create a concrete subclass tha implements the abstract methods\n",
    "# `class MyRXNFingerprintContainer(RXNFingerprintContainer):`"
   ]
  },
  {
   "cell_type": "markdown",
   "metadata": {},
   "source": [
    "### FingerprintGenerator"
   ]
  },
  {
   "cell_type": "code",
   "execution_count": 6,
   "metadata": {},
   "outputs": [],
   "source": [
    "# export\n",
    "class FingerprintGenerator(ABC):\n",
    "    \"\"\"\n",
    "    base class for FingerprintGenerator\n",
    "    \"\"\"\n",
    "\n",
    "    @abstractmethod\n",
    "    def convert(self, rxn_smiles: str) -> List[float]:\n",
    "        \"\"\"\n",
    "        Convert rxn_smiles to fingerprint\n",
    "        \"\"\"\n",
    "    \n",
    "    @abstractmethod\n",
    "    def convert_batch(self, rxn_smiles_batch: List[str]) -> List:\n",
    "        \"\"\"\n",
    "        Convert batch of rxn_smiles to fingerprints\n",
    "        \"\"\""
   ]
  },
  {
   "cell_type": "markdown",
   "metadata": {},
   "source": [
    "# 01_tokenization.ipynb"
   ]
  },
  {
   "cell_type": "markdown",
   "metadata": {},
   "source": [
    "> Tokenization and SMILES utils"
   ]
  },
  {
   "cell_type": "code",
   "execution_count": 7,
   "metadata": {},
   "outputs": [],
   "source": [
    "# hide \n",
    "%load_ext autoreload\n",
    "%autoreload 2\n",
    "# By running this code at the beginning of your Jupyter Notebook, \n",
    "# you'll ensure that any changes you make to your Python modules will be reflected in your notebook without requiring manual reloading. \n",
    "# This can save time and effort during development, especially when working on iterative tasks."
   ]
  },
  {
   "cell_type": "code",
   "execution_count": 8,
   "metadata": {},
   "outputs": [],
   "source": [
    "# hide\n",
    "from rdkit.Chem import AllChem\n",
    "from rdkit.Chem import Draw\n",
    "\n",
    "# use IpythonConsole for pretty drawings\n",
    "from rdkit.Chem.Draw import IPythonConsole"
   ]
  },
  {
   "cell_type": "code",
   "execution_count": 12,
   "metadata": {},
   "outputs": [],
   "source": [
    "# export\n",
    "import collections\n",
    "import logging\n",
    "import os\n",
    "import re\n",
    "import numpy as np\n",
    "from rdkit import Chem\n",
    "\n",
    "import pkg_resources\n",
    "\n",
    "from typing import List\n",
    "\n",
    "from transformers import BertTokenizer"
   ]
  },
  {
   "cell_type": "markdown",
   "metadata": {},
   "source": [
    "## Reaction SMILES tokenizer"
   ]
  },
  {
   "cell_type": "markdown",
   "metadata": {},
   "source": [
    "We use the same tokenizer as the one used for http://rxnmapper.ai.\n",
    "\n",
    "It is an instance of Hugginface Transformers BertTokenizer."
   ]
  },
  {
   "cell_type": "code",
   "execution_count": 13,
   "metadata": {},
   "outputs": [],
   "source": [
    "#export\n",
    "SMI_REGEX_PATTERN =  r\"(\\%\\([0-9]{3}\\)|\\[[^\\]]+]|Br?|Cl?|N|O|S|P|F|I|b|c|n|o|s|p|\\||\\(|\\)|\\.|=|#|-|\\+|\\\\|\\/|:|~|@|\\?|>>?|\\*|\\$|\\%[0-9]{2}|[0-9])\"\n",
    "\n",
    "def get_default_tokenizer():\n",
    "    default_vocab_path = (\n",
    "        pkg_resources.resource_filename(\n",
    "                    \"rxnfp\",\n",
    "                    \"models/transformers/bert_ft_10k_25s/vocab.txt\"\n",
    "                )\n",
    "    )\n",
    "    return SmilesTokenizer(default_vocab_path, do_lower_case=False)\n"
   ]
  }
 ],
 "metadata": {
  "kernelspec": {
   "display_name": "st",
   "language": "python",
   "name": "python3"
  },
  "language_info": {
   "codemirror_mode": {
    "name": "ipython",
    "version": 3
   },
   "file_extension": ".py",
   "mimetype": "text/x-python",
   "name": "python",
   "nbconvert_exporter": "python",
   "pygments_lexer": "ipython3",
   "version": "3.12.4"
  }
 },
 "nbformat": 4,
 "nbformat_minor": 2
}
