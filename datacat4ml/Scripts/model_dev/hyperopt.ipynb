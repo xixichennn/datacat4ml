{
 "cells": [
  {
   "cell_type": "code",
   "execution_count": 6,
   "metadata": {},
   "outputs": [],
   "source": [
    "# conda env: pyg (Python3.9.16)\n",
    "import os\n",
    "import optuna\n",
    "from optuna.integration import OptunaSearchCV\n",
    "\n",
    "import sklearn"
   ]
  },
  {
   "cell_type": "markdown",
   "metadata": {},
   "source": [
    "# Optuna example\n",
    "https://github.com/optuna/optuna-examples"
   ]
  },
  {
   "cell_type": "markdown",
   "metadata": {},
   "source": [
    "### On README Page"
   ]
  },
  {
   "cell_type": "code",
   "execution_count": null,
   "metadata": {},
   "outputs": [],
   "source": [
    "def objective(trial):\n",
    "    x = trial.suggest_float(\"x\", -100, 100)\n",
    "    return x ** 2\n",
    "\n",
    "\n",
    "if __name__ == \"__main__\":\n",
    "    study = optuna.create_study()\n",
    "    # The optimization finishes after evaluating 1000 times or 3 seconds.\n",
    "    study.optimize(objective, n_trials=1000, timeout=3)\n",
    "    print(f\"Best params is {study.best_params} with value {study.best_value}\")"
   ]
  },
  {
   "cell_type": "markdown",
   "metadata": {},
   "source": [
    "### sklearn/sklearn_optuna_search_cv_simple.py\n",
    "https://github.com/optuna/optuna-examples/blob/main/sklearn/sklearn_optuna_search_cv_simple.py"
   ]
  },
  {
   "cell_type": "code",
   "execution_count": 8,
   "metadata": {},
   "outputs": [
    {
     "name": "stderr",
     "output_type": "stream",
     "text": [
      "/tmp/ipykernel_1533273/711653986.py:23: ExperimentalWarning: OptunaSearchCV is experimental (supported from v0.17.0). The interface can change in the future.\n",
      "  optuna_search = optuna.integration.OptunaSearchCV(\n",
      "[I 2024-11-15 18:06:00,034] A new study created in memory with name: no-name-239c6a0d-fa01-46bd-84b4-b33ca0431efd\n",
      "[I 2024-11-15 18:06:00,042] Trial 0 finished with value: 0.9400000000000001 and parameters: {'C': 1201736.5843739184, 'degree': 3}. Best is trial 0 with value: 0.9400000000000001.\n",
      "[I 2024-11-15 18:06:00,048] Trial 1 finished with value: 0.9800000000000001 and parameters: {'C': 11.902188878345026, 'degree': 1}. Best is trial 1 with value: 0.9800000000000001.\n",
      "[I 2024-11-15 18:06:00,055] Trial 2 finished with value: 0.9400000000000001 and parameters: {'C': 152929494.68415025, 'degree': 4}. Best is trial 1 with value: 0.9800000000000001.\n",
      "[I 2024-11-15 18:06:00,062] Trial 3 finished with value: 0.9400000000000001 and parameters: {'C': 270506035.0077117, 'degree': 1}. Best is trial 1 with value: 0.9800000000000001.\n",
      "[I 2024-11-15 18:06:00,071] Trial 4 finished with value: 0.9333333333333333 and parameters: {'C': 6.880582420130028e-05, 'degree': 1}. Best is trial 1 with value: 0.9800000000000001.\n",
      "[I 2024-11-15 18:06:00,078] Trial 5 finished with value: 0.9400000000000001 and parameters: {'C': 1312936481.393421, 'degree': 5}. Best is trial 1 with value: 0.9800000000000001.\n",
      "[I 2024-11-15 18:06:00,087] Trial 6 finished with value: 0.9333333333333333 and parameters: {'C': 2.0316103870057474e-08, 'degree': 3}. Best is trial 1 with value: 0.9800000000000001.\n",
      "[I 2024-11-15 18:06:00,093] Trial 7 finished with value: 0.9733333333333334 and parameters: {'C': 2.776380902163339, 'degree': 2}. Best is trial 1 with value: 0.9800000000000001.\n",
      "[I 2024-11-15 18:06:00,102] Trial 8 finished with value: 0.9333333333333333 and parameters: {'C': 0.0004967935973712279, 'degree': 4}. Best is trial 1 with value: 0.9800000000000001.\n",
      "[I 2024-11-15 18:06:00,111] Trial 9 finished with value: 0.9333333333333333 and parameters: {'C': 0.011647730807068773, 'degree': 3}. Best is trial 1 with value: 0.9800000000000001.\n"
     ]
    },
    {
     "name": "stdout",
     "output_type": "stream",
     "text": [
      "Best trial:\n",
      "  Value:  0.9800000000000001\n",
      "  Params: \n",
      "    C: 11.902188878345026\n",
      "    degree: 1\n"
     ]
    }
   ],
   "source": [
    "\"\"\"\n",
    "Optuna example that optimizes a classifier configuration using OptunaSearchCV.\n",
    "\n",
    "In this example, we optimize a classifier configuration for Iris dataset using OptunaSearchCV.\n",
    "Classifier is from scikit-learn.\n",
    "\n",
    "\"\"\"\n",
    "\n",
    "import optuna\n",
    "\n",
    "from sklearn.datasets import load_iris\n",
    "from sklearn.svm import SVC\n",
    "\n",
    "\n",
    "if __name__ == \"__main__\":\n",
    "    clf = SVC(gamma=\"auto\")\n",
    "\n",
    "    param_distributions = {\n",
    "        \"C\": optuna.distributions.FloatDistribution(1e-10, 1e10, log=True),\n",
    "        \"degree\": optuna.distributions.IntDistribution(1, 5),\n",
    "    }\n",
    "\n",
    "    optuna_search = optuna.integration.OptunaSearchCV(\n",
    "        clf, param_distributions, n_trials=10, timeout=600, verbose=2\n",
    "    )\n",
    "\n",
    "    X, y = load_iris(return_X_y=True)\n",
    "    optuna_search.fit(X, y)\n",
    "\n",
    "    print(\"Best trial:\")\n",
    "    trial = optuna_search.study_.best_trial\n",
    "\n",
    "    print(\"  Value: \", trial.value)\n",
    "    print(\"  Params: \")\n",
    "    for key, value in trial.params.items():\n",
    "        print(\"    {}: {}\".format(key, value))"
   ]
  },
  {
   "cell_type": "code",
   "execution_count": 9,
   "metadata": {},
   "outputs": [
    {
     "data": {
      "text/plain": [
       "FrozenTrial(number=1, state=TrialState.COMPLETE, values=[0.9800000000000001], datetime_start=datetime.datetime(2024, 11, 15, 18, 6, 0, 42774), datetime_complete=datetime.datetime(2024, 11, 15, 18, 6, 0, 48033), params={'C': 11.902188878345026, 'degree': 1}, user_attrs={'mean_fit_time': 0.0004397392272949219, 'std_fit_time': 9.893193232283176e-06, 'mean_score_time': 0.00020771026611328126, 'std_score_time': 5.299975836195566e-06, 'split0_test_score': 0.9666666666666667, 'split1_test_score': 1.0, 'split2_test_score': 0.9666666666666667, 'split3_test_score': 0.9666666666666667, 'split4_test_score': 1.0, 'mean_test_score': 0.9800000000000001, 'std_test_score': 0.016329931618554516}, system_attrs={'terminator:cv_scores': [0.9666666666666667, 1.0, 0.9666666666666667, 0.9666666666666667, 1.0]}, intermediate_values={}, distributions={'C': FloatDistribution(high=10000000000.0, log=True, low=1e-10, step=None), 'degree': IntDistribution(high=5, log=False, low=1, step=1)}, trial_id=1, value=None)"
      ]
     },
     "execution_count": 9,
     "metadata": {},
     "output_type": "execute_result"
    }
   ],
   "source": [
    "trial"
   ]
  },
  {
   "cell_type": "markdown",
   "metadata": {},
   "source": [
    "### sklearn/sklearn_additional_args.py (including cv)"
   ]
  },
  {
   "cell_type": "code",
   "execution_count": null,
   "metadata": {},
   "outputs": [],
   "source": [
    "\"\"\"\n",
    "Optuna example that optimizes a classifier configuration for Iris dataset using sklearn.\n",
    "\n",
    "This example is the same as `sklearn_simple.py` except that it uses a callable class for\n",
    "implementing the objective function. It takes the Iris dataset by a constructor's argument\n",
    "instead of loading it in each trial execution. This will speed up the execution of each trial\n",
    "compared to `sklearn_simple.py`.\n",
    "\n",
    "\"\"\"\n",
    "\n",
    "import optuna\n",
    "\n",
    "import sklearn.datasets\n",
    "import sklearn.ensemble\n",
    "import sklearn.model_selection\n",
    "import sklearn.svm\n",
    "\n",
    "\n",
    "class Objective(object):\n",
    "    def __init__(self, iris):\n",
    "        self.iris = iris\n",
    "\n",
    "    def __call__(self, trial):\n",
    "        x, y = self.iris.data, self.iris.target\n",
    "\n",
    "        classifier_name = trial.suggest_categorical(\"classifier\", [\"SVC\", \"RandomForest\"])\n",
    "        if classifier_name == \"SVC\":\n",
    "            svc_c = trial.suggest_float(\"svc_c\", 1e-10, 1e10, log=True)\n",
    "            classifier_obj = sklearn.svm.SVC(C=svc_c, gamma=\"auto\")\n",
    "        else:\n",
    "            rf_max_depth = trial.suggest_int(\"rf_max_depth\", 2, 32, log=True)\n",
    "            classifier_obj = sklearn.ensemble.RandomForestClassifier(\n",
    "                max_depth=rf_max_depth, n_estimators=10\n",
    "            )\n",
    "\n",
    "        score = sklearn.model_selection.cross_val_score(classifier_obj, x, y, n_jobs=-1, cv=3)\n",
    "        accuracy = score.mean()\n",
    "        return accuracy\n",
    "\n",
    "\n",
    "if __name__ == \"__main__\":\n",
    "    # Load the dataset in advance for reusing it each trial execution.\n",
    "    iris = sklearn.datasets.load_iris()\n",
    "    objective = Objective(iris)\n",
    "\n",
    "    study = optuna.create_study(direction=\"maximize\")\n",
    "    study.optimize(objective, n_trials=100)\n",
    "    print(study.best_trial)"
   ]
  },
  {
   "cell_type": "markdown",
   "metadata": {},
   "source": [
    "# Optuna API\n",
    "https://optuna.readthedocs.io/en/stable/reference/generated/optuna.trial.Trial.html"
   ]
  },
  {
   "cell_type": "markdown",
   "metadata": {},
   "source": [
    "### optuna.integration.OptunaSearchCV\n",
    "https://optuna.readthedocs.io/en/v2.0.0/reference/generated/optuna.integration.OptunaSearchCV.html"
   ]
  },
  {
   "cell_type": "code",
   "execution_count": null,
   "metadata": {},
   "outputs": [],
   "source": [
    "import optuna\n",
    "from sklearn.datasets import load_iris\n",
    "from sklearn.svm import SVC\n",
    "\n",
    "clf = SVC(gamma='auto')\n",
    "param_distributions = {\n",
    "    'C': optuna.distributions.LogUniformDistribution(1e-10, 1e+10)\n",
    "}\n",
    "optuna_search = optuna.integration.OptunaSearchCV(\n",
    "    clf,\n",
    "    param_distributions\n",
    ")\n",
    "X, y = load_iris(return_X_y=True)\n",
    "optuna_search.fit(X, y)\n",
    "y_pred = optuna_search.predict(X)"
   ]
  },
  {
   "cell_type": "markdown",
   "metadata": {},
   "source": [
    "# stackoverflow\n",
    "https://stackoverflow.com/questions/63224426/how-can-i-cross-validate-by-pytorch-and-optuna"
   ]
  },
  {
   "cell_type": "code",
   "execution_count": null,
   "metadata": {},
   "outputs": [],
   "source": [
    "def objective_cv(trial):\n",
    "\n",
    "    # Get the MNIST dataset.\n",
    "    dataset = datasets.MNIST(DIR, train=True, download=True, transform=transforms.ToTensor())\n",
    "\n",
    "    fold = KFold(n_splits=3, shuffle=True, random_state=0)\n",
    "    scores = []\n",
    "    for fold_idx, (train_idx, valid_idx) in enumerate(fold.split(range(len(dataset)))):\n",
    "        train_data = torch.utils.data.Subset(dataset, train_idx)\n",
    "        valid_data = torch.utils.data.Subset(dataset, valid_idx)\n",
    "\n",
    "        train_loader = torch.utils.data.DataLoader(\n",
    "            train_data,\n",
    "            batch_size=BATCHSIZE,\n",
    "            shuffle=True,\n",
    "        )\n",
    "        valid_loader = torch.utils.data.DataLoader(\n",
    "            valid_data,\n",
    "            batch_size=BATCHSIZE,\n",
    "            shuffle=True,\n",
    "        )\n",
    "\n",
    "        accuracy = objective(trial, train_loader, valid_loader)\n",
    "        scores.append(accuracy)\n",
    "    return np.mean(scores)\n",
    "\n",
    "\n",
    "study = optuna.create_study(direction=\"maximize\")\n",
    "study.optimize(objective_cv, n_trials=20, timeout=600)"
   ]
  },
  {
   "cell_type": "markdown",
   "metadata": {},
   "source": [
    "# Framework: Scikit-learn"
   ]
  },
  {
   "cell_type": "code",
   "execution_count": 3,
   "metadata": {},
   "outputs": [
    {
     "name": "stderr",
     "output_type": "stream",
     "text": [
      "[I 2024-11-15 17:09:14,287] A new study created in memory with name: no-name-a4cafc78-b8b5-4cec-b2d2-299ddef1f418\n",
      "[W 2024-11-15 17:09:14,290] Trial 0 failed with parameters: {'classifier': 'SVC', 'svc_c': 2311426.263447518} because of the following error: AttributeError(\"module 'sklearn' has no attribute 'svm'\").\n",
      "Traceback (most recent call last):\n",
      "  File \"/storage/homefs/yc24j783/miniconda3/envs/pyg/lib/python3.9/site-packages/optuna/study/_optimize.py\", line 197, in _run_trial\n",
      "    value_or_values = func(trial)\n",
      "  File \"/tmp/ipykernel_1533273/2795152918.py\", line 8, in objective\n",
      "    classifier_obj = sklearn.svm.SVC(C=svc_c, gamma=\"auto\")\n",
      "AttributeError: module 'sklearn' has no attribute 'svm'\n",
      "[W 2024-11-15 17:09:14,299] Trial 0 failed with value None.\n"
     ]
    },
    {
     "ename": "AttributeError",
     "evalue": "module 'sklearn' has no attribute 'svm'",
     "output_type": "error",
     "traceback": [
      "\u001b[0;31m---------------------------------------------------------------------------\u001b[0m",
      "\u001b[0;31mAttributeError\u001b[0m                            Traceback (most recent call last)",
      "Cell \u001b[0;32mIn[3], line 17\u001b[0m\n\u001b[1;32m     15\u001b[0m \u001b[38;5;66;03m# 3. Create a study object and optimize the objective function.\u001b[39;00m\n\u001b[1;32m     16\u001b[0m study \u001b[38;5;241m=\u001b[39m optuna\u001b[38;5;241m.\u001b[39mcreate_study(direction\u001b[38;5;241m=\u001b[39m\u001b[38;5;124m\"\u001b[39m\u001b[38;5;124mmaximize\u001b[39m\u001b[38;5;124m\"\u001b[39m)\n\u001b[0;32m---> 17\u001b[0m \u001b[43mstudy\u001b[49m\u001b[38;5;241;43m.\u001b[39;49m\u001b[43moptimize\u001b[49m\u001b[43m(\u001b[49m\u001b[43mobjective\u001b[49m\u001b[43m,\u001b[49m\u001b[43m \u001b[49m\u001b[43mn_trials\u001b[49m\u001b[38;5;241;43m=\u001b[39;49m\u001b[38;5;241;43m100\u001b[39;49m\u001b[43m)\u001b[49m\n",
      "File \u001b[0;32m~/miniconda3/envs/pyg/lib/python3.9/site-packages/optuna/study/study.py:475\u001b[0m, in \u001b[0;36mStudy.optimize\u001b[0;34m(self, func, n_trials, timeout, n_jobs, catch, callbacks, gc_after_trial, show_progress_bar)\u001b[0m\n\u001b[1;32m    373\u001b[0m \u001b[38;5;28;01mdef\u001b[39;00m \u001b[38;5;21moptimize\u001b[39m(\n\u001b[1;32m    374\u001b[0m     \u001b[38;5;28mself\u001b[39m,\n\u001b[1;32m    375\u001b[0m     func: ObjectiveFuncType,\n\u001b[0;32m   (...)\u001b[0m\n\u001b[1;32m    382\u001b[0m     show_progress_bar: \u001b[38;5;28mbool\u001b[39m \u001b[38;5;241m=\u001b[39m \u001b[38;5;28;01mFalse\u001b[39;00m,\n\u001b[1;32m    383\u001b[0m ) \u001b[38;5;241m-\u001b[39m\u001b[38;5;241m>\u001b[39m \u001b[38;5;28;01mNone\u001b[39;00m:\n\u001b[1;32m    384\u001b[0m \u001b[38;5;250m    \u001b[39m\u001b[38;5;124;03m\"\"\"Optimize an objective function.\u001b[39;00m\n\u001b[1;32m    385\u001b[0m \n\u001b[1;32m    386\u001b[0m \u001b[38;5;124;03m    Optimization is done by choosing a suitable set of hyperparameter values from a given\u001b[39;00m\n\u001b[0;32m   (...)\u001b[0m\n\u001b[1;32m    473\u001b[0m \u001b[38;5;124;03m            If nested invocation of this method occurs.\u001b[39;00m\n\u001b[1;32m    474\u001b[0m \u001b[38;5;124;03m    \"\"\"\u001b[39;00m\n\u001b[0;32m--> 475\u001b[0m     \u001b[43m_optimize\u001b[49m\u001b[43m(\u001b[49m\n\u001b[1;32m    476\u001b[0m \u001b[43m        \u001b[49m\u001b[43mstudy\u001b[49m\u001b[38;5;241;43m=\u001b[39;49m\u001b[38;5;28;43mself\u001b[39;49m\u001b[43m,\u001b[49m\n\u001b[1;32m    477\u001b[0m \u001b[43m        \u001b[49m\u001b[43mfunc\u001b[49m\u001b[38;5;241;43m=\u001b[39;49m\u001b[43mfunc\u001b[49m\u001b[43m,\u001b[49m\n\u001b[1;32m    478\u001b[0m \u001b[43m        \u001b[49m\u001b[43mn_trials\u001b[49m\u001b[38;5;241;43m=\u001b[39;49m\u001b[43mn_trials\u001b[49m\u001b[43m,\u001b[49m\n\u001b[1;32m    479\u001b[0m \u001b[43m        \u001b[49m\u001b[43mtimeout\u001b[49m\u001b[38;5;241;43m=\u001b[39;49m\u001b[43mtimeout\u001b[49m\u001b[43m,\u001b[49m\n\u001b[1;32m    480\u001b[0m \u001b[43m        \u001b[49m\u001b[43mn_jobs\u001b[49m\u001b[38;5;241;43m=\u001b[39;49m\u001b[43mn_jobs\u001b[49m\u001b[43m,\u001b[49m\n\u001b[1;32m    481\u001b[0m \u001b[43m        \u001b[49m\u001b[43mcatch\u001b[49m\u001b[38;5;241;43m=\u001b[39;49m\u001b[38;5;28;43mtuple\u001b[39;49m\u001b[43m(\u001b[49m\u001b[43mcatch\u001b[49m\u001b[43m)\u001b[49m\u001b[43m \u001b[49m\u001b[38;5;28;43;01mif\u001b[39;49;00m\u001b[43m \u001b[49m\u001b[38;5;28;43misinstance\u001b[39;49m\u001b[43m(\u001b[49m\u001b[43mcatch\u001b[49m\u001b[43m,\u001b[49m\u001b[43m \u001b[49m\u001b[43mIterable\u001b[49m\u001b[43m)\u001b[49m\u001b[43m \u001b[49m\u001b[38;5;28;43;01melse\u001b[39;49;00m\u001b[43m \u001b[49m\u001b[43m(\u001b[49m\u001b[43mcatch\u001b[49m\u001b[43m,\u001b[49m\u001b[43m)\u001b[49m\u001b[43m,\u001b[49m\n\u001b[1;32m    482\u001b[0m \u001b[43m        \u001b[49m\u001b[43mcallbacks\u001b[49m\u001b[38;5;241;43m=\u001b[39;49m\u001b[43mcallbacks\u001b[49m\u001b[43m,\u001b[49m\n\u001b[1;32m    483\u001b[0m \u001b[43m        \u001b[49m\u001b[43mgc_after_trial\u001b[49m\u001b[38;5;241;43m=\u001b[39;49m\u001b[43mgc_after_trial\u001b[49m\u001b[43m,\u001b[49m\n\u001b[1;32m    484\u001b[0m \u001b[43m        \u001b[49m\u001b[43mshow_progress_bar\u001b[49m\u001b[38;5;241;43m=\u001b[39;49m\u001b[43mshow_progress_bar\u001b[49m\u001b[43m,\u001b[49m\n\u001b[1;32m    485\u001b[0m \u001b[43m    \u001b[49m\u001b[43m)\u001b[49m\n",
      "File \u001b[0;32m~/miniconda3/envs/pyg/lib/python3.9/site-packages/optuna/study/_optimize.py:63\u001b[0m, in \u001b[0;36m_optimize\u001b[0;34m(study, func, n_trials, timeout, n_jobs, catch, callbacks, gc_after_trial, show_progress_bar)\u001b[0m\n\u001b[1;32m     61\u001b[0m \u001b[38;5;28;01mtry\u001b[39;00m:\n\u001b[1;32m     62\u001b[0m     \u001b[38;5;28;01mif\u001b[39;00m n_jobs \u001b[38;5;241m==\u001b[39m \u001b[38;5;241m1\u001b[39m:\n\u001b[0;32m---> 63\u001b[0m         \u001b[43m_optimize_sequential\u001b[49m\u001b[43m(\u001b[49m\n\u001b[1;32m     64\u001b[0m \u001b[43m            \u001b[49m\u001b[43mstudy\u001b[49m\u001b[43m,\u001b[49m\n\u001b[1;32m     65\u001b[0m \u001b[43m            \u001b[49m\u001b[43mfunc\u001b[49m\u001b[43m,\u001b[49m\n\u001b[1;32m     66\u001b[0m \u001b[43m            \u001b[49m\u001b[43mn_trials\u001b[49m\u001b[43m,\u001b[49m\n\u001b[1;32m     67\u001b[0m \u001b[43m            \u001b[49m\u001b[43mtimeout\u001b[49m\u001b[43m,\u001b[49m\n\u001b[1;32m     68\u001b[0m \u001b[43m            \u001b[49m\u001b[43mcatch\u001b[49m\u001b[43m,\u001b[49m\n\u001b[1;32m     69\u001b[0m \u001b[43m            \u001b[49m\u001b[43mcallbacks\u001b[49m\u001b[43m,\u001b[49m\n\u001b[1;32m     70\u001b[0m \u001b[43m            \u001b[49m\u001b[43mgc_after_trial\u001b[49m\u001b[43m,\u001b[49m\n\u001b[1;32m     71\u001b[0m \u001b[43m            \u001b[49m\u001b[43mreseed_sampler_rng\u001b[49m\u001b[38;5;241;43m=\u001b[39;49m\u001b[38;5;28;43;01mFalse\u001b[39;49;00m\u001b[43m,\u001b[49m\n\u001b[1;32m     72\u001b[0m \u001b[43m            \u001b[49m\u001b[43mtime_start\u001b[49m\u001b[38;5;241;43m=\u001b[39;49m\u001b[38;5;28;43;01mNone\u001b[39;49;00m\u001b[43m,\u001b[49m\n\u001b[1;32m     73\u001b[0m \u001b[43m            \u001b[49m\u001b[43mprogress_bar\u001b[49m\u001b[38;5;241;43m=\u001b[39;49m\u001b[43mprogress_bar\u001b[49m\u001b[43m,\u001b[49m\n\u001b[1;32m     74\u001b[0m \u001b[43m        \u001b[49m\u001b[43m)\u001b[49m\n\u001b[1;32m     75\u001b[0m     \u001b[38;5;28;01melse\u001b[39;00m:\n\u001b[1;32m     76\u001b[0m         \u001b[38;5;28;01mif\u001b[39;00m n_jobs \u001b[38;5;241m==\u001b[39m \u001b[38;5;241m-\u001b[39m\u001b[38;5;241m1\u001b[39m:\n",
      "File \u001b[0;32m~/miniconda3/envs/pyg/lib/python3.9/site-packages/optuna/study/_optimize.py:160\u001b[0m, in \u001b[0;36m_optimize_sequential\u001b[0;34m(study, func, n_trials, timeout, catch, callbacks, gc_after_trial, reseed_sampler_rng, time_start, progress_bar)\u001b[0m\n\u001b[1;32m    157\u001b[0m         \u001b[38;5;28;01mbreak\u001b[39;00m\n\u001b[1;32m    159\u001b[0m \u001b[38;5;28;01mtry\u001b[39;00m:\n\u001b[0;32m--> 160\u001b[0m     frozen_trial \u001b[38;5;241m=\u001b[39m \u001b[43m_run_trial\u001b[49m\u001b[43m(\u001b[49m\u001b[43mstudy\u001b[49m\u001b[43m,\u001b[49m\u001b[43m \u001b[49m\u001b[43mfunc\u001b[49m\u001b[43m,\u001b[49m\u001b[43m \u001b[49m\u001b[43mcatch\u001b[49m\u001b[43m)\u001b[49m\n\u001b[1;32m    161\u001b[0m \u001b[38;5;28;01mfinally\u001b[39;00m:\n\u001b[1;32m    162\u001b[0m     \u001b[38;5;66;03m# The following line mitigates memory problems that can be occurred in some\u001b[39;00m\n\u001b[1;32m    163\u001b[0m     \u001b[38;5;66;03m# environments (e.g., services that use computing containers such as GitHub Actions).\u001b[39;00m\n\u001b[1;32m    164\u001b[0m     \u001b[38;5;66;03m# Please refer to the following PR for further details:\u001b[39;00m\n\u001b[1;32m    165\u001b[0m     \u001b[38;5;66;03m# https://github.com/optuna/optuna/pull/325.\u001b[39;00m\n\u001b[1;32m    166\u001b[0m     \u001b[38;5;28;01mif\u001b[39;00m gc_after_trial:\n",
      "File \u001b[0;32m~/miniconda3/envs/pyg/lib/python3.9/site-packages/optuna/study/_optimize.py:248\u001b[0m, in \u001b[0;36m_run_trial\u001b[0;34m(study, func, catch)\u001b[0m\n\u001b[1;32m    241\u001b[0m         \u001b[38;5;28;01massert\u001b[39;00m \u001b[38;5;28;01mFalse\u001b[39;00m, \u001b[38;5;124m\"\u001b[39m\u001b[38;5;124mShould not reach.\u001b[39m\u001b[38;5;124m\"\u001b[39m\n\u001b[1;32m    243\u001b[0m \u001b[38;5;28;01mif\u001b[39;00m (\n\u001b[1;32m    244\u001b[0m     frozen_trial\u001b[38;5;241m.\u001b[39mstate \u001b[38;5;241m==\u001b[39m TrialState\u001b[38;5;241m.\u001b[39mFAIL\n\u001b[1;32m    245\u001b[0m     \u001b[38;5;129;01mand\u001b[39;00m func_err \u001b[38;5;129;01mis\u001b[39;00m \u001b[38;5;129;01mnot\u001b[39;00m \u001b[38;5;28;01mNone\u001b[39;00m\n\u001b[1;32m    246\u001b[0m     \u001b[38;5;129;01mand\u001b[39;00m \u001b[38;5;129;01mnot\u001b[39;00m \u001b[38;5;28misinstance\u001b[39m(func_err, catch)\n\u001b[1;32m    247\u001b[0m ):\n\u001b[0;32m--> 248\u001b[0m     \u001b[38;5;28;01mraise\u001b[39;00m func_err\n\u001b[1;32m    249\u001b[0m \u001b[38;5;28;01mreturn\u001b[39;00m frozen_trial\n",
      "File \u001b[0;32m~/miniconda3/envs/pyg/lib/python3.9/site-packages/optuna/study/_optimize.py:197\u001b[0m, in \u001b[0;36m_run_trial\u001b[0;34m(study, func, catch)\u001b[0m\n\u001b[1;32m    195\u001b[0m \u001b[38;5;28;01mwith\u001b[39;00m get_heartbeat_thread(trial\u001b[38;5;241m.\u001b[39m_trial_id, study\u001b[38;5;241m.\u001b[39m_storage):\n\u001b[1;32m    196\u001b[0m     \u001b[38;5;28;01mtry\u001b[39;00m:\n\u001b[0;32m--> 197\u001b[0m         value_or_values \u001b[38;5;241m=\u001b[39m \u001b[43mfunc\u001b[49m\u001b[43m(\u001b[49m\u001b[43mtrial\u001b[49m\u001b[43m)\u001b[49m\n\u001b[1;32m    198\u001b[0m     \u001b[38;5;28;01mexcept\u001b[39;00m exceptions\u001b[38;5;241m.\u001b[39mTrialPruned \u001b[38;5;28;01mas\u001b[39;00m e:\n\u001b[1;32m    199\u001b[0m         \u001b[38;5;66;03m# TODO(mamu): Handle multi-objective cases.\u001b[39;00m\n\u001b[1;32m    200\u001b[0m         state \u001b[38;5;241m=\u001b[39m TrialState\u001b[38;5;241m.\u001b[39mPRUNED\n",
      "Cell \u001b[0;32mIn[3], line 8\u001b[0m, in \u001b[0;36mobjective\u001b[0;34m(trail)\u001b[0m\n\u001b[1;32m      6\u001b[0m \u001b[38;5;28;01mif\u001b[39;00m classifier_name \u001b[38;5;241m==\u001b[39m \u001b[38;5;124m\"\u001b[39m\u001b[38;5;124mSVC\u001b[39m\u001b[38;5;124m\"\u001b[39m:\n\u001b[1;32m      7\u001b[0m     svc_c \u001b[38;5;241m=\u001b[39m trail\u001b[38;5;241m.\u001b[39msuggest_float(\u001b[38;5;124m\"\u001b[39m\u001b[38;5;124msvc_c\u001b[39m\u001b[38;5;124m\"\u001b[39m, \u001b[38;5;241m1e-10\u001b[39m, \u001b[38;5;241m1e10\u001b[39m, log\u001b[38;5;241m=\u001b[39m\u001b[38;5;28;01mTrue\u001b[39;00m)\n\u001b[0;32m----> 8\u001b[0m     classifier_obj \u001b[38;5;241m=\u001b[39m \u001b[43msklearn\u001b[49m\u001b[38;5;241;43m.\u001b[39;49m\u001b[43msvm\u001b[49m\u001b[38;5;241m.\u001b[39mSVC(C\u001b[38;5;241m=\u001b[39msvc_c, gamma\u001b[38;5;241m=\u001b[39m\u001b[38;5;124m\"\u001b[39m\u001b[38;5;124mauto\u001b[39m\u001b[38;5;124m\"\u001b[39m)\n\u001b[1;32m      9\u001b[0m \u001b[38;5;28;01melse\u001b[39;00m:\n\u001b[1;32m     10\u001b[0m     rf_max_depth \u001b[38;5;241m=\u001b[39m trail\u001b[38;5;241m.\u001b[39msuggest_int(\u001b[38;5;124m\"\u001b[39m\u001b[38;5;124mrf_max_depth\u001b[39m\u001b[38;5;124m\"\u001b[39m, \u001b[38;5;241m2\u001b[39m, \u001b[38;5;241m32\u001b[39m, log\u001b[38;5;241m=\u001b[39m\u001b[38;5;28;01mTrue\u001b[39;00m)\n",
      "\u001b[0;31mAttributeError\u001b[0m: module 'sklearn' has no attribute 'svm'"
     ]
    }
   ],
   "source": [
    "# 1. Define an objective function to be maximized.\n",
    "def objective(trail):\n",
    "\n",
    "    # 2. Suggest values for hyperparameter using a trail object.\n",
    "    classifier_name = trail.suggest_categorical(\"classifier\", [\"SVC\", \"RandomForest\"])\n",
    "    if classifier_name == \"SVC\":\n",
    "        svc_c = trail.suggest_float(\"svc_c\", 1e-10, 1e10, log=True)\n",
    "        classifier_obj = sklearn.svm.SVC(C=svc_c, gamma=\"auto\")\n",
    "    else:\n",
    "        rf_max_depth = trail.suggest_int(\"rf_max_depth\", 2, 32, log=True)\n",
    "        classifier_obj = sklearn.ensemble.RandomForestClassifier(max_depth=rf_max_depth, n_estimators=10)\n",
    "    ...\n",
    "    return accuracy\n",
    "\n",
    "# 3. Create a study object and optimize the objective function.\n",
    "study = optuna.create_study(direction=\"maximize\")\n",
    "study.optimize(objective, n_trials=100)"
   ]
  },
  {
   "cell_type": "code",
   "execution_count": null,
   "metadata": {},
   "outputs": [],
   "source": [
    "def objective(trial):\n",
    "    x = trial.suggest_float(\"x\", -100, 100)\n",
    "    return x ** 2\n",
    "\n",
    "\n",
    "if __name__ == \"__main__\":\n",
    "    study = optuna.create_study()\n",
    "    # The optimization finishes after evaluating 1000 times or 3 seconds.\n",
    "    study.optimize(objective, n_trials=1000, timeout=3)\n",
    "    print(f\"Best params is {study.best_params} with value {study.best_value}\")"
   ]
  },
  {
   "cell_type": "markdown",
   "metadata": {},
   "source": [
    "# Framework: PyTorch"
   ]
  },
  {
   "cell_type": "code",
   "execution_count": null,
   "metadata": {},
   "outputs": [],
   "source": [
    "import torch\n",
    "\n",
    "# 1. Define an objective function to be maximized.\n",
    "def object(trail):\n",
    "\n",
    "    # 2. Suggest values for hyperparameter using a trail object.\n",
    "    n_layers = trail.suggest_int(\"n_layers\", 1, 3)\n",
    "    layers = []\n",
    "\n",
    "    in_features = 28 * 28\n",
    "    for i in range(n_layers):\n",
    "        out_features = trail.suggest_int(f\"n_units_l{i}\".format(i), 4, 128)\n",
    "        layers.append(torch.nn.Linear(in_features, out_features))\n",
    "        layers.append(torch.nn.ReLU())\n",
    "        in_features = out_features\n",
    "    layers.append(torch.nn.Linear(in_features, 10))\n",
    "    layers.append(torch.nn.Softmax(dim=1))\n",
    "    model = torch.nn.Sequential(*layers).to(torch.device(\"cpu\"))\n",
    "    ...\n",
    "    return accuracy"
   ]
  }
 ],
 "metadata": {
  "kernelspec": {
   "display_name": "pyg",
   "language": "python",
   "name": "python3"
  },
  "language_info": {
   "codemirror_mode": {
    "name": "ipython",
    "version": 3
   },
   "file_extension": ".py",
   "mimetype": "text/x-python",
   "name": "python",
   "nbconvert_exporter": "python",
   "pygments_lexer": "ipython3",
   "version": "3.9.16"
  }
 },
 "nbformat": 4,
 "nbformat_minor": 2
}
