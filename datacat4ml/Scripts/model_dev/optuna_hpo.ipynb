{
 "cells": [
  {
   "cell_type": "code",
   "execution_count": 15,
   "id": "b1dcc600",
   "metadata": {},
   "outputs": [],
   "source": [
    "import optuna\n",
    "\n",
    "from datacat4ml.Scripts.model_dev.ml_models import MLmodel, RF, GB, SVM, KNN\n",
    "from datacat4ml.Scripts.model_dev.metrics import calc_auroc, calc_auprc\n",
    "from datacat4ml.const import RANDOM_SEED\n",
    "from datacat4ml.const import ML_HP_DIR\n",
    "\n",
    "from sklearn.model_selection import StratifiedShuffleSplit\n",
    "import torch\n",
    "from tqdm import tqdm\n",
    "\n",
    "import os\n",
    "import pandas as pd\n",
    "import numpy as np\n",
    "import json\n",
    "from typing import List, Union, Dict, Any"
   ]
  },
  {
   "cell_type": "markdown",
   "id": "ce019071",
   "metadata": {},
   "source": [
    "# Functions"
   ]
  },
  {
   "cell_type": "code",
   "execution_count": null,
   "id": "9d72d9b8",
   "metadata": {},
   "outputs": [],
   "source": [
    "def get_config(file:str):\n",
    "    \"load a json config file\"\n",
    "    if file.endswith('.json'):\n",
    "        with open(file, 'r') as f:\n",
    "            config = json.load(f)\n",
    "    \n",
    "    # convert the single value to list\n",
    "    config = {k: [v] if type(v) is not list else v  for k, v in config.items()}\n",
    "\n",
    "    return config\n",
    "\n",
    "def write_config(file:str, args:dict):\n",
    "    \"write a dictionary to a json file\"\n",
    "    args = {k:v.item() if isinstance(v, np.generic) else v for k,v in args.items()}\n",
    "    with open(file, 'w') as f:\n",
    "        json.dump(args, f, indent=4)\n",
    "\n",
    "def count_hparams_combinations(config:Dict[str, List[Union[float, str, int]]]):\n",
    "    from itertools import product \n",
    "    values = [v if isinstance(v, list) else [v] for v in config.values()]\n",
    "\n",
    "    combinations = list(product(*values))\n",
    "\n",
    "    return len(combinations)\n",
    "\n",
    "def set_hpspace(trial: optuna.trial.Trial, config: dict) -> dict:\n",
    "\n",
    "    \"get a hyperparameters set for the current trial\"\n",
    "\n",
    "    hparams = {}\n",
    "    for k, v in config.items():\n",
    "        if type(v) is list:\n",
    "            hparams[k] = trial.suggest_categorical(k, v)\n",
    "        else:\n",
    "            hparams[k] = v\n",
    "\n",
    "    return hparams\n",
    "\n",
    "def cross_validate(model, hparams:Dict[str, Any], x, y, n_folds: int=5, test_size: float=0.2, early_stopping: int=10):\n",
    "    \"\"\"\n",
    "    For hyperparameter optimization, do cross validation function that receives FIXED haparams for the current trial\n",
    "\n",
    "    params\n",
    "    ------\n",
    "    model: MLmodel\n",
    "        a trainable model class\n",
    "    hparams: dict\n",
    "        a dictionary containing hyperparameters for the model\n",
    "    x: list or np.array\n",
    "        input features\n",
    "    y: list or np.array\n",
    "        target values\n",
    "    n_folds: int\n",
    "        number of folds for cross-validation\n",
    "    test_size: float\n",
    "        proportion of the dataset to include in the validation split\n",
    "    early_stopping: int\n",
    "        number of epochs with no improvement to stop training early\n",
    "    \"\"\"\n",
    "\n",
    "    sss = StratifiedShuffleSplit(n_splits=n_folds, test_size=test_size, random_state=RANDOM_SEED)\n",
    "    splits = []\n",
    "    for i, j in sss.split(x, y):\n",
    "        splits.append({'train_idx':i, 'val_idx':j})\n",
    "\n",
    "    auroc = []\n",
    "    epochs = []\n",
    "    for i, split in tqdm(enumerate(splits)):\n",
    "        print(\"Model:\", model.__name__)\n",
    "        print (\"Starting fold:\", i)\n",
    "\n",
    "        print(\"Creating the model...\")\n",
    "        f = model(**hparams)\n",
    "        print(\"Model created.\")\n",
    "\n",
    "        x_tr_fold = [x[i] for i in split['train_idx']] if type(x) is list else x[split['train_idx']]\n",
    "        x_val_fold = [x[i] for i in split['val_idx']] if type(x) is list else x[split['val_idx']]\n",
    "        y_tr_fold = [y[i] for i in split['train_idx']] if type(y) is list else y[split['train_idx']]\n",
    "        y_val_fold = [y[i] for i in split['val_idx']] if type(y) is list else y[split['val_idx']]\n",
    "\n",
    "        print(\"Training the model...\")\n",
    "        f.train(x_train=x_tr_fold, y_train=y_tr_fold)\n",
    "        print(\"Model trained.\")\n",
    "\n",
    "        print('Validating the model...')\n",
    "        y_pred = f.predict(x_val_fold)\n",
    "        y_pred_proba = f.predict_proba(x_val_fold)\n",
    "        print('Model validated.')\n",
    "\n",
    "        auroc_score = calc_auroc(y_val_fold, y_pred_proba)\n",
    "        print(f'Fold {i} AUROC: {auroc_score}')\n",
    "\n",
    "        auroc.append(auroc_score)\n",
    "        # for deep learning models,\n",
    "        if f.epoch is not None:\n",
    "            if 'epochs' in hparams.keys():\n",
    "                if hparams['epochs'] > f.epoch:\n",
    "                    f.epoch = f.epoch - early_stopping\n",
    "            epochs.append(f.epoch)\n",
    "        del f\n",
    "        torch.cuda.empty_cache()\n",
    "\n",
    "    if len(epochs) > 0:\n",
    "        epochs = int(sum(epochs)/len(epochs)) # average epochs\n",
    "    else:\n",
    "        epochs = None  \n",
    "\n",
    "    return sum(auroc)/len(auroc), epochs\n",
    "\n",
    "class OptunaHPO:\n",
    "    def __init__(self, model):\n",
    "        \"\"\" Init the class with a trainable model. The model class should contain a train(), test(), predict() function\n",
    "        and be initialized with its hyperparameters \"\"\"\n",
    "        self.best_auroc = 0\n",
    "        self.model = model\n",
    "        self.study = None # store the optuna study object\n",
    "    \n",
    "    def optimize(self, x, y, config:Dict[str, List[Union[float, str, int]]], n_folds:int=5, test_size:float=0.2, early_stopping:int=10):\n",
    "\n",
    "        \"\"\"\n",
    "        params\n",
    "        ------\n",
    "        config: dict\n",
    "            a dictionary containing hyperparameter names and their possible values. Different from the variable `hparams` which contains the FIXED hparams.\n",
    "        \"\"\"\n",
    "        combinations = count_hparams_combinations(config)\n",
    "        print(f'Number of hyperparameter combinations: {combinations}')\n",
    "\n",
    "        def objective(trial):\n",
    "            hparams = set_hpspace(trial, config)\n",
    "            print(f'\\nTrial {trial.number}:')\n",
    "            epochs = None\n",
    "\n",
    "            try:\n",
    "                if n_folds > 1: # cross-validation\n",
    "                    auroc, epochs = cross_validate(self.model, hparams, x, y, n_folds, test_size, early_stopping)\n",
    "                else: # single train-validation split\n",
    "                    f = self.model(**hparams)\n",
    "                    f.train(x, y)\n",
    "                    epochs = f.epoch\n",
    "                    pred_proba = f.predict_proba(x)\n",
    "                    auroc = calc_auroc(y, pred_proba)\n",
    "                    del f\n",
    "                    torch.cuda.empty_cache()\n",
    "            except Exception as e:\n",
    "                print(\">> Failed\")\n",
    "                print(\"Error:\", e)\n",
    "                auroc = 0\n",
    "            \n",
    "            if auroc > self.best_auroc:\n",
    "                self.best_auroc = auroc\n",
    "            \n",
    "            if epochs is not None:\n",
    "                config['epochs'] = epochs\n",
    "\n",
    "            return auroc\n",
    "\n",
    "        # Perform optimization using Optuna\n",
    "        sampler = optuna.samplers.GridSampler(config)\n",
    "        self.study = optuna.create_study(sampler=sampler, direction='maximize',\n",
    "                                         storage=f\"sqlite:///{os.path.join(ML_HP_DIR,'db.sqlite3')}\",\n",
    "                                         study_name=f'cv_inner_{self.model.__name__}-2',\n",
    "                                    )\n",
    "        self.study.optimize(objective)"
   ]
  },
  {
   "cell_type": "markdown",
   "id": "b25a65c5",
   "metadata": {},
   "source": [
    "# Main"
   ]
  },
  {
   "cell_type": "code",
   "execution_count": 17,
   "id": "7a5a5d44",
   "metadata": {},
   "outputs": [],
   "source": [
    "in_path = '/storage/homefs/yc24j783/datacat4ml/datacat4ml/Data/data_prep/data_featurize/feat_lhd_or/all'\n",
    "lhd_or_f = 'CHEMBL237_bind_RBA_Ki_CHEMBL892113_lhd_b50_featurized.pkl'\n",
    "lhd_or_df = pd.read_pickle(f'{in_path}/{lhd_or_f}')\n",
    "\n",
    "x_train = lhd_or_df['ECFP4'].to_list()\n",
    "y_train = lhd_or_df['activity'].to_list()"
   ]
  },
  {
   "cell_type": "code",
   "execution_count": 18,
   "id": "4acf3ca2",
   "metadata": {},
   "outputs": [
    {
     "name": "stdout",
     "output_type": "stream",
     "text": [
      "config: \n",
      "{'C': [1, 10, 100, 1000, 10000], 'probability': [True], 'gamma': [1e-06, 1e-05, 0.0001, 0.001, 0.01, 0.1], 'kernel': ['rbf']}\n",
      "combinations: \n",
      "30\n"
     ]
    }
   ],
   "source": [
    "config = get_config('/storage/homefs/yc24j783/datacat4ml/datacat4ml/Data/model_dev/ml_hp/SVM.json')\n",
    "print(f'config: \\n{config}')\n",
    "\n",
    "combinations = count_hparams_combinations(config)\n",
    "print(f'combinations: \\n{combinations}')"
   ]
  },
  {
   "cell_type": "code",
   "execution_count": 19,
   "id": "77f0a36d",
   "metadata": {},
   "outputs": [
    {
     "name": "stderr",
     "output_type": "stream",
     "text": [
      "[I 2025-10-04 17:29:19,384] A new study created in RDB with name: cv_inner_SVM-2\n"
     ]
    },
    {
     "name": "stdout",
     "output_type": "stream",
     "text": [
      "Number of hyperparameter combinations: 30\n",
      "\n",
      "Trial 0:\n"
     ]
    },
    {
     "name": "stderr",
     "output_type": "stream",
     "text": [
      "5it [00:00, 134.50it/s]"
     ]
    },
    {
     "name": "stdout",
     "output_type": "stream",
     "text": [
      "Model: SVM\n",
      "Starting fold: 0\n",
      "Creating the model...\n",
      "Model created.\n",
      "Training the model...\n",
      "Model trained.\n",
      "Validating the model...\n",
      "Model validated.\n",
      "Fold 0 AUROC: 0.033333333333333326\n",
      "Model: SVM\n",
      "Starting fold: 1\n",
      "Creating the model...\n",
      "Model created.\n",
      "Training the model...\n",
      "Model trained.\n",
      "Validating the model...\n",
      "Model validated.\n",
      "Fold 1 AUROC: 0.43333333333333335\n",
      "Model: SVM\n",
      "Starting fold: 2\n",
      "Creating the model...\n",
      "Model created.\n",
      "Training the model...\n",
      "Model trained.\n",
      "Validating the model...\n",
      "Model validated.\n",
      "Fold 2 AUROC: 0.5\n",
      "Model: SVM\n",
      "Starting fold: 3\n",
      "Creating the model...\n",
      "Model created.\n",
      "Training the model...\n",
      "Model trained.\n",
      "Validating the model...\n",
      "Model validated.\n",
      "Fold 3 AUROC: 0.0\n",
      "Model: SVM\n",
      "Starting fold: 4\n",
      "Creating the model...\n",
      "Model created.\n",
      "Training the model...\n",
      "Model trained.\n",
      "Validating the model...\n",
      "Model validated.\n",
      "Fold 4 AUROC: 0.0\n"
     ]
    },
    {
     "name": "stderr",
     "output_type": "stream",
     "text": [
      "\n",
      "[I 2025-10-04 17:29:19,558] Trial 0 finished with value: 0.19333333333333333 and parameters: {'C': 1, 'probability': True, 'gamma': 0.0001, 'kernel': 'rbf'}. Best is trial 0 with value: 0.19333333333333333.\n"
     ]
    },
    {
     "name": "stdout",
     "output_type": "stream",
     "text": [
      "\n",
      "Trial 1:\n"
     ]
    },
    {
     "name": "stderr",
     "output_type": "stream",
     "text": [
      "5it [00:00, 220.52it/s]\n"
     ]
    },
    {
     "name": "stdout",
     "output_type": "stream",
     "text": [
      "Model: SVM\n",
      "Starting fold: 0\n",
      "Creating the model...\n",
      "Model created.\n",
      "Training the model...\n",
      "Model trained.\n",
      "Validating the model...\n",
      "Model validated.\n",
      "Fold 0 AUROC: 0.6\n",
      "Model: SVM\n",
      "Starting fold: 1\n",
      "Creating the model...\n",
      "Model created.\n",
      "Training the model...\n",
      "Model trained.\n",
      "Validating the model...\n",
      "Model validated.\n",
      "Fold 1 AUROC: 0.5333333333333333\n",
      "Model: SVM\n",
      "Starting fold: 2\n",
      "Creating the model...\n",
      "Model created.\n",
      "Training the model...\n",
      "Model trained.\n",
      "Validating the model...\n",
      "Model validated.\n",
      "Fold 2 AUROC: 0.6333333333333333\n",
      "Model: SVM\n",
      "Starting fold: 3\n",
      "Creating the model...\n",
      "Model created.\n",
      "Training the model...\n",
      "Model trained.\n",
      "Validating the model...\n",
      "Model validated.\n",
      "Fold 3 AUROC: 0.7000000000000001\n",
      "Model: SVM\n",
      "Starting fold: 4\n",
      "Creating the model...\n",
      "Model created.\n",
      "Training the model...\n",
      "Model trained.\n",
      "Validating the model...\n",
      "Model validated.\n",
      "Fold 4 AUROC: 1.0\n"
     ]
    },
    {
     "name": "stderr",
     "output_type": "stream",
     "text": [
      "[I 2025-10-04 17:29:19,653] Trial 1 finished with value: 0.6933333333333334 and parameters: {'C': 10000, 'probability': True, 'gamma': 0.01, 'kernel': 'rbf'}. Best is trial 1 with value: 0.6933333333333334.\n"
     ]
    },
    {
     "name": "stdout",
     "output_type": "stream",
     "text": [
      "\n",
      "Trial 2:\n"
     ]
    },
    {
     "name": "stderr",
     "output_type": "stream",
     "text": [
      "5it [00:00, 215.60it/s]\n",
      "[I 2025-10-04 17:29:19,750] Trial 2 finished with value: 0.10666666666666666 and parameters: {'C': 100, 'probability': True, 'gamma': 1e-05, 'kernel': 'rbf'}. Best is trial 1 with value: 0.6933333333333334.\n"
     ]
    },
    {
     "name": "stdout",
     "output_type": "stream",
     "text": [
      "Model: SVM\n",
      "Starting fold: 0\n",
      "Creating the model...\n",
      "Model created.\n",
      "Training the model...\n",
      "Model trained.\n",
      "Validating the model...\n",
      "Model validated.\n",
      "Fold 0 AUROC: 0.033333333333333326\n",
      "Model: SVM\n",
      "Starting fold: 1\n",
      "Creating the model...\n",
      "Model created.\n",
      "Training the model...\n",
      "Model trained.\n",
      "Validating the model...\n",
      "Model validated.\n",
      "Fold 1 AUROC: 0.43333333333333335\n",
      "Model: SVM\n",
      "Starting fold: 2\n",
      "Creating the model...\n",
      "Model created.\n",
      "Training the model...\n",
      "Model trained.\n",
      "Validating the model...\n",
      "Model validated.\n",
      "Fold 2 AUROC: 0.06666666666666665\n",
      "Model: SVM\n",
      "Starting fold: 3\n",
      "Creating the model...\n",
      "Model created.\n",
      "Training the model...\n",
      "Model trained.\n",
      "Validating the model...\n",
      "Model validated.\n",
      "Fold 3 AUROC: 0.0\n",
      "Model: SVM\n",
      "Starting fold: 4\n",
      "Creating the model...\n",
      "Model created.\n",
      "Training the model...\n",
      "Model trained.\n",
      "Validating the model...\n",
      "Model validated.\n",
      "Fold 4 AUROC: 0.0\n",
      "\n",
      "Trial 3:\n"
     ]
    },
    {
     "name": "stderr",
     "output_type": "stream",
     "text": [
      "0it [00:00, ?it/s]"
     ]
    },
    {
     "name": "stdout",
     "output_type": "stream",
     "text": [
      "Model: SVM\n",
      "Starting fold: 0\n",
      "Creating the model...\n",
      "Model created.\n",
      "Training the model...\n",
      "Model trained.\n",
      "Validating the model...\n",
      "Model validated.\n",
      "Fold 0 AUROC: 0.8666666666666667\n",
      "Model: SVM\n",
      "Starting fold: 1\n",
      "Creating the model...\n",
      "Model created.\n",
      "Training the model...\n"
     ]
    },
    {
     "name": "stderr",
     "output_type": "stream",
     "text": [
      "5it [00:00, 209.04it/s]\n",
      "[I 2025-10-04 17:29:19,848] Trial 3 finished with value: 0.8466666666666667 and parameters: {'C': 10, 'probability': True, 'gamma': 0.01, 'kernel': 'rbf'}. Best is trial 3 with value: 0.8466666666666667.\n"
     ]
    },
    {
     "name": "stdout",
     "output_type": "stream",
     "text": [
      "Model trained.\n",
      "Validating the model...\n",
      "Model validated.\n",
      "Fold 1 AUROC: 0.5333333333333333\n",
      "Model: SVM\n",
      "Starting fold: 2\n",
      "Creating the model...\n",
      "Model created.\n",
      "Training the model...\n",
      "Model trained.\n",
      "Validating the model...\n",
      "Model validated.\n",
      "Fold 2 AUROC: 0.9000000000000001\n",
      "Model: SVM\n",
      "Starting fold: 3\n",
      "Creating the model...\n",
      "Model created.\n",
      "Training the model...\n",
      "Model trained.\n",
      "Validating the model...\n",
      "Model validated.\n",
      "Fold 3 AUROC: 0.9333333333333333\n",
      "Model: SVM\n",
      "Starting fold: 4\n",
      "Creating the model...\n",
      "Model created.\n",
      "Training the model...\n",
      "Model trained.\n",
      "Validating the model...\n",
      "Model validated.\n",
      "Fold 4 AUROC: 1.0\n",
      "\n",
      "Trial 4:\n"
     ]
    },
    {
     "name": "stderr",
     "output_type": "stream",
     "text": [
      "0it [00:00, ?it/s]"
     ]
    },
    {
     "name": "stdout",
     "output_type": "stream",
     "text": [
      "Model: SVM\n",
      "Starting fold: 0\n",
      "Creating the model...\n",
      "Model created.\n",
      "Training the model...\n"
     ]
    },
    {
     "name": "stderr",
     "output_type": "stream",
     "text": [
      "5it [00:00, 226.91it/s]\n",
      "[I 2025-10-04 17:29:19,945] Trial 4 finished with value: 0.6333333333333334 and parameters: {'C': 10000, 'probability': True, 'gamma': 0.0001, 'kernel': 'rbf'}. Best is trial 3 with value: 0.8466666666666667.\n"
     ]
    },
    {
     "name": "stdout",
     "output_type": "stream",
     "text": [
      "Model trained.\n",
      "Validating the model...\n",
      "Model validated.\n",
      "Fold 0 AUROC: 0.6\n",
      "Model: SVM\n",
      "Starting fold: 1\n",
      "Creating the model...\n",
      "Model created.\n",
      "Training the model...\n",
      "Model trained.\n",
      "Validating the model...\n",
      "Model validated.\n",
      "Fold 1 AUROC: 0.5333333333333333\n",
      "Model: SVM\n",
      "Starting fold: 2\n",
      "Creating the model...\n",
      "Model created.\n",
      "Training the model...\n",
      "Model trained.\n",
      "Validating the model...\n",
      "Model validated.\n",
      "Fold 2 AUROC: 0.36666666666666664\n",
      "Model: SVM\n",
      "Starting fold: 3\n",
      "Creating the model...\n",
      "Model created.\n",
      "Training the model...\n",
      "Model trained.\n",
      "Validating the model...\n",
      "Model validated.\n",
      "Fold 3 AUROC: 0.6666666666666667\n",
      "Model: SVM\n",
      "Starting fold: 4\n",
      "Creating the model...\n",
      "Model created.\n",
      "Training the model...\n",
      "Model trained.\n",
      "Validating the model...\n",
      "Model validated.\n",
      "Fold 4 AUROC: 1.0\n",
      "\n",
      "Trial 5:\n"
     ]
    },
    {
     "name": "stderr",
     "output_type": "stream",
     "text": [
      "0it [00:00, ?it/s]"
     ]
    },
    {
     "name": "stdout",
     "output_type": "stream",
     "text": [
      "Model: SVM\n",
      "Starting fold: 0\n",
      "Creating the model...\n",
      "Model created.\n",
      "Training the model...\n",
      "Model trained.\n",
      "Validating the model...\n",
      "Model validated.\n",
      "Fold 0 AUROC: 0.9666666666666667\n",
      "Model: SVM\n",
      "Starting fold: 1\n",
      "Creating the model...\n",
      "Model created.\n",
      "Training the model...\n",
      "Model trained.\n",
      "Validating the model...\n",
      "Model validated.\n",
      "Fold 1 AUROC: 0.5666666666666667\n",
      "Model: SVM\n",
      "Starting fold: 2\n",
      "Creating the model...\n",
      "Model created.\n",
      "Training the model...\n"
     ]
    },
    {
     "name": "stderr",
     "output_type": "stream",
     "text": [
      "5it [00:00, 213.41it/s]\n",
      "[I 2025-10-04 17:29:20,044] Trial 5 finished with value: 0.8933333333333333 and parameters: {'C': 10000, 'probability': True, 'gamma': 1e-06, 'kernel': 'rbf'}. Best is trial 5 with value: 0.8933333333333333.\n"
     ]
    },
    {
     "name": "stdout",
     "output_type": "stream",
     "text": [
      "Model trained.\n",
      "Validating the model...\n",
      "Model validated.\n",
      "Fold 2 AUROC: 0.9333333333333333\n",
      "Model: SVM\n",
      "Starting fold: 3\n",
      "Creating the model...\n",
      "Model created.\n",
      "Training the model...\n",
      "Model trained.\n",
      "Validating the model...\n",
      "Model validated.\n",
      "Fold 3 AUROC: 1.0\n",
      "Model: SVM\n",
      "Starting fold: 4\n",
      "Creating the model...\n",
      "Model created.\n",
      "Training the model...\n",
      "Model trained.\n",
      "Validating the model...\n",
      "Model validated.\n",
      "Fold 4 AUROC: 1.0\n",
      "\n",
      "Trial 6:\n"
     ]
    },
    {
     "name": "stderr",
     "output_type": "stream",
     "text": [
      "0it [00:00, ?it/s]"
     ]
    },
    {
     "name": "stdout",
     "output_type": "stream",
     "text": [
      "Model: SVM\n",
      "Starting fold: 0\n",
      "Creating the model...\n",
      "Model created.\n",
      "Training the model...\n",
      "Model trained.\n",
      "Validating the model...\n",
      "Model validated.\n",
      "Fold 0 AUROC: 0.6\n",
      "Model: SVM\n",
      "Starting fold: 1\n",
      "Creating the model...\n",
      "Model created.\n",
      "Training the model...\n",
      "Model trained.\n",
      "Validating the model...\n",
      "Model validated.\n",
      "Fold 1 AUROC: 0.5333333333333333\n",
      "Model: SVM\n",
      "Starting fold: 2\n",
      "Creating the model...\n",
      "Model created.\n",
      "Training the model...\n"
     ]
    },
    {
     "name": "stderr",
     "output_type": "stream",
     "text": [
      "5it [00:00, 224.84it/s]\n",
      "[I 2025-10-04 17:29:20,138] Trial 6 finished with value: 0.6466666666666667 and parameters: {'C': 10000, 'probability': True, 'gamma': 0.001, 'kernel': 'rbf'}. Best is trial 5 with value: 0.8933333333333333.\n"
     ]
    },
    {
     "name": "stdout",
     "output_type": "stream",
     "text": [
      "Model trained.\n",
      "Validating the model...\n",
      "Model validated.\n",
      "Fold 2 AUROC: 0.39999999999999997\n",
      "Model: SVM\n",
      "Starting fold: 3\n",
      "Creating the model...\n",
      "Model created.\n",
      "Training the model...\n",
      "Model trained.\n",
      "Validating the model...\n",
      "Model validated.\n",
      "Fold 3 AUROC: 0.7000000000000001\n",
      "Model: SVM\n",
      "Starting fold: 4\n",
      "Creating the model...\n",
      "Model created.\n",
      "Training the model...\n",
      "Model trained.\n",
      "Validating the model...\n",
      "Model validated.\n",
      "Fold 4 AUROC: 1.0\n",
      "\n",
      "Trial 7:\n"
     ]
    },
    {
     "name": "stderr",
     "output_type": "stream",
     "text": [
      "0it [00:00, ?it/s]"
     ]
    },
    {
     "name": "stdout",
     "output_type": "stream",
     "text": [
      "Model: SVM\n",
      "Starting fold: 0\n",
      "Creating the model...\n",
      "Model created.\n",
      "Training the model...\n",
      "Model trained.\n",
      "Validating the model...\n",
      "Model validated.\n",
      "Fold 0 AUROC: 0.7\n",
      "Model: SVM\n",
      "Starting fold: 1\n",
      "Creating the model...\n",
      "Model created.\n",
      "Training the model...\n",
      "Model trained.\n",
      "Validating the model...\n",
      "Model validated.\n",
      "Fold 1 AUROC: 0.5666666666666667\n",
      "Model: SVM\n",
      "Starting fold: 2\n",
      "Creating the model...\n",
      "Model created.\n",
      "Training the model...\n",
      "Model trained.\n",
      "Validating the model...\n",
      "Model validated.\n",
      "Fold 2 AUROC: 0.8666666666666667\n",
      "Model: SVM\n",
      "Starting fold: 3\n",
      "Creating the model...\n",
      "Model created.\n",
      "Training the model...\n",
      "Model trained.\n",
      "Validating the model...\n",
      "Model validated.\n",
      "Fold 3 AUROC: 0.8666666666666667\n",
      "Model: SVM\n",
      "Starting fold: 4\n",
      "Creating the model...\n",
      "Model created.\n",
      "Training the model...\n",
      "Model trained.\n",
      "Validating the model...\n"
     ]
    },
    {
     "name": "stderr",
     "output_type": "stream",
     "text": [
      "5it [00:00, 203.84it/s]\n",
      "[I 2025-10-04 17:29:20,236] Trial 7 finished with value: 0.8 and parameters: {'C': 10, 'probability': True, 'gamma': 0.1, 'kernel': 'rbf'}. Best is trial 5 with value: 0.8933333333333333.\n"
     ]
    },
    {
     "name": "stdout",
     "output_type": "stream",
     "text": [
      "Model validated.\n",
      "Fold 4 AUROC: 1.0\n",
      "\n",
      "Trial 8:\n"
     ]
    },
    {
     "name": "stderr",
     "output_type": "stream",
     "text": [
      "0it [00:00, ?it/s]"
     ]
    },
    {
     "name": "stdout",
     "output_type": "stream",
     "text": [
      "Model: SVM\n",
      "Starting fold: 0\n",
      "Creating the model...\n",
      "Model created.\n",
      "Training the model...\n",
      "Model trained.\n",
      "Validating the model...\n",
      "Model validated.\n",
      "Fold 0 AUROC: 0.7\n",
      "Model: SVM\n",
      "Starting fold: 1\n",
      "Creating the model...\n",
      "Model created.\n",
      "Training the model...\n",
      "Model trained.\n",
      "Validating the model...\n",
      "Model validated.\n",
      "Fold 1 AUROC: 0.5666666666666667\n",
      "Model: SVM\n",
      "Starting fold: 2\n",
      "Creating the model...\n",
      "Model created.\n",
      "Training the model...\n",
      "Model trained.\n",
      "Validating the model...\n",
      "Model validated.\n",
      "Fold 2 AUROC: 0.8666666666666667\n",
      "Model: SVM\n",
      "Starting fold: 3\n",
      "Creating the model...\n",
      "Model created.\n",
      "Training the model...\n",
      "Model trained.\n",
      "Validating the model...\n"
     ]
    },
    {
     "name": "stderr",
     "output_type": "stream",
     "text": [
      "5it [00:00, 201.88it/s]\n",
      "[I 2025-10-04 17:29:20,337] Trial 8 finished with value: 0.8 and parameters: {'C': 100, 'probability': True, 'gamma': 0.1, 'kernel': 'rbf'}. Best is trial 5 with value: 0.8933333333333333.\n"
     ]
    },
    {
     "name": "stdout",
     "output_type": "stream",
     "text": [
      "Model validated.\n",
      "Fold 3 AUROC: 0.8666666666666667\n",
      "Model: SVM\n",
      "Starting fold: 4\n",
      "Creating the model...\n",
      "Model created.\n",
      "Training the model...\n",
      "Model trained.\n",
      "Validating the model...\n",
      "Model validated.\n",
      "Fold 4 AUROC: 1.0\n",
      "\n",
      "Trial 9:\n"
     ]
    },
    {
     "name": "stderr",
     "output_type": "stream",
     "text": [
      "0it [00:00, ?it/s]"
     ]
    },
    {
     "name": "stdout",
     "output_type": "stream",
     "text": [
      "Model: SVM\n",
      "Starting fold: 0\n",
      "Creating the model...\n",
      "Model created.\n",
      "Training the model...\n",
      "Model trained.\n",
      "Validating the model...\n",
      "Model validated.\n",
      "Fold 0 AUROC: 0.6\n",
      "Model: SVM\n",
      "Starting fold: 1\n",
      "Creating the model...\n",
      "Model created.\n",
      "Training the model...\n",
      "Model trained.\n",
      "Validating the model...\n",
      "Model validated.\n",
      "Fold 1 AUROC: 0.5333333333333333\n",
      "Model: SVM\n",
      "Starting fold: 2\n",
      "Creating the model...\n",
      "Model created.\n",
      "Training the model...\n",
      "Model trained.\n",
      "Validating the model...\n",
      "Model validated.\n",
      "Fold 2 AUROC: 0.6333333333333333\n",
      "Model: SVM\n",
      "Starting fold: 3\n",
      "Creating the model...\n",
      "Model created.\n",
      "Training the model...\n",
      "Model trained.\n",
      "Validating the model...\n"
     ]
    },
    {
     "name": "stderr",
     "output_type": "stream",
     "text": [
      "5it [00:00, 207.33it/s]"
     ]
    },
    {
     "name": "stdout",
     "output_type": "stream",
     "text": [
      "Model validated.\n",
      "Fold 3 AUROC: 0.7000000000000001\n",
      "Model: SVM\n",
      "Starting fold: 4\n",
      "Creating the model...\n",
      "Model created.\n",
      "Training the model...\n",
      "Model trained.\n",
      "Validating the model...\n",
      "Model validated.\n",
      "Fold 4 AUROC: 1.0\n"
     ]
    },
    {
     "name": "stderr",
     "output_type": "stream",
     "text": [
      "\n",
      "[I 2025-10-04 17:29:20,435] Trial 9 finished with value: 0.6933333333333334 and parameters: {'C': 1000, 'probability': True, 'gamma': 0.01, 'kernel': 'rbf'}. Best is trial 5 with value: 0.8933333333333333.\n"
     ]
    },
    {
     "name": "stdout",
     "output_type": "stream",
     "text": [
      "\n",
      "Trial 10:\n"
     ]
    },
    {
     "name": "stderr",
     "output_type": "stream",
     "text": [
      "0it [00:00, ?it/s]"
     ]
    },
    {
     "name": "stdout",
     "output_type": "stream",
     "text": [
      "Model: SVM\n",
      "Starting fold: 0\n",
      "Creating the model...\n",
      "Model created.\n",
      "Training the model...\n",
      "Model trained.\n",
      "Validating the model...\n",
      "Model validated.\n",
      "Fold 0 AUROC: 0.8333333333333334\n",
      "Model: SVM\n",
      "Starting fold: 1\n",
      "Creating the model...\n",
      "Model created.\n",
      "Training the model...\n",
      "Model trained.\n",
      "Validating the model...\n",
      "Model validated.\n",
      "Fold 1 AUROC: 0.5666666666666667\n",
      "Model: SVM\n",
      "Starting fold: 2\n",
      "Creating the model...\n",
      "Model created.\n",
      "Training the model...\n",
      "Model trained.\n",
      "Validating the model...\n",
      "Model validated.\n",
      "Fold 2 AUROC: 1.0\n",
      "Model: SVM\n",
      "Starting fold: 3\n",
      "Creating the model...\n",
      "Model created.\n",
      "Training the model...\n",
      "Model trained.\n",
      "Validating the model...\n",
      "Model validated.\n",
      "Fold 3 AUROC: 1.0\n",
      "Model: SVM\n",
      "Starting fold: 4\n",
      "Creating the model...\n",
      "Model created.\n",
      "Training the model...\n"
     ]
    },
    {
     "name": "stderr",
     "output_type": "stream",
     "text": [
      "5it [00:00, 207.64it/s]\n",
      "[I 2025-10-04 17:29:20,534] Trial 10 finished with value: 0.8800000000000001 and parameters: {'C': 1, 'probability': True, 'gamma': 0.1, 'kernel': 'rbf'}. Best is trial 5 with value: 0.8933333333333333.\n"
     ]
    },
    {
     "name": "stdout",
     "output_type": "stream",
     "text": [
      "Model trained.\n",
      "Validating the model...\n",
      "Model validated.\n",
      "Fold 4 AUROC: 1.0\n",
      "\n",
      "Trial 11:\n"
     ]
    },
    {
     "name": "stderr",
     "output_type": "stream",
     "text": [
      "0it [00:00, ?it/s]"
     ]
    },
    {
     "name": "stdout",
     "output_type": "stream",
     "text": [
      "Model: SVM\n",
      "Starting fold: 0\n",
      "Creating the model...\n",
      "Model created.\n",
      "Training the model...\n",
      "Model trained.\n",
      "Validating the model...\n",
      "Model validated.\n",
      "Fold 0 AUROC: 0.6\n",
      "Model: SVM\n",
      "Starting fold: 1\n",
      "Creating the model...\n",
      "Model created.\n",
      "Training the model...\n",
      "Model trained.\n",
      "Validating the model...\n",
      "Model validated.\n",
      "Fold 1 AUROC: 0.5333333333333333\n",
      "Model: SVM\n",
      "Starting fold: 2\n",
      "Creating the model...\n",
      "Model created.\n",
      "Training the model...\n",
      "Model trained.\n",
      "Validating the model...\n",
      "Model validated.\n",
      "Fold 2 AUROC: 0.6333333333333333\n",
      "Model: SVM\n",
      "Starting fold: 3\n",
      "Creating the model...\n",
      "Model created.\n",
      "Training the model...\n",
      "Model trained.\n",
      "Validating the model...\n",
      "Model validated.\n",
      "Fold 3 AUROC: 0.7000000000000001\n",
      "Model: SVM\n",
      "Starting fold: 4\n",
      "Creating the model...\n",
      "Model created.\n",
      "Training the model...\n",
      "Model trained.\n",
      "Validating the model...\n"
     ]
    },
    {
     "name": "stderr",
     "output_type": "stream",
     "text": [
      "5it [00:00, 204.47it/s]\n",
      "[I 2025-10-04 17:29:20,633] Trial 11 finished with value: 0.6933333333333334 and parameters: {'C': 100, 'probability': True, 'gamma': 0.01, 'kernel': 'rbf'}. Best is trial 5 with value: 0.8933333333333333.\n"
     ]
    },
    {
     "name": "stdout",
     "output_type": "stream",
     "text": [
      "Model validated.\n",
      "Fold 4 AUROC: 1.0\n",
      "\n",
      "Trial 12:\n"
     ]
    },
    {
     "name": "stderr",
     "output_type": "stream",
     "text": [
      "0it [00:00, ?it/s]"
     ]
    },
    {
     "name": "stdout",
     "output_type": "stream",
     "text": [
      "Model: SVM\n",
      "Starting fold: 0\n",
      "Creating the model...\n",
      "Model created.\n",
      "Training the model...\n",
      "Model trained.\n",
      "Validating the model...\n",
      "Model validated.\n",
      "Fold 0 AUROC: 0.033333333333333326\n",
      "Model: SVM\n",
      "Starting fold: 1\n",
      "Creating the model...\n",
      "Model created.\n",
      "Training the model...\n",
      "Model trained.\n",
      "Validating the model...\n",
      "Model validated.\n",
      "Fold 1 AUROC: 0.3\n",
      "Model: SVM\n",
      "Starting fold: 2\n",
      "Creating the model...\n",
      "Model created.\n",
      "Training the model...\n",
      "Model trained.\n",
      "Validating the model...\n",
      "Model validated.\n",
      "Fold 2 AUROC: 0.06666666666666665\n",
      "Model: SVM\n",
      "Starting fold: 3\n",
      "Creating the model...\n",
      "Model created.\n",
      "Training the model...\n",
      "Model trained.\n",
      "Validating the model...\n",
      "Model validated.\n",
      "Fold 3 AUROC: 0.5\n",
      "Model: SVM\n",
      "Starting fold: 4\n",
      "Creating the model...\n",
      "Model created.\n",
      "Training the model...\n",
      "Model trained.\n",
      "Validating the model...\n"
     ]
    },
    {
     "name": "stderr",
     "output_type": "stream",
     "text": [
      "5it [00:00, 198.09it/s]\n",
      "[I 2025-10-04 17:29:20,736] Trial 12 finished with value: 0.38 and parameters: {'C': 10, 'probability': True, 'gamma': 0.0001, 'kernel': 'rbf'}. Best is trial 5 with value: 0.8933333333333333.\n"
     ]
    },
    {
     "name": "stdout",
     "output_type": "stream",
     "text": [
      "Model validated.\n",
      "Fold 4 AUROC: 1.0\n",
      "\n",
      "Trial 13:\n"
     ]
    },
    {
     "name": "stderr",
     "output_type": "stream",
     "text": [
      "0it [00:00, ?it/s]"
     ]
    },
    {
     "name": "stdout",
     "output_type": "stream",
     "text": [
      "Model: SVM\n",
      "Starting fold: 0\n",
      "Creating the model...\n",
      "Model created.\n",
      "Training the model...\n",
      "Model trained.\n",
      "Validating the model...\n",
      "Model validated.\n",
      "Fold 0 AUROC: 0.9666666666666667\n",
      "Model: SVM\n",
      "Starting fold: 1\n",
      "Creating the model...\n",
      "Model created.\n",
      "Training the model...\n",
      "Model trained.\n",
      "Validating the model...\n",
      "Model validated.\n",
      "Fold 1 AUROC: 0.5666666666666667\n",
      "Model: SVM\n",
      "Starting fold: 2\n",
      "Creating the model...\n",
      "Model created.\n",
      "Training the model...\n",
      "Model trained.\n",
      "Validating the model...\n",
      "Model validated.\n",
      "Fold 2 AUROC: 0.9333333333333333\n",
      "Model: SVM\n",
      "Starting fold: 3\n",
      "Creating the model...\n",
      "Model created.\n",
      "Training the model...\n",
      "Model trained.\n",
      "Validating the model...\n",
      "Model validated.\n",
      "Fold 3 AUROC: 1.0\n",
      "Model: SVM\n",
      "Starting fold: 4\n",
      "Creating the model...\n",
      "Model created.\n",
      "Training the model...\n"
     ]
    },
    {
     "name": "stderr",
     "output_type": "stream",
     "text": [
      "5it [00:00, 207.28it/s]\n",
      "[I 2025-10-04 17:29:20,837] Trial 13 finished with value: 0.8933333333333333 and parameters: {'C': 100, 'probability': True, 'gamma': 0.0001, 'kernel': 'rbf'}. Best is trial 5 with value: 0.8933333333333333.\n"
     ]
    },
    {
     "name": "stdout",
     "output_type": "stream",
     "text": [
      "Model trained.\n",
      "Validating the model...\n",
      "Model validated.\n",
      "Fold 4 AUROC: 1.0\n",
      "\n",
      "Trial 14:\n"
     ]
    },
    {
     "name": "stderr",
     "output_type": "stream",
     "text": [
      "0it [00:00, ?it/s]"
     ]
    },
    {
     "name": "stdout",
     "output_type": "stream",
     "text": [
      "Model: SVM\n",
      "Starting fold: 0\n",
      "Creating the model...\n",
      "Model created.\n",
      "Training the model...\n",
      "Model trained.\n",
      "Validating the model...\n",
      "Model validated.\n",
      "Fold 0 AUROC: 0.7\n",
      "Model: SVM\n",
      "Starting fold: 1\n",
      "Creating the model...\n",
      "Model created.\n",
      "Training the model...\n",
      "Model trained.\n",
      "Validating the model...\n",
      "Model validated.\n",
      "Fold 1 AUROC: 0.5666666666666667\n",
      "Model: SVM\n",
      "Starting fold: 2\n",
      "Creating the model...\n",
      "Model created.\n",
      "Training the model...\n",
      "Model trained.\n",
      "Validating the model...\n",
      "Model validated.\n",
      "Fold 2 AUROC: 0.8666666666666667\n",
      "Model: SVM\n",
      "Starting fold: 3\n",
      "Creating the model...\n",
      "Model created.\n",
      "Training the model...\n",
      "Model trained.\n",
      "Validating the model...\n",
      "Model validated.\n",
      "Fold 3 AUROC: 0.8666666666666667\n",
      "Model: SVM\n",
      "Starting fold: 4\n",
      "Creating the model...\n",
      "Model created.\n",
      "Training the model...\n"
     ]
    },
    {
     "name": "stderr",
     "output_type": "stream",
     "text": [
      "5it [00:00, 196.68it/s]\n",
      "[I 2025-10-04 17:29:20,940] Trial 14 finished with value: 0.8 and parameters: {'C': 1000, 'probability': True, 'gamma': 0.1, 'kernel': 'rbf'}. Best is trial 5 with value: 0.8933333333333333.\n"
     ]
    },
    {
     "name": "stdout",
     "output_type": "stream",
     "text": [
      "Model trained.\n",
      "Validating the model...\n",
      "Model validated.\n",
      "Fold 4 AUROC: 1.0\n",
      "\n",
      "Trial 15:\n"
     ]
    },
    {
     "name": "stderr",
     "output_type": "stream",
     "text": [
      "0it [00:00, ?it/s]"
     ]
    },
    {
     "name": "stdout",
     "output_type": "stream",
     "text": [
      "Model: SVM\n",
      "Starting fold: 0\n",
      "Creating the model...\n",
      "Model created.\n",
      "Training the model...\n",
      "Model trained.\n",
      "Validating the model...\n",
      "Model validated.\n",
      "Fold 0 AUROC: 0.8\n",
      "Model: SVM\n",
      "Starting fold: 1\n",
      "Creating the model...\n",
      "Model created.\n",
      "Training the model...\n",
      "Model trained.\n",
      "Validating the model...\n",
      "Model validated.\n",
      "Fold 1 AUROC: 0.5333333333333333\n",
      "Model: SVM\n",
      "Starting fold: 2\n",
      "Creating the model...\n",
      "Model created.\n",
      "Training the model...\n",
      "Model trained.\n",
      "Validating the model...\n",
      "Model validated.\n",
      "Fold 2 AUROC: 0.7666666666666667\n",
      "Model: SVM\n",
      "Starting fold: 3\n",
      "Creating the model...\n",
      "Model created.\n",
      "Training the model...\n",
      "Model trained.\n",
      "Validating the model...\n",
      "Model validated.\n",
      "Fold 3 AUROC: 0.9333333333333333\n",
      "Model: SVM\n",
      "Starting fold: 4\n",
      "Creating the model...\n",
      "Model created.\n",
      "Training the model...\n"
     ]
    },
    {
     "name": "stderr",
     "output_type": "stream",
     "text": [
      "5it [00:00, 218.09it/s]\n",
      "[I 2025-10-04 17:29:21,039] Trial 15 finished with value: 0.8066666666666666 and parameters: {'C': 1000, 'probability': True, 'gamma': 0.0001, 'kernel': 'rbf'}. Best is trial 5 with value: 0.8933333333333333.\n"
     ]
    },
    {
     "name": "stdout",
     "output_type": "stream",
     "text": [
      "Model trained.\n",
      "Validating the model...\n",
      "Model validated.\n",
      "Fold 4 AUROC: 1.0\n",
      "\n",
      "Trial 16:\n"
     ]
    },
    {
     "name": "stderr",
     "output_type": "stream",
     "text": [
      "0it [00:00, ?it/s]"
     ]
    },
    {
     "name": "stdout",
     "output_type": "stream",
     "text": [
      "Model: SVM\n",
      "Starting fold: 0\n",
      "Creating the model...\n",
      "Model created.\n",
      "Training the model...\n",
      "Model trained.\n",
      "Validating the model...\n",
      "Model validated.\n",
      "Fold 0 AUROC: 0.033333333333333326\n",
      "Model: SVM\n",
      "Starting fold: 1\n",
      "Creating the model...\n",
      "Model created.\n",
      "Training the model...\n",
      "Model trained.\n",
      "Validating the model...\n",
      "Model validated.\n",
      "Fold 1 AUROC: 0.5\n",
      "Model: SVM\n",
      "Starting fold: 2\n",
      "Creating the model...\n",
      "Model created.\n",
      "Training the model...\n",
      "Model trained.\n",
      "Validating the model...\n",
      "Model validated.\n",
      "Fold 2 AUROC: 0.5\n",
      "Model: SVM\n",
      "Starting fold: 3\n",
      "Creating the model...\n",
      "Model created.\n",
      "Training the model...\n",
      "Model trained.\n",
      "Validating the model...\n",
      "Model validated.\n"
     ]
    },
    {
     "name": "stderr",
     "output_type": "stream",
     "text": [
      "5it [00:00, 207.57it/s]"
     ]
    },
    {
     "name": "stdout",
     "output_type": "stream",
     "text": [
      "Fold 3 AUROC: 0.0\n",
      "Model: SVM\n",
      "Starting fold: 4\n",
      "Creating the model...\n",
      "Model created.\n",
      "Training the model...\n",
      "Model trained.\n",
      "Validating the model...\n",
      "Model validated.\n",
      "Fold 4 AUROC: 0.0\n"
     ]
    },
    {
     "name": "stderr",
     "output_type": "stream",
     "text": [
      "\n",
      "[I 2025-10-04 17:29:21,138] Trial 16 finished with value: 0.20666666666666664 and parameters: {'C': 1, 'probability': True, 'gamma': 1e-05, 'kernel': 'rbf'}. Best is trial 5 with value: 0.8933333333333333.\n"
     ]
    },
    {
     "name": "stdout",
     "output_type": "stream",
     "text": [
      "\n",
      "Trial 17:\n"
     ]
    },
    {
     "name": "stderr",
     "output_type": "stream",
     "text": [
      "0it [00:00, ?it/s]"
     ]
    },
    {
     "name": "stdout",
     "output_type": "stream",
     "text": [
      "Model: SVM\n",
      "Starting fold: 0\n",
      "Creating the model...\n",
      "Model created.\n",
      "Training the model...\n",
      "Model trained.\n",
      "Validating the model...\n",
      "Model validated.\n",
      "Fold 0 AUROC: 0.7\n",
      "Model: SVM\n",
      "Starting fold: 1\n",
      "Creating the model...\n",
      "Model created.\n",
      "Training the model...\n",
      "Model trained.\n",
      "Validating the model...\n",
      "Model validated.\n",
      "Fold 1 AUROC: 0.5666666666666667\n",
      "Model: SVM\n",
      "Starting fold: 2\n",
      "Creating the model...\n",
      "Model created.\n",
      "Training the model...\n",
      "Model trained.\n",
      "Validating the model...\n",
      "Model validated.\n",
      "Fold 2 AUROC: 0.8666666666666667\n",
      "Model: SVM\n",
      "Starting fold: 3\n",
      "Creating the model...\n",
      "Model created.\n",
      "Training the model...\n",
      "Model trained.\n",
      "Validating the model...\n",
      "Model validated.\n",
      "Fold 3 AUROC: 0.8666666666666667\n",
      "Model: SVM\n",
      "Starting fold: 4\n",
      "Creating the model...\n",
      "Model created.\n",
      "Training the model...\n"
     ]
    },
    {
     "name": "stderr",
     "output_type": "stream",
     "text": [
      "5it [00:00, 192.92it/s]\n",
      "[I 2025-10-04 17:29:21,241] Trial 17 finished with value: 0.8 and parameters: {'C': 10000, 'probability': True, 'gamma': 0.1, 'kernel': 'rbf'}. Best is trial 5 with value: 0.8933333333333333.\n"
     ]
    },
    {
     "name": "stdout",
     "output_type": "stream",
     "text": [
      "Model trained.\n",
      "Validating the model...\n",
      "Model validated.\n",
      "Fold 4 AUROC: 1.0\n",
      "\n",
      "Trial 18:\n"
     ]
    },
    {
     "name": "stderr",
     "output_type": "stream",
     "text": [
      "0it [00:00, ?it/s]"
     ]
    },
    {
     "name": "stdout",
     "output_type": "stream",
     "text": [
      "Model: SVM\n",
      "Starting fold: 0\n",
      "Creating the model...\n",
      "Model created.\n",
      "Training the model...\n",
      "Model trained.\n",
      "Validating the model...\n",
      "Model validated.\n",
      "Fold 0 AUROC: 0.5\n",
      "Model: SVM\n",
      "Starting fold: 1\n",
      "Creating the model...\n",
      "Model created.\n",
      "Training the model...\n",
      "Model trained.\n",
      "Validating the model...\n",
      "Model validated.\n",
      "Fold 1 AUROC: 0.43333333333333335\n",
      "Model: SVM\n",
      "Starting fold: 2\n",
      "Creating the model...\n",
      "Model created.\n",
      "Training the model...\n",
      "Model trained.\n",
      "Validating the model...\n",
      "Model validated.\n",
      "Fold 2 AUROC: 0.06666666666666665\n",
      "Model: SVM\n",
      "Starting fold: 3\n",
      "Creating the model...\n",
      "Model created.\n",
      "Training the model...\n"
     ]
    },
    {
     "name": "stderr",
     "output_type": "stream",
     "text": [
      "5it [00:00, 206.94it/s]\n",
      "[I 2025-10-04 17:29:21,342] Trial 18 finished with value: 0.3 and parameters: {'C': 10, 'probability': True, 'gamma': 1e-06, 'kernel': 'rbf'}. Best is trial 5 with value: 0.8933333333333333.\n"
     ]
    },
    {
     "name": "stdout",
     "output_type": "stream",
     "text": [
      "Model trained.\n",
      "Validating the model...\n",
      "Model validated.\n",
      "Fold 3 AUROC: 0.0\n",
      "Model: SVM\n",
      "Starting fold: 4\n",
      "Creating the model...\n",
      "Model created.\n",
      "Training the model...\n",
      "Model trained.\n",
      "Validating the model...\n",
      "Model validated.\n",
      "Fold 4 AUROC: 0.5\n",
      "\n",
      "Trial 19:\n"
     ]
    },
    {
     "name": "stderr",
     "output_type": "stream",
     "text": [
      "0it [00:00, ?it/s]"
     ]
    },
    {
     "name": "stdout",
     "output_type": "stream",
     "text": [
      "Model: SVM\n",
      "Starting fold: 0\n",
      "Creating the model...\n",
      "Model created.\n",
      "Training the model...\n",
      "Model trained.\n",
      "Validating the model...\n",
      "Model validated.\n",
      "Fold 0 AUROC: 0.9666666666666667\n",
      "Model: SVM\n",
      "Starting fold: 1\n",
      "Creating the model...\n",
      "Model created.\n",
      "Training the model...\n",
      "Model trained.\n",
      "Validating the model...\n",
      "Model validated.\n",
      "Fold 1 AUROC: 0.5666666666666667\n",
      "Model: SVM\n",
      "Starting fold: 2\n",
      "Creating the model...\n",
      "Model created.\n",
      "Training the model...\n",
      "Model trained.\n",
      "Validating the model...\n",
      "Model validated.\n",
      "Fold 2 AUROC: 0.9333333333333333\n",
      "Model: SVM\n",
      "Starting fold: 3\n",
      "Creating the model...\n",
      "Model created.\n",
      "Training the model...\n",
      "Model trained.\n",
      "Validating the model...\n",
      "Model validated.\n",
      "Fold 3 AUROC: 1.0\n",
      "Model: SVM\n",
      "Starting fold: 4\n",
      "Creating the model...\n",
      "Model created.\n",
      "Training the model...\n"
     ]
    },
    {
     "name": "stderr",
     "output_type": "stream",
     "text": [
      "5it [00:00, 202.80it/s]\n",
      "[I 2025-10-04 17:29:21,444] Trial 19 finished with value: 0.8933333333333333 and parameters: {'C': 1, 'probability': True, 'gamma': 0.01, 'kernel': 'rbf'}. Best is trial 5 with value: 0.8933333333333333.\n"
     ]
    },
    {
     "name": "stdout",
     "output_type": "stream",
     "text": [
      "Model trained.\n",
      "Validating the model...\n",
      "Model validated.\n",
      "Fold 4 AUROC: 1.0\n",
      "\n",
      "Trial 20:\n"
     ]
    },
    {
     "name": "stderr",
     "output_type": "stream",
     "text": [
      "0it [00:00, ?it/s]"
     ]
    },
    {
     "name": "stdout",
     "output_type": "stream",
     "text": [
      "Model: SVM\n",
      "Starting fold: 0\n",
      "Creating the model...\n",
      "Model created.\n",
      "Training the model...\n",
      "Model trained.\n",
      "Validating the model...\n",
      "Model validated.\n",
      "Fold 0 AUROC: 0.049999999999999996\n",
      "Model: SVM\n",
      "Starting fold: 1\n",
      "Creating the model...\n",
      "Model created.\n",
      "Training the model...\n",
      "Model trained.\n",
      "Validating the model...\n",
      "Model validated.\n",
      "Fold 1 AUROC: 0.43333333333333335\n",
      "Model: SVM\n",
      "Starting fold: 2\n",
      "Creating the model...\n",
      "Model created.\n",
      "Training the model...\n",
      "Model trained.\n",
      "Validating the model...\n",
      "Model validated.\n",
      "Fold 2 AUROC: 0.9333333333333333\n",
      "Model: SVM\n",
      "Starting fold: 3\n",
      "Creating the model...\n",
      "Model created.\n",
      "Training the model...\n",
      "Model trained.\n",
      "Validating the model...\n"
     ]
    },
    {
     "name": "stderr",
     "output_type": "stream",
     "text": [
      "5it [00:00, 193.22it/s]\n",
      "[I 2025-10-04 17:29:21,543] Trial 20 finished with value: 0.2833333333333333 and parameters: {'C': 1000, 'probability': True, 'gamma': 1e-06, 'kernel': 'rbf'}. Best is trial 5 with value: 0.8933333333333333.\n"
     ]
    },
    {
     "name": "stdout",
     "output_type": "stream",
     "text": [
      "Model validated.\n",
      "Fold 3 AUROC: 0.0\n",
      "Model: SVM\n",
      "Starting fold: 4\n",
      "Creating the model...\n",
      "Model created.\n",
      "Training the model...\n",
      "Model trained.\n",
      "Validating the model...\n",
      "Model validated.\n",
      "Fold 4 AUROC: 0.0\n",
      "\n",
      "Trial 21:\n"
     ]
    },
    {
     "name": "stderr",
     "output_type": "stream",
     "text": [
      "0it [00:00, ?it/s]"
     ]
    },
    {
     "name": "stdout",
     "output_type": "stream",
     "text": [
      "Model: SVM\n",
      "Starting fold: 0\n",
      "Creating the model...\n",
      "Model created.\n",
      "Training the model...\n",
      "Model trained.\n",
      "Validating the model...\n",
      "Model validated.\n",
      "Fold 0 AUROC: 0.9666666666666667\n",
      "Model: SVM\n",
      "Starting fold: 1\n",
      "Creating the model...\n",
      "Model created.\n",
      "Training the model...\n",
      "Model trained.\n",
      "Validating the model...\n",
      "Model validated.\n",
      "Fold 1 AUROC: 0.5666666666666667\n",
      "Model: SVM\n",
      "Starting fold: 2\n",
      "Creating the model...\n",
      "Model created.\n",
      "Training the model...\n",
      "Model trained.\n",
      "Validating the model...\n",
      "Model validated.\n",
      "Fold 2 AUROC: 0.9333333333333333\n",
      "Model: SVM\n",
      "Starting fold: 3\n",
      "Creating the model...\n",
      "Model created.\n",
      "Training the model...\n",
      "Model trained.\n",
      "Validating the model...\n",
      "Model validated.\n",
      "Fold 3 AUROC: 1.0\n",
      "Model: SVM\n",
      "Starting fold: 4\n",
      "Creating the model...\n",
      "Model created.\n",
      "Training the model...\n"
     ]
    },
    {
     "name": "stderr",
     "output_type": "stream",
     "text": [
      "5it [00:00, 209.89it/s]\n",
      "[I 2025-10-04 17:29:21,645] Trial 21 finished with value: 0.8933333333333333 and parameters: {'C': 1000, 'probability': True, 'gamma': 1e-05, 'kernel': 'rbf'}. Best is trial 5 with value: 0.8933333333333333.\n"
     ]
    },
    {
     "name": "stdout",
     "output_type": "stream",
     "text": [
      "Model trained.\n",
      "Validating the model...\n",
      "Model validated.\n",
      "Fold 4 AUROC: 1.0\n",
      "\n",
      "Trial 22:\n"
     ]
    },
    {
     "name": "stderr",
     "output_type": "stream",
     "text": [
      "0it [00:00, ?it/s]"
     ]
    },
    {
     "name": "stdout",
     "output_type": "stream",
     "text": [
      "Model: SVM\n",
      "Starting fold: 0\n",
      "Creating the model...\n",
      "Model created.\n",
      "Training the model...\n",
      "Model trained.\n",
      "Validating the model...\n",
      "Model validated.\n",
      "Fold 0 AUROC: 0.9666666666666667\n",
      "Model: SVM\n",
      "Starting fold: 1\n",
      "Creating the model...\n",
      "Model created.\n",
      "Training the model...\n",
      "Model trained.\n",
      "Validating the model...\n",
      "Model validated.\n",
      "Fold 1 AUROC: 0.5666666666666667\n",
      "Model: SVM\n",
      "Starting fold: 2\n",
      "Creating the model...\n",
      "Model created.\n",
      "Training the model...\n",
      "Model trained.\n",
      "Validating the model...\n",
      "Model validated.\n",
      "Fold 2 AUROC: 0.9333333333333333\n",
      "Model: SVM\n",
      "Starting fold: 3\n",
      "Creating the model...\n",
      "Model created.\n",
      "Training the model...\n"
     ]
    },
    {
     "name": "stderr",
     "output_type": "stream",
     "text": [
      "5it [00:00, 205.96it/s]\n",
      "[I 2025-10-04 17:29:21,748] Trial 22 finished with value: 0.8933333333333333 and parameters: {'C': 10, 'probability': True, 'gamma': 0.001, 'kernel': 'rbf'}. Best is trial 5 with value: 0.8933333333333333.\n"
     ]
    },
    {
     "name": "stdout",
     "output_type": "stream",
     "text": [
      "Model trained.\n",
      "Validating the model...\n",
      "Model validated.\n",
      "Fold 3 AUROC: 1.0\n",
      "Model: SVM\n",
      "Starting fold: 4\n",
      "Creating the model...\n",
      "Model created.\n",
      "Training the model...\n",
      "Model trained.\n",
      "Validating the model...\n",
      "Model validated.\n",
      "Fold 4 AUROC: 1.0\n",
      "\n",
      "Trial 23:\n"
     ]
    },
    {
     "name": "stderr",
     "output_type": "stream",
     "text": [
      "0it [00:00, ?it/s]"
     ]
    },
    {
     "name": "stdout",
     "output_type": "stream",
     "text": [
      "Model: SVM\n",
      "Starting fold: 0\n",
      "Creating the model...\n",
      "Model created.\n",
      "Training the model...\n",
      "Model trained.\n",
      "Validating the model...\n",
      "Model validated.\n",
      "Fold 0 AUROC: 0.033333333333333326\n",
      "Model: SVM\n",
      "Starting fold: 1\n",
      "Creating the model...\n",
      "Model created.\n",
      "Training the model...\n",
      "Model trained.\n",
      "Validating the model...\n",
      "Model validated.\n",
      "Fold 1 AUROC: 0.43333333333333335\n",
      "Model: SVM\n",
      "Starting fold: 2\n",
      "Creating the model...\n",
      "Model created.\n",
      "Training the model...\n",
      "Model trained.\n",
      "Validating the model...\n",
      "Model validated.\n",
      "Fold 2 AUROC: 0.06666666666666665\n",
      "Model: SVM\n",
      "Starting fold: 3\n",
      "Creating the model...\n",
      "Model created.\n",
      "Training the model...\n",
      "Model trained.\n",
      "Validating the model...\n",
      "Model validated.\n",
      "Fold 3 AUROC: 0.5\n",
      "Model: SVM\n",
      "Starting fold: 4\n",
      "Creating the model...\n",
      "Model created.\n",
      "Training the model...\n"
     ]
    },
    {
     "name": "stderr",
     "output_type": "stream",
     "text": [
      "5it [00:00, 206.15it/s]\n",
      "[I 2025-10-04 17:29:21,849] Trial 23 finished with value: 0.20666666666666664 and parameters: {'C': 10, 'probability': True, 'gamma': 1e-05, 'kernel': 'rbf'}. Best is trial 5 with value: 0.8933333333333333.\n"
     ]
    },
    {
     "name": "stdout",
     "output_type": "stream",
     "text": [
      "Model trained.\n",
      "Validating the model...\n",
      "Model validated.\n",
      "Fold 4 AUROC: 0.0\n",
      "\n",
      "Trial 24:\n"
     ]
    },
    {
     "name": "stderr",
     "output_type": "stream",
     "text": [
      "0it [00:00, ?it/s]"
     ]
    },
    {
     "name": "stdout",
     "output_type": "stream",
     "text": [
      "Model: SVM\n",
      "Starting fold: 0\n",
      "Creating the model...\n",
      "Model created.\n",
      "Training the model...\n",
      "Model trained.\n",
      "Validating the model...\n",
      "Model validated.\n",
      "Fold 0 AUROC: 0.8\n",
      "Model: SVM\n",
      "Starting fold: 1\n",
      "Creating the model...\n",
      "Model created.\n",
      "Training the model...\n",
      "Model trained.\n",
      "Validating the model...\n",
      "Model validated.\n",
      "Fold 1 AUROC: 0.5333333333333333\n",
      "Model: SVM\n",
      "Starting fold: 2\n",
      "Creating the model...\n",
      "Model created.\n",
      "Training the model...\n",
      "Model trained.\n",
      "Validating the model...\n",
      "Model validated.\n",
      "Fold 2 AUROC: 0.7666666666666667\n",
      "Model: SVM\n",
      "Starting fold: 3\n",
      "Creating the model...\n",
      "Model created.\n",
      "Training the model...\n",
      "Model trained.\n",
      "Validating the model...\n",
      "Model validated.\n",
      "Fold 3 AUROC: 0.9333333333333333\n",
      "Model: SVM\n",
      "Starting fold: 4\n",
      "Creating the model...\n",
      "Model created.\n",
      "Training the model...\n"
     ]
    },
    {
     "name": "stderr",
     "output_type": "stream",
     "text": [
      "5it [00:00, 214.14it/s]\n",
      "[I 2025-10-04 17:29:21,947] Trial 24 finished with value: 0.8066666666666666 and parameters: {'C': 10000, 'probability': True, 'gamma': 1e-05, 'kernel': 'rbf'}. Best is trial 5 with value: 0.8933333333333333.\n"
     ]
    },
    {
     "name": "stdout",
     "output_type": "stream",
     "text": [
      "Model trained.\n",
      "Validating the model...\n",
      "Model validated.\n",
      "Fold 4 AUROC: 1.0\n",
      "\n",
      "Trial 25:\n"
     ]
    },
    {
     "name": "stderr",
     "output_type": "stream",
     "text": [
      "0it [00:00, ?it/s]"
     ]
    },
    {
     "name": "stdout",
     "output_type": "stream",
     "text": [
      "Model: SVM\n",
      "Starting fold: 0\n",
      "Creating the model...\n",
      "Model created.\n",
      "Training the model...\n",
      "Model trained.\n",
      "Validating the model...\n",
      "Model validated.\n",
      "Fold 0 AUROC: 0.5\n",
      "Model: SVM\n",
      "Starting fold: 1\n",
      "Creating the model...\n",
      "Model created.\n",
      "Training the model...\n",
      "Model trained.\n",
      "Validating the model...\n",
      "Model validated.\n",
      "Fold 1 AUROC: 0.55\n",
      "Model: SVM\n",
      "Starting fold: 2\n",
      "Creating the model...\n",
      "Model created.\n",
      "Training the model...\n",
      "Model trained.\n",
      "Validating the model...\n",
      "Model validated.\n",
      "Fold 2 AUROC: 0.5\n",
      "Model: SVM\n",
      "Starting fold: 3\n",
      "Creating the model...\n",
      "Model created.\n",
      "Training the model...\n",
      "Model trained.\n",
      "Validating the model...\n",
      "Model validated.\n",
      "Fold 3 AUROC: 1.0\n",
      "Model: SVM\n",
      "Starting fold: 4\n",
      "Creating the model...\n",
      "Model created.\n",
      "Training the model...\n",
      "Model trained.\n",
      "Validating the model...\n"
     ]
    },
    {
     "name": "stderr",
     "output_type": "stream",
     "text": [
      "5it [00:00, 190.52it/s]\n",
      "[I 2025-10-04 17:29:22,049] Trial 25 finished with value: 0.61 and parameters: {'C': 1, 'probability': True, 'gamma': 0.001, 'kernel': 'rbf'}. Best is trial 5 with value: 0.8933333333333333.\n"
     ]
    },
    {
     "name": "stdout",
     "output_type": "stream",
     "text": [
      "Model validated.\n",
      "Fold 4 AUROC: 0.5\n",
      "\n",
      "Trial 26:\n"
     ]
    },
    {
     "name": "stderr",
     "output_type": "stream",
     "text": [
      "0it [00:00, ?it/s]"
     ]
    },
    {
     "name": "stdout",
     "output_type": "stream",
     "text": [
      "Model: SVM\n",
      "Starting fold: 0\n",
      "Creating the model...\n",
      "Model created.\n",
      "Training the model...\n",
      "Model trained.\n",
      "Validating the model...\n",
      "Model validated.\n",
      "Fold 0 AUROC: 0.033333333333333326\n",
      "Model: SVM\n",
      "Starting fold: 1\n",
      "Creating the model...\n",
      "Model created.\n",
      "Training the model...\n",
      "Model trained.\n",
      "Validating the model...\n",
      "Model validated.\n",
      "Fold 1 AUROC: 0.5\n",
      "Model: SVM\n",
      "Starting fold: 2\n",
      "Creating the model...\n",
      "Model created.\n",
      "Training the model...\n",
      "Model trained.\n",
      "Validating the model...\n",
      "Model validated.\n",
      "Fold 2 AUROC: 0.5\n",
      "Model: SVM\n",
      "Starting fold: 3\n",
      "Creating the model...\n",
      "Model created.\n",
      "Training the model...\n",
      "Model trained.\n",
      "Validating the model...\n",
      "Model validated.\n",
      "Fold 3 AUROC: 0.0\n",
      "Model: SVM\n",
      "Starting fold: 4\n",
      "Creating the model...\n",
      "Model created.\n",
      "Training the model...\n"
     ]
    },
    {
     "name": "stderr",
     "output_type": "stream",
     "text": [
      "5it [00:00, 204.03it/s]\n",
      "[I 2025-10-04 17:29:22,150] Trial 26 finished with value: 0.20666666666666664 and parameters: {'C': 1, 'probability': True, 'gamma': 1e-06, 'kernel': 'rbf'}. Best is trial 5 with value: 0.8933333333333333.\n"
     ]
    },
    {
     "name": "stdout",
     "output_type": "stream",
     "text": [
      "Model trained.\n",
      "Validating the model...\n",
      "Model validated.\n",
      "Fold 4 AUROC: 0.0\n",
      "\n",
      "Trial 27:\n"
     ]
    },
    {
     "name": "stderr",
     "output_type": "stream",
     "text": [
      "0it [00:00, ?it/s]"
     ]
    },
    {
     "name": "stdout",
     "output_type": "stream",
     "text": [
      "Model: SVM\n",
      "Starting fold: 0\n",
      "Creating the model...\n",
      "Model created.\n",
      "Training the model...\n",
      "Model trained.\n",
      "Validating the model...\n",
      "Model validated.\n",
      "Fold 0 AUROC: 0.6\n",
      "Model: SVM\n",
      "Starting fold: 1\n",
      "Creating the model...\n",
      "Model created.\n",
      "Training the model...\n",
      "Model trained.\n",
      "Validating the model...\n",
      "Model validated.\n",
      "Fold 1 AUROC: 0.5333333333333333\n",
      "Model: SVM\n",
      "Starting fold: 2\n",
      "Creating the model...\n",
      "Model created.\n",
      "Training the model...\n",
      "Model trained.\n",
      "Validating the model...\n",
      "Model validated.\n",
      "Fold 2 AUROC: 0.39999999999999997\n",
      "Model: SVM\n",
      "Starting fold: 3\n",
      "Creating the model...\n",
      "Model created.\n",
      "Training the model...\n",
      "Model trained.\n",
      "Validating the model...\n",
      "Model validated.\n",
      "Fold 3 AUROC: 0.7000000000000001\n",
      "Model: SVM\n",
      "Starting fold: 4\n",
      "Creating the model...\n",
      "Model created.\n",
      "Training the model...\n",
      "Model trained.\n",
      "Validating the model...\n",
      "Model validated.\n"
     ]
    },
    {
     "name": "stderr",
     "output_type": "stream",
     "text": [
      "5it [00:00, 210.19it/s]\n",
      "[I 2025-10-04 17:29:22,251] Trial 27 finished with value: 0.6466666666666667 and parameters: {'C': 1000, 'probability': True, 'gamma': 0.001, 'kernel': 'rbf'}. Best is trial 5 with value: 0.8933333333333333.\n"
     ]
    },
    {
     "name": "stdout",
     "output_type": "stream",
     "text": [
      "Fold 4 AUROC: 1.0\n",
      "\n",
      "Trial 28:\n"
     ]
    },
    {
     "name": "stderr",
     "output_type": "stream",
     "text": [
      "0it [00:00, ?it/s]"
     ]
    },
    {
     "name": "stdout",
     "output_type": "stream",
     "text": [
      "Model: SVM\n",
      "Starting fold: 0\n",
      "Creating the model...\n",
      "Model created.\n",
      "Training the model...\n",
      "Model trained.\n",
      "Validating the model...\n",
      "Model validated.\n",
      "Fold 0 AUROC: 0.8\n",
      "Model: SVM\n",
      "Starting fold: 1\n",
      "Creating the model...\n",
      "Model created.\n",
      "Training the model...\n",
      "Model trained.\n",
      "Validating the model...\n",
      "Model validated.\n",
      "Fold 1 AUROC: 0.5333333333333333\n",
      "Model: SVM\n",
      "Starting fold: 2\n",
      "Creating the model...\n",
      "Model created.\n",
      "Training the model...\n",
      "Model trained.\n",
      "Validating the model...\n",
      "Model validated.\n",
      "Fold 2 AUROC: 0.7666666666666667\n",
      "Model: SVM\n",
      "Starting fold: 3\n",
      "Creating the model...\n",
      "Model created.\n",
      "Training the model...\n",
      "Model trained.\n",
      "Validating the model...\n",
      "Model validated.\n",
      "Fold 3 AUROC: 0.9333333333333333\n",
      "Model: SVM\n",
      "Starting fold: 4\n",
      "Creating the model...\n",
      "Model created.\n",
      "Training the model...\n",
      "Model trained.\n",
      "Validating the model...\n",
      "Model validated.\n",
      "Fold 4 AUROC: 1.0\n"
     ]
    },
    {
     "name": "stderr",
     "output_type": "stream",
     "text": [
      "5it [00:00, 207.70it/s]\n",
      "[I 2025-10-04 17:29:22,350] Trial 28 finished with value: 0.8066666666666666 and parameters: {'C': 100, 'probability': True, 'gamma': 0.001, 'kernel': 'rbf'}. Best is trial 5 with value: 0.8933333333333333.\n"
     ]
    },
    {
     "name": "stdout",
     "output_type": "stream",
     "text": [
      "\n",
      "Trial 29:\n"
     ]
    },
    {
     "name": "stderr",
     "output_type": "stream",
     "text": [
      "0it [00:00, ?it/s]"
     ]
    },
    {
     "name": "stdout",
     "output_type": "stream",
     "text": [
      "Model: SVM\n",
      "Starting fold: 0\n",
      "Creating the model...\n",
      "Model created.\n",
      "Training the model...\n",
      "Model trained.\n",
      "Validating the model...\n",
      "Model validated.\n",
      "Fold 0 AUROC: 0.5\n",
      "Model: SVM\n",
      "Starting fold: 1\n",
      "Creating the model...\n",
      "Model created.\n",
      "Training the model...\n",
      "Model trained.\n",
      "Validating the model...\n",
      "Model validated.\n",
      "Fold 1 AUROC: 0.43333333333333335\n",
      "Model: SVM\n",
      "Starting fold: 2\n",
      "Creating the model...\n",
      "Model created.\n",
      "Training the model...\n",
      "Model trained.\n",
      "Validating the model...\n",
      "Model validated.\n",
      "Fold 2 AUROC: 0.5\n",
      "Model: SVM\n",
      "Starting fold: 3\n",
      "Creating the model...\n",
      "Model created.\n",
      "Training the model...\n",
      "Model trained.\n",
      "Validating the model...\n",
      "Model validated.\n",
      "Fold 3 AUROC: 0.0\n",
      "Model: SVM\n",
      "Starting fold: 4\n",
      "Creating the model...\n",
      "Model created.\n",
      "Training the model...\n",
      "Model trained.\n",
      "Validating the model...\n"
     ]
    },
    {
     "name": "stderr",
     "output_type": "stream",
     "text": [
      "5it [00:00, 197.24it/s]"
     ]
    },
    {
     "name": "stdout",
     "output_type": "stream",
     "text": [
      "Model validated.\n",
      "Fold 4 AUROC: 0.0\n"
     ]
    },
    {
     "name": "stderr",
     "output_type": "stream",
     "text": [
      "\n",
      "[I 2025-10-04 17:29:22,451] Trial 29 finished with value: 0.2866666666666667 and parameters: {'C': 100, 'probability': True, 'gamma': 1e-06, 'kernel': 'rbf'}. Best is trial 5 with value: 0.8933333333333333.\n"
     ]
    }
   ],
   "source": [
    "optuna_hpo = OptunaHPO(SVM)\n",
    "optuna_hpo.optimize(x_train, y_train, config, n_folds=5, test_size=0.2, early_stopping=10)"
   ]
  },
  {
   "cell_type": "code",
   "execution_count": 20,
   "id": "53c861e2",
   "metadata": {},
   "outputs": [
    {
     "name": "stdout",
     "output_type": "stream",
     "text": [
      "Best params: {'C': 10000, 'probability': True, 'gamma': 1e-06, 'kernel': 'rbf'}, \n",
      "Best AUROC: 0.8933333333333333\n"
     ]
    }
   ],
   "source": [
    "best_params = optuna_hpo.study.best_trial.params\n",
    "best_value = optuna_hpo.study.best_value\n",
    "print(f'Best params: {best_params}, \\nBest AUROC: {best_value}')"
   ]
  },
  {
   "cell_type": "code",
   "execution_count": 13,
   "id": "131a71c8",
   "metadata": {},
   "outputs": [],
   "source": [
    "write_config(os.path.join(ML_HP_DIR, f'GB_best_params.json'), best_params)"
   ]
  }
 ],
 "metadata": {
  "kernelspec": {
   "display_name": "datacat",
   "language": "python",
   "name": "python3"
  },
  "language_info": {
   "codemirror_mode": {
    "name": "ipython",
    "version": 3
   },
   "file_extension": ".py",
   "mimetype": "text/x-python",
   "name": "python",
   "nbconvert_exporter": "python",
   "pygments_lexer": "ipython3",
   "version": "3.8.20"
  }
 },
 "nbformat": 4,
 "nbformat_minor": 5
}
