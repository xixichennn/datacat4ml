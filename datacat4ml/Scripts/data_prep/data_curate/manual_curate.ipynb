{
 "cells": [
  {
   "cell_type": "code",
   "execution_count": 1,
   "id": "e629e06a",
   "metadata": {},
   "outputs": [],
   "source": [
    "import os\n",
    "import pandas as pd\n",
    "import numpy as np\n",
    "\n",
    "from datacat4ml.const import CURA_LHD_OR_DIR, CURA_MHD_OR_DIR, CURA_MHD_effect_OR_DIR, CURA_HHD_OR_DIR, CURA_DATA_DIR\n",
    "from datacat4ml.const import CAT_DATA_DIR\n",
    "from datacat4ml.Scripts.data_prep.data_curate.curate_utils.standardize_structures import remove_dupMol, log_standard_values\n",
    "from datacat4ml.Scripts.data_prep.data_curate.curate_utils.select_assays import select_assays\n",
    "\n",
    "import matplotlib.pyplot as plt\n",
    "import seaborn as sns"
   ]
  },
  {
   "cell_type": "code",
   "execution_count": 1,
   "id": "27becb2e",
   "metadata": {},
   "outputs": [
    {
     "ename": "NameError",
     "evalue": "name 'CURA_LHD_OR_DIR' is not defined",
     "output_type": "error",
     "traceback": [
      "\u001b[0;31m---------------------------------------------------------------------------\u001b[0m",
      "\u001b[0;31mNameError\u001b[0m                                 Traceback (most recent call last)",
      "Cell \u001b[0;32mIn[1], line 1\u001b[0m\n\u001b[0;32m----> 1\u001b[0m \u001b[38;5;28;01mdef\u001b[39;00m \u001b[38;5;21mread_hml_hd\u001b[39m(in_dir\u001b[38;5;241m=\u001b[39m\u001b[43mCURA_LHD_OR_DIR\u001b[49m, dir_base_name \u001b[38;5;241m=\u001b[39m\u001b[38;5;124m'\u001b[39m\u001b[38;5;124mrmvDupMol0\u001b[39m\u001b[38;5;124m'\u001b[39m, f_base_name\u001b[38;5;241m=\u001b[39m\u001b[38;5;124m'\u001b[39m\u001b[38;5;124mCHEMBL233_bind_RBA_Ki_CHEMBL3707592_lhd\u001b[39m\u001b[38;5;124m'\u001b[39m):\n\u001b[1;32m      2\u001b[0m     \u001b[38;5;28;01mfor\u001b[39;00m f \u001b[38;5;129;01min\u001b[39;00m os\u001b[38;5;241m.\u001b[39mlistdir(os\u001b[38;5;241m.\u001b[39mpath\u001b[38;5;241m.\u001b[39mjoin(in_dir, dir_base_name)):\n\u001b[1;32m      3\u001b[0m         \u001b[38;5;28;01mif\u001b[39;00m f\u001b[38;5;241m.\u001b[39mstartswith(f_base_name):\n",
      "\u001b[0;31mNameError\u001b[0m: name 'CURA_LHD_OR_DIR' is not defined"
     ]
    }
   ],
   "source": [
    "def read_hml_hd(in_dir=CURA_LHD_OR_DIR, dir_base_name ='rmvDupMol0', f_base_name='CHEMBL233_bind_RBA_Ki_CHEMBL3707592_lhd'):\n",
    "    for f in os.listdir(os.path.join(in_dir, dir_base_name)):\n",
    "        if f.startswith(f_base_name):\n",
    "            df = pd.read_csv(os.path.join(in_dir, dir_base_name, f))\n",
    "            return df\n",
    "\n",
    "#===================================================================\n",
    "# DupMols in a SINGLE dataset\n",
    "#===================================================================\n",
    "std_smiles_col='canonical_smiles_by_Std'\n",
    "pref_name_col='pref_name'\n",
    "cpd_chemblid_col='compound_chembl_id'\n",
    "\n",
    "pvalue_col1='standard_value'\n",
    "pvalue_col2='pStandard_value'\n",
    "\n",
    "cols_to_show = ['activity_id', 'assay_chembl_id', cpd_chemblid_col, std_smiles_col, pref_name_col, 'standard_type', 'standard_relation', pvalue_col1, pvalue_col2]\n",
    "\n",
    "def sorted_vc(df, col='canonical_smiles_by_Std'):\n",
    "    vc = df[col].value_counts()\n",
    "    # sort vc by the value counts in descending order\n",
    "    vc = vc.sort_values(ascending=False)\n",
    "    vc\n",
    "    return vc\n",
    "\n",
    "#===================================================================\n",
    "# Compare DupMols in rmvDupMol0 and rmvDupMol1 datasets\n",
    "#===================================================================\n",
    "def plot_diff_col_values(df, df_rmv1, col='pref_name', plot_diff=False):\n",
    "\n",
    "    vc = df[col].value_counts()\n",
    "    print(f'len(vc): {len(vc)}')\n",
    "    col_values = vc.index.tolist()\n",
    "    #print(f'col: {col_values}')\n",
    "\n",
    "    vc_rmv1 = df_rmv1[col].value_counts()\n",
    "    print(f'len(vc_rmv1): {len(vc_rmv1)}')\n",
    "    col_values_rmv1 = vc_rmv1.index.tolist()\n",
    "    #print(f'col_values_rmv1: {col_values_rmv1}')\n",
    "\n",
    "    # get the difference between col_values and col_values_rmv1\n",
    "    diff_col_values = list(set(col_values) - set(col_values_rmv1))\n",
    "    print(f'len(diff_col_values): {len(diff_col_values)}')\n",
    "    print(f'diff_col_values: {diff_col_values}')\n",
    "\n",
    "    # plot the distribution of the diff_col_values in df\n",
    "    if plot_diff:\n",
    "        for n in diff_col_values:\n",
    "            df[df[col]==n]['pStandard_value'].hist(bins=30)\n",
    "            plt.title(n)\n",
    "            plt.show()\n",
    "    \n",
    "    return diff_col_values"
   ]
  },
  {
   "cell_type": "markdown",
   "id": "88754f00",
   "metadata": {},
   "source": [
    "# CURA_LHD_OR"
   ]
  },
  {
   "cell_type": "code",
   "execution_count": null,
   "id": "4d95bbd3",
   "metadata": {},
   "outputs": [],
   "source": [
    "# rmvDupMol0\n",
    "lhd_or_files = [\n",
    "'CHEMBL2014_bind_RBA_IC50_CHEMBL867087_lhd_b50_b50_curated.csv',\n",
    "'CHEMBL2014_bind_RBA_Ki_CHEMBL1030622_lhd_b50_b50_curated.csv',\n",
    "'CHEMBL2014_bind_RBA_Ki_CHEMBL888952_lhd_b50_s50_curated.csv',\n",
    "'CHEMBL2014_bind_RBA_Ki_CHEMBL892111_lhd_b50_b50_curated.csv',\n",
    "'CHEMBL233_agon_G-cAMP_EC50_CHEMBL4356649_lhd_b50_b50_curated.csv',\n",
    "'CHEMBL233_agon_G-GTP_EC50_CHEMBL3887793_lhd_b50_b50_curated.csv',\n",
    "'CHEMBL233_agon_G-GTP_EC50_CHEMBL4201551_lhd_b50_s50_curated.csv',\n",
    "'CHEMBL233_antag_G-GTP_IC50_CHEMBL909298_lhd_s50_s50_curated.csv',\n",
    "'CHEMBL233_bind_RBA_Ki_CHEMBL1030625_lhd_b50_b50_curated.csv',\n",
    "'CHEMBL233_bind_RBA_Ki_CHEMBL3887789_lhd_b50_b50_curated.csv',\n",
    "'CHEMBL233_bind_RBA_Ki_CHEMBL4356647_lhd_b50_b50_curated.csv',\n",
    "'CHEMBL233_bind_RBA_Ki_CHEMBL892114_lhd_b50_b50_curated.csv',\n",
    "'CHEMBL233_bind_RBA_Ki_CHEMBL909851_lhd_b50_s50_curated.csv',\n",
    "'CHEMBL236_bind_RBA_Ki_CHEMBL1030623_lhd_b50_b50_curated.csv',\n",
    "'CHEMBL236_bind_RBA_Ki_CHEMBL3887791_lhd_b50_b50_curated.csv',\n",
    "'CHEMBL236_bind_RBA_Ki_CHEMBL892112_lhd_b50_b50_curated.csv',\n",
    "'CHEMBL237_agon_G-GTP_EC50_CHEMBL3887794_lhd_b50_b50_curated.csv',\n",
    "'CHEMBL237_agon_G-GTP_EC50_CHEMBL910350_lhd_s50_s50_curated.csv',\n",
    "'CHEMBL237_bind_RBA_Ki_CHEMBL1030624_lhd_b50_b50_curated.csv',\n",
    "'CHEMBL237_bind_RBA_Ki_CHEMBL3887790_lhd_b50_b50_curated.csv',\n",
    "'CHEMBL237_bind_RBA_Ki_CHEMBL5253113_lhd_s50_s50_curated.csv',\n",
    "'CHEMBL237_bind_RBA_Ki_CHEMBL892113_lhd_b50_b50_curated.csv',\n",
    "'CHEMBL237_bind_RBA_Ki_CHEMBL910349_lhd_b50_s50_curated.csv'\n",
    "]"
   ]
  },
  {
   "cell_type": "markdown",
   "id": "ae66bd86",
   "metadata": {},
   "source": [
    "## 1. 'CHEMBL233_bind_RBA_Ki_CHEMBL3707592_lhd_b50_s50_curated.csv'"
   ]
  },
  {
   "cell_type": "code",
   "execution_count": null,
   "id": "62b43543",
   "metadata": {},
   "outputs": [],
   "source": [
    "lhd_df1 = read_hml_hd(f_base_name='CHEMBL233_bind_RBA_Ki_CHEMBL3707592_lhd')\n",
    "print(f'lhd_df1.shape: {lhd_df1.shape}')\n",
    "\n",
    "vc = lhd_df1['compound_chembl_id'].value_counts()\n",
    "print(f'vc: {vc}')\n",
    "\n",
    "wrong_activity_ids_1 = [\n",
    "    #compound_chembl_id: CHEMBL3908275    3\n",
    "    16348719, 16260203,\n",
    "    #comppund_chembl_id: CHEMBL3948231    3\n",
    "    16280459, 16285964,\n",
    "    #comppund_chembl_id: CHEMBL3911529    3\n",
    "    16338796, 16345420,\n",
    "    #comppund_chembl_id: CHEMBL3893577    3\n",
    "    16329322, 16334546,\n",
    "    #comppund_chembl_id: CHEMBL3954498    3\n",
    "    16323198, 16325206,\n",
    "    #comppund_chembl_id: CHEMBL3948400    3\n",
    "    16353251, 16318808,\n",
    "    #comppund_chembl_id: CHEMBL3901699    3\n",
    "    16311427, 16320230,\n",
    "    #comppund_chembl_id: CHEMBL3664540    3\n",
    "    16320904, 16329066,\n",
    "    #comppund_chembl_id: CHEMBL3904663    3\n",
    "    16311300, 16296171,\n",
    "    #comppund_chembl_id: CHEMBL3916122    3\n",
    "    16343355, 16278872,\n",
    "    #comppund_chembl_id: CHEMBL4107573    3\n",
    "    17607502, 17607533,\n",
    "    #comppund_chembl_id: CHEMBL3923372    3\n",
    "    16330728, 16340093,\n",
    "    #comppund_chembl_id: CHEMBL3947184    3\n",
    "    16262862, 16294741,\n",
    "    #comppund_chembl_id: CHEMBL3907149    3\n",
    "    16265478, 16268318,\n",
    "    #comppund_chembl_id: CHEMBL3912511    3\n",
    "    16309495, 16266350,\n",
    "    #comppund_chembl_id: CHEMBL3955920    3\n",
    "    16329500, 16270670,\n",
    "    #comppund_chembl_id: CHEMBL3919397    3\n",
    "    16274120, 16305421,\n",
    "    #comppund_chembl_id: CHEMBL3915488    2\n",
    "    16301326, \n",
    "    #comppund_chembl_id: CHEMBL3951177    2\n",
    "    16272693,\n",
    "    #comppund_chembl_id: CHEMBL3946351    2\n",
    "    16305554, \n",
    "    #comppund_chembl_id: CHEMBL3900482    2\n",
    "    16303895,\n",
    "    #comppund_chembl_id: CHEMBL3664541    2\n",
    "    16346449, 16299045,\n",
    "    #comppund_chembl_id: CHEMBL3944046    2\n",
    "    16278180,\n",
    "    #comppund_chembl_id: CHEMBL3892737    2\n",
    "    16276817,\n",
    "    #comppund_chembl_id: CHEMBL3664525    2\n",
    "    16293587, \n",
    "    #comppund_chembl_id: CHEMBL3664526    2\n",
    "    16260396,\n",
    "    #comppund_chembl_id: CHEMBL3982823    2\n",
    "    16289441,\n",
    "    #comppund_chembl_id: CHEMBL3959791    2\n",
    "    16356146,\n",
    "    #comppund_chembl_id: CHEMBL3952829    2\n",
    "    16279037, \n",
    "    #comppund_chembl_id: CHEMBL3911769    2             \n",
    "    16289762\n",
    "]\n",
    "\n",
    "#lhd_df1_drop = lhd_df1[~lhd_df1['activity_id'].isin(wrong_activity_ids_1)].reset_index(drop=True)\n",
    "#print(lhd_df1_drop.shape)\n",
    "#\n",
    "#lhd_df1_final = remove_dup_mols(lhd_df1_drop)\n",
    "#print(lhd_df1_final.shape)"
   ]
  },
  {
   "cell_type": "code",
   "execution_count": null,
   "id": "83d45d6f",
   "metadata": {},
   "outputs": [],
   "source": [
    "curated_df = lhd_df1[~lhd_df1['activity_id'].isin(wrong_activity_ids_1)]\n",
    "print(f'curated_df.shape: {curated_df.shape}')"
   ]
  },
  {
   "cell_type": "markdown",
   "id": "415ae2e9",
   "metadata": {},
   "source": [
    "## 2. 'CHEMBL237_bind_RBA_Ki_CHEMBL4050969_lhd_b50_s50_curated.csv'"
   ]
  },
  {
   "cell_type": "code",
   "execution_count": null,
   "id": "c680e2e1",
   "metadata": {},
   "outputs": [],
   "source": [
    "# After checking on the CHEMBL website, it was found that the duplicates are the same compounds with almost the same activity values. So it is save to merge the duplicates into one by taking the mean of the activity values\n",
    "lhd_df2 = read_hml_hd(f_base_name='CHEMBL237_bind_RBA_Ki_CHEMBL4050969_lhd')\n",
    "print(f'lhd_df2.shape: {lhd_df2.shape}')\n",
    "\n",
    "vc = lhd_df2['compound_chembl_id'].value_counts()\n",
    "print(f'len(vc): {len(vc)}\\n'\n",
    "    f'vc: {vc}')"
   ]
  },
  {
   "cell_type": "code",
   "execution_count": null,
   "id": "00855fdb",
   "metadata": {},
   "outputs": [],
   "source": [
    "lhd_df2_final = remove_dup_mols(lhd_df2)\n",
    "print(lhd_df2_final.shape)"
   ]
  },
  {
   "cell_type": "markdown",
   "id": "a71eac01",
   "metadata": {},
   "source": [
    "## 3. 'CHEMBL233_bind_RBA_Ki_CHEMBL3888831_lhd_b50_s50_curated.csv'"
   ]
  },
  {
   "cell_type": "code",
   "execution_count": null,
   "id": "8b3bc56e",
   "metadata": {},
   "outputs": [],
   "source": [
    "# After checking the original document, it was found that the duplicates were a pair of polar and non-polar diastereomers.\n",
    "lhd_df3 = read_hml_hd(f_base_name='CHEMBL233_bind_RBA_Ki_CHEMBL3888831_lhd')\n",
    "print(f'lhd_df3.shape: {lhd_df3.shape}')\n",
    "\n",
    "vc = lhd_df3['compound_chembl_id'].value_counts()\n",
    "print(f'len(vc): {len(vc)}\\n')\n",
    "vc[:29]"
   ]
  },
  {
   "cell_type": "code",
   "execution_count": null,
   "id": "a74717a9",
   "metadata": {},
   "outputs": [],
   "source": [
    "wrong_activity_ids_3 = [\n",
    "    #CHEMBL3920864    2\n",
    "    \n",
    "    #CHEMBL3982887    2\n",
    "\n",
    "    #CHEMBL3899387    2\n",
    "\n",
    "    #CHEMBL3911970    2\n",
    "\n",
    "    #CHEMBL3898034    2\n",
    "\n",
    "    #CHEMBL3934183    2\n",
    "\n",
    "    #CHEMBL3985824    2\n",
    "\n",
    "    #CHEMBL3977691    2\n",
    "\n",
    "    #CHEMBL3909426    2\n",
    "\n",
    "    #CHEMBL3965425    2\n",
    "\n",
    "    #CHEMBL3928651    2\n",
    "    #CHEMBL3967435    2\n",
    "    #CHEMBL3972755    2\n",
    "    #CHEMBL3907138    2\n",
    "    #CHEMBL3919659    2\n",
    "    #CHEMBL3921976    2\n",
    "    #CHEMBL3929120    2\n",
    "    #CHEMBL3982651    2\n",
    "    #CHEMBL3914240    2\n",
    "    #CHEMBL3889835    2\n",
    "    #CHEMBL3982674    2\n",
    "    #CHEMBL3951213    2\n",
    "    #CHEMBL3928190    2\n",
    "    #CHEMBL3969636    2\n",
    "    #CHEMBL3977883    2\n",
    "    #CHEMBL3937167    2\n",
    "    #CHEMBL3906866    2\n",
    "    #CHEMBL3937815    2 \n",
    "]"
   ]
  },
  {
   "cell_type": "markdown",
   "id": "0982133e",
   "metadata": {},
   "source": [
    "## 4.'CHEMBL2014_bind_RBA_Ki_CHEMBL3888830_lhd_b50_s50_curated.csv'"
   ]
  },
  {
   "cell_type": "code",
   "execution_count": null,
   "id": "7934eae8",
   "metadata": {},
   "outputs": [],
   "source": [
    "# After checking the original document, it was found that the duplicates were a pair of polar and non-polar diastereomers.\n",
    "lhd_df4 = read_hml_hd(f_base_name='CHEMBL2014_bind_RBA_Ki_CHEMBL3888830_lhd', dir_base_name='rmvDupMol0')\n",
    "print(f'lhd_df4.shape: {lhd_df4.shape}')\n",
    "\n",
    "vc = lhd_df4['compound_chembl_id'].value_counts()\n",
    "print(f'len(vc): {len(vc)}\\n')\n",
    "vc[:25]"
   ]
  },
  {
   "cell_type": "code",
   "execution_count": null,
   "id": "ff0c8131",
   "metadata": {},
   "outputs": [],
   "source": [
    "wrong_activity_ids_4 = [\n",
    "    #CHEMBL3943372    2\n",
    "\n",
    "    #CHEMBL3985824    2\n",
    "    \n",
    "    #CHEMBL3928651    2\n",
    "    #CHEMBL3899387    2\n",
    "    #CHEMBL3911970    2\n",
    "    #CHEMBL3898034    2\n",
    "    #CHEMBL3934183    2\n",
    "    #CHEMBL3967435    2\n",
    "    #CHEMBL3977691    2\n",
    "    #CHEMBL3889835    2\n",
    "    #CHEMBL3909426    2\n",
    "    #CHEMBL3965425    2\n",
    "    #CHEMBL3907138    2\n",
    "    #CHEMBL3919659    2\n",
    "    #CHEMBL3921976    2\n",
    "    #CHEMBL3929120    2\n",
    "    #CHEMBL3914240    2\n",
    "    #CHEMBL3982651    2\n",
    "    #CHEMBL3982674    2\n",
    "    #CHEMBL3977883    2\n",
    "    #CHEMBL3969636    2\n",
    "    #CHEMBL3928190    2\n",
    "    #CHEMBL3937167    2\n",
    "    #CHEMBL3951213    2\n",
    "]"
   ]
  },
  {
   "cell_type": "markdown",
   "id": "be4fe23d",
   "metadata": {},
   "source": [
    "## 5. 'CHEMBL236_bind_RBA_Ki_CHEMBL758175_lhd_b50_s50_curated.csv'"
   ]
  },
  {
   "cell_type": "code",
   "execution_count": null,
   "id": "e4d9b7e8",
   "metadata": {},
   "outputs": [],
   "source": [
    "# after checking the original document, it was found the duplicates were same compound with crystal waters, or racemic isomers.\n",
    "lhd_df5 = read_hml_hd(f_base_name='CHEMBL236_bind_RBA_Ki_CHEMBL758175_lhd', dir_base_name='rmvDupMol0')\n",
    "print(f'lhd_df5.shape: {lhd_df5.shape}')\n",
    "\n",
    "vc = lhd_df5['compound_chembl_id'].value_counts()\n",
    "print(f'len(vc): {len(vc)}\\n')\n",
    "vc[:7]"
   ]
  },
  {
   "cell_type": "code",
   "execution_count": null,
   "id": "269b276e",
   "metadata": {},
   "outputs": [],
   "source": [
    "wrong_activity_ids_5 = [\n",
    "    # CHEMBL169346     3\n",
    "    # CHEMBL2367916    3\n",
    "    # CHEMBL299114     3\n",
    "    # CHEMBL279968     3\n",
    "    # CHEMBL56585      2\n",
    "    # CHEMBL301835     2\n",
    "]"
   ]
  },
  {
   "cell_type": "markdown",
   "id": "4f9fdfa8",
   "metadata": {},
   "source": [
    "## 6. 'CHEMBL237_bind_RBA_Ki_CHEMBL3887032_lhd_b50_b50_curated.csv'"
   ]
  },
  {
   "cell_type": "code",
   "execution_count": null,
   "id": "0c67bd97",
   "metadata": {},
   "outputs": [],
   "source": [
    "# can't access the original document, but the standard_value for most duplicates are exactly the same, some differ within 1 magnitude.\n",
    "lhd_df6 = read_hml_hd(f_base_name='CHEMBL237_bind_RBA_Ki_CHEMBL3887032_lhd', dir_base_name='rmvDupMol0')\n",
    "print(f'lhd_df6.shape: {lhd_df6.shape}')\n",
    "\n",
    "vc = lhd_df6['compound_chembl_id'].value_counts()\n",
    "print(f'len(vc): {len(vc)}\\n')\n",
    "vc[:10]"
   ]
  },
  {
   "cell_type": "code",
   "execution_count": null,
   "id": "4f9770bd",
   "metadata": {},
   "outputs": [],
   "source": [
    "wrong_activity_ids_6 = [\n",
    "    #CHEMBL3695218    2\n",
    "\n",
    "    #CHEMBL3647958    2\n",
    "    \n",
    "    #CHEMBL3695217    2\n",
    "\n",
    "    #CHEMBL3647959    2\n",
    "\n",
    "    #CHEMBL3698892    2\n",
    "\n",
    "    #CHEMBL3698893    2\n",
    "\n",
    "    #CHEMBL3647963    2\n",
    "    \n",
    "    #CHEMBL3695245    2\n",
    "]"
   ]
  },
  {
   "cell_type": "markdown",
   "id": "598d2970",
   "metadata": {},
   "source": [
    "## 7. 'CHEMBL233_bind_RBA_Ki_CHEMBL3887030_lhd_b50_b50_curated.csv'"
   ]
  },
  {
   "cell_type": "code",
   "execution_count": null,
   "id": "eb7a4371",
   "metadata": {},
   "outputs": [],
   "source": [
    "# can't access the original document, but the standard_value for most duplicates are exactly the same, some differ within 1 magnitude.\n",
    "lhd_df7 = read_hml_hd(f_base_name='CHEMBL233_bind_RBA_Ki_CHEMBL3887030_lhd', dir_base_name='rmvDupMol0')\n",
    "print(f'lhd_df7.shape: {lhd_df7.shape}')\n",
    "\n",
    "vc = lhd_df7['compound_chembl_id'].value_counts()\n",
    "print(f'len(vc): {len(vc)}\\n')\n",
    "vc[:10]"
   ]
  },
  {
   "cell_type": "code",
   "execution_count": null,
   "id": "945ddf5f",
   "metadata": {},
   "outputs": [],
   "source": [
    "wrong_activity_ids_7 = [\n",
    "    #CHEMBL3695217    2\n",
    "\n",
    "    #CHEMBL3695218    2\n",
    "\n",
    "    #CHEMBL3698892    2\n",
    "\n",
    "    #CHEMBL3698893    2\n",
    "\n",
    "    #CHEMBL3647959    2\n",
    "\n",
    "    #CHEMBL3647958    2\n",
    "\n",
    "    #CHEMBL3695245    2\n",
    "    \n",
    "    #CHEMBL3647963    2\n",
    "]"
   ]
  },
  {
   "cell_type": "markdown",
   "id": "75828107",
   "metadata": {},
   "source": [
    "## 8. 'CHEMBL236_bind_RBA_Ki_CHEMBL3887031_lhd_b50_b50_curated.csv'"
   ]
  },
  {
   "cell_type": "code",
   "execution_count": null,
   "id": "749f43b7",
   "metadata": {},
   "outputs": [],
   "source": [
    "# can't access the original document, but the standard_value for most duplicates are exactly the same, some differ within 1 magnitude, some are both inactive. So it is save to merge the duplicates into one.\n",
    "lhd_df8 = read_hml_hd(f_base_name='CHEMBL236_bind_RBA_Ki_CHEMBL3887031_lhd', dir_base_name='rmvDupMol0')\n",
    "print(f'lhd_df8.shape: {lhd_df8.shape}')\n",
    "\n",
    "vc = lhd_df8['compound_chembl_id'].value_counts()\n",
    "print(f'len(vc): {len(vc)}\\n')\n",
    "vc[:10]"
   ]
  },
  {
   "cell_type": "code",
   "execution_count": null,
   "id": "a5d17d8c",
   "metadata": {},
   "outputs": [],
   "source": [
    "wrong_activity_ids_8 = [\n",
    "    #CHEMBL3695217    2\n",
    "\n",
    "    #CHEMBL3695218    2\n",
    "    \n",
    "    #CHEMBL3698892    2\n",
    "\n",
    "    #CHEMBL3647959    2\n",
    "\n",
    "    #CHEMBL3698893    2\n",
    "\n",
    "    #CHEMBL3647958    2\n",
    "\n",
    "    #CHEMBL3647963    2\n",
    "    \n",
    "    #CHEMBL3695245    2\n",
    "]"
   ]
  },
  {
   "cell_type": "markdown",
   "id": "67b4f2bb",
   "metadata": {},
   "source": [
    "## 9. 'CHEMBL233_agon_G-GTP_EC50_CHEMBL3888720_lhd_b50_b50_curated.csv'"
   ]
  },
  {
   "cell_type": "code",
   "execution_count": null,
   "id": "c4f0c2c3",
   "metadata": {},
   "outputs": [],
   "source": [
    "# After checking the original document, it was found that the duplicates are compounds were recorded twice with different activity values. But the activity values are very close to each other.\n",
    "# So it is save to merge the duplicates into one by taking the mean of the activity values\n",
    "lhd_df9 = read_hml_hd(f_base_name='CHEMBL233_agon_G-GTP_EC50_CHEMBL3888720_lhd', dir_base_name='rmvDupMol0')\n",
    "print(f'lhd_df9.shape: {lhd_df9.shape}')\n",
    "\n",
    "vc = lhd_df9['compound_chembl_id'].value_counts()\n",
    "print(f'len(vc): {len(vc)}\\n')\n",
    "vc[:10]"
   ]
  },
  {
   "cell_type": "code",
   "execution_count": null,
   "id": "e01133cf",
   "metadata": {},
   "outputs": [],
   "source": [
    "wrong_activity_ids_9 = [\n",
    "    #CHEMBL3976681    2\n",
    "    #CHEMBL4111936    2\n",
    "    #CHEMBL4108710    2\n",
    "    #CHEMBL3971169    2\n",
    "    #CHEMBL4106563    2\n",
    "    #CHEMBL3948713    2\n",
    "]"
   ]
  },
  {
   "cell_type": "markdown",
   "id": "43bdcb26",
   "metadata": {},
   "source": [
    "## 10. 'CHEMBL237_agon_G-GTP_EC50_CHEMBL3888721_lhd_b50_s50_curated.csv'"
   ]
  },
  {
   "cell_type": "code",
   "execution_count": null,
   "id": "60a3e5de",
   "metadata": {},
   "outputs": [],
   "source": [
    "# After checking the original document, it was found that the duplicates are compounds were recorded twice with different activity values. But the activity values are very close to each other.\n",
    "# So it is save to merge the duplicates into one by taking the mean of the activity values\n",
    "lhd_df10 = read_hml_hd(f_base_name='CHEMBL237_agon_G-GTP_EC50_CHEMBL3888721_lhd', dir_base_name='rmvDupMol0')\n",
    "print(f'lhd_df10.shape: {lhd_df10.shape}')\n",
    "\n",
    "vc = lhd_df10['compound_chembl_id'].value_counts()\n",
    "print(f'len(vc): {len(vc)}\\n')\n",
    "vc[:10]"
   ]
  },
  {
   "cell_type": "code",
   "execution_count": null,
   "id": "365d6274",
   "metadata": {},
   "outputs": [],
   "source": [
    "wrong_activity_ids_10 = [\n",
    "    #CHEMBL4108710    2\n",
    "    #CHEMBL3948713    2\n",
    "    #CHEMBL4106563    2\n",
    "    #CHEMBL3971169    2\n",
    "    #CHEMBL4111936    2\n",
    "    #CHEMBL3976681    2\n",
    "]"
   ]
  },
  {
   "cell_type": "markdown",
   "id": "12580de5",
   "metadata": {},
   "source": [
    "## 11. 'CHEMBL233_bind_RBA_Ki_CHEMBL3880325_lhd_b50_b50_curated.csv'"
   ]
  },
  {
   "cell_type": "code",
   "execution_count": null,
   "id": "af0d2434",
   "metadata": {},
   "outputs": [],
   "source": [
    "#The duplicated SMILES correspond same primary structure with very close activity values. So it is save to merge the duplicates into one by taking the mean of the activity values\n",
    "lhd_df11 = read_hml_hd(f_base_name='CHEMBL233_bind_RBA_Ki_CHEMBL3880325_lhd', dir_base_name='rmvDupMol0')\n",
    "print(f'lhd_df11.shape: {lhd_df11.shape}')\n",
    "\n",
    "vc = lhd_df11['canonical_smiles_by_Std'].value_counts()\n",
    "print(f'len(vc): {len(vc)}\\n')\n",
    "vc[:10]"
   ]
  },
  {
   "cell_type": "markdown",
   "id": "9687edb9",
   "metadata": {},
   "source": [
    "## 12. 'CHEMBL236_bind_RBA_Ki_CHEMBL3880326_lhd_b50_b50_curated.csv'"
   ]
  },
  {
   "cell_type": "code",
   "execution_count": null,
   "id": "54e6384a",
   "metadata": {},
   "outputs": [],
   "source": [
    "# The duplicated SMILES correspond same primary structure with very close activity values. So it is save to merge the duplicates into one by taking the mean of the activity values\n",
    "lhd_df12 = read_hml_hd(f_base_name='CHEMBL236_bind_RBA_Ki_CHEMBL3880326_lhd', dir_base_name='rmvDupMol0')\n",
    "print(f'lhd_df12.shape: {lhd_df12.shape}')\n",
    "\n",
    "#vc = lhd_df12['compound_chembl_id'].value_counts()\n",
    "vc = lhd_df12['canonical_smiles_by_Std'].value_counts()\n",
    "print(f'len(vc): {len(vc)}\\n')\n",
    "vc[:10]"
   ]
  },
  {
   "cell_type": "markdown",
   "id": "e59c139f",
   "metadata": {},
   "source": [
    "# CURA_MHD_OR"
   ]
  },
  {
   "cell_type": "code",
   "execution_count": 3,
   "id": "f135db7c",
   "metadata": {},
   "outputs": [],
   "source": [
    "# rmvDupMol0\n",
    "mhd_or_files = [\n",
    "\n",
    "'CHEMBL233_bind_RBA_IC50_mhd_b50_b50_curated.csv',\n",
    "'CHEMBL237_bind_RBA_Ki_mhd_b50_b50_curated.csv',\n",
    "'CHEMBL237_bind_RBA_IC50_mhd_b50_b50_curated.csv',\n",
    "'CHEMBL236_bind_RBA_Ki_mhd_b50_b50_curated.csv',\n",
    "'CHEMBL236_bind_RBA_IC50_mhd_b50_b50_curated.csv',\n",
    "'CHEMBL2014_bind_RBA_Ki_mhd_b50_b50_curated.csv',\n",
    "'CHEMBL2014_bind_RBA_IC50_mhd_b50_b50_curated.csv',\n",
    "'CHEMBL233_agon_G-GTP_EC50_mhd_b50_b50_curated.csv',\n",
    "'CHEMBL237_agon_G-GTP_EC50_mhd_b50_b50_curated.csv',\n",
    "'CHEMBL236_agon_G-GTP_EC50_mhd_b50_b50_curated.csv',\n",
    "'CHEMBL2014_agon_G-GTP_EC50_mhd_b50_b50_curated.csv',\n",
    "'CHEMBL233_agon_G-Ca_EC50_mhd_b50_b50_curated.csv',\n",
    "'CHEMBL237_agon_G-Ca_EC50_mhd_b50_b50_curated.csv',\n",
    "'CHEMBL236_agon_G-Ca_EC50_mhd_s50_s50_curated.csv',\n",
    "'CHEMBL2014_agon_G-Ca_EC50_mhd_s50_s50_curated.csv',\n",
    "'CHEMBL233_agon_G-cAMP_IC50_mhd_b50_s50_curated.csv',\n",
    "'CHEMBL233_agon_G-cAMP_EC50_mhd_b50_b50_curated.csv',\n",
    "'CHEMBL237_agon_G-cAMP_IC50_mhd_s50_s50_curated.csv',\n",
    "'CHEMBL237_agon_G-cAMP_EC50_mhd_b50_b50_curated.csv',\n",
    "'CHEMBL236_agon_G-cAMP_IC50_mhd_s50_s50_curated.csv',\n",
    "'CHEMBL236_agon_G-cAMP_EC50_mhd_b50_b50_curated.csv',\n",
    "'CHEMBL2014_agon_G-cAMP_IC50_mhd_b50_b50_curated.csv',\n",
    "'CHEMBL2014_agon_G-cAMP_EC50_mhd_s50_s50_curated.csv',\n",
    "'CHEMBL233_agon_B-arrest_EC50_mhd_b50_b50_curated.csv',\n",
    "'CHEMBL237_agon_B-arrest_EC50_mhd_s50_s50_curated.csv',\n",
    "'CHEMBL236_agon_B-arrest_EC50_mhd_s50_s50_curated.csv',\n",
    "'CHEMBL2014_agon_B-arrest_EC50_mhd_s50_s50_curated.csv',\n",
    "'CHEMBL233_antag_G-GTP_IC50_mhd_b50_b50_curated.csv',\n",
    "'CHEMBL233_antag_G-GTP_Ki_mhd_b50_b50_curated.csv',\n",
    "'CHEMBL237_antag_G-GTP_IC50_mhd_b50_b50_curated.csv',\n",
    "'CHEMBL237_antag_G-GTP_Ki_mhd_b50_b50_curated.csv',\n",
    "'CHEMBL236_antag_G-GTP_IC50_mhd_b50_b50_curated.csv',\n",
    "'CHEMBL236_antag_G-GTP_Ki_mhd_b50_b50_curated.csv',\n",
    "'CHEMBL2014_antag_G-GTP_IC50_mhd_b50_b50_curated.csv',\n",
    "'CHEMBL2014_antag_G-GTP_Ki_mhd_s50_s50_curated.csv',\n",
    "'CHEMBL233_antag_B-arrest_IC50_mhd_s50_s50_curated.csv',\n",
    "'CHEMBL237_antag_B-arrest_IC50_mhd_b50_s50_curated.csv',\n",
    "'CHEMBL236_antag_B-arrest_IC50_mhd_s50_s50_curated.csv',\n",
    "]"
   ]
  },
  {
   "cell_type": "markdown",
   "id": "faadd6d9",
   "metadata": {},
   "source": [
    "## 1. 'CHEMBL233_bind_RBA_Ki_mhd_b50_b50_curated.csv',"
   ]
  },
  {
   "cell_type": "code",
   "execution_count": 16,
   "id": "93ae14df",
   "metadata": {},
   "outputs": [
    {
     "name": "stdout",
     "output_type": "stream",
     "text": [
      "mhd_df1.shape: (5780, 50)\n",
      "mhd_df1_rmv1.shape: (4955, 50)\n",
      "len(vc): 5023\n",
      "len(vc_rmv1): 4955\n",
      "len(diff_col_values): 68\n",
      "diff_col_values: ['NC(=O)c1ccc2c(c1O)[C@]13CCN(CC4CCC4)[C@H](C2)[C@@H]1CC[C@@H](O)C3', 'C[C@H](C1CCC1)N1CC[C@]23CC(=O)CC[C@@]2(O)[C@H]1Cc1ccc(C(N)=O)c(O)c13', 'NC(=O)c1cccc(C2C[C@H]3CC[C@H](C2)N3Cc2c(F)cccc2F)c1', 'NC(=O)c1cccc([C@H]2C[C@H]3CC[C@@H](C2)N3CCN(CC2CCC(F)(F)CC2)C(=O)CO)c1', 'CC(C)NC(=O)N(CCN1[C@@H]2CC[C@H]1C[C@@H](c1cccc(C(N)=O)c1)C2)CC1CCCCC1', 'O=C1NCN(c2ccccc2)C12CCN(C1CCCc3ccccc31)CC2', 'C[C@@]12CCCCC[C@@H](Cc3ccc(C(N)=O)cc31)[C@@H]2N', 'CC1[C@H]2Cc3ccc(O)cc3[C@@]1(C)CCN2[C@@H](C)C1CC1', 'CS(=O)(=O)CC(=O)N(CCN1[C@@H]2CC[C@H]1C[C@@H](c1cccc(C(N)=O)c1)C2)CC1CCCCC1', 'CC(=O)N(C)C1(c2ccccc2)CCC(c2ccccc2)(N(C)C)CC1', 'NC(=O)c1ccc2c(c1O)[C@]13CCN(CC4CCC4)[C@H](C2)[C@]1(O)CC[C@H](O)C3', 'CN(C)S(=O)(=O)N(CCN1[C@@H]2CC[C@H]1C[C@@H](c1cccc(C(N)=O)c1)C2)CC1CCCCC1', 'C=CCN1C[C@H](C)N([C@H](c2ccc(C(=O)N(CC)CC)cc2)c2cccc(O)c2)C[C@H]1C', 'CN1CC[C@]23c4cccc(O)c4O[C@H]2CCC[C@H]3C1', 'CN1CC[C@]23c4cccc(C(N)=O)c4O[C@H]2CCC[C@H]3C1', 'COCCN1CC[C@@]2(C)c3cc(C(N)=O)ccc3C[C@@H]1[C@@H]2C', 'CCCCCCCN1[C@@H]2CC[C@@H]1CC(c1cccc(O)c1)C2', 'NC(=O)c1ccc2c(c1O)[C@]13CCN(CC4CCC4)[C@H](C2)[C@@H]1CC[C@H](O)C3', 'NC(=O)c1cccc(C2C[C@H]3CC[C@H](C2)N3CC(=O)C2CCCCC2)c1', 'Oc1ccc2c3c1OC1[C@@H](O)CC[C@@]4(O)[C@@H](C2)N(CC2CCC2)CC[C@]314', 'NC(=O)c1cccc(C2C[C@H]3CC[C@H](C2)N3CCCOc2ccccc2)c1', 'CN1CC[C@]23c4c5ccc(O)c4O[C@H]2c2[nH]c4c(c2C[C@H]3[C@H]1C5)C[C@@]1(O)[C@H]2Cc3ccc(O)c5c3[C@@]1(CCN2CC1CC1)[C@H]4O5', 'CC1[C@H]2Cc3ccc(O)cc3[C@@]1(C)CCN2[C@H](C)C1CC1', 'CC1C2Cc3ccc(O)cc3[C@]1(C)CCN2CC1(C)CC1', 'C=C1CC[C@@]2(O)[C@H]3Cc4ccc(C(N)=O)c(O)c4[C@@]2(CCN3CC=C(C)C)C1', 'C[C@H]1[C@H]2Cc3ccc(C(N)=O)cc3[C@]1(C)CCN2CC1CCC1', 'NC(=O)c1cccc(C2C[C@H]3CC[C@H](C2)N3CC(O)Cc2ccccc2)c1', 'CN(C)C1(c2ccccc2)CCC(c2ccccc2)(N(C)Cc2ccn(C)n2)CC1', 'CC1C2Cc3ccc(O)cc3[C@]1(C)CCN2CC(C)(C)O', 'C[C@H]1[C@H]2Cc3ccc(C(=O)NCCc4ccc(-c5ccc(=O)[nH]c5)cc4)cc3[C@@]1(C)CCN2CC1CC1', 'O=C(N[C@@H]1CC[C@@]2(O)[C@H]3Cc4ccc(O)c5c4[C@@]2(CCN3CC2CC2)[C@H]1O5)c1ccc2ccccc2c1', 'COc1cccc2c1O[C@H]1CCC[C@H]3CN(CC4CC4)CC[C@@]231', 'C[C@H]1[C@H]2Cc3ccc(C(N)=O)cc3[C@@]1(C)CCN2C[C@H]1CCCO1', 'CN1CC[C@]23CCCC[C@H]2[C@H]1Cc1cc2sc(N)nc2cc13', 'COc1cccc2c1O[C@H]1CCC[C@H]3CN(C)CC[C@@]231', 'O=C1c2ccccc2C(=O)N1CCCCN1[C@@H]2CC[C@@H]1CC(c1cccc(O)c1)C2', 'CN(C)C1(c2ccccc2)CCC(c2ccccc2)(N(C)C(=O)c2cccc(F)c2)CC1', 'CCCCCCCN1[C@@H]2CC[C@@H]1CC(c1cccc(C(N)=O)c1)C2', 'Oc1cccc(C2C[C@H]3CC[C@H](C2)N3CCCOc2ccccc2)c1', 'COc1ccc2c3c1O[C@H]1c4[nH]c5c(c4C[C@@]4(O)[C@@H](C2)N(CC2CC2)CC[C@]314)C[C@@]1(O)[C@H]2Cc3ccc(O)c4c3[C@@]1(CCN2CC1CC1)[C@H]5O4', 'Oc1cccc(C2C[C@H]3CC[C@H](C2)N3Cc2c(F)cccc2F)c1', 'NC(=O)c1cccc([C@H]2C[C@H]3CC[C@@H](C2)N3CCN(CC2CCCCC2)C(=O)CO)c1', 'CC(C)C[C@H](NC(=O)[C@H](Cc1ccccc1)NC(=O)CNC(=O)CNC(=O)[C@@H](N)Cc1ccc(O)cc1)C(=O)O', 'C[C@H](NC(=O)[C@@H](N)Cc1ccc(O)cc1)C(=O)N[C@@H](Cc1ccccc1)C(=O)NCC(=O)N[C@@H](Cc1ccc(O)cc1)C(=O)N1CCC[C@H]1C(=O)N[C@@H](CO)C(N)=O', 'CN(C)C1(c2ccccc2)CCC(CO)(CCCCc2ccccc2)CC1', 'CC(C)=CCN1CC[C@]23CC(=O)CC[C@@]2(O)[C@H]1Cc1ccc(C(N)=O)c(O)c13', 'COC1(CCN2CC3(CCC(c4cccs4)(N(C)C)CC3)CC2=O)CCC1', 'NC(=O)c1ccc2c(c1O)[C@@]13CCCC[C@H]1[C@@H](C2)N(CC1CCC1)CC3', 'CN(C)C1(c2ccccc2)CCC(c2ccc(C(F)(F)F)cc2)(N(C)C)CC1', 'Cc1cc(O)cc(C)c1C[C@H](N)C(=O)N1Cc2ccccc2C[C@@H]1C(=O)NCC(=O)NCc1ccccc1', 'C[C@H]1[C@H]2Cc3ccc(C(=O)NCCc4ccc(-c5cn[nH]c5)cc4)cc3[C@@]1(C)CCN2CC1CC1', 'Oc1cccc2c1O[C@H]1CCC[C@H]3CN(CC4CC4)CC[C@@]231', 'CCCCC(=N)NCCc1ccc2[nH]c3c(c2c1)C[C@@]1(O)C2Cc4ccc(O)c5c4C1(CCN2CC1CC1)C3O5', 'NC(=O)[C@H](Cc1ccccc1)NC(=O)[C@@H](Cc1c[nH]c2ccccc12)n1c(O)c(CNC(=O)[C@@H](N)Cc2ccc(O)cc2)oc1=O', 'Oc1cccc(C2C[C@H]3CC[C@H](C2)N3CCCc2ccccc2)c1', 'NC(=O)c1ccc2c(c1)[C@@]13CCCCC1[C@@H](C2)N(CC1CCC1)CC3', 'C=C(C)C(=O)O[C@H]1C[C@@H](C(=O)OC)[C@]2(C)CC[C@H]3C(=O)O[C@H](c4ccoc4)C[C@]3(C)[C@H]2C1=O', 'COCCN1CC[C@@]2(C)c3cc(O)ccc3C[C@@H]1[C@@H]2C', 'CC(C)(C)c1ccc(CN2[C@@H]3CC[C@@H]2CC(c2cccc(C(N)=O)c2)C3)cc1', 'CN(C)C1(c2ccccc2)CCC2(CC1)OCCc1c2[nH]c2ccccc12', 'CC(C)=CCN1CC[C@@]2(C)c3cc(C(N)=O)ccc3C[C@@H]1[C@@H]2C', 'CCCCCCN1CCC(C(=O)N(C)CC)(c2cccc(O)c2)CC1', 'Oc1cccc2c1O[C@H]1CCC[C@H]3CN(CCc4ccccc4)CC[C@@]231', 'COc1cccc2c1O[C@H]1CCC[C@@H]3CN(C)CC[C@@]231', 'NC(=O)c1cccc(C2C[C@H]3CC[C@H](C2)N3CCCc2ccccc2)c1', 'NC(=O)c1cccc([C@H]2C[C@H]3CC[C@@H](C2)N3CCN(CC2CCCC2)C(=O)CO)c1', 'CN(CC1(C)CCC(c2ccccc2)(N(C)C)CC1)c1c[nH]c2ccccc12', 'Oc1cccc(C2C[C@H]3CC[C@H](C2)N3CC(O)Cc2ccccc2)c1']\n"
     ]
    }
   ],
   "source": [
    "mhd_df1 = read_hml_hd(in_dir=CURA_MHD_effect_OR_DIR, dir_base_name ='rmvDupMol0', f_base_name='CHEMBL233_bind_mhd-effect_b50_b50_curated.csv')\n",
    "print(f'mhd_df1.shape: {mhd_df1.shape}')\n",
    "\n",
    "mhd_df1_rmv1 = read_hml_hd(in_dir=CURA_MHD_effect_OR_DIR, dir_base_name ='rmvDupMol1', f_base_name='CHEMBL233_bind_mhd-effect_b50_b50_curated.csv')\n",
    "print(f'mhd_df1_rmv1.shape: {mhd_df1_rmv1.shape}')\n",
    "\n",
    "# the difference rows between mhd_df1 and mhd_df1_rmv1\n",
    "#diff_cpd_ids = plot_diff_col_values(mhd_df1, mhd_df1_rmv1, col='compound_chembl_id', plot=True)\n",
    "#diff_pref_names = plot_diff_col_values(mhd_df1, mhd_df1_rmv1, col='pref_name', plot=True)\n",
    "diff_smiles = plot_diff_col_values(mhd_df1, mhd_df1_rmv1, col='canonical_smiles_by_Std', plot=False)"
   ]
  },
  {
   "cell_type": "markdown",
   "id": "8f9df84e",
   "metadata": {},
   "source": [
    "### standard_value: mean and std"
   ]
  },
  {
   "cell_type": "code",
   "execution_count": null,
   "id": "16536c47",
   "metadata": {},
   "outputs": [],
   "source": [
    "df_group = mhd_df1.groupby(std_smiles_col)[pvalue_col2].agg(['mean', 'std'])\n",
    "df_group['std'].tolist()\n"
   ]
  },
  {
   "cell_type": "markdown",
   "id": "ab710388",
   "metadata": {},
   "source": [
    "# CURA_MHD_effect_OR_DIR"
   ]
  },
  {
   "cell_type": "code",
   "execution_count": null,
   "id": "cf15932d",
   "metadata": {},
   "outputs": [],
   "source": [
    "mhd_effect_df1 = read_hml_hd(in_dir=CURA_MHD_effect_OR_DIR, dir_base_name ='rmvDupMol0', f_base_name='CHEMBL233_bind')\n",
    "print(f'mhd_effect_df1.shape: {mhd_effect_df1.shape}')\n",
    "\n",
    "mhd_effect_df1_rmv1 = read_hml_hd(in_dir=CURA_MHD_effect_OR_DIR, dir_base_name ='rmvDupMol1', f_base_name='CHEMBL233_bind')\n",
    "print(f'mhd_effect_df1_rmv1.shape: {mhd_effect_df1_rmv1.shape}')\n",
    "\n",
    "plot_diff_pref_names(mhd_effect_df1, mhd_effect_df1_rmv1)"
   ]
  },
  {
   "cell_type": "markdown",
   "id": "abe43667",
   "metadata": {},
   "source": [
    "# CURA_HHD_OR"
   ]
  },
  {
   "cell_type": "code",
   "execution_count": null,
   "id": "6e335c3e",
   "metadata": {},
   "outputs": [],
   "source": [
    "hhd_df1 = read_hml_hd(in_dir=CURA_HHD_OR_DIR, dir_base_name ='rmvDupMol0', f_base_name='CHEMBL233_Ki')\n",
    "print(f'hhd_df1.shape: {hhd_df1.shape}')\n",
    "\n",
    "hhd_df1_rmv1 = read_hml_hd(in_dir=CURA_HHD_OR_DIR, dir_base_name ='rmvDupMol1', f_base_name='CHEMBL233_Ki')\n",
    "print(f'hhd_df1_rmv1.shape: {hhd_df1_rmv1.shape}')\n",
    "\n",
    "plot_diff_pref_names(hhd_df1, hhd_df1_rmv1)"
   ]
  }
 ],
 "metadata": {
  "kernelspec": {
   "display_name": "datacat",
   "language": "python",
   "name": "python3"
  },
  "language_info": {
   "codemirror_mode": {
    "name": "ipython",
    "version": 3
   },
   "file_extension": ".py",
   "mimetype": "text/x-python",
   "name": "python",
   "nbconvert_exporter": "python",
   "pygments_lexer": "ipython3",
   "version": "3.8.20"
  }
 },
 "nbformat": 4,
 "nbformat_minor": 5
}
