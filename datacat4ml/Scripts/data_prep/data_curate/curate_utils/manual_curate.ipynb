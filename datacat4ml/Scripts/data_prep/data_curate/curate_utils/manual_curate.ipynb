{
 "cells": [
  {
   "cell_type": "code",
   "execution_count": 1,
   "id": "e629e06a",
   "metadata": {},
   "outputs": [],
   "source": [
    "import os\n",
    "import pandas as pd\n",
    "\n",
    "from datacat4ml.const import CURA_LHD_OR_DIR, CURA_MHD_OR_DIR, CURA_MHD_effect_OR_DIR, CURA_HHD_OR_DIR, CURA_DATA_DIR\n",
    "from datacat4ml.const import CAT_DATA_DIR\n",
    "from datacat4ml.Scripts.data_prep.data_curate.curate_utils.standardize_structures import remove_dup_mols\n",
    "\n",
    "import matplotlib.pyplot as plt\n",
    "import seaborn as sns"
   ]
  },
  {
   "cell_type": "code",
   "execution_count": 2,
   "id": "27becb2e",
   "metadata": {},
   "outputs": [],
   "source": [
    "def read_hml_hd(in_dir=CURA_LHD_OR_DIR, dir_base_name ='rmvDupMol0', f_base_name='CHEMBL233_bind_RBA_Ki_CHEMBL3707592_lhd'):\n",
    "    for f in os.listdir(os.path.join(in_dir, dir_base_name)):\n",
    "        if f.startswith(f_base_name):\n",
    "            df = pd.read_csv(os.path.join(in_dir, dir_base_name, f))\n",
    "            return df\n",
    "\n",
    "#===================================================================\n",
    "# DupMols in a SINGLE dataset\n",
    "#===================================================================\n",
    "std_smiles_col='canonical_smiles_by_Std'\n",
    "pref_name_col='pref_name'\n",
    "cpd_chemblid_col='compound_chembl_id'\n",
    "\n",
    "pvalue_col1='standard_value'\n",
    "pvalue_col2='pStandard_value'\n",
    "\n",
    "cols_to_show = ['activity_id', 'assay_chembl_id', cpd_chemblid_col, std_smiles_col, pref_name_col, 'standard_type', 'standard_relation', pvalue_col1, pvalue_col2]\n",
    "\n",
    "def sorted_vc(df):\n",
    "    vc = df[std_smiles_col].value_counts()\n",
    "    # sort vc by the value counts in descending order\n",
    "    vc = vc.sort_values(ascending=False)\n",
    "    vc\n",
    "    return vc\n",
    "\n",
    "#===================================================================\n",
    "# Compare DupMols in rmvDupMol0 and rmvDupMol1 datasets\n",
    "#===================================================================\n",
    "def plot_diff_col_values(df, df_rmv1, col='pref_name', plot=False):\n",
    "\n",
    "    vc = df[col].value_counts()\n",
    "    print(f'len(vc): {len(vc)}')\n",
    "    col_values = vc.index.tolist()\n",
    "    print(f'col: {col_values}')\n",
    "\n",
    "    vc_rmv1 = df_rmv1[col].value_counts()\n",
    "    print(f'len(vc_rmv1): {len(vc_rmv1)}')\n",
    "    col_values_rmv1 = vc_rmv1.index.tolist()\n",
    "    print(f'col_values_rmv1: {col_values_rmv1}')\n",
    "\n",
    "    # get the difference between col_values and col_values_rmv1\n",
    "    diff_col_values = list(set(col_values) - set(col_values_rmv1))\n",
    "    print(f'len(diff_col_values): {len(diff_col_values)}')\n",
    "    print(f'diff_col_values: {diff_col_values}')\n",
    "\n",
    "    # plot the distribution of the diff_col_values in df\n",
    "    if plot:\n",
    "        for n in diff_col_values:\n",
    "            df[df[col]==n]['pStandard_value'].hist(bins=30)\n",
    "            plt.title(n)\n",
    "            plt.show()\n",
    "    \n",
    "    return diff_col_values"
   ]
  },
  {
   "cell_type": "markdown",
   "id": "88754f00",
   "metadata": {},
   "source": [
    "# CURA_LHD_OR"
   ]
  },
  {
   "cell_type": "code",
   "execution_count": null,
   "id": "4d95bbd3",
   "metadata": {},
   "outputs": [],
   "source": [
    "# rmvDupMol0\n",
    "lhd_or_files = [\n",
    "'CHEMBL2014_bind_RBA_IC50_CHEMBL867087_lhd_b50_b50_curated.csv',\n",
    "'CHEMBL2014_bind_RBA_Ki_CHEMBL1030622_lhd_b50_b50_curated.csv',\n",
    "'CHEMBL2014_bind_RBA_Ki_CHEMBL888952_lhd_b50_s50_curated.csv',\n",
    "'CHEMBL2014_bind_RBA_Ki_CHEMBL892111_lhd_b50_b50_curated.csv',\n",
    "'CHEMBL233_agon_G-cAMP_EC50_CHEMBL4356649_lhd_b50_b50_curated.csv',\n",
    "'CHEMBL233_agon_G-GTP_EC50_CHEMBL3887793_lhd_b50_b50_curated.csv',\n",
    "'CHEMBL233_agon_G-GTP_EC50_CHEMBL4201551_lhd_b50_s50_curated.csv',\n",
    "'CHEMBL233_antag_G-GTP_IC50_CHEMBL909298_lhd_s50_s50_curated.csv',\n",
    "'CHEMBL233_bind_RBA_Ki_CHEMBL1030625_lhd_b50_b50_curated.csv',\n",
    "'CHEMBL233_bind_RBA_Ki_CHEMBL3887789_lhd_b50_b50_curated.csv',\n",
    "'CHEMBL233_bind_RBA_Ki_CHEMBL4356647_lhd_b50_b50_curated.csv',\n",
    "'CHEMBL233_bind_RBA_Ki_CHEMBL892114_lhd_b50_b50_curated.csv',\n",
    "'CHEMBL233_bind_RBA_Ki_CHEMBL909851_lhd_b50_s50_curated.csv',\n",
    "'CHEMBL236_bind_RBA_Ki_CHEMBL1030623_lhd_b50_b50_curated.csv',\n",
    "'CHEMBL236_bind_RBA_Ki_CHEMBL3887791_lhd_b50_b50_curated.csv',\n",
    "'CHEMBL236_bind_RBA_Ki_CHEMBL892112_lhd_b50_b50_curated.csv',\n",
    "'CHEMBL237_agon_G-GTP_EC50_CHEMBL3887794_lhd_b50_b50_curated.csv',\n",
    "'CHEMBL237_agon_G-GTP_EC50_CHEMBL910350_lhd_s50_s50_curated.csv',\n",
    "'CHEMBL237_bind_RBA_Ki_CHEMBL1030624_lhd_b50_b50_curated.csv',\n",
    "'CHEMBL237_bind_RBA_Ki_CHEMBL3887790_lhd_b50_b50_curated.csv',\n",
    "'CHEMBL237_bind_RBA_Ki_CHEMBL5253113_lhd_s50_s50_curated.csv',\n",
    "'CHEMBL237_bind_RBA_Ki_CHEMBL892113_lhd_b50_b50_curated.csv',\n",
    "'CHEMBL237_bind_RBA_Ki_CHEMBL910349_lhd_b50_s50_curated.csv'\n",
    "]"
   ]
  },
  {
   "cell_type": "markdown",
   "id": "ae66bd86",
   "metadata": {},
   "source": [
    "## 1. 'CHEMBL233_bind_RBA_Ki_CHEMBL3707592_lhd_b50_s50_curated.csv'"
   ]
  },
  {
   "cell_type": "code",
   "execution_count": null,
   "id": "62b43543",
   "metadata": {},
   "outputs": [],
   "source": [
    "lhd_df1 = read_hml_hd(f_base_name='CHEMBL233_bind_RBA_Ki_CHEMBL3707592_lhd')\n",
    "print(f'lhd_df1.shape: {lhd_df1.shape}')\n",
    "\n",
    "vc = lhd_df1['compound_chembl_id'].value_counts()\n",
    "print(f'vc: {vc}')\n",
    "\n",
    "wrong_activity_ids_1 = [\n",
    "    #compound_chembl_id: CHEMBL3908275    3\n",
    "    16348719, 16260203,\n",
    "    #comppund_chembl_id: CHEMBL3948231    3\n",
    "    16280459, 16285964,\n",
    "    #comppund_chembl_id: CHEMBL3911529    3\n",
    "    16338796, 16345420,\n",
    "    #comppund_chembl_id: CHEMBL3893577    3\n",
    "    16329322, 16334546,\n",
    "    #comppund_chembl_id: CHEMBL3954498    3\n",
    "    16323198, 16325206,\n",
    "    #comppund_chembl_id: CHEMBL3948400    3\n",
    "    16353251, 16318808,\n",
    "    #comppund_chembl_id: CHEMBL3901699    3\n",
    "    16311427, 16320230,\n",
    "    #comppund_chembl_id: CHEMBL3664540    3\n",
    "    16320904, 16329066,\n",
    "    #comppund_chembl_id: CHEMBL3904663    3\n",
    "    16311300, 16296171,\n",
    "    #comppund_chembl_id: CHEMBL3916122    3\n",
    "    16343355, 16278872,\n",
    "    #comppund_chembl_id: CHEMBL4107573    3\n",
    "    17607502, 17607533,\n",
    "    #comppund_chembl_id: CHEMBL3923372    3\n",
    "    16330728, 16340093,\n",
    "    #comppund_chembl_id: CHEMBL3947184    3\n",
    "    16262862, 16294741,\n",
    "    #comppund_chembl_id: CHEMBL3907149    3\n",
    "    16265478, 16268318,\n",
    "    #comppund_chembl_id: CHEMBL3912511    3\n",
    "    16309495, 16266350,\n",
    "    #comppund_chembl_id: CHEMBL3955920    3\n",
    "    16329500, 16270670,\n",
    "    #comppund_chembl_id: CHEMBL3919397    3\n",
    "    16274120, 16305421,\n",
    "    #comppund_chembl_id: CHEMBL3915488    2\n",
    "    16301326, \n",
    "    #comppund_chembl_id: CHEMBL3951177    2\n",
    "    16272693,\n",
    "    #comppund_chembl_id: CHEMBL3946351    2\n",
    "    16305554, \n",
    "    #comppund_chembl_id: CHEMBL3900482    2\n",
    "    16303895,\n",
    "    #comppund_chembl_id: CHEMBL3664541    2\n",
    "    16346449, 16299045,\n",
    "    #comppund_chembl_id: CHEMBL3944046    2\n",
    "    16278180,\n",
    "    #comppund_chembl_id: CHEMBL3892737    2\n",
    "    16276817,\n",
    "    #comppund_chembl_id: CHEMBL3664525    2\n",
    "    16293587, \n",
    "    #comppund_chembl_id: CHEMBL3664526    2\n",
    "    16260396,\n",
    "    #comppund_chembl_id: CHEMBL3982823    2\n",
    "    16289441,\n",
    "    #comppund_chembl_id: CHEMBL3959791    2\n",
    "    16356146,\n",
    "    #comppund_chembl_id: CHEMBL3952829    2\n",
    "    16279037, \n",
    "    #comppund_chembl_id: CHEMBL3911769    2             \n",
    "    16289762\n",
    "]\n",
    "\n",
    "#lhd_df1_drop = lhd_df1[~lhd_df1['activity_id'].isin(wrong_activity_ids_1)].reset_index(drop=True)\n",
    "#print(lhd_df1_drop.shape)\n",
    "#\n",
    "#lhd_df1_final = remove_dup_mols(lhd_df1_drop)\n",
    "#print(lhd_df1_final.shape)"
   ]
  },
  {
   "cell_type": "code",
   "execution_count": null,
   "id": "83d45d6f",
   "metadata": {},
   "outputs": [],
   "source": [
    "curated_df = lhd_df1[~lhd_df1['activity_id'].isin(wrong_activity_ids_1)]\n",
    "print(f'curated_df.shape: {curated_df.shape}')"
   ]
  },
  {
   "cell_type": "markdown",
   "id": "415ae2e9",
   "metadata": {},
   "source": [
    "## 2. 'CHEMBL237_bind_RBA_Ki_CHEMBL4050969_lhd_b50_s50_curated.csv'"
   ]
  },
  {
   "cell_type": "code",
   "execution_count": null,
   "id": "c680e2e1",
   "metadata": {},
   "outputs": [],
   "source": [
    "# After checking on the CHEMBL website, it was found that the duplicates are the same compounds with almost the same activity values. So it is save to merge the duplicates into one by taking the mean of the activity values\n",
    "lhd_df2 = read_hml_hd(f_base_name='CHEMBL237_bind_RBA_Ki_CHEMBL4050969_lhd')\n",
    "print(f'lhd_df2.shape: {lhd_df2.shape}')\n",
    "\n",
    "vc = lhd_df2['compound_chembl_id'].value_counts()\n",
    "print(f'len(vc): {len(vc)}\\n'\n",
    "    f'vc: {vc}')"
   ]
  },
  {
   "cell_type": "code",
   "execution_count": null,
   "id": "00855fdb",
   "metadata": {},
   "outputs": [],
   "source": [
    "lhd_df2_final = remove_dup_mols(lhd_df2)\n",
    "print(lhd_df2_final.shape)"
   ]
  },
  {
   "cell_type": "markdown",
   "id": "a71eac01",
   "metadata": {},
   "source": [
    "## 3. 'CHEMBL233_bind_RBA_Ki_CHEMBL3888831_lhd_b50_s50_curated.csv'"
   ]
  },
  {
   "cell_type": "code",
   "execution_count": null,
   "id": "8b3bc56e",
   "metadata": {},
   "outputs": [],
   "source": [
    "# After checking the original document, it was found that the duplicates were a pair of polar and non-polar diastereomers.\n",
    "lhd_df3 = read_hml_hd(f_base_name='CHEMBL233_bind_RBA_Ki_CHEMBL3888831_lhd')\n",
    "print(f'lhd_df3.shape: {lhd_df3.shape}')\n",
    "\n",
    "vc = lhd_df3['compound_chembl_id'].value_counts()\n",
    "print(f'len(vc): {len(vc)}\\n')\n",
    "vc[:29]"
   ]
  },
  {
   "cell_type": "code",
   "execution_count": null,
   "id": "a74717a9",
   "metadata": {},
   "outputs": [],
   "source": [
    "wrong_activity_ids_3 = [\n",
    "    #CHEMBL3920864    2\n",
    "    \n",
    "    #CHEMBL3982887    2\n",
    "\n",
    "    #CHEMBL3899387    2\n",
    "\n",
    "    #CHEMBL3911970    2\n",
    "\n",
    "    #CHEMBL3898034    2\n",
    "\n",
    "    #CHEMBL3934183    2\n",
    "\n",
    "    #CHEMBL3985824    2\n",
    "\n",
    "    #CHEMBL3977691    2\n",
    "\n",
    "    #CHEMBL3909426    2\n",
    "\n",
    "    #CHEMBL3965425    2\n",
    "\n",
    "    #CHEMBL3928651    2\n",
    "    #CHEMBL3967435    2\n",
    "    #CHEMBL3972755    2\n",
    "    #CHEMBL3907138    2\n",
    "    #CHEMBL3919659    2\n",
    "    #CHEMBL3921976    2\n",
    "    #CHEMBL3929120    2\n",
    "    #CHEMBL3982651    2\n",
    "    #CHEMBL3914240    2\n",
    "    #CHEMBL3889835    2\n",
    "    #CHEMBL3982674    2\n",
    "    #CHEMBL3951213    2\n",
    "    #CHEMBL3928190    2\n",
    "    #CHEMBL3969636    2\n",
    "    #CHEMBL3977883    2\n",
    "    #CHEMBL3937167    2\n",
    "    #CHEMBL3906866    2\n",
    "    #CHEMBL3937815    2 \n",
    "]"
   ]
  },
  {
   "cell_type": "markdown",
   "id": "0982133e",
   "metadata": {},
   "source": [
    "## 4.'CHEMBL2014_bind_RBA_Ki_CHEMBL3888830_lhd_b50_s50_curated.csv'"
   ]
  },
  {
   "cell_type": "code",
   "execution_count": null,
   "id": "7934eae8",
   "metadata": {},
   "outputs": [],
   "source": [
    "# After checking the original document, it was found that the duplicates were a pair of polar and non-polar diastereomers.\n",
    "lhd_df4 = read_hml_hd(f_base_name='CHEMBL2014_bind_RBA_Ki_CHEMBL3888830_lhd', dir_base_name='rmvDupMol0')\n",
    "print(f'lhd_df4.shape: {lhd_df4.shape}')\n",
    "\n",
    "vc = lhd_df4['compound_chembl_id'].value_counts()\n",
    "print(f'len(vc): {len(vc)}\\n')\n",
    "vc[:25]"
   ]
  },
  {
   "cell_type": "code",
   "execution_count": null,
   "id": "ff0c8131",
   "metadata": {},
   "outputs": [],
   "source": [
    "wrong_activity_ids_4 = [\n",
    "    #CHEMBL3943372    2\n",
    "\n",
    "    #CHEMBL3985824    2\n",
    "    \n",
    "    #CHEMBL3928651    2\n",
    "    #CHEMBL3899387    2\n",
    "    #CHEMBL3911970    2\n",
    "    #CHEMBL3898034    2\n",
    "    #CHEMBL3934183    2\n",
    "    #CHEMBL3967435    2\n",
    "    #CHEMBL3977691    2\n",
    "    #CHEMBL3889835    2\n",
    "    #CHEMBL3909426    2\n",
    "    #CHEMBL3965425    2\n",
    "    #CHEMBL3907138    2\n",
    "    #CHEMBL3919659    2\n",
    "    #CHEMBL3921976    2\n",
    "    #CHEMBL3929120    2\n",
    "    #CHEMBL3914240    2\n",
    "    #CHEMBL3982651    2\n",
    "    #CHEMBL3982674    2\n",
    "    #CHEMBL3977883    2\n",
    "    #CHEMBL3969636    2\n",
    "    #CHEMBL3928190    2\n",
    "    #CHEMBL3937167    2\n",
    "    #CHEMBL3951213    2\n",
    "]"
   ]
  },
  {
   "cell_type": "markdown",
   "id": "be4fe23d",
   "metadata": {},
   "source": [
    "## 5. 'CHEMBL236_bind_RBA_Ki_CHEMBL758175_lhd_b50_s50_curated.csv'"
   ]
  },
  {
   "cell_type": "code",
   "execution_count": null,
   "id": "e4d9b7e8",
   "metadata": {},
   "outputs": [],
   "source": [
    "# after checking the original document, it was found the duplicates were same compound with crystal waters, or racemic isomers.\n",
    "lhd_df5 = read_hml_hd(f_base_name='CHEMBL236_bind_RBA_Ki_CHEMBL758175_lhd', dir_base_name='rmvDupMol0')\n",
    "print(f'lhd_df5.shape: {lhd_df5.shape}')\n",
    "\n",
    "vc = lhd_df5['compound_chembl_id'].value_counts()\n",
    "print(f'len(vc): {len(vc)}\\n')\n",
    "vc[:7]"
   ]
  },
  {
   "cell_type": "code",
   "execution_count": null,
   "id": "269b276e",
   "metadata": {},
   "outputs": [],
   "source": [
    "wrong_activity_ids_5 = [\n",
    "    # CHEMBL169346     3\n",
    "    # CHEMBL2367916    3\n",
    "    # CHEMBL299114     3\n",
    "    # CHEMBL279968     3\n",
    "    # CHEMBL56585      2\n",
    "    # CHEMBL301835     2\n",
    "]"
   ]
  },
  {
   "cell_type": "markdown",
   "id": "4f9fdfa8",
   "metadata": {},
   "source": [
    "## 6. 'CHEMBL237_bind_RBA_Ki_CHEMBL3887032_lhd_b50_b50_curated.csv'"
   ]
  },
  {
   "cell_type": "code",
   "execution_count": null,
   "id": "0c67bd97",
   "metadata": {},
   "outputs": [],
   "source": [
    "# can't access the original document, but the standard_value for most duplicates are exactly the same, some differ within 1 magnitude.\n",
    "lhd_df6 = read_hml_hd(f_base_name='CHEMBL237_bind_RBA_Ki_CHEMBL3887032_lhd', dir_base_name='rmvDupMol0')\n",
    "print(f'lhd_df6.shape: {lhd_df6.shape}')\n",
    "\n",
    "vc = lhd_df6['compound_chembl_id'].value_counts()\n",
    "print(f'len(vc): {len(vc)}\\n')\n",
    "vc[:10]"
   ]
  },
  {
   "cell_type": "code",
   "execution_count": null,
   "id": "4f9770bd",
   "metadata": {},
   "outputs": [],
   "source": [
    "wrong_activity_ids_6 = [\n",
    "    #CHEMBL3695218    2\n",
    "\n",
    "    #CHEMBL3647958    2\n",
    "    \n",
    "    #CHEMBL3695217    2\n",
    "\n",
    "    #CHEMBL3647959    2\n",
    "\n",
    "    #CHEMBL3698892    2\n",
    "\n",
    "    #CHEMBL3698893    2\n",
    "\n",
    "    #CHEMBL3647963    2\n",
    "    \n",
    "    #CHEMBL3695245    2\n",
    "]"
   ]
  },
  {
   "cell_type": "markdown",
   "id": "598d2970",
   "metadata": {},
   "source": [
    "## 7. 'CHEMBL233_bind_RBA_Ki_CHEMBL3887030_lhd_b50_b50_curated.csv'"
   ]
  },
  {
   "cell_type": "code",
   "execution_count": null,
   "id": "eb7a4371",
   "metadata": {},
   "outputs": [],
   "source": [
    "# can't access the original document, but the standard_value for most duplicates are exactly the same, some differ within 1 magnitude.\n",
    "lhd_df7 = read_hml_hd(f_base_name='CHEMBL233_bind_RBA_Ki_CHEMBL3887030_lhd', dir_base_name='rmvDupMol0')\n",
    "print(f'lhd_df7.shape: {lhd_df7.shape}')\n",
    "\n",
    "vc = lhd_df7['compound_chembl_id'].value_counts()\n",
    "print(f'len(vc): {len(vc)}\\n')\n",
    "vc[:10]"
   ]
  },
  {
   "cell_type": "code",
   "execution_count": null,
   "id": "945ddf5f",
   "metadata": {},
   "outputs": [],
   "source": [
    "wrong_activity_ids_7 = [\n",
    "    #CHEMBL3695217    2\n",
    "\n",
    "    #CHEMBL3695218    2\n",
    "\n",
    "    #CHEMBL3698892    2\n",
    "\n",
    "    #CHEMBL3698893    2\n",
    "\n",
    "    #CHEMBL3647959    2\n",
    "\n",
    "    #CHEMBL3647958    2\n",
    "\n",
    "    #CHEMBL3695245    2\n",
    "    \n",
    "    #CHEMBL3647963    2\n",
    "]"
   ]
  },
  {
   "cell_type": "markdown",
   "id": "75828107",
   "metadata": {},
   "source": [
    "## 8. 'CHEMBL236_bind_RBA_Ki_CHEMBL3887031_lhd_b50_b50_curated.csv'"
   ]
  },
  {
   "cell_type": "code",
   "execution_count": null,
   "id": "749f43b7",
   "metadata": {},
   "outputs": [],
   "source": [
    "# can't access the original document, but the standard_value for most duplicates are exactly the same, some differ within 1 magnitude, some are both inactive. So it is save to merge the duplicates into one.\n",
    "lhd_df8 = read_hml_hd(f_base_name='CHEMBL236_bind_RBA_Ki_CHEMBL3887031_lhd', dir_base_name='rmvDupMol0')\n",
    "print(f'lhd_df8.shape: {lhd_df8.shape}')\n",
    "\n",
    "vc = lhd_df8['compound_chembl_id'].value_counts()\n",
    "print(f'len(vc): {len(vc)}\\n')\n",
    "vc[:10]"
   ]
  },
  {
   "cell_type": "code",
   "execution_count": null,
   "id": "a5d17d8c",
   "metadata": {},
   "outputs": [],
   "source": [
    "wrong_activity_ids_8 = [\n",
    "    #CHEMBL3695217    2\n",
    "\n",
    "    #CHEMBL3695218    2\n",
    "    \n",
    "    #CHEMBL3698892    2\n",
    "\n",
    "    #CHEMBL3647959    2\n",
    "\n",
    "    #CHEMBL3698893    2\n",
    "\n",
    "    #CHEMBL3647958    2\n",
    "\n",
    "    #CHEMBL3647963    2\n",
    "    \n",
    "    #CHEMBL3695245    2\n",
    "]"
   ]
  },
  {
   "cell_type": "markdown",
   "id": "67b4f2bb",
   "metadata": {},
   "source": [
    "## 9. 'CHEMBL233_agon_G-GTP_EC50_CHEMBL3888720_lhd_b50_b50_curated.csv'"
   ]
  },
  {
   "cell_type": "code",
   "execution_count": null,
   "id": "c4f0c2c3",
   "metadata": {},
   "outputs": [],
   "source": [
    "# After checking the original document, it was found that the duplicates are compounds were recorded twice with different activity values. But the activity values are very close to each other.\n",
    "# So it is save to merge the duplicates into one by taking the mean of the activity values\n",
    "lhd_df9 = read_hml_hd(f_base_name='CHEMBL233_agon_G-GTP_EC50_CHEMBL3888720_lhd', dir_base_name='rmvDupMol0')\n",
    "print(f'lhd_df9.shape: {lhd_df9.shape}')\n",
    "\n",
    "vc = lhd_df9['compound_chembl_id'].value_counts()\n",
    "print(f'len(vc): {len(vc)}\\n')\n",
    "vc[:10]"
   ]
  },
  {
   "cell_type": "code",
   "execution_count": null,
   "id": "e01133cf",
   "metadata": {},
   "outputs": [],
   "source": [
    "wrong_activity_ids_9 = [\n",
    "    #CHEMBL3976681    2\n",
    "    #CHEMBL4111936    2\n",
    "    #CHEMBL4108710    2\n",
    "    #CHEMBL3971169    2\n",
    "    #CHEMBL4106563    2\n",
    "    #CHEMBL3948713    2\n",
    "]"
   ]
  },
  {
   "cell_type": "markdown",
   "id": "43bdcb26",
   "metadata": {},
   "source": [
    "## 10. 'CHEMBL237_agon_G-GTP_EC50_CHEMBL3888721_lhd_b50_s50_curated.csv'"
   ]
  },
  {
   "cell_type": "code",
   "execution_count": null,
   "id": "60a3e5de",
   "metadata": {},
   "outputs": [],
   "source": [
    "# After checking the original document, it was found that the duplicates are compounds were recorded twice with different activity values. But the activity values are very close to each other.\n",
    "# So it is save to merge the duplicates into one by taking the mean of the activity values\n",
    "lhd_df10 = read_hml_hd(f_base_name='CHEMBL237_agon_G-GTP_EC50_CHEMBL3888721_lhd', dir_base_name='rmvDupMol0')\n",
    "print(f'lhd_df10.shape: {lhd_df10.shape}')\n",
    "\n",
    "vc = lhd_df10['compound_chembl_id'].value_counts()\n",
    "print(f'len(vc): {len(vc)}\\n')\n",
    "vc[:10]"
   ]
  },
  {
   "cell_type": "code",
   "execution_count": null,
   "id": "365d6274",
   "metadata": {},
   "outputs": [],
   "source": [
    "wrong_activity_ids_10 = [\n",
    "    #CHEMBL4108710    2\n",
    "    #CHEMBL3948713    2\n",
    "    #CHEMBL4106563    2\n",
    "    #CHEMBL3971169    2\n",
    "    #CHEMBL4111936    2\n",
    "    #CHEMBL3976681    2\n",
    "]"
   ]
  },
  {
   "cell_type": "markdown",
   "id": "12580de5",
   "metadata": {},
   "source": [
    "## 11. 'CHEMBL233_bind_RBA_Ki_CHEMBL3880325_lhd_b50_b50_curated.csv'"
   ]
  },
  {
   "cell_type": "code",
   "execution_count": null,
   "id": "af0d2434",
   "metadata": {},
   "outputs": [],
   "source": [
    "#The duplicated SMILES correspond same primary structure with very close activity values. So it is save to merge the duplicates into one by taking the mean of the activity values\n",
    "lhd_df11 = read_hml_hd(f_base_name='CHEMBL233_bind_RBA_Ki_CHEMBL3880325_lhd', dir_base_name='rmvDupMol0')\n",
    "print(f'lhd_df11.shape: {lhd_df11.shape}')\n",
    "\n",
    "vc = lhd_df11['canonical_smiles_by_Std'].value_counts()\n",
    "print(f'len(vc): {len(vc)}\\n')\n",
    "vc[:10]"
   ]
  },
  {
   "cell_type": "markdown",
   "id": "9687edb9",
   "metadata": {},
   "source": [
    "## 12. 'CHEMBL236_bind_RBA_Ki_CHEMBL3880326_lhd_b50_b50_curated.csv'"
   ]
  },
  {
   "cell_type": "code",
   "execution_count": null,
   "id": "54e6384a",
   "metadata": {},
   "outputs": [],
   "source": [
    "# The duplicated SMILES correspond same primary structure with very close activity values. So it is save to merge the duplicates into one by taking the mean of the activity values\n",
    "lhd_df12 = read_hml_hd(f_base_name='CHEMBL236_bind_RBA_Ki_CHEMBL3880326_lhd', dir_base_name='rmvDupMol0')\n",
    "print(f'lhd_df12.shape: {lhd_df12.shape}')\n",
    "\n",
    "#vc = lhd_df12['compound_chembl_id'].value_counts()\n",
    "vc = lhd_df12['canonical_smiles_by_Std'].value_counts()\n",
    "print(f'len(vc): {len(vc)}\\n')\n",
    "vc[:10]"
   ]
  },
  {
   "cell_type": "markdown",
   "id": "e59c139f",
   "metadata": {},
   "source": [
    "# CURA_MHD_OR"
   ]
  },
  {
   "cell_type": "code",
   "execution_count": 3,
   "id": "f135db7c",
   "metadata": {},
   "outputs": [],
   "source": [
    "# rmvDupMol0\n",
    "mhd_or_files = [\n",
    "\n",
    "'CHEMBL233_bind_RBA_IC50_mhd_b50_b50_curated.csv',\n",
    "'CHEMBL237_bind_RBA_Ki_mhd_b50_b50_curated.csv',\n",
    "'CHEMBL237_bind_RBA_IC50_mhd_b50_b50_curated.csv',\n",
    "'CHEMBL236_bind_RBA_Ki_mhd_b50_b50_curated.csv',\n",
    "'CHEMBL236_bind_RBA_IC50_mhd_b50_b50_curated.csv',\n",
    "'CHEMBL2014_bind_RBA_Ki_mhd_b50_b50_curated.csv',\n",
    "'CHEMBL2014_bind_RBA_IC50_mhd_b50_b50_curated.csv',\n",
    "'CHEMBL233_agon_G-GTP_EC50_mhd_b50_b50_curated.csv',\n",
    "'CHEMBL237_agon_G-GTP_EC50_mhd_b50_b50_curated.csv',\n",
    "'CHEMBL236_agon_G-GTP_EC50_mhd_b50_b50_curated.csv',\n",
    "'CHEMBL2014_agon_G-GTP_EC50_mhd_b50_b50_curated.csv',\n",
    "'CHEMBL233_agon_G-Ca_EC50_mhd_b50_b50_curated.csv',\n",
    "'CHEMBL237_agon_G-Ca_EC50_mhd_b50_b50_curated.csv',\n",
    "'CHEMBL236_agon_G-Ca_EC50_mhd_s50_s50_curated.csv',\n",
    "'CHEMBL2014_agon_G-Ca_EC50_mhd_s50_s50_curated.csv',\n",
    "'CHEMBL233_agon_G-cAMP_IC50_mhd_b50_s50_curated.csv',\n",
    "'CHEMBL233_agon_G-cAMP_EC50_mhd_b50_b50_curated.csv',\n",
    "'CHEMBL237_agon_G-cAMP_IC50_mhd_s50_s50_curated.csv',\n",
    "'CHEMBL237_agon_G-cAMP_EC50_mhd_b50_b50_curated.csv',\n",
    "'CHEMBL236_agon_G-cAMP_IC50_mhd_s50_s50_curated.csv',\n",
    "'CHEMBL236_agon_G-cAMP_EC50_mhd_b50_b50_curated.csv',\n",
    "'CHEMBL2014_agon_G-cAMP_IC50_mhd_b50_b50_curated.csv',\n",
    "'CHEMBL2014_agon_G-cAMP_EC50_mhd_s50_s50_curated.csv',\n",
    "'CHEMBL233_agon_B-arrest_EC50_mhd_b50_b50_curated.csv',\n",
    "'CHEMBL237_agon_B-arrest_EC50_mhd_s50_s50_curated.csv',\n",
    "'CHEMBL236_agon_B-arrest_EC50_mhd_s50_s50_curated.csv',\n",
    "'CHEMBL2014_agon_B-arrest_EC50_mhd_s50_s50_curated.csv',\n",
    "'CHEMBL233_antag_G-GTP_IC50_mhd_b50_b50_curated.csv',\n",
    "'CHEMBL233_antag_G-GTP_Ki_mhd_b50_b50_curated.csv',\n",
    "'CHEMBL237_antag_G-GTP_IC50_mhd_b50_b50_curated.csv',\n",
    "'CHEMBL237_antag_G-GTP_Ki_mhd_b50_b50_curated.csv',\n",
    "'CHEMBL236_antag_G-GTP_IC50_mhd_b50_b50_curated.csv',\n",
    "'CHEMBL236_antag_G-GTP_Ki_mhd_b50_b50_curated.csv',\n",
    "'CHEMBL2014_antag_G-GTP_IC50_mhd_b50_b50_curated.csv',\n",
    "'CHEMBL2014_antag_G-GTP_Ki_mhd_s50_s50_curated.csv',\n",
    "'CHEMBL233_antag_B-arrest_IC50_mhd_s50_s50_curated.csv',\n",
    "'CHEMBL237_antag_B-arrest_IC50_mhd_b50_s50_curated.csv',\n",
    "'CHEMBL236_antag_B-arrest_IC50_mhd_s50_s50_curated.csv',\n",
    "]"
   ]
  },
  {
   "cell_type": "markdown",
   "id": "faadd6d9",
   "metadata": {},
   "source": [
    "## 1. 'CHEMBL233_bind_RBA_Ki_mhd_b50_b50_curated.csv',"
   ]
  },
  {
   "cell_type": "code",
   "execution_count": null,
   "id": "b03ae54c",
   "metadata": {},
   "outputs": [],
   "source": [
    "def remove_dupMol(df, std_smiles_col='canonical_smiles_by_Std', pvalue_col='pStandard_value') -> pd.DataFrame:\n",
    "    \n",
    "    \"\"\"\n",
    "    Remove duplicate molecules with high intra-molecule variability (>1 std),\n",
    "    keep single-appearance smiles, and replace pStandard_value for multi-appearance\n",
    "    molecules with the mean pStandard_value of that group.\n",
    "    \"\"\"\n",
    "\n",
    "    #group stats per smiles\n",
    "    df_group = df.groupby(std_smiles_col)[pvalue_col].agg(['mean', 'std'])\n",
    "\n",
    "    # singletons: std is NaN (only one activity value)\n",
    "    single_idx = df_group[df_group['std'].isna()].index\n",
    "    single_df = df[df[std_smiles_col].isin(single_idx)].copy()\n",
    "    print(f'single_df.shape: {single_df.shape}')\n",
    "\n",
    "    # multi-apprearance smiles (std is not NaN)\n",
    "    multi_idx = df_group[df_group['std'].notna()].index\n",
    "    multi_df = df[df[std_smiles_col].isin(multi_idx)].copy()\n",
    "    print(f'multi_df.shape: {multi_df.shape}')\n",
    "\n",
    "    # remove multi-appearance with high std (>1)\n",
    "    keep_multi_idx = df_group.loc[multi_idx].loc[lambda x: x['std'] <=1].index\n",
    "    rmv_dupMol_df = multi_df[multi_df[std_smiles_col].isin(keep_multi_idx)].drop_duplicates(subset=std_smiles_col, keep='first').copy()\n",
    "\n",
    "    # map the mean pStandard_value to each remaining multi-smiles row\n",
    "    rmv_dupMol_df[pvalue_col] = rmv_dupMol_df[std_smiles_col].map(df_group['mean'])\n",
    "\n",
    "    # combine single and multi-appearance smiles\n",
    "    final_df = pd.concat([single_df, rmv_dupMol_df], axis=0).reset_index(drop=True)\n",
    "    print(f'final_df.shape: {final_df.shape}')\n",
    "\n",
    "    return final_df"
   ]
  },
  {
   "cell_type": "code",
   "execution_count": 38,
   "id": "93ae14df",
   "metadata": {},
   "outputs": [
    {
     "name": "stdout",
     "output_type": "stream",
     "text": [
      "mhd_df1.shape: (5150, 50)\n",
      "mhd_df1_rmv1.shape: (4493, 50)\n"
     ]
    }
   ],
   "source": [
    "mhd_df1 = read_hml_hd(in_dir=CURA_MHD_OR_DIR, dir_base_name ='rmvDupMol0', f_base_name='CHEMBL233_bind_RBA_Ki')\n",
    "print(f'mhd_df1.shape: {mhd_df1.shape}')\n",
    "\n",
    "mhd_df1_rmv1 = read_hml_hd(in_dir=CURA_MHD_OR_DIR, dir_base_name ='rmvDupMol1', f_base_name='CHEMBL233_bind_RBA_Ki')\n",
    "print(f'mhd_df1_rmv1.shape: {mhd_df1_rmv1.shape}')\n",
    "\n",
    "#plot_diff_pref_names(mhd_df1, mhd_df1_rmv1)\n",
    "\n",
    "#mhd_df1_rmv = remove_dup_mols(mhd_df1)\n",
    "#print(f'mhd_df1_rmv.shape: {mhd_df1_rmv.shape}')"
   ]
  },
  {
   "cell_type": "code",
   "execution_count": 39,
   "id": "5b355925",
   "metadata": {},
   "outputs": [
    {
     "data": {
      "text/html": [
       "<div>\n",
       "<style scoped>\n",
       "    .dataframe tbody tr th:only-of-type {\n",
       "        vertical-align: middle;\n",
       "    }\n",
       "\n",
       "    .dataframe tbody tr th {\n",
       "        vertical-align: top;\n",
       "    }\n",
       "\n",
       "    .dataframe thead th {\n",
       "        text-align: right;\n",
       "    }\n",
       "</style>\n",
       "<table border=\"1\" class=\"dataframe\">\n",
       "  <thead>\n",
       "    <tr style=\"text-align: right;\">\n",
       "      <th></th>\n",
       "      <th>mean</th>\n",
       "      <th>std</th>\n",
       "    </tr>\n",
       "    <tr>\n",
       "      <th>canonical_smiles_by_Std</th>\n",
       "      <th></th>\n",
       "      <th></th>\n",
       "    </tr>\n",
       "  </thead>\n",
       "  <tbody>\n",
       "    <tr>\n",
       "      <th>C#CCN1CC[C@]23CCCCC2[C@H]1Cc1ccc(OC(=O)CCCCCCCCC(=O)Oc2ccc4c(c2)[C@@]25CCCCC2[C@@H](C4)N(CC#C)CC5)cc13</th>\n",
       "      <td>7.853872</td>\n",
       "      <td>NaN</td>\n",
       "    </tr>\n",
       "    <tr>\n",
       "      <th>C#CCN1CC[C@]23CCCC[C@H]2[C@H]1Cc1ccc(O)cc13</th>\n",
       "      <td>11.522879</td>\n",
       "      <td>NaN</td>\n",
       "    </tr>\n",
       "    <tr>\n",
       "      <th>C#CCN1CN(c2ccccc2)C2(CCN(C(c3ccccc3)c3ccccc3)CC2)C1=O</th>\n",
       "      <td>5.365120</td>\n",
       "      <td>NaN</td>\n",
       "    </tr>\n",
       "    <tr>\n",
       "      <th>C#CCOCC1CC23CCC1(OC)C1Oc4c(OC)ccc5c4[C@@]12CCN(C)[C@@H]3C5</th>\n",
       "      <td>7.376751</td>\n",
       "      <td>NaN</td>\n",
       "    </tr>\n",
       "    <tr>\n",
       "      <th>C/C=C(\\C)C(=O)O[C@H]1C[C@@H](C(=O)OC)[C@]2(C)CC[C@H]3C(=O)O[C@H](c4ccoc4)C[C@]3(C)[C@H]2C1=O</th>\n",
       "      <td>5.000000</td>\n",
       "      <td>NaN</td>\n",
       "    </tr>\n",
       "    <tr>\n",
       "      <th>...</th>\n",
       "      <td>...</td>\n",
       "      <td>...</td>\n",
       "    </tr>\n",
       "    <tr>\n",
       "      <th>c1ccc2c(c1)nc(-c1cc[nH]n1)n2[C@H]1C[C@H]2CCC[C@@H](C1)N2[C@@H]1C[C@@H]2CCCC[C@@H](C2)C1</th>\n",
       "      <td>6.276544</td>\n",
       "      <td>NaN</td>\n",
       "    </tr>\n",
       "    <tr>\n",
       "      <th>c1ccc2c(c1)nc(C[C@@H]1COCCN1)n2[C@H]1C[C@H]2CCC[C@@H](C1)N2[C@@H]1C[C@@H]2CCCC[C@@H](C2)C1</th>\n",
       "      <td>5.777544</td>\n",
       "      <td>NaN</td>\n",
       "    </tr>\n",
       "    <tr>\n",
       "      <th>c1ccc2c(c1)nc(C[C@H]1COCCN1)n2[C@H]1C[C@H]2CCC[C@@H](C1)N2[C@@H]1C[C@@H]2CCCC[C@@H](C2)C1</th>\n",
       "      <td>5.718058</td>\n",
       "      <td>NaN</td>\n",
       "    </tr>\n",
       "    <tr>\n",
       "      <th>c1cnc2[nH]cc(C3CCN(CC4CCCCC4)CC3)c2c1</th>\n",
       "      <td>5.301030</td>\n",
       "      <td>NaN</td>\n",
       "    </tr>\n",
       "    <tr>\n",
       "      <th>c1cnc2[nH]cc(C3CCN(CC4CCCCCCC4)CC3)c2c1</th>\n",
       "      <td>5.698970</td>\n",
       "      <td>NaN</td>\n",
       "    </tr>\n",
       "  </tbody>\n",
       "</table>\n",
       "<p>4536 rows × 2 columns</p>\n",
       "</div>"
      ],
      "text/plain": [
       "                                                         mean  std\n",
       "canonical_smiles_by_Std                                           \n",
       "C#CCN1CC[C@]23CCCCC2[C@H]1Cc1ccc(OC(=O)CCCCCCCC...   7.853872  NaN\n",
       "C#CCN1CC[C@]23CCCC[C@H]2[C@H]1Cc1ccc(O)cc13         11.522879  NaN\n",
       "C#CCN1CN(c2ccccc2)C2(CCN(C(c3ccccc3)c3ccccc3)CC...   5.365120  NaN\n",
       "C#CCOCC1CC23CCC1(OC)C1Oc4c(OC)ccc5c4[C@@]12CCN(...   7.376751  NaN\n",
       "C/C=C(\\C)C(=O)O[C@H]1C[C@@H](C(=O)OC)[C@]2(C)CC...   5.000000  NaN\n",
       "...                                                       ...  ...\n",
       "c1ccc2c(c1)nc(-c1cc[nH]n1)n2[C@H]1C[C@H]2CCC[C@...   6.276544  NaN\n",
       "c1ccc2c(c1)nc(C[C@@H]1COCCN1)n2[C@H]1C[C@H]2CCC...   5.777544  NaN\n",
       "c1ccc2c(c1)nc(C[C@H]1COCCN1)n2[C@H]1C[C@H]2CCC[...   5.718058  NaN\n",
       "c1cnc2[nH]cc(C3CCN(CC4CCCCC4)CC3)c2c1                5.301030  NaN\n",
       "c1cnc2[nH]cc(C3CCN(CC4CCCCCCC4)CC3)c2c1              5.698970  NaN\n",
       "\n",
       "[4536 rows x 2 columns]"
      ]
     },
     "execution_count": 39,
     "metadata": {},
     "output_type": "execute_result"
    }
   ],
   "source": [
    "df = mhd_df1.copy()\n",
    "df_group = df.groupby(std_smiles_col)[pvalue_col2].agg(['mean', 'std'])\n",
    "df_group"
   ]
  },
  {
   "cell_type": "code",
   "execution_count": 40,
   "id": "c9287b65",
   "metadata": {},
   "outputs": [
    {
     "name": "stdout",
     "output_type": "stream",
     "text": [
      "single_smiles_df.shape: (4210, 50)\n"
     ]
    }
   ],
   "source": [
    "single_idx = df_group[df_group['std'].isna()].index\n",
    "single_df = df[df[std_smiles_col].isin(single_idx)].copy()\n",
    "print(f'single_smiles_df.shape: {single_df.shape}')"
   ]
  },
  {
   "cell_type": "code",
   "execution_count": 41,
   "id": "8df2459f",
   "metadata": {},
   "outputs": [
    {
     "name": "stdout",
     "output_type": "stream",
     "text": [
      "multi_df.shape: (940, 50)\n"
     ]
    }
   ],
   "source": [
    "# multi-apprearance smiles (std is not NaN)\n",
    "multi_idx = df_group[df_group['std'].notna()].index\n",
    "multi_df = df[df[std_smiles_col].isin(multi_idx)].copy()\n",
    "print(f'multi_df.shape: {multi_df.shape}')"
   ]
  },
  {
   "cell_type": "code",
   "execution_count": null,
   "id": "2e43e501",
   "metadata": {},
   "outputs": [
    {
     "name": "stdout",
     "output_type": "stream",
     "text": [
      "rmv_dupMol_df.shape: (283, 50)\n"
     ]
    }
   ],
   "source": [
    "# remove multi-appearance with high std (>1)\n",
    "keep_multi_idx = df_group.loc[multi_idx].loc[lambda x: x['std'] <=1].index\n",
    "rmv_dupMol_df = multi_df[multi_df[std_smiles_col].isin(keep_multi_idx)].drop_duplicates(subset=std_smiles_col, keep='first').copy()\n",
    "print(f'rmv_dupMol_df.shape: {rmv_dupMol_df.shape}')"
   ]
  },
  {
   "cell_type": "code",
   "execution_count": 43,
   "id": "1f049851",
   "metadata": {},
   "outputs": [
    {
     "name": "stdout",
     "output_type": "stream",
     "text": [
      "rmv_dupMol_df.shape: (283, 50)\n"
     ]
    }
   ],
   "source": [
    "# map the mean pStandard_value to each remaining multi-smiles row\n",
    "rmv_dupMol_df[pvalue_col2] = rmv_dupMol_df[std_smiles_col].map(df_group['mean'])\n",
    "print(f'rmv_dupMol_df.shape: {rmv_dupMol_df.shape}')"
   ]
  },
  {
   "cell_type": "code",
   "execution_count": 50,
   "id": "e4e64d5b",
   "metadata": {},
   "outputs": [
    {
     "name": "stdout",
     "output_type": "stream",
     "text": [
      "final_df.shape: (4493, 50)\n"
     ]
    }
   ],
   "source": [
    "# combine single and multi-appearance smiles\n",
    "final_df = pd.concat([single_df, rmv_dupMol_df], axis=0).reset_index(drop=True)\n",
    "print(f'final_df.shape: {final_df.shape}')"
   ]
  },
  {
   "cell_type": "code",
   "execution_count": 29,
   "id": "66004541",
   "metadata": {},
   "outputs": [
    {
     "name": "stdout",
     "output_type": "stream",
     "text": [
      "len(vc): 65\n",
      "col: ['CHEMBL240657', 'CHEMBL472669', 'CHEMBL514662', 'CHEMBL475310', 'CHEMBL473700', 'CHEMBL473701', 'CHEMBL473904', 'CHEMBL239822', 'CHEMBL471262', 'CHEMBL511649', 'CHEMBL474283', 'CHEMBL474485', 'CHEMBL474687', 'CHEMBL514489', 'CHEMBL515091', 'CHEMBL514463', 'CHEMBL473272', 'CHEMBL475094', 'CHEMBL474092', 'CHEMBL473278', 'CHEMBL473279', 'CHEMBL473280', 'CHEMBL473898', 'CHEMBL474096', 'CHEMBL515575', 'CHEMBL471882', 'CHEMBL511162', 'CHEMBL516187', 'CHEMBL511161', 'CHEMBL471880', 'CHEMBL472086', 'CHEMBL516389', 'CHEMBL475707', 'CHEMBL510201', 'CHEMBL515142', 'CHEMBL474091', 'CHEMBL475308', 'CHEMBL514606', 'CHEMBL472676', 'CHEMBL472677', 'CHEMBL474708', 'CHEMBL514965', 'CHEMBL241272', 'CHEMBL475496', 'CHEMBL516077', 'CHEMBL473884', 'CHEMBL516024', 'CHEMBL472867', 'CHEMBL473068', 'CHEMBL475096', 'CHEMBL518325', 'CHEMBL456225', 'CHEMBL510745', 'CHEMBL460636', 'CHEMBL517265', 'CHEMBL499169', 'CHEMBL515829', 'CHEMBL457244', 'CHEMBL501088', 'CHEMBL457451', 'CHEMBL464191', 'CHEMBL464192', 'CHEMBL240215', 'CHEMBL517167', 'CHEMBL475497']\n",
      "len(vc_rmv1): 63\n",
      "col_values_rmv1: ['CHEMBL240657', 'CHEMBL515091', 'CHEMBL516389', 'CHEMBL514662', 'CHEMBL475310', 'CHEMBL473700', 'CHEMBL473701', 'CHEMBL473904', 'CHEMBL239822', 'CHEMBL471262', 'CHEMBL511649', 'CHEMBL474283', 'CHEMBL474485', 'CHEMBL474687', 'CHEMBL514489', 'CHEMBL514463', 'CHEMBL475707', 'CHEMBL473272', 'CHEMBL475094', 'CHEMBL474092', 'CHEMBL473278', 'CHEMBL473279', 'CHEMBL473280', 'CHEMBL473898', 'CHEMBL474096', 'CHEMBL515575', 'CHEMBL471882', 'CHEMBL511162', 'CHEMBL516187', 'CHEMBL511161', 'CHEMBL472669', 'CHEMBL515142', 'CHEMBL510201', 'CHEMBL473068', 'CHEMBL474091', 'CHEMBL475308', 'CHEMBL514606', 'CHEMBL472676', 'CHEMBL472677', 'CHEMBL474708', 'CHEMBL514965', 'CHEMBL241272', 'CHEMBL475496', 'CHEMBL516077', 'CHEMBL473884', 'CHEMBL516024', 'CHEMBL472867', 'CHEMBL475096', 'CHEMBL517167', 'CHEMBL518325', 'CHEMBL456225', 'CHEMBL510745', 'CHEMBL460636', 'CHEMBL517265', 'CHEMBL499169', 'CHEMBL515829', 'CHEMBL457244', 'CHEMBL501088', 'CHEMBL457451', 'CHEMBL464191', 'CHEMBL464192', 'CHEMBL240215', 'CHEMBL471880']\n",
      "len(diff_col_values): 2\n",
      "diff_col_values: ['CHEMBL475497', 'CHEMBL472086']\n"
     ]
    },
    {
     "data": {
      "text/plain": [
       "['CHEMBL475497', 'CHEMBL472086']"
      ]
     },
     "execution_count": 29,
     "metadata": {},
     "output_type": "execute_result"
    }
   ],
   "source": [
    "# the difference rows between mhd_df1 and mhd_df1_rmv1\n",
    "diff_cpd_ids = plot_diff_col_values(mhd_df1, mhd_df1_rmv1, col='compound_chembl_id', plot=False)\n",
    "diff_cpd_ids"
   ]
  },
  {
   "cell_type": "code",
   "execution_count": 21,
   "id": "3f0147b0",
   "metadata": {},
   "outputs": [
    {
     "data": {
      "text/plain": [
       "(4493, 50)"
      ]
     },
     "execution_count": 21,
     "metadata": {},
     "output_type": "execute_result"
    }
   ],
   "source": [
    "# apply wrong_activity_ids filter\n",
    "mhd_df1_rmv = mhd_df1_rmv[~mhd_df1_rmv['activity_id'].isin(wrong_activity_ids)]\n",
    "mhd_df1_rmv.shape"
   ]
  },
  {
   "cell_type": "code",
   "execution_count": 23,
   "id": "462a6290",
   "metadata": {},
   "outputs": [
    {
     "name": "stdout",
     "output_type": "stream",
     "text": [
      "curated_df.shape: (4493, 50)\n"
     ]
    }
   ],
   "source": [
    "# delete rows with SMILES strings that will fail to be embeded for 3D descriptor featurization\n",
    "curated_df = mhd_df1_rmv.copy()\n",
    "file_basename = 'CHEMBL233_bind_RBA_Ki'\n",
    "for f in failed_dict.keys():\n",
    "    if f == file_basename:\n",
    "        for key, value in failed_dict[f].items():\n",
    "            idx_to_drop = curated_df[curated_df['canonical_smiles'] == value].index\n",
    "            print(f'index to drop is {idx_to_drop} for SMILES: {value}')\n",
    "            curated_df = curated_df.drop(index=idx_to_drop)\n",
    "\n",
    "print(f'curated_df.shape: {curated_df.shape}')"
   ]
  },
  {
   "cell_type": "code",
   "execution_count": null,
   "id": "09ce2764",
   "metadata": {},
   "outputs": [],
   "source": [
    "vc1 = sorted_vc(mhd_df1)\n",
    "vc1_rmv1 = sorted_vc(mhd_df1_rmv1)\n",
    "vc1_rmv = sorted_vc(mhd_df1_rmv)"
   ]
  },
  {
   "cell_type": "code",
   "execution_count": null,
   "id": "a3cc8c67",
   "metadata": {},
   "outputs": [],
   "source": [
    "df = mhd_df1\n",
    "dup_df = df[df.duplicated(subset=[std_smiles_col, pvalue_col1], keep=False)]\n",
    "#dup_df = dup_df.sort_values(by=[std_smiles_col, pvalue_col1])\n",
    "dup_df = dup_df.sort_values(by=[std_smiles_col])\n",
    "print(f'dup_df.shape: {dup_df.shape}')\n",
    "dup_df[cols_to_show][149:200]"
   ]
  },
  {
   "cell_type": "markdown",
   "id": "7d96a840",
   "metadata": {},
   "source": [
    "### heatmap"
   ]
  },
  {
   "cell_type": "code",
   "execution_count": null,
   "id": "3938afd2",
   "metadata": {},
   "outputs": [],
   "source": [
    "mhd_or_df = pd.read_csv('/storage/homefs/yc24j783/datacat4ml/datacat4ml/Data/data_prep/data_categorize/cat_mhd_or/CHEMBL233/bind/RBA/Ki/CHEMBL233_bind_RBA_Ki_mhd_df.csv')"
   ]
  },
  {
   "cell_type": "code",
   "execution_count": null,
   "id": "7d3b1b6c",
   "metadata": {},
   "outputs": [
    {
     "ename": "NameError",
     "evalue": "name 'mhd_or_df' is not defined",
     "output_type": "error",
     "traceback": [
      "\u001b[0;31m---------------------------------------------------------------------------\u001b[0m",
      "\u001b[0;31mNameError\u001b[0m                                 Traceback (most recent call last)",
      "Cell \u001b[0;32mIn[6], line 2\u001b[0m\n\u001b[1;32m      1\u001b[0m \u001b[38;5;66;03m# get rows where `pStandard_value` is NaN\u001b[39;00m\n\u001b[0;32m----> 2\u001b[0m nan_pstd_df \u001b[38;5;241m=\u001b[39m \u001b[43mmhd_or_df\u001b[49m[mhd_or_df[\u001b[38;5;124m'\u001b[39m\u001b[38;5;124mpStandard_value\u001b[39m\u001b[38;5;124m'\u001b[39m]\u001b[38;5;241m.\u001b[39misna()]\n\u001b[1;32m      3\u001b[0m \u001b[38;5;28mprint\u001b[39m(\u001b[38;5;124mf\u001b[39m\u001b[38;5;124m'\u001b[39m\u001b[38;5;124mnan_pstd_df.shape: \u001b[39m\u001b[38;5;132;01m{\u001b[39;00mnan_pstd_df\u001b[38;5;241m.\u001b[39mshape\u001b[38;5;132;01m}\u001b[39;00m\u001b[38;5;124m'\u001b[39m)\n",
      "\u001b[0;31mNameError\u001b[0m: name 'mhd_or_df' is not defined"
     ]
    }
   ],
   "source": [
    "# get rows where `pStandard_value` is NaN\n",
    "nan_pstd_df = mhd_df[mhd_or_df['pStandard_value'].isna()]\n",
    "print(f'nan_pstd_df.shape: {nan_pstd_df.shape}')"
   ]
  },
  {
   "cell_type": "code",
   "execution_count": 14,
   "id": "f970dbd5",
   "metadata": {},
   "outputs": [
    {
     "data": {
      "text/plain": [
       "canonical_smiles_by_Std\n",
       "C[C@@H](NC(=O)[C@@H](N)Cc1ccc(O)cc1)C(=O)NCC(=O)N(C)[C@@H](Cc1ccccc1)C(=O)NCCO                                                  41\n",
       "CN1CC[C@]23c4c5ccc(O)c4O[C@H]2[C@@H](O)C=C[C@H]3[C@H]1C5                                                                        35\n",
       "O=C1CC[C@@]2(O)[C@H]3Cc4ccc(O)c5c4[C@@]2(CCN3CC2CC2)[C@H]1O5                                                                    33\n",
       "C=CCN1CC[C@]23c4c5ccc(O)c4O[C@H]2C(=O)CC[C@@]3(O)[C@H]1C5                                                                       25\n",
       "Oc1ccc2c3c1O[C@H]1c4[nH]c5c(c4C[C@@]4(O)[C@@H](C2)N(CC2CC2)CC[C@]314)C[C@@]1(O)[C@H]2Cc3ccc(O)c4c3[C@@]1(CCN2CC1CC1)[C@H]5O4    15\n",
       "                                                                                                                                ..\n",
       "Cc1cc(F)ccc1-c1cnc2c(c1)C[C@@]1(OCCCc3ccccc3)[C@H]3Cc4ccc(O)c5c4[C@@]1(CCN3CC1CC1)[C@H]2O5                                       1\n",
       "CN(C)C1(c2ccccc2)CCC2(CCN(C(=O)CC3CCC3)C2)CC1                                                                                    1\n",
       "Cc1ccc(-c2cnc3c(c2)C[C@@]2(OCCCc4ccccc4)[C@H]4Cc5ccc(O)c6c5[C@@]2(CCN4CC2CC2)[C@H]3O6)cc1                                        1\n",
       "Cc1cccc(-c2cnc3c(c2)C[C@@]2(OCCCc4ccccc4)[C@H]4Cc5ccc(O)c6c5[C@@]2(CCN4CC2CC2)[C@H]3O6)c1                                        1\n",
       "C[C@]1(c2cccc(NS(C)(=O)=O)c2)[C@@H]2CN(CC3Cc4ccccc4C3)C[C@@H]21                                                                  1\n",
       "Name: count, Length: 4536, dtype: int64"
      ]
     },
     "execution_count": 14,
     "metadata": {},
     "output_type": "execute_result"
    }
   ],
   "source": [
    "vc = sorted_vc(mhd_df_rmv0)\n",
    "vc"
   ]
  },
  {
   "cell_type": "markdown",
   "id": "8f9df84e",
   "metadata": {},
   "source": [
    "### standard_value: mean and std"
   ]
  },
  {
   "cell_type": "code",
   "execution_count": null,
   "id": "16536c47",
   "metadata": {},
   "outputs": [],
   "source": [
    "df_group = mhd_df1.groupby(std_smiles_col)[pvalue_col2].agg(['mean', 'std'])\n",
    "df_group['std'].tolist()\n"
   ]
  },
  {
   "cell_type": "markdown",
   "id": "ab710388",
   "metadata": {},
   "source": [
    "# CURA_MHD_effect_OR_DIR"
   ]
  },
  {
   "cell_type": "code",
   "execution_count": null,
   "id": "cf15932d",
   "metadata": {},
   "outputs": [],
   "source": [
    "mhd_effect_df1 = read_hml_hd(in_dir=CURA_MHD_effect_OR_DIR, dir_base_name ='rmvDupMol0', f_base_name='CHEMBL233_bind')\n",
    "print(f'mhd_effect_df1.shape: {mhd_effect_df1.shape}')\n",
    "\n",
    "mhd_effect_df1_rmv1 = read_hml_hd(in_dir=CURA_MHD_effect_OR_DIR, dir_base_name ='rmvDupMol1', f_base_name='CHEMBL233_bind')\n",
    "print(f'mhd_effect_df1_rmv1.shape: {mhd_effect_df1_rmv1.shape}')\n",
    "\n",
    "plot_diff_pref_names(mhd_effect_df1, mhd_effect_df1_rmv1)"
   ]
  },
  {
   "cell_type": "markdown",
   "id": "abe43667",
   "metadata": {},
   "source": [
    "# CURA_HHD_OR"
   ]
  },
  {
   "cell_type": "code",
   "execution_count": null,
   "id": "6e335c3e",
   "metadata": {},
   "outputs": [],
   "source": [
    "hhd_df1 = read_hml_hd(in_dir=CURA_HHD_OR_DIR, dir_base_name ='rmvDupMol0', f_base_name='CHEMBL233_Ki')\n",
    "print(f'hhd_df1.shape: {hhd_df1.shape}')\n",
    "\n",
    "hhd_df1_rmv1 = read_hml_hd(in_dir=CURA_HHD_OR_DIR, dir_base_name ='rmvDupMol1', f_base_name='CHEMBL233_Ki')\n",
    "print(f'hhd_df1_rmv1.shape: {hhd_df1_rmv1.shape}')\n",
    "\n",
    "plot_diff_pref_names(hhd_df1, hhd_df1_rmv1)"
   ]
  }
 ],
 "metadata": {
  "kernelspec": {
   "display_name": "datacat",
   "language": "python",
   "name": "python3"
  },
  "language_info": {
   "codemirror_mode": {
    "name": "ipython",
    "version": 3
   },
   "file_extension": ".py",
   "mimetype": "text/x-python",
   "name": "python",
   "nbconvert_exporter": "python",
   "pygments_lexer": "ipython3",
   "version": "3.8.20"
  }
 },
 "nbformat": 4,
 "nbformat_minor": 5
}
