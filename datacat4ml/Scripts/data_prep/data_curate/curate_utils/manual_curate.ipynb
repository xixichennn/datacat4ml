{
 "cells": [
  {
   "cell_type": "code",
   "execution_count": 79,
   "id": "e629e06a",
   "metadata": {},
   "outputs": [],
   "source": [
    "import os\n",
    "import pandas as pd\n",
    "\n",
    "from datacat4ml.const import CURA_LHD_OR_DIR\n",
    "from datacat4ml.Scripts.data_prep.data_curate.curate_utils.standardize_on_dataset import remove_dup_mols"
   ]
  },
  {
   "cell_type": "markdown",
   "id": "88754f00",
   "metadata": {},
   "source": [
    "# CURA_LHD_OR"
   ]
  },
  {
   "cell_type": "code",
   "execution_count": null,
   "id": "27becb2e",
   "metadata": {},
   "outputs": [],
   "source": [
    "def read_lhd(f_base_name='CHEMBL233_bind_RBA_Ki_CHEMBL3707592_lhd', dir_base_name ='rmvDupMol0'):\n",
    "    for f in os.listdir(os.path.join(CURA_LHD_OR_DIR, dir_base_name)):\n",
    "        if f.startswith(f_base_name):\n",
    "            lhd_df1 = pd.read_csv(os.path.join(CURA_LHD_OR_DIR, dir_base_name, f))\n",
    "            return lhd_df1"
   ]
  },
  {
   "cell_type": "code",
   "execution_count": null,
   "id": "4d95bbd3",
   "metadata": {},
   "outputs": [
    {
     "data": {
      "text/plain": [
       "'CHEMBL237_bind_RBA_Ki_CHEMBL910349_lhd_b50_s50_curated.csv'"
      ]
     },
     "execution_count": 1,
     "metadata": {},
     "output_type": "execute_result"
    }
   ],
   "source": [
    "lhd_or_files = [\n",
    "'CHEMBL2014_bind_RBA_IC50_CHEMBL867087_lhd_b50_b50_curated.csv',\n",
    "'CHEMBL2014_bind_RBA_Ki_CHEMBL1030622_lhd_b50_b50_curated.csv',\n",
    "'CHEMBL2014_bind_RBA_Ki_CHEMBL888952_lhd_b50_s50_curated.csv',\n",
    "'CHEMBL2014_bind_RBA_Ki_CHEMBL892111_lhd_b50_b50_curated.csv',\n",
    "'CHEMBL233_agon_G-cAMP_EC50_CHEMBL4356649_lhd_b50_b50_curated.csv',\n",
    "'CHEMBL233_agon_G-GTP_EC50_CHEMBL3887793_lhd_b50_b50_curated.csv',\n",
    "'CHEMBL233_agon_G-GTP_EC50_CHEMBL4201551_lhd_b50_s50_curated.csv',\n",
    "'CHEMBL233_antag_G-GTP_IC50_CHEMBL909298_lhd_s50_s50_curated.csv',\n",
    "'CHEMBL233_bind_RBA_Ki_CHEMBL1030625_lhd_b50_b50_curated.csv',\n",
    "'CHEMBL233_bind_RBA_Ki_CHEMBL3887789_lhd_b50_b50_curated.csv',\n",
    "'CHEMBL233_bind_RBA_Ki_CHEMBL4356647_lhd_b50_b50_curated.csv',\n",
    "'CHEMBL233_bind_RBA_Ki_CHEMBL892114_lhd_b50_b50_curated.csv',\n",
    "'CHEMBL233_bind_RBA_Ki_CHEMBL909851_lhd_b50_s50_curated.csv',\n",
    "'CHEMBL236_bind_RBA_Ki_CHEMBL1030623_lhd_b50_b50_curated.csv',\n",
    "'CHEMBL236_bind_RBA_Ki_CHEMBL3887791_lhd_b50_b50_curated.csv',\n",
    "'CHEMBL236_bind_RBA_Ki_CHEMBL892112_lhd_b50_b50_curated.csv',\n",
    "'CHEMBL237_agon_G-GTP_EC50_CHEMBL3887794_lhd_b50_b50_curated.csv',\n",
    "'CHEMBL237_agon_G-GTP_EC50_CHEMBL910350_lhd_s50_s50_curated.csv',\n",
    "'CHEMBL237_bind_RBA_Ki_CHEMBL1030624_lhd_b50_b50_curated.csv',\n",
    "'CHEMBL237_bind_RBA_Ki_CHEMBL3887790_lhd_b50_b50_curated.csv',\n",
    "'CHEMBL237_bind_RBA_Ki_CHEMBL5253113_lhd_s50_s50_curated.csv',\n",
    "'CHEMBL237_bind_RBA_Ki_CHEMBL892113_lhd_b50_b50_curated.csv',\n",
    "'CHEMBL237_bind_RBA_Ki_CHEMBL910349_lhd_b50_s50_curated.csv'\n",
    "]"
   ]
  },
  {
   "cell_type": "markdown",
   "id": "ae66bd86",
   "metadata": {},
   "source": [
    "## 1. 'CHEMBL233_bind_RBA_Ki_CHEMBL3707592_lhd_b50_s50_curated.csv'"
   ]
  },
  {
   "cell_type": "code",
   "execution_count": null,
   "id": "62b43543",
   "metadata": {},
   "outputs": [
    {
     "name": "stdout",
     "output_type": "stream",
     "text": [
      "lhd_df1.shape: (79, 49)\n",
      "vc: compound_chembl_id\n",
      "CHEMBL3908275    3\n",
      "CHEMBL3948231    3\n",
      "CHEMBL3911529    3\n",
      "CHEMBL3893577    3\n",
      "CHEMBL3954498    3\n",
      "CHEMBL3948400    3\n",
      "CHEMBL3901699    3\n",
      "CHEMBL3664540    3\n",
      "CHEMBL3904663    3\n",
      "CHEMBL3916122    3\n",
      "CHEMBL4107573    3\n",
      "CHEMBL3923372    3\n",
      "CHEMBL3947184    3\n",
      "CHEMBL3907149    3\n",
      "CHEMBL3912511    3\n",
      "CHEMBL3955920    3\n",
      "CHEMBL3919397    3\n",
      "CHEMBL3915488    2\n",
      "CHEMBL3951177    2\n",
      "CHEMBL3946351    2\n",
      "CHEMBL3900482    2\n",
      "CHEMBL3664541    2\n",
      "CHEMBL3944046    2\n",
      "CHEMBL3892737    2\n",
      "CHEMBL3664525    2\n",
      "CHEMBL3664526    2\n",
      "CHEMBL3982823    2\n",
      "CHEMBL3959791    2\n",
      "CHEMBL3952829    2\n",
      "CHEMBL3911769    2\n",
      "CHEMBL3664542    1\n",
      "CHEMBL3664512    1\n",
      "Name: count, dtype: int64\n",
      "(31, 49)\n",
      "After dropping the duplicate combinations of (smiles, value) , the shape of the df:(31, 49)\n",
      "(31, 49)\n"
     ]
    }
   ],
   "source": [
    "lhd_df1 = read_lhd('CHEMBL233_bind_RBA_Ki_CHEMBL3707592_lhd', 'rmvDupMol0')\n",
    "print(f'lhd_df1.shape: {lhd_df1.shape}')\n",
    "\n",
    "vc = lhd_df1['compound_chembl_id'].value_counts()\n",
    "print(f'vc: {vc}')\n",
    "\n",
    "wrong_activity_ids_1 = [\n",
    "    #compound_chembl_id: CHEMBL3908275    3\n",
    "    16348719, 16260203,\n",
    "    #comppund_chembl_id: CHEMBL3948231    3\n",
    "    16280459, 16285964,\n",
    "    #comppund_chembl_id: CHEMBL3911529    3\n",
    "    16338796, 16345420,\n",
    "    #comppund_chembl_id: CHEMBL3893577    3\n",
    "    16329322, 16334546,\n",
    "    #comppund_chembl_id: CHEMBL3954498    3\n",
    "    16323198, 16325206,\n",
    "    #comppund_chembl_id: CHEMBL3948400    3\n",
    "    16353251, 16318808,\n",
    "    #comppund_chembl_id: CHEMBL3901699    3\n",
    "    16311427, 16320230,\n",
    "    #comppund_chembl_id: CHEMBL3664540    3\n",
    "    16320904, 16329066,\n",
    "    #comppund_chembl_id: CHEMBL3904663    3\n",
    "    16311300, 16296171,\n",
    "    #comppund_chembl_id: CHEMBL3916122    3\n",
    "    16343355, 16278872,\n",
    "    #comppund_chembl_id: CHEMBL4107573    3\n",
    "    17607502, 17607533,\n",
    "    #comppund_chembl_id: CHEMBL3923372    3\n",
    "    16330728, 16340093,\n",
    "    #comppund_chembl_id: CHEMBL3947184    3\n",
    "    16262862, 16294741,\n",
    "    #comppund_chembl_id: CHEMBL3907149    3\n",
    "    16265478, 16268318,\n",
    "    #comppund_chembl_id: CHEMBL3912511    3\n",
    "    16309495, 16266350,\n",
    "    #comppund_chembl_id: CHEMBL3955920    3\n",
    "    16329500, 16270670,\n",
    "    #comppund_chembl_id: CHEMBL3919397    3\n",
    "    16274120, 16305421,\n",
    "    #comppund_chembl_id: CHEMBL3915488    2\n",
    "    16301326, \n",
    "    #comppund_chembl_id: CHEMBL3951177    2\n",
    "    16272693,\n",
    "    #comppund_chembl_id: CHEMBL3946351    2\n",
    "    16305554, \n",
    "    #comppund_chembl_id: CHEMBL3900482    2\n",
    "    16303895,\n",
    "    #comppund_chembl_id: CHEMBL3664541    2\n",
    "    16346449, 16299045,\n",
    "    #comppund_chembl_id: CHEMBL3944046    2\n",
    "    16278180,\n",
    "    #comppund_chembl_id: CHEMBL3892737    2\n",
    "    16276817,\n",
    "    #comppund_chembl_id: CHEMBL3664525    2\n",
    "    16293587, \n",
    "    #comppund_chembl_id: CHEMBL3664526    2\n",
    "    16260396,\n",
    "    #comppund_chembl_id: CHEMBL3982823    2\n",
    "    16289441,\n",
    "    #comppund_chembl_id: CHEMBL3959791    2\n",
    "    16356146,\n",
    "    #comppund_chembl_id: CHEMBL3952829    2\n",
    "    16279037, \n",
    "    #comppund_chembl_id: CHEMBL3911769    2             \n",
    "    16289762\n",
    "]\n",
    "\n",
    "lhd_df1_drop = lhd_df1[~lhd_df1['activity_id'].isin(wrong_activity_ids_1)].reset_index(drop=True)\n",
    "print(lhd_df1_drop.shape)\n",
    "\n",
    "lhd_df1_final = remove_dup_mols(lhd_df1_drop)\n",
    "print(lhd_df1_final.shape)"
   ]
  },
  {
   "cell_type": "markdown",
   "id": "415ae2e9",
   "metadata": {},
   "source": [
    "## 2. 'CHEMBL237_bind_RBA_Ki_CHEMBL4050969_lhd_b50_s50_curated.csv'"
   ]
  },
  {
   "cell_type": "code",
   "execution_count": null,
   "id": "c680e2e1",
   "metadata": {},
   "outputs": [
    {
     "name": "stdout",
     "output_type": "stream",
     "text": [
      "lhd_df2.shape: (50, 49)\n",
      "len(vc): 25\n",
      "vc: compound_chembl_id\n",
      "CHEMBL4063789    2\n",
      "CHEMBL4061999    2\n",
      "CHEMBL4066432    2\n",
      "CHEMBL1875314    2\n",
      "CHEMBL4089032    2\n",
      "CHEMBL4099178    2\n",
      "CHEMBL4081151    2\n",
      "CHEMBL4091446    2\n",
      "CHEMBL4070528    2\n",
      "CHEMBL4100033    2\n",
      "CHEMBL4075479    2\n",
      "CHEMBL4090036    2\n",
      "CHEMBL144439     2\n",
      "CHEMBL4083805    2\n",
      "CHEMBL4100198    2\n",
      "CHEMBL4071661    2\n",
      "CHEMBL4092454    2\n",
      "CHEMBL3484893    2\n",
      "CHEMBL4084706    2\n",
      "CHEMBL4078777    2\n",
      "CHEMBL1701606    2\n",
      "CHEMBL4104275    2\n",
      "CHEMBL4077345    2\n",
      "CHEMBL4101810    2\n",
      "CHEMBL4072651    2\n",
      "Name: count, dtype: int64\n"
     ]
    }
   ],
   "source": [
    "# After checking on the CHEMBL website, it was found that the duplicates are the same compounds with almost the same activity values. So it is save to merge the duplicates into one by taking the mean of the activity values\n",
    "lhd_df2 = read_lhd('CHEMBL237_bind_RBA_Ki_CHEMBL4050969_lhd', 'rmvDupMol0')\n",
    "print(f'lhd_df2.shape: {lhd_df2.shape}')\n",
    "\n",
    "vc = lhd_df2['compound_chembl_id'].value_counts()\n",
    "print(f'len(vc): {len(vc)}\\n'\n",
    "    f'vc: {vc}')"
   ]
  },
  {
   "cell_type": "code",
   "execution_count": 55,
   "id": "00855fdb",
   "metadata": {},
   "outputs": [
    {
     "name": "stdout",
     "output_type": "stream",
     "text": [
      "After dropping the duplicate combinations of (smiles, value) , the shape of the df:(50, 49)\n",
      "(25, 49)\n"
     ]
    }
   ],
   "source": [
    "lhd_df2_final = remove_dup_mols(lhd_df2)\n",
    "print(lhd_df2_final.shape)"
   ]
  },
  {
   "cell_type": "markdown",
   "id": "a71eac01",
   "metadata": {},
   "source": [
    "## 3. 'CHEMBL233_bind_RBA_Ki_CHEMBL3888831_lhd_b50_s50_curated.csv'"
   ]
  },
  {
   "cell_type": "code",
   "execution_count": null,
   "id": "8b3bc56e",
   "metadata": {},
   "outputs": [
    {
     "name": "stdout",
     "output_type": "stream",
     "text": [
      "lhd_df3.shape: (91, 49)\n",
      "len(vc): 63\n",
      "\n"
     ]
    },
    {
     "data": {
      "text/plain": [
       "compound_chembl_id\n",
       "CHEMBL3920864    2\n",
       "CHEMBL3982887    2\n",
       "CHEMBL3899387    2\n",
       "CHEMBL3911970    2\n",
       "CHEMBL3898034    2\n",
       "CHEMBL3934183    2\n",
       "CHEMBL3985824    2\n",
       "CHEMBL3977691    2\n",
       "CHEMBL3909426    2\n",
       "CHEMBL3965425    2\n",
       "CHEMBL3928651    2\n",
       "CHEMBL3967435    2\n",
       "CHEMBL3972755    2\n",
       "CHEMBL3907138    2\n",
       "CHEMBL3919659    2\n",
       "CHEMBL3921976    2\n",
       "CHEMBL3929120    2\n",
       "CHEMBL3982651    2\n",
       "CHEMBL3914240    2\n",
       "CHEMBL3889835    2\n",
       "CHEMBL3982674    2\n",
       "CHEMBL3951213    2\n",
       "CHEMBL3928190    2\n",
       "CHEMBL3969636    2\n",
       "CHEMBL3977883    2\n",
       "CHEMBL3937167    2\n",
       "CHEMBL3906866    2\n",
       "CHEMBL3937815    2\n",
       "CHEMBL3916201    1\n",
       "Name: count, dtype: int64"
      ]
     },
     "execution_count": 64,
     "metadata": {},
     "output_type": "execute_result"
    }
   ],
   "source": [
    "# After checking the original document, it was found that the duplicates were a pair of polar and non-polar diastereomers.\n",
    "lhd_df3 = read_lhd('CHEMBL233_bind_RBA_Ki_CHEMBL3888831_lhd', 'rmvDupMol0')\n",
    "print(f'lhd_df3.shape: {lhd_df3.shape}')\n",
    "\n",
    "vc = lhd_df3['compound_chembl_id'].value_counts()\n",
    "print(f'len(vc): {len(vc)}\\n')\n",
    "vc[:29]"
   ]
  },
  {
   "cell_type": "code",
   "execution_count": null,
   "id": "a74717a9",
   "metadata": {},
   "outputs": [],
   "source": [
    "wrong_activity_ids_3 = [\n",
    "    #CHEMBL3920864    2\n",
    "    \n",
    "    #CHEMBL3982887    2\n",
    "\n",
    "    #CHEMBL3899387    2\n",
    "\n",
    "    #CHEMBL3911970    2\n",
    "\n",
    "    #CHEMBL3898034    2\n",
    "\n",
    "    #CHEMBL3934183    2\n",
    "\n",
    "    #CHEMBL3985824    2\n",
    "\n",
    "    #CHEMBL3977691    2\n",
    "\n",
    "    #CHEMBL3909426    2\n",
    "\n",
    "    #CHEMBL3965425    2\n",
    "\n",
    "    #CHEMBL3928651    2\n",
    "    #CHEMBL3967435    2\n",
    "    #CHEMBL3972755    2\n",
    "    #CHEMBL3907138    2\n",
    "    #CHEMBL3919659    2\n",
    "    #CHEMBL3921976    2\n",
    "    #CHEMBL3929120    2\n",
    "    #CHEMBL3982651    2\n",
    "    #CHEMBL3914240    2\n",
    "    #CHEMBL3889835    2\n",
    "    #CHEMBL3982674    2\n",
    "    #CHEMBL3951213    2\n",
    "    #CHEMBL3928190    2\n",
    "    #CHEMBL3969636    2\n",
    "    #CHEMBL3977883    2\n",
    "    #CHEMBL3937167    2\n",
    "    #CHEMBL3906866    2\n",
    "    #CHEMBL3937815    2 \n",
    "]"
   ]
  },
  {
   "cell_type": "markdown",
   "id": "0982133e",
   "metadata": {},
   "source": [
    "## 4.'CHEMBL2014_bind_RBA_Ki_CHEMBL3888830_lhd_b50_s50_curated.csv'"
   ]
  },
  {
   "cell_type": "code",
   "execution_count": null,
   "id": "7934eae8",
   "metadata": {},
   "outputs": [
    {
     "name": "stdout",
     "output_type": "stream",
     "text": [
      "lhd_df4.shape: (86, 49)\n",
      "len(vc): 62\n",
      "\n"
     ]
    },
    {
     "data": {
      "text/plain": [
       "compound_chembl_id\n",
       "CHEMBL3943372    2\n",
       "CHEMBL3985824    2\n",
       "CHEMBL3928651    2\n",
       "CHEMBL3899387    2\n",
       "CHEMBL3911970    2\n",
       "CHEMBL3898034    2\n",
       "CHEMBL3934183    2\n",
       "CHEMBL3967435    2\n",
       "CHEMBL3977691    2\n",
       "CHEMBL3889835    2\n",
       "CHEMBL3909426    2\n",
       "CHEMBL3965425    2\n",
       "CHEMBL3907138    2\n",
       "CHEMBL3919659    2\n",
       "CHEMBL3921976    2\n",
       "CHEMBL3929120    2\n",
       "CHEMBL3914240    2\n",
       "CHEMBL3982651    2\n",
       "CHEMBL3982674    2\n",
       "CHEMBL3977883    2\n",
       "CHEMBL3969636    2\n",
       "CHEMBL3928190    2\n",
       "CHEMBL3937167    2\n",
       "CHEMBL3951213    2\n",
       "CHEMBL3951319    1\n",
       "Name: count, dtype: int64"
      ]
     },
     "execution_count": 61,
     "metadata": {},
     "output_type": "execute_result"
    }
   ],
   "source": [
    "# After checking the original document, it was found that the duplicates were a pair of polar and non-polar diastereomers.\n",
    "lhd_df4 = read_lhd('CHEMBL2014_bind_RBA_Ki_CHEMBL3888830_lhd', 'rmvDupMol0')\n",
    "print(f'lhd_df4.shape: {lhd_df4.shape}')\n",
    "\n",
    "vc = lhd_df4['compound_chembl_id'].value_counts()\n",
    "print(f'len(vc): {len(vc)}\\n')\n",
    "vc[:25]"
   ]
  },
  {
   "cell_type": "code",
   "execution_count": null,
   "id": "ff0c8131",
   "metadata": {},
   "outputs": [],
   "source": [
    "wrong_activity_ids_4 = [\n",
    "    #CHEMBL3943372    2\n",
    "\n",
    "    #CHEMBL3985824    2\n",
    "    \n",
    "    #CHEMBL3928651    2\n",
    "    #CHEMBL3899387    2\n",
    "    #CHEMBL3911970    2\n",
    "    #CHEMBL3898034    2\n",
    "    #CHEMBL3934183    2\n",
    "    #CHEMBL3967435    2\n",
    "    #CHEMBL3977691    2\n",
    "    #CHEMBL3889835    2\n",
    "    #CHEMBL3909426    2\n",
    "    #CHEMBL3965425    2\n",
    "    #CHEMBL3907138    2\n",
    "    #CHEMBL3919659    2\n",
    "    #CHEMBL3921976    2\n",
    "    #CHEMBL3929120    2\n",
    "    #CHEMBL3914240    2\n",
    "    #CHEMBL3982651    2\n",
    "    #CHEMBL3982674    2\n",
    "    #CHEMBL3977883    2\n",
    "    #CHEMBL3969636    2\n",
    "    #CHEMBL3928190    2\n",
    "    #CHEMBL3937167    2\n",
    "    #CHEMBL3951213    2\n",
    "]"
   ]
  },
  {
   "cell_type": "markdown",
   "id": "be4fe23d",
   "metadata": {},
   "source": [
    "## 5. 'CHEMBL236_bind_RBA_Ki_CHEMBL758175_lhd_b50_s50_curated.csv'"
   ]
  },
  {
   "cell_type": "code",
   "execution_count": null,
   "id": "e4d9b7e8",
   "metadata": {},
   "outputs": [
    {
     "name": "stdout",
     "output_type": "stream",
     "text": [
      "lhd_df5.shape: (52, 49)\n",
      "len(vc): 42\n",
      "\n"
     ]
    },
    {
     "data": {
      "text/plain": [
       "compound_chembl_id\n",
       "CHEMBL169346     3\n",
       "CHEMBL2367916    3\n",
       "CHEMBL299114     3\n",
       "CHEMBL279968     3\n",
       "CHEMBL56585      2\n",
       "CHEMBL301835     2\n",
       "CHEMBL353938     1\n",
       "Name: count, dtype: int64"
      ]
     },
     "execution_count": 66,
     "metadata": {},
     "output_type": "execute_result"
    }
   ],
   "source": [
    "# after checking the original document, it was found the duplicates were same compound with crystal waters, or racemic isomers.\n",
    "lhd_df5 = read_lhd('CHEMBL236_bind_RBA_Ki_CHEMBL758175_lhd', 'rmvDupMol0')\n",
    "print(f'lhd_df5.shape: {lhd_df5.shape}')\n",
    "\n",
    "vc = lhd_df5['compound_chembl_id'].value_counts()\n",
    "print(f'len(vc): {len(vc)}\\n')\n",
    "vc[:7]"
   ]
  },
  {
   "cell_type": "code",
   "execution_count": null,
   "id": "269b276e",
   "metadata": {},
   "outputs": [],
   "source": [
    "wrong_activity_ids_5 = [\n",
    "    # CHEMBL169346     3\n",
    "    # CHEMBL2367916    3\n",
    "    # CHEMBL299114     3\n",
    "    # CHEMBL279968     3\n",
    "    # CHEMBL56585      2\n",
    "    # CHEMBL301835     2\n",
    "]"
   ]
  },
  {
   "cell_type": "markdown",
   "id": "4f9fdfa8",
   "metadata": {},
   "source": [
    "## 6. 'CHEMBL237_bind_RBA_Ki_CHEMBL3887032_lhd_b50_b50_curated.csv'"
   ]
  },
  {
   "cell_type": "code",
   "execution_count": null,
   "id": "0c67bd97",
   "metadata": {},
   "outputs": [
    {
     "name": "stdout",
     "output_type": "stream",
     "text": [
      "lhd_df6.shape: (192, 49)\n",
      "len(vc): 184\n",
      "\n"
     ]
    },
    {
     "data": {
      "text/plain": [
       "compound_chembl_id\n",
       "CHEMBL3695218    2\n",
       "CHEMBL3647958    2\n",
       "CHEMBL3695217    2\n",
       "CHEMBL3647959    2\n",
       "CHEMBL3698892    2\n",
       "CHEMBL3698893    2\n",
       "CHEMBL3647963    2\n",
       "CHEMBL3695245    2\n",
       "CHEMBL3695216    1\n",
       "CHEMBL3698853    1\n",
       "Name: count, dtype: int64"
      ]
     },
     "execution_count": 69,
     "metadata": {},
     "output_type": "execute_result"
    }
   ],
   "source": [
    "# can't access the original document, but the standard_value for most duplicates are exactly the same, some differ within 1 magnitude.\n",
    "lhd_df6 = read_lhd('CHEMBL237_bind_RBA_Ki_CHEMBL3887032_lhd', 'rmvDupMol0')\n",
    "print(f'lhd_df6.shape: {lhd_df6.shape}')\n",
    "\n",
    "vc = lhd_df6['compound_chembl_id'].value_counts()\n",
    "print(f'len(vc): {len(vc)}\\n')\n",
    "vc[:10]"
   ]
  },
  {
   "cell_type": "code",
   "execution_count": null,
   "id": "4f9770bd",
   "metadata": {},
   "outputs": [],
   "source": [
    "wrong_activity_ids_6 = [\n",
    "    #CHEMBL3695218    2\n",
    "\n",
    "    #CHEMBL3647958    2\n",
    "    \n",
    "    #CHEMBL3695217    2\n",
    "\n",
    "    #CHEMBL3647959    2\n",
    "\n",
    "    #CHEMBL3698892    2\n",
    "\n",
    "    #CHEMBL3698893    2\n",
    "\n",
    "    #CHEMBL3647963    2\n",
    "    \n",
    "    #CHEMBL3695245    2\n",
    "]"
   ]
  },
  {
   "cell_type": "markdown",
   "id": "598d2970",
   "metadata": {},
   "source": [
    "## 7. 'CHEMBL233_bind_RBA_Ki_CHEMBL3887030_lhd_b50_b50_curated.csv'"
   ]
  },
  {
   "cell_type": "code",
   "execution_count": null,
   "id": "eb7a4371",
   "metadata": {},
   "outputs": [
    {
     "name": "stdout",
     "output_type": "stream",
     "text": [
      "lhd_df7.shape: (196, 49)\n",
      "len(vc): 188\n",
      "\n"
     ]
    },
    {
     "data": {
      "text/plain": [
       "compound_chembl_id\n",
       "CHEMBL3695217    2\n",
       "CHEMBL3695218    2\n",
       "CHEMBL3698892    2\n",
       "CHEMBL3698893    2\n",
       "CHEMBL3647959    2\n",
       "CHEMBL3647958    2\n",
       "CHEMBL3695245    2\n",
       "CHEMBL3647963    2\n",
       "CHEMBL210665     1\n",
       "CHEMBL3698852    1\n",
       "Name: count, dtype: int64"
      ]
     },
     "execution_count": 70,
     "metadata": {},
     "output_type": "execute_result"
    }
   ],
   "source": [
    "# can't access the original document, but the standard_value for most duplicates are exactly the same, some differ within 1 magnitude.\n",
    "lhd_df7 = read_lhd('CHEMBL233_bind_RBA_Ki_CHEMBL3887030_lhd', 'rmvDupMol0')\n",
    "print(f'lhd_df7.shape: {lhd_df7.shape}')\n",
    "\n",
    "vc = lhd_df7['compound_chembl_id'].value_counts()\n",
    "print(f'len(vc): {len(vc)}\\n')\n",
    "vc[:10]"
   ]
  },
  {
   "cell_type": "code",
   "execution_count": null,
   "id": "945ddf5f",
   "metadata": {},
   "outputs": [],
   "source": [
    "wrong_activity_ids_7 = [\n",
    "    #CHEMBL3695217    2\n",
    "\n",
    "    #CHEMBL3695218    2\n",
    "\n",
    "    #CHEMBL3698892    2\n",
    "\n",
    "    #CHEMBL3698893    2\n",
    "\n",
    "    #CHEMBL3647959    2\n",
    "\n",
    "    #CHEMBL3647958    2\n",
    "\n",
    "    #CHEMBL3695245    2\n",
    "    \n",
    "    #CHEMBL3647963    2\n",
    "]"
   ]
  },
  {
   "cell_type": "markdown",
   "id": "75828107",
   "metadata": {},
   "source": [
    "## 8. 'CHEMBL236_bind_RBA_Ki_CHEMBL3887031_lhd_b50_b50_curated.csv'"
   ]
  },
  {
   "cell_type": "code",
   "execution_count": null,
   "id": "749f43b7",
   "metadata": {},
   "outputs": [
    {
     "name": "stdout",
     "output_type": "stream",
     "text": [
      "lhd_df8.shape: (193, 49)\n",
      "len(vc): 185\n",
      "\n"
     ]
    },
    {
     "data": {
      "text/plain": [
       "compound_chembl_id\n",
       "CHEMBL3695217    2\n",
       "CHEMBL3695218    2\n",
       "CHEMBL3698892    2\n",
       "CHEMBL3647959    2\n",
       "CHEMBL3698893    2\n",
       "CHEMBL3647958    2\n",
       "CHEMBL3647963    2\n",
       "CHEMBL3695245    2\n",
       "CHEMBL210665     1\n",
       "CHEMBL3698852    1\n",
       "Name: count, dtype: int64"
      ]
     },
     "execution_count": 71,
     "metadata": {},
     "output_type": "execute_result"
    }
   ],
   "source": [
    "# can't access the original document, but the standard_value for most duplicates are exactly the same, some differ within 1 magnitude, some are both inactive. So it is save to merge the duplicates into one.\n",
    "lhd_df8 = read_lhd('CHEMBL236_bind_RBA_Ki_CHEMBL3887031_lhd', 'rmvDupMol0')\n",
    "print(f'lhd_df8.shape: {lhd_df8.shape}')\n",
    "\n",
    "vc = lhd_df8['compound_chembl_id'].value_counts()\n",
    "print(f'len(vc): {len(vc)}\\n')\n",
    "vc[:10]"
   ]
  },
  {
   "cell_type": "code",
   "execution_count": null,
   "id": "a5d17d8c",
   "metadata": {},
   "outputs": [],
   "source": [
    "wrong_activity_ids_8 = [\n",
    "    #CHEMBL3695217    2\n",
    "\n",
    "    #CHEMBL3695218    2\n",
    "    \n",
    "    #CHEMBL3698892    2\n",
    "\n",
    "    #CHEMBL3647959    2\n",
    "\n",
    "    #CHEMBL3698893    2\n",
    "\n",
    "    #CHEMBL3647958    2\n",
    "\n",
    "    #CHEMBL3647963    2\n",
    "    \n",
    "    #CHEMBL3695245    2\n",
    "]"
   ]
  },
  {
   "cell_type": "markdown",
   "id": "67b4f2bb",
   "metadata": {},
   "source": [
    "## 9. 'CHEMBL233_agon_G-GTP_EC50_CHEMBL3888720_lhd_b50_b50_curated.csv'"
   ]
  },
  {
   "cell_type": "code",
   "execution_count": null,
   "id": "c4f0c2c3",
   "metadata": {},
   "outputs": [
    {
     "name": "stdout",
     "output_type": "stream",
     "text": [
      "lhd_df9.shape: (64, 49)\n",
      "len(vc): 58\n",
      "\n"
     ]
    },
    {
     "data": {
      "text/plain": [
       "compound_chembl_id\n",
       "CHEMBL3976681    2\n",
       "CHEMBL4111936    2\n",
       "CHEMBL4108710    2\n",
       "CHEMBL3971169    2\n",
       "CHEMBL4106563    2\n",
       "CHEMBL3948713    2\n",
       "CHEMBL3922780    1\n",
       "CHEMBL3904456    1\n",
       "CHEMBL3945031    1\n",
       "CHEMBL4110263    1\n",
       "Name: count, dtype: int64"
      ]
     },
     "execution_count": 72,
     "metadata": {},
     "output_type": "execute_result"
    }
   ],
   "source": [
    "# After checking the original document, it was found that the duplicates are compounds were recorded twice with different activity values. But the activity values are very close to each other.\n",
    "# So it is save to merge the duplicates into one by taking the mean of the activity values\n",
    "lhd_df9 = read_lhd('CHEMBL233_agon_G-GTP_EC50_CHEMBL3888720_lhd', 'rmvDupMol0')\n",
    "print(f'lhd_df9.shape: {lhd_df9.shape}')\n",
    "\n",
    "vc = lhd_df9['compound_chembl_id'].value_counts()\n",
    "print(f'len(vc): {len(vc)}\\n')\n",
    "vc[:10]"
   ]
  },
  {
   "cell_type": "code",
   "execution_count": null,
   "id": "e01133cf",
   "metadata": {},
   "outputs": [],
   "source": [
    "wrong_activity_ids_9 = [\n",
    "    #CHEMBL3976681    2\n",
    "    #CHEMBL4111936    2\n",
    "    #CHEMBL4108710    2\n",
    "    #CHEMBL3971169    2\n",
    "    #CHEMBL4106563    2\n",
    "    #CHEMBL3948713    2\n",
    "]"
   ]
  },
  {
   "cell_type": "markdown",
   "id": "43bdcb26",
   "metadata": {},
   "source": [
    "## 10. 'CHEMBL237_agon_G-GTP_EC50_CHEMBL3888721_lhd_b50_s50_curated.csv'"
   ]
  },
  {
   "cell_type": "code",
   "execution_count": null,
   "id": "60a3e5de",
   "metadata": {},
   "outputs": [
    {
     "name": "stdout",
     "output_type": "stream",
     "text": [
      "lhd_df10.shape: (56, 49)\n",
      "len(vc): 50\n",
      "\n"
     ]
    },
    {
     "data": {
      "text/plain": [
       "compound_chembl_id\n",
       "CHEMBL4108710    2\n",
       "CHEMBL3948713    2\n",
       "CHEMBL4106563    2\n",
       "CHEMBL3971169    2\n",
       "CHEMBL4111936    2\n",
       "CHEMBL3976681    2\n",
       "CHEMBL4114481    1\n",
       "CHEMBL4111028    1\n",
       "CHEMBL4111757    1\n",
       "CHEMBL3927022    1\n",
       "Name: count, dtype: int64"
      ]
     },
     "execution_count": 73,
     "metadata": {},
     "output_type": "execute_result"
    }
   ],
   "source": [
    "# After checking the original document, it was found that the duplicates are compounds were recorded twice with different activity values. But the activity values are very close to each other.\n",
    "# So it is save to merge the duplicates into one by taking the mean of the activity values\n",
    "lhd_df10 = read_lhd('CHEMBL237_agon_G-GTP_EC50_CHEMBL3888721_lhd', 'rmvDupMol0')\n",
    "print(f'lhd_df10.shape: {lhd_df10.shape}')\n",
    "\n",
    "vc = lhd_df10['compound_chembl_id'].value_counts()\n",
    "print(f'len(vc): {len(vc)}\\n')\n",
    "vc[:10]"
   ]
  },
  {
   "cell_type": "code",
   "execution_count": null,
   "id": "365d6274",
   "metadata": {},
   "outputs": [],
   "source": [
    "wrong_activity_ids_10 = [\n",
    "    #CHEMBL4108710    2\n",
    "    #CHEMBL3948713    2\n",
    "    #CHEMBL4106563    2\n",
    "    #CHEMBL3971169    2\n",
    "    #CHEMBL4111936    2\n",
    "    #CHEMBL3976681    2\n",
    "]"
   ]
  },
  {
   "cell_type": "markdown",
   "id": "12580de5",
   "metadata": {},
   "source": [
    "## 11. 'CHEMBL233_bind_RBA_Ki_CHEMBL3880325_lhd_b50_b50_curated.csv'"
   ]
  },
  {
   "cell_type": "code",
   "execution_count": null,
   "id": "af0d2434",
   "metadata": {},
   "outputs": [
    {
     "name": "stdout",
     "output_type": "stream",
     "text": [
      "lhd_df11.shape: (207, 49)\n",
      "len(vc): 203\n",
      "\n"
     ]
    },
    {
     "data": {
      "text/plain": [
       "canonical_smiles_by_Std\n",
       "NC(=O)c1cccc([C@H]2C[C@H]3CC[C@@H](C2)N3CCN(CC2CCCCC2)C(=O)[C@@H](O)CO)c1             3\n",
       "NC(=O)c1cccc([C@H]2C[C@H]3CC[C@@H](C2)N3CCN(CC2CCCCC2)C(=O)C2(O)CC2)c1                2\n",
       "O=C(O)CCC(=O)N(CCN1[C@@H]2CC[C@H]1C[C@@H](c1cccc(O)c1)C2)Cc1c(F)cccc1F                2\n",
       "CN(C)S(=O)(=O)N(CCN1[C@@H]2CC[C@H]1C[C@@H](c1cccc(C(N)=O)c1)C2)CC1CCCCC1              1\n",
       "NC(=O)c1cccc([C@H]2C[C@H]3CC[C@@H](C2)N3CCN(CC2CCCCC2)C(=O)C[C@H](O)CO)c1             1\n",
       "NC(=O)c1cccc([C@H]2C[C@H]3CC[C@@H](C2)N3CCN(CC2CCCCC2)C(=O)[C@@H](O)CCO)c1            1\n",
       "NC(=O)c1cccc([C@H]2C[C@H]3CC[C@@H](C2)N3CCN(CC2CCCCC2)C(=O)CCCO)c1                    1\n",
       "CN(C)CC(O)C(=O)N(CCN1[C@@H]2CC[C@H]1C[C@@H](c1cccc(C(N)=O)c1)C2)CC1CCCCC1             1\n",
       "CCN(CC)CC[C@H](O)C(=O)N(CCN1[C@@H]2CC[C@H]1C[C@@H](c1cccc(C(N)=O)c1)C2)CC1CCCCC1      1\n",
       "CC(C)(C)NCC[C@H](O)C(=O)N(CCN1[C@@H]2CC[C@H]1C[C@@H](c1cccc(C(N)=O)c1)C2)CC1CCCCC1    1\n",
       "Name: count, dtype: int64"
      ]
     },
     "execution_count": 75,
     "metadata": {},
     "output_type": "execute_result"
    }
   ],
   "source": [
    "#The duplicated SMILES correspond same primary structure with very close activity values. So it is save to merge the duplicates into one by taking the mean of the activity values\n",
    "lhd_df11 = read_lhd('CHEMBL233_bind_RBA_Ki_CHEMBL3880325_lhd', 'rmvDupMol0')\n",
    "print(f'lhd_df11.shape: {lhd_df11.shape}')\n",
    "\n",
    "vc = lhd_df11['canonical_smiles_by_Std'].value_counts()\n",
    "print(f'len(vc): {len(vc)}\\n')\n",
    "vc[:10]"
   ]
  },
  {
   "cell_type": "markdown",
   "id": "9687edb9",
   "metadata": {},
   "source": [
    "## 12. 'CHEMBL236_bind_RBA_Ki_CHEMBL3880326_lhd_b50_b50_curated.csv'"
   ]
  },
  {
   "cell_type": "code",
   "execution_count": null,
   "id": "54e6384a",
   "metadata": {},
   "outputs": [
    {
     "name": "stdout",
     "output_type": "stream",
     "text": [
      "lhd_df12.shape: (206, 49)\n",
      "len(vc): 202\n",
      "\n"
     ]
    },
    {
     "data": {
      "text/plain": [
       "canonical_smiles_by_Std\n",
       "NC(=O)c1cccc([C@H]2C[C@H]3CC[C@@H](C2)N3CCN(CC2CCCCC2)C(=O)[C@@H](O)CO)c1             3\n",
       "O=C(O)CCC(=O)N(CCN1[C@@H]2CC[C@H]1C[C@@H](c1cccc(O)c1)C2)Cc1c(F)cccc1F                2\n",
       "NC(=O)c1cccc([C@H]2C[C@H]3CC[C@@H](C2)N3CCN(CC2CCCCC2)C(=O)C2(O)CC2)c1                2\n",
       "O=C(NCc1ccc(F)cc1)N(CCN1[C@@H]2CC[C@H]1C[C@@H](c1cccc(O)c1)C2)CC1CCCCC1               1\n",
       "CN(C)CC(=O)N(CCN1[C@@H]2CC[C@H]1C[C@@H](c1cccc(C(N)=O)c1)C2)CC1CCCCC1                 1\n",
       "NC(=O)c1cccc([C@H]2C[C@H]3CC[C@@H](C2)N3CCN(CC2CCCCC2)C(=O)[C@@H](O)CCO)c1            1\n",
       "NC(=O)c1cccc([C@H]2C[C@H]3CC[C@@H](C2)N3CCN(CC2CCCCC2)C(=O)CCCO)c1                    1\n",
       "CN(C)CC(O)C(=O)N(CCN1[C@@H]2CC[C@H]1C[C@@H](c1cccc(C(N)=O)c1)C2)CC1CCCCC1             1\n",
       "CCN(CC)CC[C@H](O)C(=O)N(CCN1[C@@H]2CC[C@H]1C[C@@H](c1cccc(C(N)=O)c1)C2)CC1CCCCC1      1\n",
       "CC(C)(C)NCC[C@H](O)C(=O)N(CCN1[C@@H]2CC[C@H]1C[C@@H](c1cccc(C(N)=O)c1)C2)CC1CCCCC1    1\n",
       "Name: count, dtype: int64"
      ]
     },
     "execution_count": 78,
     "metadata": {},
     "output_type": "execute_result"
    }
   ],
   "source": [
    "# The duplicated SMILES correspond same primary structure with very close activity values. So it is save to merge the duplicates into one by taking the mean of the activity values\n",
    "lhd_df12 = read_lhd('CHEMBL236_bind_RBA_Ki_CHEMBL3880326_lhd', 'rmvDupMol0')\n",
    "print(f'lhd_df12.shape: {lhd_df12.shape}')\n",
    "\n",
    "#vc = lhd_df12['compound_chembl_id'].value_counts()\n",
    "vc = lhd_df12['canonical_smiles_by_Std'].value_counts()\n",
    "print(f'len(vc): {len(vc)}\\n')\n",
    "vc[:10]"
   ]
  }
 ],
 "metadata": {
  "kernelspec": {
   "display_name": "datacat",
   "language": "python",
   "name": "python3"
  },
  "language_info": {
   "codemirror_mode": {
    "name": "ipython",
    "version": 3
   },
   "file_extension": ".py",
   "mimetype": "text/x-python",
   "name": "python",
   "nbconvert_exporter": "python",
   "pygments_lexer": "ipython3",
   "version": "3.8.20"
  }
 },
 "nbformat": 4,
 "nbformat_minor": 5
}
