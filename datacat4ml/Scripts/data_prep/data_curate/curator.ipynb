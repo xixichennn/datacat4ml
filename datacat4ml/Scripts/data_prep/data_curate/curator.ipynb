{
 "cells": [
  {
   "cell_type": "code",
   "execution_count": 3,
   "metadata": {},
   "outputs": [],
   "source": [
    "# conda env: pyg (Python3.9.16)\n",
    "\n",
    "import sys\n",
    "import os\n",
    "import glob\n",
    "import shutil\n",
    "\n",
    "import pandas as pd\n",
    "import numpy as np\n",
    "\n",
    "from datacat4ml.utils import mkdirs, get_df_name\n",
    "from datacat4ml.const import HET_DATASETS_DIR, OR_names\n",
    "from datacat4ml.Scripts.data_prep.data_curate.struc_curate_utils import struct_curator\n",
    "from datacat4ml.Scripts.data_prep.data_curate.exp_curate_utils import remove_dup_mols\n",
    "\n",
    "from rdkit import Chem\n",
    "from rdkit.Chem import AllChem\n",
    "\n",
    "from tqdm.contrib.concurrent import process_map\n",
    "from loguru import logger"
   ]
  },
  {
   "cell_type": "markdown",
   "metadata": {},
   "source": [
    "# Curate the structure and remove duplicates"
   ]
  },
  {
   "cell_type": "code",
   "execution_count": null,
   "metadata": {},
   "outputs": [
    {
     "name": "stdout",
     "output_type": "stream",
     "text": [
      "/storage/homefs/yc24j783/datacat4ml/datacat4ml/Data/data_prep/data_categorize/het_datasets/mor/Ki\n",
      "/storage/homefs/yc24j783/datacat4ml/datacat4ml/Data/data_prep/data_categorize/het_datasets/mor/IC50\n",
      "/storage/homefs/yc24j783/datacat4ml/datacat4ml/Data/data_prep/data_categorize/het_datasets/mor/EC50\n",
      "/storage/homefs/yc24j783/datacat4ml/datacat4ml/Data/data_prep/data_categorize/het_datasets/kor/Ki\n",
      "/storage/homefs/yc24j783/datacat4ml/datacat4ml/Data/data_prep/data_categorize/het_datasets/kor/IC50\n",
      "/storage/homefs/yc24j783/datacat4ml/datacat4ml/Data/data_prep/data_categorize/het_datasets/kor/EC50\n",
      "/storage/homefs/yc24j783/datacat4ml/datacat4ml/Data/data_prep/data_categorize/het_datasets/dor/Ki\n",
      "/storage/homefs/yc24j783/datacat4ml/datacat4ml/Data/data_prep/data_categorize/het_datasets/dor/IC50\n",
      "/storage/homefs/yc24j783/datacat4ml/datacat4ml/Data/data_prep/data_categorize/het_datasets/dor/EC50\n",
      "/storage/homefs/yc24j783/datacat4ml/datacat4ml/Data/data_prep/data_categorize/het_datasets/nor/Ki\n",
      "/storage/homefs/yc24j783/datacat4ml/datacat4ml/Data/data_prep/data_categorize/het_datasets/nor/IC50\n",
      "/storage/homefs/yc24j783/datacat4ml/datacat4ml/Data/data_prep/data_categorize/het_datasets/nor/EC50\n"
     ]
    }
   ],
   "source": [
    "#for name in OR_names:\n",
    "#    for standard_type in ['Ki', 'IC50', 'EC50']:\n",
    "#        file_path = os.path.join(HET_DATASETS_DIR, name, standard_type)\n",
    "#        print(file_path)\n",
    "#        or_type_df = pd.read_csv(os.path.join(file_path, f'{name}_{standard_type}.csv'))\n",
    "#\n",
    "#        or_type_df_struct_curated = struct_curator(or_type_df)  \n",
    "#        or_type_df_exp_curated = remove_dup_mols(or_type_df_struct_curated)"
   ]
  },
  {
   "cell_type": "code",
   "execution_count": 7,
   "metadata": {},
   "outputs": [
    {
     "name": "stdout",
     "output_type": "stream",
     "text": [
      "The length of the original mor_Ki dataset is 4487\n",
      "The length of the curated mor_Ki dataset is 4248\n",
      "The length of the curated mor_Ki dataset is 3597\n"
     ]
    }
   ],
   "source": [
    "mor_ki_df = pd.read_csv(os.path.join(HET_DATASETS_DIR, 'mor', 'Ki', 'mor_Ki.csv'))\n",
    "print(f'The length of the original mor_Ki dataset is {len(mor_ki_df)}')\n",
    "mor_ki_df_struct_curated = struct_curator(mor_ki_df)\n",
    "print(f'The length of the curated mor_Ki dataset is {len(mor_ki_df_struct_curated)}')\n",
    "mor_ki_df_exp_curated = remove_dup_mols(mor_ki_df_struct_curated)\n",
    "print(f'The length of the curated mor_Ki dataset is {len(mor_ki_df_exp_curated)}')"
   ]
  },
  {
   "cell_type": "markdown",
   "metadata": {},
   "source": [
    "# Set the active threshold (follow what FS-mol does)"
   ]
  }
 ],
 "metadata": {
  "kernelspec": {
   "display_name": "pyg",
   "language": "python",
   "name": "python3"
  },
  "language_info": {
   "codemirror_mode": {
    "name": "ipython",
    "version": 3
   },
   "file_extension": ".py",
   "mimetype": "text/x-python",
   "name": "python",
   "nbconvert_exporter": "python",
   "pygments_lexer": "ipython3",
   "version": "3.9.16"
  }
 },
 "nbformat": 4,
 "nbformat_minor": 2
}
