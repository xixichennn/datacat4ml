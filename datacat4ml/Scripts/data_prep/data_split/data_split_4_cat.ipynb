{
 "cells": [
  {
   "cell_type": "code",
   "execution_count": 5,
   "metadata": {},
   "outputs": [],
   "source": [
    "# conda env: pyg (Python3.9.16)\n",
    "# --> \n",
    "# 1. improve it by adding multiprocessing feature\n",
    "# 2. add scaffold split for classification task. Because now three spliting methods:\n",
    "#    2.1 cluster split + stratified by cliff\n",
    "\n",
    "import os\n",
    "import sys\n",
    "from typing import List, Union\n",
    "import shutil\n",
    "\n",
    "import numpy as np\n",
    "import pandas as pd\n",
    "\n",
    "from sklearn.model_selection import train_test_split\n",
    "from sklearn.cluster import SpectralClustering\n",
    "\n",
    "from datacat4ml.utils import mkdirs, get_df_name\n",
    "from datacat4ml.const import *\n",
    "from datacat4ml.Scripts.data_prep.data_split.split_utils.cliff import ActivityCliffs, get_tanimoto_matrix"
   ]
  },
  {
   "cell_type": "markdown",
   "metadata": {},
   "source": [
    "# Split the categorized datasets"
   ]
  },
  {
   "cell_type": "code",
   "execution_count": null,
   "metadata": {},
   "outputs": [],
   "source": [
    "def data_spliter(smiles: List[str], pStandard_value: Union[List[float], np.array], \n",
    "                 similarity: float=0.9, potency_fold: int=1, \n",
    "                 use_clustering: bool=True, n_clusters: int=5, test_size: float=0.2, task: str='cls') -> pd.DataFrame:\n",
    "    \"\"\"\n",
    "    Split the data into train and test sets according to activity cliffs and compound charateristics.\n",
    "\n",
    "    :param smiles: List of SMILES strings\n",
    "    :param pStandard_value: List of pStandard_values or np.array of pStandard_values\n",
    "    :param activity: List of active/inactive labels, where 1 is active and 0 is inactive\n",
    "    :param similarity: Threshold value to determine structural similarity\n",
    "    :param potency_fold: Threshold value to determine potency difference, where the potency here is the pStandard_value\n",
    "    :param use_clustering: Whether to use clustering to split the data\n",
    "    :param n_clusters: Number of clusters to use if clustering is used\n",
    "    :param test_size: Test set size\n",
    "\n",
    "    :return: A dataframe \n",
    "    \"\"\"\n",
    "\n",
    "    if len(smiles) < 50:\n",
    "        print(f\"The number of data points in this file is lower than 50, which is not enough to build a good machine learning model. Skipping this file.\")\n",
    "        return None\n",
    "\n",
    "    if use_clustering:\n",
    "        # # cluster the dabaset into 5 clusters based on tanimoto distance matrix\n",
    "        spectral = SpectralClustering(n_clusters=n_clusters, affinity='precomputed', random_state=RANDOM_SEED)\n",
    "        clusters = spectral.fit(get_tanimoto_matrix(smiles)).labels_ # get the cluster labels for each molecule\n",
    "\n",
    "        train_idx, test_idx = [], []\n",
    "        for cluster in range(n_clusters):\n",
    "            num_in_cluster = len(np.where(clusters == cluster)[0])\n",
    "            print(f\"Cluster {cluster}: {num_in_cluster} data points\")\n",
    "\n",
    "            # get the indices of molecules in the current cluster\n",
    "            cluster_idx = np.where(clusters == cluster)[0] # `[0]` is need to convert the tuple to a list\n",
    "\n",
    "            if task == 'reg':\n",
    "                # get activity cliffs\n",
    "                cliffs = ActivityCliffs(smiles, pStandard_value)\n",
    "                cliff_mols = cliffs.get_cliff_molecules(return_smiles=False, similarity=similarity, potency_fold=potency_fold)\n",
    "                clust_cliff_mols = [cliff_mols[i] for i in cluster_idx]\n",
    "            \n",
    "                # can only split data stratified by cliff molecules if there are more than 1 cliff molecules in the cluster, else just split randomly\n",
    "                if sum(clust_cliff_mols) > 2:\n",
    "                    try: # try to avoid the Value ERROR when the number of class in the training set is less than 2\n",
    "                        clust_train_idx, clust_test_idx = train_test_split(cluster_idx, test_size=test_size, \n",
    "                                                                            stratify=clust_cliff_mols, # ensure that the train/test split has the same proportion of cliff molecules\n",
    "                                                                            random_state=RANDOM_SEED, shuffle=True)\n",
    "                    except ValueError:\n",
    "                        # This block will be executed if an error occurs in the try block\n",
    "                        print(\"An error occurred while stratifying data based on cliff molecules. Skipping stratification.\")\n",
    "                        clust_train_idx, clust_test_idx = train_test_split(cluster_idx, test_size=test_size, \n",
    "                                                                            random_state=RANDOM_SEED, shuffle=True)\n",
    "                else:\n",
    "                    clust_train_idx, clust_test_idx = train_test_split(cluster_idx, test_size=test_size, \n",
    "                                                                        random_state=RANDOM_SEED, shuffle=True)\n",
    "\n",
    "            elif task == 'cls':\n",
    "                print(\"Classification task\")\n",
    "                clust_train_idx, clust_test_idx = train_test_split(cluster_idx, test_size=test_size, \n",
    "                                                                    random_state=RANDOM_SEED, shuffle=True)\n",
    "                print(f'done splitting in task {task}')\n",
    "\n",
    "            train_idx.extend(clust_train_idx)\n",
    "            test_idx.extend(clust_test_idx)\n",
    "            \n",
    "    else:\n",
    "        # don't use clustering before spliting. This is to avoid potential cheating by using clustering to split the data, \n",
    "        # which make the structual diversity of the train and test sets the same\n",
    "        if task == 'reg':\n",
    "            if sum(cliff_mols) > 2:\n",
    "                train_idx, test_idx = train_test_split(range(len(smiles)), test_size=test_size, \n",
    "                                                stratify=cliff_mols, # ensure that the train/test split has the same proportion of cliff molecules\n",
    "                                                random_state=RANDOM_SEED, shuffle=True)\n",
    "            else:\n",
    "                train_idx, test_idx = train_test_split(range(len(smiles)), test_size=test_size, \n",
    "                                                random_state=RANDOM_SEED, shuffle=True)\n",
    "        elif task == 'cls':\n",
    "            train_idx, test_idx = train_test_split(range(len(smiles)), test_size=test_size, \n",
    "                                                random_state=RANDOM_SEED, shuffle=True)\n",
    "            \n",
    "    train_test = []\n",
    "    for i in range(len(smiles)):\n",
    "        if i in train_idx:\n",
    "            train_test.append('train')\n",
    "        elif i in test_idx:\n",
    "            train_test.append('test')\n",
    "        else:\n",
    "            raise ValueError('Index not in train or test set')\n",
    "    \n",
    "    if task == 'reg':\n",
    "        return pd.DataFrame({'cliff_mol': cliff_mols,\n",
    "                            'split': train_test})\n",
    "    elif task == 'cls':\n",
    "        return pd.DataFrame({'split': train_test})"
   ]
  },
  {
   "cell_type": "code",
   "execution_count": null,
   "metadata": {},
   "outputs": [],
   "source": [
    "def split_data(input_filepath = CURA_CAT_DATASETS_DIR, output_filepath = SPLIT_CAT_DATASETS_DIR,\n",
    "               task:str = 'cls', use_clustering: bool=True):\n",
    "    \n",
    "    # access the final csv files obtained from data curation\n",
    "    folder_path = os.path.join(input_filepath, task)\n",
    "    files = os.listdir(folder_path)\n",
    "    curated_files = [file for file in files if file.endswith('curated.csv')]\n",
    "\n",
    "    # make new directory to store the featurized data\n",
    "    output_path = os.path.join(output_filepath, task, 'use_clustering'+'_'+str(use_clustering))\n",
    "    if os.path.exists(output_path):\n",
    "        shutil.rmtree(output_path)\n",
    "    mkdirs(output_path)\n",
    "\n",
    "    for curated_file in curated_files:\n",
    "        print (f\"curated_file is: {curated_file}\\n\")\n",
    "\n",
    "        df = pd.read_csv(os.path.join(folder_path, curated_file))\n",
    "        df = df.drop(columns=['Unnamed: 0'])\n",
    "\n",
    "        # split the data into train and test sets\n",
    "        data_splited_df = data_spliter(df['canonical_smiles_by_Std'].tolist(), df['pStandard_value'].tolist(), df['activity'].tolist(), \n",
    "                                       use_clustering=use_clustering, task=task)\n",
    "        \n",
    "        # save data_splited_df as a csv file if it is not None\n",
    "        if data_splited_df is not None:\n",
    "            concat_df = pd.concat([df, data_splited_df], axis=1)\n",
    "            concat_df.to_csv(os.path.join(output_path, f'{curated_file[:-11]}split.csv'), index=False)"
   ]
  },
  {
   "cell_type": "code",
   "execution_count": 8,
   "metadata": {},
   "outputs": [
    {
     "name": "stdout",
     "output_type": "stream",
     "text": [
      "task is: cls\n",
      "\n",
      "use_clustering is: True\n",
      "\n",
      "curated_file is: nor_antag_G_GTP_IC50_curated.csv\n",
      "\n"
     ]
    },
    {
     "name": "stderr",
     "output_type": "stream",
     "text": [
      "100%|██████████| 150/150 [00:00<00:00, 7404.85it/s]\n"
     ]
    },
    {
     "name": "stdout",
     "output_type": "stream",
     "text": [
      "Cluster 0: 32 data points\n",
      "Classification task\n",
      "done splitting in task cls\n",
      "Cluster 1: 26 data points\n",
      "Classification task\n",
      "done splitting in task cls\n",
      "Cluster 2: 44 data points\n",
      "Classification task\n",
      "done splitting in task cls\n",
      "Cluster 3: 40 data points\n",
      "Classification task\n",
      "done splitting in task cls\n",
      "Cluster 4: 8 data points\n",
      "Classification task\n",
      "done splitting in task cls\n",
      "curated_file is: kor_antag_B_arrest_IC50_curated.csv\n",
      "\n"
     ]
    },
    {
     "name": "stderr",
     "output_type": "stream",
     "text": [
      "100%|██████████| 53/53 [00:00<00:00, 13594.55it/s]\n"
     ]
    },
    {
     "name": "stdout",
     "output_type": "stream",
     "text": [
      "Cluster 0: 18 data points\n",
      "Classification task\n",
      "done splitting in task cls\n",
      "Cluster 1: 12 data points\n",
      "Classification task\n",
      "done splitting in task cls\n",
      "Cluster 2: 6 data points\n",
      "Classification task\n",
      "done splitting in task cls\n",
      "Cluster 3: 7 data points\n",
      "Classification task\n",
      "done splitting in task cls\n",
      "Cluster 4: 10 data points\n",
      "Classification task\n",
      "done splitting in task cls\n",
      "curated_file is: nor_agon_G_Ca_EC50_curated.csv\n",
      "\n",
      "The number of data points in this file is lower than 50, which is not enough to build a good machine learning model. Skipping this file.\n",
      "curated_file is: dor_antag_B_arrest_IC50_curated.csv\n",
      "\n",
      "The number of data points in this file is lower than 50, which is not enough to build a good machine learning model. Skipping this file.\n",
      "curated_file is: dor_agon_G_cAMP_IC50_curated.csv\n",
      "\n",
      "The number of data points in this file is lower than 50, which is not enough to build a good machine learning model. Skipping this file.\n",
      "curated_file is: kor_agon_G_cAMP_IC50_curated.csv\n",
      "\n",
      "The number of data points in this file is lower than 50, which is not enough to build a good machine learning model. Skipping this file.\n",
      "curated_file is: dor_antag_G_GTP_Ki_curated.csv\n",
      "\n"
     ]
    },
    {
     "name": "stderr",
     "output_type": "stream",
     "text": [
      "100%|██████████| 73/73 [00:00<00:00, 9838.19it/s]\n"
     ]
    },
    {
     "name": "stdout",
     "output_type": "stream",
     "text": [
      "Cluster 0: 19 data points\n",
      "Classification task\n",
      "done splitting in task cls\n",
      "Cluster 1: 28 data points\n",
      "Classification task\n",
      "done splitting in task cls\n",
      "Cluster 2: 10 data points\n",
      "Classification task\n",
      "done splitting in task cls\n",
      "Cluster 3: 11 data points\n",
      "Classification task\n",
      "done splitting in task cls\n",
      "Cluster 4: 5 data points\n",
      "Classification task\n",
      "done splitting in task cls\n",
      "curated_file is: mor_antag_B_arrest_IC50_curated.csv\n",
      "\n",
      "The number of data points in this file is lower than 50, which is not enough to build a good machine learning model. Skipping this file.\n",
      "curated_file is: mor_agon_G_cAMP_IC50_curated.csv\n",
      "\n"
     ]
    },
    {
     "name": "stderr",
     "output_type": "stream",
     "text": [
      "100%|██████████| 55/55 [00:00<00:00, 12741.60it/s]\n"
     ]
    },
    {
     "name": "stdout",
     "output_type": "stream",
     "text": [
      "Cluster 0: 18 data points\n",
      "Classification task\n",
      "done splitting in task cls\n",
      "Cluster 1: 18 data points\n",
      "Classification task\n",
      "done splitting in task cls\n",
      "Cluster 2: 5 data points\n",
      "Classification task\n",
      "done splitting in task cls\n",
      "Cluster 3: 6 data points\n",
      "Classification task\n",
      "done splitting in task cls\n",
      "Cluster 4: 8 data points\n",
      "Classification task\n",
      "done splitting in task cls\n",
      "curated_file is: mor_agon_G_GTP_EC50_curated.csv\n",
      "\n"
     ]
    },
    {
     "name": "stderr",
     "output_type": "stream",
     "text": [
      "100%|██████████| 980/980 [00:00<00:00, 1145.87it/s]\n"
     ]
    },
    {
     "name": "stdout",
     "output_type": "stream",
     "text": [
      "Cluster 0: 295 data points\n",
      "Classification task\n",
      "done splitting in task cls\n",
      "Cluster 1: 242 data points\n",
      "Classification task\n",
      "done splitting in task cls\n",
      "Cluster 2: 145 data points\n",
      "Classification task\n",
      "done splitting in task cls\n",
      "Cluster 3: 222 data points\n",
      "Classification task\n",
      "done splitting in task cls\n",
      "Cluster 4: 76 data points\n",
      "Classification task\n",
      "done splitting in task cls\n",
      "curated_file is: dor_agon_G_cAMP_EC50_curated.csv\n",
      "\n"
     ]
    },
    {
     "name": "stderr",
     "output_type": "stream",
     "text": [
      "100%|██████████| 125/125 [00:00<00:00, 5983.38it/s]\n"
     ]
    },
    {
     "name": "stdout",
     "output_type": "stream",
     "text": [
      "Cluster 0: 28 data points\n",
      "Classification task\n",
      "done splitting in task cls\n",
      "Cluster 1: 24 data points\n",
      "Classification task\n",
      "done splitting in task cls\n",
      "Cluster 2: 18 data points\n",
      "Classification task\n",
      "done splitting in task cls\n",
      "Cluster 3: 44 data points\n",
      "Classification task\n",
      "done splitting in task cls\n",
      "Cluster 4: 11 data points\n",
      "Classification task\n",
      "done splitting in task cls\n",
      "curated_file is: mor_antag_G_GTP_Ki_curated.csv\n",
      "\n"
     ]
    },
    {
     "name": "stderr",
     "output_type": "stream",
     "text": [
      "100%|██████████| 61/61 [00:00<00:00, 5937.08it/s]\n"
     ]
    },
    {
     "name": "stdout",
     "output_type": "stream",
     "text": [
      "Cluster 0: 10 data points\n",
      "Classification task\n",
      "done splitting in task cls\n",
      "Cluster 1: 27 data points\n",
      "Classification task\n",
      "done splitting in task cls\n",
      "Cluster 2: 6 data points\n",
      "Classification task\n",
      "done splitting in task cls\n",
      "Cluster 3: 10 data points\n",
      "Classification task\n",
      "done splitting in task cls\n",
      "Cluster 4: 8 data points\n",
      "Classification task\n",
      "done splitting in task cls\n",
      "curated_file is: kor_agon_G_Ca_EC50_curated.csv\n",
      "\n"
     ]
    },
    {
     "name": "stderr",
     "output_type": "stream",
     "text": [
      "100%|██████████| 74/74 [00:00<00:00, 9183.61it/s]"
     ]
    },
    {
     "name": "stdout",
     "output_type": "stream",
     "text": [
      "Cluster 0: 5 data points\n",
      "Classification task\n",
      "done splitting in task cls\n",
      "Cluster 1: 16 data points\n",
      "Classification task\n",
      "done splitting in task cls\n",
      "Cluster 2: 45 data points\n",
      "Classification task\n",
      "done splitting in task cls\n",
      "Cluster 3: 2 data points\n",
      "Classification task\n",
      "done splitting in task cls\n",
      "Cluster 4: 6 data points\n",
      "Classification task\n",
      "done splitting in task cls\n",
      "curated_file is: dor_antag_G_GTP_IC50_curated.csv\n",
      "\n"
     ]
    },
    {
     "name": "stderr",
     "output_type": "stream",
     "text": [
      "\n",
      "100%|██████████| 169/169 [00:00<00:00, 4425.64it/s]\n"
     ]
    },
    {
     "name": "stdout",
     "output_type": "stream",
     "text": [
      "Cluster 0: 54 data points\n",
      "Classification task\n",
      "done splitting in task cls\n",
      "Cluster 1: 35 data points\n",
      "Classification task\n",
      "done splitting in task cls\n",
      "Cluster 2: 18 data points\n",
      "Classification task\n",
      "done splitting in task cls\n",
      "Cluster 3: 15 data points\n",
      "Classification task\n",
      "done splitting in task cls\n",
      "Cluster 4: 47 data points\n",
      "Classification task\n",
      "done splitting in task cls\n",
      "curated_file is: mor_agon_B_arrest_EC50_curated.csv\n",
      "\n"
     ]
    },
    {
     "name": "stderr",
     "output_type": "stream",
     "text": [
      "100%|██████████| 207/207 [00:00<00:00, 3630.85it/s]\n"
     ]
    },
    {
     "name": "stdout",
     "output_type": "stream",
     "text": [
      "Cluster 0: 47 data points\n",
      "Classification task\n",
      "done splitting in task cls\n",
      "Cluster 1: 48 data points\n",
      "Classification task\n",
      "done splitting in task cls\n",
      "Cluster 2: 45 data points\n",
      "Classification task\n",
      "done splitting in task cls\n",
      "Cluster 3: 35 data points\n",
      "Classification task\n",
      "done splitting in task cls\n",
      "Cluster 4: 32 data points\n",
      "Classification task\n",
      "done splitting in task cls\n",
      "curated_file is: kor_bind_RBA_IC50_curated.csv\n",
      "\n"
     ]
    },
    {
     "name": "stderr",
     "output_type": "stream",
     "text": [
      "100%|██████████| 416/416 [00:00<00:00, 2606.02it/s]\n"
     ]
    },
    {
     "name": "stdout",
     "output_type": "stream",
     "text": [
      "Cluster 0: 53 data points\n",
      "Classification task\n",
      "done splitting in task cls\n",
      "Cluster 1: 224 data points\n",
      "Classification task\n",
      "done splitting in task cls\n",
      "Cluster 2: 70 data points\n",
      "Classification task\n",
      "done splitting in task cls\n",
      "Cluster 3: 20 data points\n",
      "Classification task\n",
      "done splitting in task cls\n",
      "Cluster 4: 49 data points\n",
      "Classification task\n",
      "done splitting in task cls\n",
      "curated_file is: kor_agon_G_cAMP_EC50_curated.csv\n",
      "\n"
     ]
    },
    {
     "name": "stderr",
     "output_type": "stream",
     "text": [
      "100%|██████████| 253/253 [00:00<00:00, 3607.27it/s]\n"
     ]
    },
    {
     "name": "stdout",
     "output_type": "stream",
     "text": [
      "Cluster 0: 64 data points\n",
      "Classification task\n",
      "done splitting in task cls\n",
      "Cluster 1: 39 data points\n",
      "Classification task\n",
      "done splitting in task cls\n",
      "Cluster 2: 37 data points\n",
      "Classification task\n",
      "done splitting in task cls\n",
      "Cluster 3: 65 data points\n",
      "Classification task\n",
      "done splitting in task cls\n",
      "Cluster 4: 48 data points\n",
      "Classification task\n",
      "done splitting in task cls\n",
      "curated_file is: kor_agon_G_GTP_EC50_curated.csv\n",
      "\n"
     ]
    },
    {
     "name": "stderr",
     "output_type": "stream",
     "text": [
      "100%|██████████| 1246/1246 [00:01<00:00, 887.07it/s]\n"
     ]
    },
    {
     "name": "stdout",
     "output_type": "stream",
     "text": [
      "Cluster 0: 124 data points\n",
      "Classification task\n",
      "done splitting in task cls\n",
      "Cluster 1: 212 data points\n",
      "Classification task\n",
      "done splitting in task cls\n",
      "Cluster 2: 411 data points\n",
      "Classification task\n",
      "done splitting in task cls\n",
      "Cluster 3: 311 data points\n",
      "Classification task\n",
      "done splitting in task cls\n",
      "Cluster 4: 188 data points\n",
      "Classification task\n",
      "done splitting in task cls\n",
      "curated_file is: nor_agon_G_GTP_EC50_curated.csv\n",
      "\n"
     ]
    },
    {
     "name": "stderr",
     "output_type": "stream",
     "text": [
      "100%|██████████| 222/222 [00:00<00:00, 5079.40it/s]\n"
     ]
    },
    {
     "name": "stdout",
     "output_type": "stream",
     "text": [
      "Cluster 0: 42 data points\n",
      "Classification task\n",
      "done splitting in task cls\n",
      "Cluster 1: 66 data points\n",
      "Classification task\n",
      "done splitting in task cls\n",
      "Cluster 2: 20 data points\n",
      "Classification task\n",
      "done splitting in task cls\n",
      "Cluster 3: 63 data points\n",
      "Classification task\n",
      "done splitting in task cls\n",
      "Cluster 4: 31 data points\n",
      "Classification task\n",
      "done splitting in task cls\n",
      "curated_file is: mor_bind_RBA_IC50_curated.csv\n",
      "\n"
     ]
    },
    {
     "name": "stderr",
     "output_type": "stream",
     "text": [
      "100%|██████████| 582/582 [00:00<00:00, 1942.64it/s]\n"
     ]
    },
    {
     "name": "stdout",
     "output_type": "stream",
     "text": [
      "Cluster 0: 77 data points\n",
      "Classification task\n",
      "done splitting in task cls\n",
      "Cluster 1: 100 data points\n",
      "Classification task\n",
      "done splitting in task cls\n",
      "Cluster 2: 54 data points\n",
      "Classification task\n",
      "done splitting in task cls\n",
      "Cluster 3: 20 data points\n",
      "Classification task\n",
      "done splitting in task cls\n",
      "Cluster 4: 331 data points\n",
      "Classification task\n",
      "done splitting in task cls\n",
      "curated_file is: kor_antag_G_GTP_IC50_curated.csv\n",
      "\n"
     ]
    },
    {
     "name": "stderr",
     "output_type": "stream",
     "text": [
      "100%|██████████| 185/185 [00:00<00:00, 6196.71it/s]\n"
     ]
    },
    {
     "name": "stdout",
     "output_type": "stream",
     "text": [
      "Cluster 0: 48 data points\n",
      "Classification task\n",
      "done splitting in task cls\n",
      "Cluster 1: 82 data points\n",
      "Classification task\n",
      "done splitting in task cls\n",
      "Cluster 2: 23 data points\n",
      "Classification task\n",
      "done splitting in task cls\n",
      "Cluster 3: 16 data points\n",
      "Classification task\n",
      "done splitting in task cls\n",
      "Cluster 4: 16 data points\n",
      "Classification task\n",
      "done splitting in task cls\n",
      "curated_file is: nor_agon_G_cAMP_EC50_curated.csv\n",
      "\n",
      "The number of data points in this file is lower than 50, which is not enough to build a good machine learning model. Skipping this file.\n",
      "curated_file is: nor_bind_RBA_IC50_curated.csv\n",
      "\n"
     ]
    },
    {
     "name": "stderr",
     "output_type": "stream",
     "text": [
      "100%|██████████| 417/417 [00:00<00:00, 2730.85it/s]\n"
     ]
    },
    {
     "name": "stdout",
     "output_type": "stream",
     "text": [
      "Cluster 0: 201 data points\n",
      "Classification task\n",
      "done splitting in task cls\n",
      "Cluster 1: 46 data points\n",
      "Classification task\n",
      "done splitting in task cls\n",
      "Cluster 2: 33 data points\n",
      "Classification task\n",
      "done splitting in task cls\n",
      "Cluster 3: 75 data points\n",
      "Classification task\n",
      "done splitting in task cls\n",
      "Cluster 4: 62 data points\n",
      "Classification task\n",
      "done splitting in task cls\n",
      "curated_file is: nor_agon_G_cAMP_IC50_curated.csv\n",
      "\n"
     ]
    },
    {
     "name": "stderr",
     "output_type": "stream",
     "text": [
      "100%|██████████| 69/69 [00:00<00:00, 10019.28it/s]"
     ]
    },
    {
     "name": "stdout",
     "output_type": "stream",
     "text": [
      "Cluster 0: 16 data points\n",
      "Classification task\n",
      "done splitting in task cls\n",
      "Cluster 1: 8 data points\n",
      "Classification task\n",
      "done splitting in task cls\n",
      "Cluster 2: 4 data points\n",
      "Classification task\n",
      "done splitting in task cls\n",
      "Cluster 3: 5 data points\n",
      "Classification task\n",
      "done splitting in task cls\n",
      "Cluster 4: 36 data points\n",
      "Classification task\n",
      "done splitting in task cls\n",
      "curated_file is: dor_agon_B_arrest_EC50_curated.csv\n",
      "\n",
      "The number of data points in this file is lower than 50, which is not enough to build a good machine learning model. Skipping this file.\n",
      "curated_file is: dor_agon_G_Ca_EC50_curated.csv\n",
      "\n",
      "The number of data points in this file is lower than 50, which is not enough to build a good machine learning model. Skipping this file.\n",
      "curated_file is: mor_bind_RBA_Ki_curated.csv\n",
      "\n"
     ]
    },
    {
     "name": "stderr",
     "output_type": "stream",
     "text": [
      "\n",
      "100%|██████████| 4654/4654 [00:19<00:00, 239.32it/s] \n"
     ]
    },
    {
     "name": "stdout",
     "output_type": "stream",
     "text": [
      "Cluster 0: 2534 data points\n",
      "Classification task\n",
      "done splitting in task cls\n",
      "Cluster 1: 1201 data points\n",
      "Classification task\n",
      "done splitting in task cls\n",
      "Cluster 2: 149 data points\n",
      "Classification task\n",
      "done splitting in task cls\n",
      "Cluster 3: 545 data points\n",
      "Classification task\n",
      "done splitting in task cls\n",
      "Cluster 4: 225 data points\n",
      "Classification task\n",
      "done splitting in task cls\n",
      "curated_file is: dor_agon_G_GTP_EC50_curated.csv\n",
      "\n"
     ]
    },
    {
     "name": "stderr",
     "output_type": "stream",
     "text": [
      "100%|██████████| 648/648 [00:00<00:00, 1725.12it/s]\n"
     ]
    },
    {
     "name": "stdout",
     "output_type": "stream",
     "text": [
      "Cluster 0: 115 data points\n",
      "Classification task\n",
      "done splitting in task cls\n",
      "Cluster 1: 110 data points\n",
      "Classification task\n",
      "done splitting in task cls\n",
      "Cluster 2: 224 data points\n",
      "Classification task\n",
      "done splitting in task cls\n",
      "Cluster 3: 46 data points\n",
      "Classification task\n",
      "done splitting in task cls\n",
      "Cluster 4: 153 data points\n",
      "Classification task\n",
      "done splitting in task cls\n",
      "curated_file is: mor_agon_G_Ca_EC50_curated.csv\n",
      "\n"
     ]
    },
    {
     "name": "stderr",
     "output_type": "stream",
     "text": [
      "100%|██████████| 144/144 [00:00<00:00, 5138.81it/s]\n"
     ]
    },
    {
     "name": "stdout",
     "output_type": "stream",
     "text": [
      "Cluster 0: 24 data points\n",
      "Classification task\n",
      "done splitting in task cls\n",
      "Cluster 1: 25 data points\n",
      "Classification task\n",
      "done splitting in task cls\n",
      "Cluster 2: 26 data points\n",
      "Classification task\n",
      "done splitting in task cls\n",
      "Cluster 3: 35 data points\n",
      "Classification task\n",
      "done splitting in task cls\n",
      "Cluster 4: 34 data points\n",
      "Classification task\n",
      "done splitting in task cls\n",
      "curated_file is: kor_antag_G_GTP_Ki_curated.csv\n",
      "\n"
     ]
    },
    {
     "name": "stderr",
     "output_type": "stream",
     "text": [
      "100%|██████████| 53/53 [00:00<00:00, 8807.02it/s]\n"
     ]
    },
    {
     "name": "stdout",
     "output_type": "stream",
     "text": [
      "Cluster 0: 12 data points\n",
      "Classification task\n",
      "done splitting in task cls\n",
      "Cluster 1: 3 data points\n",
      "Classification task\n",
      "done splitting in task cls\n",
      "Cluster 2: 10 data points\n",
      "Classification task\n",
      "done splitting in task cls\n",
      "Cluster 3: 10 data points\n",
      "Classification task\n",
      "done splitting in task cls\n",
      "Cluster 4: 18 data points\n",
      "Classification task\n",
      "done splitting in task cls\n",
      "curated_file is: mor_antag_G_GTP_IC50_curated.csv\n",
      "\n"
     ]
    },
    {
     "name": "stderr",
     "output_type": "stream",
     "text": [
      "100%|██████████| 339/339 [00:00<00:00, 3089.08it/s]\n"
     ]
    },
    {
     "name": "stdout",
     "output_type": "stream",
     "text": [
      "Cluster 0: 71 data points\n",
      "Classification task\n",
      "done splitting in task cls\n",
      "Cluster 1: 113 data points\n",
      "Classification task\n",
      "done splitting in task cls\n",
      "Cluster 2: 56 data points\n",
      "Classification task\n",
      "done splitting in task cls\n",
      "Cluster 3: 17 data points\n",
      "Classification task\n",
      "done splitting in task cls\n",
      "Cluster 4: 82 data points\n",
      "Classification task\n",
      "done splitting in task cls\n",
      "curated_file is: nor_bind_RBA_Ki_curated.csv\n",
      "\n"
     ]
    },
    {
     "name": "stderr",
     "output_type": "stream",
     "text": [
      "100%|██████████| 1142/1142 [00:01<00:00, 976.49it/s]\n"
     ]
    },
    {
     "name": "stdout",
     "output_type": "stream",
     "text": [
      "Cluster 0: 527 data points\n",
      "Classification task\n",
      "done splitting in task cls\n",
      "Cluster 1: 245 data points\n",
      "Classification task\n",
      "done splitting in task cls\n",
      "Cluster 2: 85 data points\n",
      "Classification task\n",
      "done splitting in task cls\n",
      "Cluster 3: 141 data points\n",
      "Classification task\n",
      "done splitting in task cls\n",
      "Cluster 4: 144 data points\n",
      "Classification task\n",
      "done splitting in task cls\n",
      "curated_file is: mor_agon_G_cAMP_EC50_curated.csv\n",
      "\n"
     ]
    },
    {
     "name": "stderr",
     "output_type": "stream",
     "text": [
      "100%|██████████| 435/435 [00:00<00:00, 2608.77it/s]\n"
     ]
    },
    {
     "name": "stdout",
     "output_type": "stream",
     "text": [
      "Cluster 0: 110 data points\n",
      "Classification task\n",
      "done splitting in task cls\n",
      "Cluster 1: 64 data points\n",
      "Classification task\n",
      "done splitting in task cls\n",
      "Cluster 2: 57 data points\n",
      "Classification task\n",
      "done splitting in task cls\n",
      "Cluster 3: 78 data points\n",
      "Classification task\n",
      "done splitting in task cls\n",
      "Cluster 4: 126 data points\n",
      "Classification task\n",
      "done splitting in task cls\n",
      "curated_file is: kor_agon_B_arrest_EC50_curated.csv\n",
      "\n"
     ]
    },
    {
     "name": "stderr",
     "output_type": "stream",
     "text": [
      "100%|██████████| 50/50 [00:00<00:00, 13483.04it/s]"
     ]
    },
    {
     "name": "stdout",
     "output_type": "stream",
     "text": [
      "Cluster 0: 4 data points\n",
      "Classification task\n",
      "done splitting in task cls\n",
      "Cluster 1: 13 data points\n",
      "Classification task\n",
      "done splitting in task cls\n",
      "Cluster 2: 9 data points\n",
      "Classification task\n",
      "done splitting in task cls\n",
      "Cluster 3: 12 data points\n",
      "Classification task\n",
      "done splitting in task cls\n",
      "Cluster 4: 12 data points\n",
      "Classification task\n",
      "done splitting in task cls\n",
      "curated_file is: dor_bind_RBA_Ki_curated.csv\n",
      "\n"
     ]
    },
    {
     "name": "stderr",
     "output_type": "stream",
     "text": [
      "\n",
      "100%|██████████| 4035/4035 [00:14<00:00, 276.31it/s] \n"
     ]
    },
    {
     "name": "stdout",
     "output_type": "stream",
     "text": [
      "Cluster 0: 226 data points\n",
      "Classification task\n",
      "done splitting in task cls\n",
      "Cluster 1: 875 data points\n",
      "Classification task\n",
      "done splitting in task cls\n",
      "Cluster 2: 2335 data points\n",
      "Classification task\n",
      "done splitting in task cls\n",
      "Cluster 3: 150 data points\n",
      "Classification task\n",
      "done splitting in task cls\n",
      "Cluster 4: 449 data points\n",
      "Classification task\n",
      "done splitting in task cls\n",
      "curated_file is: kor_bind_RBA_Ki_curated.csv\n",
      "\n"
     ]
    },
    {
     "name": "stderr",
     "output_type": "stream",
     "text": [
      "100%|██████████| 3860/3860 [00:13<00:00, 286.29it/s] \n"
     ]
    },
    {
     "name": "stdout",
     "output_type": "stream",
     "text": [
      "Cluster 0: 301 data points\n",
      "Classification task\n",
      "done splitting in task cls\n",
      "Cluster 1: 1936 data points\n",
      "Classification task\n",
      "done splitting in task cls\n",
      "Cluster 2: 318 data points\n",
      "Classification task\n",
      "done splitting in task cls\n",
      "Cluster 3: 401 data points\n",
      "Classification task\n",
      "done splitting in task cls\n",
      "Cluster 4: 904 data points\n",
      "Classification task\n",
      "done splitting in task cls\n",
      "curated_file is: nor_antag_G_GTP_Ki_curated.csv\n",
      "\n",
      "The number of data points in this file is lower than 50, which is not enough to build a good machine learning model. Skipping this file.\n",
      "curated_file is: dor_bind_RBA_IC50_curated.csv\n",
      "\n"
     ]
    },
    {
     "name": "stderr",
     "output_type": "stream",
     "text": [
      "100%|██████████| 693/693 [00:00<00:00, 1622.97it/s]\n"
     ]
    },
    {
     "name": "stdout",
     "output_type": "stream",
     "text": [
      "Cluster 0: 82 data points\n",
      "Classification task\n",
      "done splitting in task cls\n",
      "Cluster 1: 315 data points\n",
      "Classification task\n",
      "done splitting in task cls\n",
      "Cluster 2: 154 data points\n",
      "Classification task\n",
      "done splitting in task cls\n",
      "Cluster 3: 88 data points\n",
      "Classification task\n",
      "done splitting in task cls\n",
      "Cluster 4: 54 data points\n",
      "Classification task\n",
      "done splitting in task cls\n",
      "Done!\n",
      "====================================\n",
      "\n",
      "use_clustering is: False\n",
      "\n",
      "curated_file is: nor_antag_G_GTP_IC50_curated.csv\n",
      "\n",
      "curated_file is: kor_antag_B_arrest_IC50_curated.csv\n",
      "\n",
      "curated_file is: nor_agon_G_Ca_EC50_curated.csv\n",
      "\n",
      "The number of data points in this file is lower than 50, which is not enough to build a good machine learning model. Skipping this file.\n",
      "curated_file is: dor_antag_B_arrest_IC50_curated.csv\n",
      "\n",
      "The number of data points in this file is lower than 50, which is not enough to build a good machine learning model. Skipping this file.\n",
      "curated_file is: dor_agon_G_cAMP_IC50_curated.csv\n",
      "\n",
      "The number of data points in this file is lower than 50, which is not enough to build a good machine learning model. Skipping this file.\n",
      "curated_file is: kor_agon_G_cAMP_IC50_curated.csv\n",
      "\n",
      "The number of data points in this file is lower than 50, which is not enough to build a good machine learning model. Skipping this file.\n",
      "curated_file is: dor_antag_G_GTP_Ki_curated.csv\n",
      "\n",
      "curated_file is: mor_antag_B_arrest_IC50_curated.csv\n",
      "\n",
      "The number of data points in this file is lower than 50, which is not enough to build a good machine learning model. Skipping this file.\n",
      "curated_file is: mor_agon_G_cAMP_IC50_curated.csv\n",
      "\n",
      "curated_file is: mor_agon_G_GTP_EC50_curated.csv\n",
      "\n",
      "curated_file is: dor_agon_G_cAMP_EC50_curated.csv\n",
      "\n",
      "curated_file is: mor_antag_G_GTP_Ki_curated.csv\n",
      "\n",
      "curated_file is: kor_agon_G_Ca_EC50_curated.csv\n",
      "\n",
      "curated_file is: dor_antag_G_GTP_IC50_curated.csv\n",
      "\n",
      "curated_file is: mor_agon_B_arrest_EC50_curated.csv\n",
      "\n",
      "curated_file is: kor_bind_RBA_IC50_curated.csv\n",
      "\n",
      "curated_file is: kor_agon_G_cAMP_EC50_curated.csv\n",
      "\n",
      "curated_file is: kor_agon_G_GTP_EC50_curated.csv\n",
      "\n",
      "curated_file is: nor_agon_G_GTP_EC50_curated.csv\n",
      "\n",
      "curated_file is: mor_bind_RBA_IC50_curated.csv\n",
      "\n",
      "curated_file is: kor_antag_G_GTP_IC50_curated.csv\n",
      "\n",
      "curated_file is: nor_agon_G_cAMP_EC50_curated.csv\n",
      "\n",
      "The number of data points in this file is lower than 50, which is not enough to build a good machine learning model. Skipping this file.\n",
      "curated_file is: nor_bind_RBA_IC50_curated.csv\n",
      "\n",
      "curated_file is: nor_agon_G_cAMP_IC50_curated.csv\n",
      "\n",
      "curated_file is: dor_agon_B_arrest_EC50_curated.csv\n",
      "\n",
      "The number of data points in this file is lower than 50, which is not enough to build a good machine learning model. Skipping this file.\n",
      "curated_file is: dor_agon_G_Ca_EC50_curated.csv\n",
      "\n",
      "The number of data points in this file is lower than 50, which is not enough to build a good machine learning model. Skipping this file.\n",
      "curated_file is: mor_bind_RBA_Ki_curated.csv\n",
      "\n",
      "curated_file is: dor_agon_G_GTP_EC50_curated.csv\n",
      "\n",
      "curated_file is: mor_agon_G_Ca_EC50_curated.csv\n",
      "\n",
      "curated_file is: kor_antag_G_GTP_Ki_curated.csv\n",
      "\n",
      "curated_file is: mor_antag_G_GTP_IC50_curated.csv\n",
      "\n",
      "curated_file is: nor_bind_RBA_Ki_curated.csv\n",
      "\n",
      "curated_file is: mor_agon_G_cAMP_EC50_curated.csv\n",
      "\n",
      "curated_file is: kor_agon_B_arrest_EC50_curated.csv\n",
      "\n",
      "curated_file is: dor_bind_RBA_Ki_curated.csv\n",
      "\n",
      "curated_file is: kor_bind_RBA_Ki_curated.csv\n",
      "\n",
      "curated_file is: nor_antag_G_GTP_Ki_curated.csv\n",
      "\n",
      "The number of data points in this file is lower than 50, which is not enough to build a good machine learning model. Skipping this file.\n",
      "curated_file is: dor_bind_RBA_IC50_curated.csv\n",
      "\n",
      "Done!\n",
      "====================================\n",
      "\n",
      "task is: reg\n",
      "\n",
      "use_clustering is: True\n",
      "\n",
      "curated_file is: nor_antag_G_GTP_IC50_curated.csv\n",
      "\n"
     ]
    },
    {
     "name": "stderr",
     "output_type": "stream",
     "text": [
      "100%|██████████| 120/120 [00:00<00:00, 9307.75it/s]\n"
     ]
    },
    {
     "name": "stdout",
     "output_type": "stream",
     "text": [
      "Cluster 0: 22 data points\n"
     ]
    },
    {
     "name": "stderr",
     "output_type": "stream",
     "text": [
      "100%|██████████| 120/120 [00:00<00:00, 3502.28it/s]\n",
      "100%|██████████| 120/120 [00:00<00:00, 9229.58it/s]\n",
      "100%|██████████| 120/120 [00:00<00:00, 16257.52it/s]\n",
      "100%|██████████| 120/120 [00:00<00:00, 33558.91it/s]\n"
     ]
    },
    {
     "name": "stdout",
     "output_type": "stream",
     "text": [
      "Cluster 1: 44 data points\n"
     ]
    },
    {
     "name": "stderr",
     "output_type": "stream",
     "text": [
      "100%|██████████| 120/120 [00:00<00:00, 9184.61it/s]\n",
      "100%|██████████| 120/120 [00:00<00:00, 9053.76it/s]\n",
      "100%|██████████| 120/120 [00:00<00:00, 16420.35it/s]\n",
      "100%|██████████| 120/120 [00:00<00:00, 33952.81it/s]\n"
     ]
    },
    {
     "name": "stdout",
     "output_type": "stream",
     "text": [
      "Cluster 2: 24 data points\n"
     ]
    },
    {
     "name": "stderr",
     "output_type": "stream",
     "text": [
      "100%|██████████| 120/120 [00:00<00:00, 9381.31it/s]\n",
      "100%|██████████| 120/120 [00:00<00:00, 8868.23it/s]\n",
      "100%|██████████| 120/120 [00:00<00:00, 16059.36it/s]\n",
      "100%|██████████| 120/120 [00:00<00:00, 33561.14it/s]\n"
     ]
    },
    {
     "name": "stdout",
     "output_type": "stream",
     "text": [
      "Cluster 3: 8 data points\n"
     ]
    },
    {
     "name": "stderr",
     "output_type": "stream",
     "text": [
      "100%|██████████| 120/120 [00:00<00:00, 9041.40it/s]\n",
      "100%|██████████| 120/120 [00:00<00:00, 9006.93it/s]\n",
      "100%|██████████| 120/120 [00:00<00:00, 16146.43it/s]\n",
      "100%|██████████| 120/120 [00:00<00:00, 33165.29it/s]\n"
     ]
    },
    {
     "name": "stdout",
     "output_type": "stream",
     "text": [
      "Cluster 4: 22 data points\n"
     ]
    },
    {
     "name": "stderr",
     "output_type": "stream",
     "text": [
      "100%|██████████| 120/120 [00:00<00:00, 9032.63it/s]\n",
      "100%|██████████| 120/120 [00:00<00:00, 8874.64it/s]\n",
      "100%|██████████| 120/120 [00:00<00:00, 15698.71it/s]\n",
      "100%|██████████| 120/120 [00:00<00:00, 33718.53it/s]\n"
     ]
    },
    {
     "name": "stdout",
     "output_type": "stream",
     "text": [
      "curated_file is: kor_antag_B_arrest_IC50_curated.csv\n",
      "\n"
     ]
    },
    {
     "name": "stderr",
     "output_type": "stream",
     "text": [
      "100%|██████████| 52/52 [00:00<00:00, 20659.64it/s]\n"
     ]
    },
    {
     "name": "stdout",
     "output_type": "stream",
     "text": [
      "Cluster 0: 18 data points\n"
     ]
    },
    {
     "name": "stderr",
     "output_type": "stream",
     "text": [
      "100%|██████████| 52/52 [00:00<00:00, 13469.02it/s]\n",
      "100%|██████████| 52/52 [00:00<00:00, 13464.86it/s]\n",
      "100%|██████████| 52/52 [00:00<00:00, 26581.82it/s]\n",
      "100%|██████████| 52/52 [00:00<00:00, 55652.92it/s]\n"
     ]
    },
    {
     "name": "stdout",
     "output_type": "stream",
     "text": [
      "Cluster 1: 6 data points\n"
     ]
    },
    {
     "name": "stderr",
     "output_type": "stream",
     "text": [
      "100%|██████████| 52/52 [00:00<00:00, 13406.92it/s]\n",
      "100%|██████████| 52/52 [00:00<00:00, 13309.56it/s]\n",
      "100%|██████████| 52/52 [00:00<00:00, 26001.88it/s]\n",
      "100%|██████████| 52/52 [00:00<00:00, 55090.63it/s]"
     ]
    },
    {
     "name": "stdout",
     "output_type": "stream",
     "text": [
      "Cluster 2: 12 data points\n"
     ]
    },
    {
     "name": "stderr",
     "output_type": "stream",
     "text": [
      "\n",
      "100%|██████████| 52/52 [00:00<00:00, 19550.36it/s]\n",
      "100%|██████████| 52/52 [00:00<00:00, 20779.71it/s]\n",
      "100%|██████████| 52/52 [00:00<00:00, 36350.63it/s]\n",
      "100%|██████████| 52/52 [00:00<00:00, 68478.43it/s]\n"
     ]
    },
    {
     "name": "stdout",
     "output_type": "stream",
     "text": [
      "Cluster 3: 10 data points\n"
     ]
    },
    {
     "name": "stderr",
     "output_type": "stream",
     "text": [
      "100%|██████████| 52/52 [00:00<00:00, 21568.81it/s]\n",
      "100%|██████████| 52/52 [00:00<00:00, 20799.52it/s]\n",
      "100%|██████████| 52/52 [00:00<00:00, 36344.58it/s]\n",
      "100%|██████████| 52/52 [00:00<00:00, 74949.76it/s]\n"
     ]
    },
    {
     "name": "stdout",
     "output_type": "stream",
     "text": [
      "Cluster 4: 6 data points\n"
     ]
    },
    {
     "name": "stderr",
     "output_type": "stream",
     "text": [
      "100%|██████████| 52/52 [00:00<00:00, 20875.17it/s]\n",
      "100%|██████████| 52/52 [00:00<00:00, 20817.39it/s]\n",
      "100%|██████████| 52/52 [00:00<00:00, 36181.79it/s]\n",
      "100%|██████████| 52/52 [00:00<00:00, 74846.88it/s]\n"
     ]
    },
    {
     "name": "stdout",
     "output_type": "stream",
     "text": [
      "curated_file is: nor_agon_G_Ca_EC50_curated.csv\n",
      "\n",
      "The number of data points in this file is lower than 50, which is not enough to build a good machine learning model. Skipping this file.\n",
      "curated_file is: dor_antag_B_arrest_IC50_curated.csv\n",
      "\n",
      "The number of data points in this file is lower than 50, which is not enough to build a good machine learning model. Skipping this file.\n",
      "curated_file is: dor_agon_G_cAMP_IC50_curated.csv\n",
      "\n",
      "The number of data points in this file is lower than 50, which is not enough to build a good machine learning model. Skipping this file.\n",
      "curated_file is: kor_agon_G_cAMP_IC50_curated.csv\n",
      "\n",
      "The number of data points in this file is lower than 50, which is not enough to build a good machine learning model. Skipping this file.\n",
      "curated_file is: dor_antag_G_GTP_Ki_curated.csv\n",
      "\n"
     ]
    },
    {
     "name": "stderr",
     "output_type": "stream",
     "text": [
      "100%|██████████| 71/71 [00:00<00:00, 15362.96it/s]\n"
     ]
    },
    {
     "name": "stdout",
     "output_type": "stream",
     "text": [
      "Cluster 0: 5 data points\n"
     ]
    },
    {
     "name": "stderr",
     "output_type": "stream",
     "text": [
      "100%|██████████| 71/71 [00:00<00:00, 9673.71it/s]\n",
      "100%|██████████| 71/71 [00:00<00:00, 10005.90it/s]\n",
      "100%|██████████| 71/71 [00:00<00:00, 18487.43it/s]\n",
      "100%|██████████| 71/71 [00:00<00:00, 43505.56it/s]\n"
     ]
    },
    {
     "name": "stdout",
     "output_type": "stream",
     "text": [
      "Cluster 1: 26 data points\n"
     ]
    },
    {
     "name": "stderr",
     "output_type": "stream",
     "text": [
      "100%|██████████| 71/71 [00:00<00:00, 10074.28it/s]\n",
      "100%|██████████| 71/71 [00:00<00:00, 15670.98it/s]\n",
      "100%|██████████| 71/71 [00:00<00:00, 24463.61it/s]\n",
      "100%|██████████| 71/71 [00:00<00:00, 55735.65it/s]\n"
     ]
    },
    {
     "name": "stdout",
     "output_type": "stream",
     "text": [
      "Cluster 2: 11 data points\n"
     ]
    },
    {
     "name": "stderr",
     "output_type": "stream",
     "text": [
      "100%|██████████| 71/71 [00:00<00:00, 15490.82it/s]\n",
      "100%|██████████| 71/71 [00:00<00:00, 15537.70it/s]\n",
      "100%|██████████| 71/71 [00:00<00:00, 24713.33it/s]\n",
      "100%|██████████| 71/71 [00:00<00:00, 55496.75it/s]\n"
     ]
    },
    {
     "name": "stdout",
     "output_type": "stream",
     "text": [
      "Cluster 3: 10 data points\n"
     ]
    },
    {
     "name": "stderr",
     "output_type": "stream",
     "text": [
      "100%|██████████| 71/71 [00:00<00:00, 15544.19it/s]\n",
      "100%|██████████| 71/71 [00:00<00:00, 15558.00it/s]\n",
      "100%|██████████| 71/71 [00:00<00:00, 24395.48it/s]\n",
      "100%|██████████| 71/71 [00:00<00:00, 56071.47it/s]\n"
     ]
    },
    {
     "name": "stdout",
     "output_type": "stream",
     "text": [
      "Cluster 4: 19 data points\n"
     ]
    },
    {
     "name": "stderr",
     "output_type": "stream",
     "text": [
      "100%|██████████| 71/71 [00:00<00:00, 15207.62it/s]\n",
      "100%|██████████| 71/71 [00:00<00:00, 15435.42it/s]\n",
      "100%|██████████| 71/71 [00:00<00:00, 24678.51it/s]\n",
      "100%|██████████| 71/71 [00:00<00:00, 55300.94it/s]\n"
     ]
    },
    {
     "name": "stdout",
     "output_type": "stream",
     "text": [
      "curated_file is: mor_antag_B_arrest_IC50_curated.csv\n",
      "\n",
      "The number of data points in this file is lower than 50, which is not enough to build a good machine learning model. Skipping this file.\n",
      "curated_file is: mor_agon_G_cAMP_IC50_curated.csv\n",
      "\n"
     ]
    },
    {
     "name": "stderr",
     "output_type": "stream",
     "text": [
      "100%|██████████| 53/53 [00:00<00:00, 20454.37it/s]\n"
     ]
    },
    {
     "name": "stdout",
     "output_type": "stream",
     "text": [
      "Cluster 0: 17 data points\n"
     ]
    },
    {
     "name": "stderr",
     "output_type": "stream",
     "text": [
      "100%|██████████| 53/53 [00:00<00:00, 12961.99it/s]\n",
      "100%|██████████| 53/53 [00:00<00:00, 13059.46it/s]\n",
      "100%|██████████| 53/53 [00:00<00:00, 21719.41it/s]\n",
      "100%|██████████| 53/53 [00:00<00:00, 46167.83it/s]\n"
     ]
    },
    {
     "name": "stdout",
     "output_type": "stream",
     "text": [
      "Cluster 1: 5 data points\n"
     ]
    },
    {
     "name": "stderr",
     "output_type": "stream",
     "text": [
      "100%|██████████| 53/53 [00:00<00:00, 13015.11it/s]\n",
      "100%|██████████| 53/53 [00:00<00:00, 13049.49it/s]\n",
      "100%|██████████| 53/53 [00:00<00:00, 22314.61it/s]\n",
      "100%|██████████| 53/53 [00:00<00:00, 54258.75it/s]\n"
     ]
    },
    {
     "name": "stdout",
     "output_type": "stream",
     "text": [
      "Cluster 2: 17 data points\n"
     ]
    },
    {
     "name": "stderr",
     "output_type": "stream",
     "text": [
      "100%|██████████| 53/53 [00:00<00:00, 20199.74it/s]\n",
      "100%|██████████| 53/53 [00:00<00:00, 20214.43it/s]\n",
      "100%|██████████| 53/53 [00:00<00:00, 31012.57it/s]\n",
      "100%|██████████| 53/53 [00:00<00:00, 73365.71it/s]\n"
     ]
    },
    {
     "name": "stdout",
     "output_type": "stream",
     "text": [
      "Cluster 3: 6 data points\n"
     ]
    },
    {
     "name": "stderr",
     "output_type": "stream",
     "text": [
      "100%|██████████| 53/53 [00:00<00:00, 20267.88it/s]\n",
      "100%|██████████| 53/53 [00:00<00:00, 20254.95it/s]\n",
      "100%|██████████| 53/53 [00:00<00:00, 31243.59it/s]\n",
      "100%|██████████| 53/53 [00:00<00:00, 74124.08it/s]\n"
     ]
    },
    {
     "name": "stdout",
     "output_type": "stream",
     "text": [
      "Cluster 4: 8 data points\n"
     ]
    },
    {
     "name": "stderr",
     "output_type": "stream",
     "text": [
      "100%|██████████| 53/53 [00:00<00:00, 20575.54it/s]\n",
      "100%|██████████| 53/53 [00:00<00:00, 20163.09it/s]\n",
      "100%|██████████| 53/53 [00:00<00:00, 30986.63it/s]\n",
      "100%|██████████| 53/53 [00:00<00:00, 73730.72it/s]\n"
     ]
    },
    {
     "name": "stdout",
     "output_type": "stream",
     "text": [
      "curated_file is: mor_agon_G_GTP_EC50_curated.csv\n",
      "\n"
     ]
    },
    {
     "name": "stderr",
     "output_type": "stream",
     "text": [
      "100%|██████████| 869/869 [00:00<00:00, 1275.88it/s]\n"
     ]
    },
    {
     "name": "stdout",
     "output_type": "stream",
     "text": [
      "Cluster 0: 228 data points\n"
     ]
    },
    {
     "name": "stderr",
     "output_type": "stream",
     "text": [
      "100%|██████████| 869/869 [00:00<00:00, 1264.23it/s]\n",
      "100%|██████████| 869/869 [00:00<00:00, 1253.11it/s]\n",
      "100%|██████████| 869/869 [00:00<00:00, 1576.28it/s]\n",
      "100%|██████████| 869/869 [00:00<00:00, 4680.08it/s]\n"
     ]
    },
    {
     "name": "stdout",
     "output_type": "stream",
     "text": [
      "Cluster 1: 238 data points\n"
     ]
    },
    {
     "name": "stderr",
     "output_type": "stream",
     "text": [
      "100%|██████████| 869/869 [00:00<00:00, 1287.59it/s]\n",
      "100%|██████████| 869/869 [00:00<00:00, 1255.92it/s]\n",
      "100%|██████████| 869/869 [00:00<00:00, 1572.23it/s]\n",
      "100%|██████████| 869/869 [00:00<00:00, 4721.88it/s]\n"
     ]
    },
    {
     "name": "stdout",
     "output_type": "stream",
     "text": [
      "Cluster 2: 55 data points\n"
     ]
    },
    {
     "name": "stderr",
     "output_type": "stream",
     "text": [
      "100%|██████████| 869/869 [00:00<00:00, 1286.98it/s]\n",
      "100%|██████████| 869/869 [00:00<00:00, 1283.39it/s]\n",
      "100%|██████████| 869/869 [00:00<00:00, 1584.84it/s]\n",
      "100%|██████████| 869/869 [00:00<00:00, 4663.56it/s]\n"
     ]
    },
    {
     "name": "stdout",
     "output_type": "stream",
     "text": [
      "Cluster 3: 91 data points\n"
     ]
    },
    {
     "name": "stderr",
     "output_type": "stream",
     "text": [
      "100%|██████████| 869/869 [00:00<00:00, 1290.98it/s]\n",
      "100%|██████████| 869/869 [00:00<00:00, 1260.65it/s]\n",
      "100%|██████████| 869/869 [00:00<00:00, 1576.89it/s]\n",
      "100%|██████████| 869/869 [00:00<00:00, 4722.67it/s]\n"
     ]
    },
    {
     "name": "stdout",
     "output_type": "stream",
     "text": [
      "Cluster 4: 257 data points\n"
     ]
    },
    {
     "name": "stderr",
     "output_type": "stream",
     "text": [
      "100%|██████████| 869/869 [00:00<00:00, 1288.95it/s]\n",
      "100%|██████████| 869/869 [00:00<00:00, 1291.08it/s]\n",
      "100%|██████████| 869/869 [00:00<00:00, 1567.65it/s]\n",
      "100%|██████████| 869/869 [00:00<00:00, 4692.93it/s]\n"
     ]
    },
    {
     "name": "stdout",
     "output_type": "stream",
     "text": [
      "curated_file is: dor_agon_G_cAMP_EC50_curated.csv\n",
      "\n"
     ]
    },
    {
     "name": "stderr",
     "output_type": "stream",
     "text": [
      "100%|██████████| 113/113 [00:00<00:00, 9632.87it/s]\n"
     ]
    },
    {
     "name": "stdout",
     "output_type": "stream",
     "text": [
      "Cluster 0: 10 data points\n"
     ]
    },
    {
     "name": "stderr",
     "output_type": "stream",
     "text": [
      "100%|██████████| 113/113 [00:00<00:00, 6254.37it/s]\n",
      "100%|██████████| 113/113 [00:00<00:00, 8386.23it/s]\n",
      "100%|██████████| 113/113 [00:00<00:00, 14070.25it/s]\n",
      "100%|██████████| 113/113 [00:00<00:00, 36017.66it/s]\n"
     ]
    },
    {
     "name": "stdout",
     "output_type": "stream",
     "text": [
      "Cluster 1: 40 data points\n"
     ]
    },
    {
     "name": "stderr",
     "output_type": "stream",
     "text": [
      "100%|██████████| 113/113 [00:00<00:00, 9941.61it/s]\n",
      "100%|██████████| 113/113 [00:00<00:00, 9856.84it/s]\n",
      "100%|██████████| 113/113 [00:00<00:00, 14082.37it/s]\n",
      "100%|██████████| 113/113 [00:00<00:00, 36712.34it/s]\n"
     ]
    },
    {
     "name": "stdout",
     "output_type": "stream",
     "text": [
      "Cluster 2: 28 data points\n"
     ]
    },
    {
     "name": "stderr",
     "output_type": "stream",
     "text": [
      "100%|██████████| 113/113 [00:00<00:00, 9691.37it/s]\n",
      "100%|██████████| 113/113 [00:00<00:00, 9793.09it/s]\n",
      "100%|██████████| 113/113 [00:00<00:00, 13884.76it/s]\n",
      "100%|██████████| 113/113 [00:00<00:00, 32763.47it/s]\n"
     ]
    },
    {
     "name": "stdout",
     "output_type": "stream",
     "text": [
      "Cluster 3: 23 data points\n"
     ]
    },
    {
     "name": "stderr",
     "output_type": "stream",
     "text": [
      "100%|██████████| 113/113 [00:00<00:00, 9853.56it/s]\n",
      "100%|██████████| 113/113 [00:00<00:00, 9460.58it/s]\n",
      "100%|██████████| 113/113 [00:00<00:00, 14054.39it/s]\n",
      "100%|██████████| 113/113 [00:00<00:00, 35746.01it/s]\n"
     ]
    },
    {
     "name": "stdout",
     "output_type": "stream",
     "text": [
      "Cluster 4: 12 data points\n"
     ]
    },
    {
     "name": "stderr",
     "output_type": "stream",
     "text": [
      "100%|██████████| 113/113 [00:00<00:00, 9528.10it/s]\n",
      "100%|██████████| 113/113 [00:00<00:00, 9691.57it/s]\n",
      "100%|██████████| 113/113 [00:00<00:00, 14234.21it/s]\n",
      "100%|██████████| 113/113 [00:00<00:00, 36379.82it/s]\n"
     ]
    },
    {
     "name": "stdout",
     "output_type": "stream",
     "text": [
      "curated_file is: mor_antag_G_GTP_Ki_curated.csv\n",
      "\n"
     ]
    },
    {
     "name": "stderr",
     "output_type": "stream",
     "text": [
      "100%|██████████| 61/61 [00:00<00:00, 17724.46it/s]\n"
     ]
    },
    {
     "name": "stdout",
     "output_type": "stream",
     "text": [
      "Cluster 0: 10 data points\n"
     ]
    },
    {
     "name": "stderr",
     "output_type": "stream",
     "text": [
      "100%|██████████| 61/61 [00:00<00:00, 10881.79it/s]\n",
      "100%|██████████| 61/61 [00:00<00:00, 11078.75it/s]\n",
      "100%|██████████| 61/61 [00:00<00:00, 19927.76it/s]\n",
      "100%|██████████| 61/61 [00:00<00:00, 47885.56it/s]\n"
     ]
    },
    {
     "name": "stdout",
     "output_type": "stream",
     "text": [
      "Cluster 1: 27 data points\n"
     ]
    },
    {
     "name": "stderr",
     "output_type": "stream",
     "text": [
      "100%|██████████| 61/61 [00:00<00:00, 11289.44it/s]\n",
      "100%|██████████| 61/61 [00:00<00:00, 17771.24it/s]\n",
      "100%|██████████| 61/61 [00:00<00:00, 28786.29it/s]\n",
      "100%|██████████| 61/61 [00:00<00:00, 63204.68it/s]\n"
     ]
    },
    {
     "name": "stdout",
     "output_type": "stream",
     "text": [
      "Cluster 2: 6 data points\n"
     ]
    },
    {
     "name": "stderr",
     "output_type": "stream",
     "text": [
      "100%|██████████| 61/61 [00:00<00:00, 18126.29it/s]\n",
      "100%|██████████| 61/61 [00:00<00:00, 17934.43it/s]\n",
      "100%|██████████| 61/61 [00:00<00:00, 28590.07it/s]\n",
      "100%|██████████| 61/61 [00:00<00:00, 64674.56it/s]\n"
     ]
    },
    {
     "name": "stdout",
     "output_type": "stream",
     "text": [
      "Cluster 3: 10 data points\n"
     ]
    },
    {
     "name": "stderr",
     "output_type": "stream",
     "text": [
      "100%|██████████| 61/61 [00:00<00:00, 18273.88it/s]\n",
      "100%|██████████| 61/61 [00:00<00:00, 17554.21it/s]\n",
      "100%|██████████| 61/61 [00:00<00:00, 28808.98it/s]\n",
      "100%|██████████| 61/61 [00:00<00:00, 64268.41it/s]\n"
     ]
    },
    {
     "name": "stdout",
     "output_type": "stream",
     "text": [
      "Cluster 4: 8 data points\n"
     ]
    },
    {
     "name": "stderr",
     "output_type": "stream",
     "text": [
      "100%|██████████| 61/61 [00:00<00:00, 18352.52it/s]\n",
      "100%|██████████| 61/61 [00:00<00:00, 17734.29it/s]\n",
      "100%|██████████| 61/61 [00:00<00:00, 28903.36it/s]\n",
      "100%|██████████| 61/61 [00:00<00:00, 62220.95it/s]\n"
     ]
    },
    {
     "name": "stdout",
     "output_type": "stream",
     "text": [
      "curated_file is: kor_agon_G_Ca_EC50_curated.csv\n",
      "\n"
     ]
    },
    {
     "name": "stderr",
     "output_type": "stream",
     "text": [
      "100%|██████████| 74/74 [00:00<00:00, 14744.12it/s]\n"
     ]
    },
    {
     "name": "stdout",
     "output_type": "stream",
     "text": [
      "Cluster 0: 5 data points\n"
     ]
    },
    {
     "name": "stderr",
     "output_type": "stream",
     "text": [
      "100%|██████████| 74/74 [00:00<00:00, 9157.33it/s]\n",
      "100%|██████████| 74/74 [00:00<00:00, 9558.05it/s]\n",
      "100%|██████████| 74/74 [00:00<00:00, 16344.31it/s]\n",
      "100%|██████████| 74/74 [00:00<00:00, 40855.40it/s]\n"
     ]
    },
    {
     "name": "stdout",
     "output_type": "stream",
     "text": [
      "An error occurred while stratifying data based on cliff molecules. Skipping stratification.\n",
      "Cluster 1: 16 data points\n"
     ]
    },
    {
     "name": "stderr",
     "output_type": "stream",
     "text": [
      "100%|██████████| 74/74 [00:00<00:00, 9474.31it/s]\n",
      "100%|██████████| 74/74 [00:00<00:00, 14709.88it/s]\n",
      "100%|██████████| 74/74 [00:00<00:00, 21894.65it/s]\n",
      "100%|██████████| 74/74 [00:00<00:00, 52713.74it/s]\n"
     ]
    },
    {
     "name": "stdout",
     "output_type": "stream",
     "text": [
      "Cluster 2: 45 data points\n"
     ]
    },
    {
     "name": "stderr",
     "output_type": "stream",
     "text": [
      "100%|██████████| 74/74 [00:00<00:00, 14934.25it/s]\n",
      "100%|██████████| 74/74 [00:00<00:00, 14714.07it/s]\n",
      "100%|██████████| 74/74 [00:00<00:00, 21928.68it/s]\n",
      "100%|██████████| 74/74 [00:00<00:00, 54290.45it/s]\n"
     ]
    },
    {
     "name": "stdout",
     "output_type": "stream",
     "text": [
      "Cluster 3: 2 data points\n"
     ]
    },
    {
     "name": "stderr",
     "output_type": "stream",
     "text": [
      "100%|██████████| 74/74 [00:00<00:00, 14844.25it/s]\n",
      "100%|██████████| 74/74 [00:00<00:00, 13689.34it/s]\n",
      "100%|██████████| 74/74 [00:00<00:00, 21599.06it/s]\n",
      "100%|██████████| 74/74 [00:00<00:00, 55743.26it/s]\n"
     ]
    },
    {
     "name": "stdout",
     "output_type": "stream",
     "text": [
      "Cluster 4: 6 data points\n"
     ]
    },
    {
     "name": "stderr",
     "output_type": "stream",
     "text": [
      "100%|██████████| 74/74 [00:00<00:00, 14815.20it/s]\n",
      "100%|██████████| 74/74 [00:00<00:00, 14789.79it/s]\n",
      "100%|██████████| 74/74 [00:00<00:00, 21606.58it/s]\n",
      "100%|██████████| 74/74 [00:00<00:00, 54759.79it/s]\n"
     ]
    },
    {
     "name": "stdout",
     "output_type": "stream",
     "text": [
      "curated_file is: dor_antag_G_GTP_IC50_curated.csv\n",
      "\n"
     ]
    },
    {
     "name": "stderr",
     "output_type": "stream",
     "text": [
      "100%|██████████| 151/151 [00:00<00:00, 7359.54it/s]\n"
     ]
    },
    {
     "name": "stdout",
     "output_type": "stream",
     "text": [
      "Cluster 0: 49 data points\n"
     ]
    },
    {
     "name": "stderr",
     "output_type": "stream",
     "text": [
      "100%|██████████| 151/151 [00:00<00:00, 4830.30it/s]\n",
      "100%|██████████| 151/151 [00:00<00:00, 7236.27it/s]\n",
      "100%|██████████| 151/151 [00:00<00:00, 9538.97it/s]\n",
      "100%|██████████| 151/151 [00:00<00:00, 27135.39it/s]\n"
     ]
    },
    {
     "name": "stdout",
     "output_type": "stream",
     "text": [
      "Cluster 1: 35 data points\n"
     ]
    },
    {
     "name": "stderr",
     "output_type": "stream",
     "text": [
      "100%|██████████| 151/151 [00:00<00:00, 7469.34it/s]\n",
      "100%|██████████| 151/151 [00:00<00:00, 7360.57it/s]\n",
      "100%|██████████| 151/151 [00:00<00:00, 9401.34it/s]\n",
      "100%|██████████| 151/151 [00:00<00:00, 27260.36it/s]\n"
     ]
    },
    {
     "name": "stdout",
     "output_type": "stream",
     "text": [
      "Cluster 2: 15 data points\n"
     ]
    },
    {
     "name": "stderr",
     "output_type": "stream",
     "text": [
      "100%|██████████| 151/151 [00:00<00:00, 7363.05it/s]\n",
      "100%|██████████| 151/151 [00:00<00:00, 7387.35it/s]\n",
      "100%|██████████| 151/151 [00:00<00:00, 9517.47it/s]\n",
      "100%|██████████| 151/151 [00:00<00:00, 26463.04it/s]\n"
     ]
    },
    {
     "name": "stdout",
     "output_type": "stream",
     "text": [
      "Cluster 3: 34 data points\n"
     ]
    },
    {
     "name": "stderr",
     "output_type": "stream",
     "text": [
      "100%|██████████| 151/151 [00:00<00:00, 7369.30it/s]\n",
      "100%|██████████| 151/151 [00:00<00:00, 7265.74it/s]\n",
      "100%|██████████| 151/151 [00:00<00:00, 9458.06it/s]\n",
      "100%|██████████| 151/151 [00:00<00:00, 27167.98it/s]\n"
     ]
    },
    {
     "name": "stdout",
     "output_type": "stream",
     "text": [
      "Cluster 4: 18 data points\n"
     ]
    },
    {
     "name": "stderr",
     "output_type": "stream",
     "text": [
      "100%|██████████| 151/151 [00:00<00:00, 7307.32it/s]\n",
      "100%|██████████| 151/151 [00:00<00:00, 7311.54it/s]\n",
      "100%|██████████| 151/151 [00:00<00:00, 9462.01it/s]\n",
      "100%|██████████| 151/151 [00:00<00:00, 27241.60it/s]\n"
     ]
    },
    {
     "name": "stdout",
     "output_type": "stream",
     "text": [
      "curated_file is: mor_agon_B_arrest_EC50_curated.csv\n",
      "\n"
     ]
    },
    {
     "name": "stderr",
     "output_type": "stream",
     "text": [
      "100%|██████████| 169/169 [00:00<00:00, 6625.14it/s]\n"
     ]
    },
    {
     "name": "stdout",
     "output_type": "stream",
     "text": [
      "Cluster 0: 45 data points\n"
     ]
    },
    {
     "name": "stderr",
     "output_type": "stream",
     "text": [
      "100%|██████████| 169/169 [00:00<00:00, 4275.75it/s]\n",
      "100%|██████████| 169/169 [00:00<00:00, 6482.70it/s]\n",
      "100%|██████████| 169/169 [00:00<00:00, 11078.87it/s]\n",
      "100%|██████████| 169/169 [00:00<00:00, 24744.72it/s]\n"
     ]
    },
    {
     "name": "stdout",
     "output_type": "stream",
     "text": [
      "Cluster 1: 47 data points\n"
     ]
    },
    {
     "name": "stderr",
     "output_type": "stream",
     "text": [
      "100%|██████████| 169/169 [00:00<00:00, 6561.36it/s]\n",
      "100%|██████████| 169/169 [00:00<00:00, 6525.61it/s]\n",
      "100%|██████████| 169/169 [00:00<00:00, 11063.66it/s]\n",
      "100%|██████████| 169/169 [00:00<00:00, 24346.96it/s]\n"
     ]
    },
    {
     "name": "stdout",
     "output_type": "stream",
     "text": [
      "Cluster 2: 46 data points\n"
     ]
    },
    {
     "name": "stderr",
     "output_type": "stream",
     "text": [
      "100%|██████████| 169/169 [00:00<00:00, 6508.83it/s]\n",
      "100%|██████████| 169/169 [00:00<00:00, 6547.91it/s]\n",
      "100%|██████████| 169/169 [00:00<00:00, 10824.09it/s]\n",
      "100%|██████████| 169/169 [00:00<00:00, 24151.19it/s]\n"
     ]
    },
    {
     "name": "stdout",
     "output_type": "stream",
     "text": [
      "Cluster 3: 11 data points\n"
     ]
    },
    {
     "name": "stderr",
     "output_type": "stream",
     "text": [
      "100%|██████████| 169/169 [00:00<00:00, 6525.12it/s]\n",
      "100%|██████████| 169/169 [00:00<00:00, 6473.05it/s]\n",
      "100%|██████████| 169/169 [00:00<00:00, 10958.30it/s]\n",
      "100%|██████████| 169/169 [00:00<00:00, 24430.03it/s]\n"
     ]
    },
    {
     "name": "stdout",
     "output_type": "stream",
     "text": [
      "Cluster 4: 20 data points\n"
     ]
    },
    {
     "name": "stderr",
     "output_type": "stream",
     "text": [
      "100%|██████████| 169/169 [00:00<00:00, 6572.56it/s]\n",
      "100%|██████████| 169/169 [00:00<00:00, 6500.05it/s]\n",
      "100%|██████████| 169/169 [00:00<00:00, 11118.49it/s]\n",
      "100%|██████████| 169/169 [00:00<00:00, 24331.08it/s]\n"
     ]
    },
    {
     "name": "stdout",
     "output_type": "stream",
     "text": [
      "curated_file is: kor_bind_RBA_IC50_curated.csv\n",
      "\n"
     ]
    },
    {
     "name": "stderr",
     "output_type": "stream",
     "text": [
      "100%|██████████| 408/408 [00:00<00:00, 2733.62it/s]\n"
     ]
    },
    {
     "name": "stdout",
     "output_type": "stream",
     "text": [
      "Cluster 0: 68 data points\n"
     ]
    },
    {
     "name": "stderr",
     "output_type": "stream",
     "text": [
      "100%|██████████| 408/408 [00:00<00:00, 2354.97it/s]\n",
      "100%|██████████| 408/408 [00:00<00:00, 2700.34it/s]\n",
      "100%|██████████| 408/408 [00:00<00:00, 4507.07it/s]\n",
      "100%|██████████| 408/408 [00:00<00:00, 10066.09it/s]\n"
     ]
    },
    {
     "name": "stdout",
     "output_type": "stream",
     "text": [
      "Cluster 1: 218 data points\n"
     ]
    },
    {
     "name": "stderr",
     "output_type": "stream",
     "text": [
      "100%|██████████| 408/408 [00:00<00:00, 2712.30it/s]\n",
      "100%|██████████| 408/408 [00:00<00:00, 2661.06it/s]\n",
      "100%|██████████| 408/408 [00:00<00:00, 4437.53it/s]\n",
      "100%|██████████| 408/408 [00:00<00:00, 10009.86it/s]\n"
     ]
    },
    {
     "name": "stdout",
     "output_type": "stream",
     "text": [
      "Cluster 2: 20 data points\n"
     ]
    },
    {
     "name": "stderr",
     "output_type": "stream",
     "text": [
      "100%|██████████| 408/408 [00:00<00:00, 2726.82it/s]\n",
      "100%|██████████| 408/408 [00:00<00:00, 2688.50it/s]\n",
      "100%|██████████| 408/408 [00:00<00:00, 4426.74it/s]\n",
      "100%|██████████| 408/408 [00:00<00:00, 9920.56it/s]\n"
     ]
    },
    {
     "name": "stdout",
     "output_type": "stream",
     "text": [
      "Cluster 3: 53 data points\n"
     ]
    },
    {
     "name": "stderr",
     "output_type": "stream",
     "text": [
      "100%|██████████| 408/408 [00:00<00:00, 2741.62it/s]\n",
      "100%|██████████| 408/408 [00:00<00:00, 2681.12it/s]\n",
      "100%|██████████| 408/408 [00:00<00:00, 4478.54it/s]\n",
      "100%|██████████| 408/408 [00:00<00:00, 10054.32it/s]\n"
     ]
    },
    {
     "name": "stdout",
     "output_type": "stream",
     "text": [
      "Cluster 4: 49 data points\n"
     ]
    },
    {
     "name": "stderr",
     "output_type": "stream",
     "text": [
      "100%|██████████| 408/408 [00:00<00:00, 2736.59it/s]\n",
      "100%|██████████| 408/408 [00:00<00:00, 2689.84it/s]\n",
      "100%|██████████| 408/408 [00:00<00:00, 4468.61it/s]\n",
      "100%|██████████| 408/408 [00:00<00:00, 10013.26it/s]\n"
     ]
    },
    {
     "name": "stdout",
     "output_type": "stream",
     "text": [
      "curated_file is: kor_agon_G_cAMP_EC50_curated.csv\n",
      "\n"
     ]
    },
    {
     "name": "stderr",
     "output_type": "stream",
     "text": [
      "100%|██████████| 237/237 [00:00<00:00, 4744.82it/s]\n"
     ]
    },
    {
     "name": "stdout",
     "output_type": "stream",
     "text": [
      "Cluster 0: 59 data points\n"
     ]
    },
    {
     "name": "stderr",
     "output_type": "stream",
     "text": [
      "100%|██████████| 237/237 [00:00<00:00, 3075.17it/s]\n",
      "100%|██████████| 237/237 [00:00<00:00, 4696.62it/s]\n",
      "100%|██████████| 237/237 [00:00<00:00, 4767.37it/s]\n",
      "100%|██████████| 237/237 [00:00<00:00, 17570.48it/s]\n"
     ]
    },
    {
     "name": "stdout",
     "output_type": "stream",
     "text": [
      "Cluster 1: 63 data points\n"
     ]
    },
    {
     "name": "stderr",
     "output_type": "stream",
     "text": [
      "100%|██████████| 237/237 [00:00<00:00, 4804.40it/s]\n",
      "100%|██████████| 237/237 [00:00<00:00, 4636.06it/s]\n",
      "100%|██████████| 237/237 [00:00<00:00, 4802.92it/s]\n",
      "100%|██████████| 237/237 [00:00<00:00, 17449.27it/s]\n"
     ]
    },
    {
     "name": "stdout",
     "output_type": "stream",
     "text": [
      "Cluster 2: 68 data points\n"
     ]
    },
    {
     "name": "stderr",
     "output_type": "stream",
     "text": [
      "100%|██████████| 237/237 [00:00<00:00, 4783.50it/s]\n",
      "100%|██████████| 237/237 [00:00<00:00, 4643.97it/s]\n",
      "100%|██████████| 237/237 [00:00<00:00, 4759.68it/s]\n",
      "100%|██████████| 237/237 [00:00<00:00, 17450.50it/s]\n"
     ]
    },
    {
     "name": "stdout",
     "output_type": "stream",
     "text": [
      "Cluster 3: 30 data points\n"
     ]
    },
    {
     "name": "stderr",
     "output_type": "stream",
     "text": [
      "100%|██████████| 237/237 [00:00<00:00, 4764.88it/s]\n",
      "100%|██████████| 237/237 [00:00<00:00, 4605.96it/s]\n",
      "100%|██████████| 237/237 [00:00<00:00, 4773.37it/s]\n",
      "100%|██████████| 237/237 [00:00<00:00, 17068.17it/s]\n"
     ]
    },
    {
     "name": "stdout",
     "output_type": "stream",
     "text": [
      "Cluster 4: 17 data points\n"
     ]
    },
    {
     "name": "stderr",
     "output_type": "stream",
     "text": [
      "100%|██████████| 237/237 [00:00<00:00, 4728.26it/s]\n",
      "100%|██████████| 237/237 [00:00<00:00, 4692.06it/s]\n",
      "100%|██████████| 237/237 [00:00<00:00, 4837.89it/s]\n",
      "100%|██████████| 237/237 [00:00<00:00, 17424.50it/s]\n"
     ]
    },
    {
     "name": "stdout",
     "output_type": "stream",
     "text": [
      "curated_file is: kor_agon_G_GTP_EC50_curated.csv\n",
      "\n"
     ]
    },
    {
     "name": "stderr",
     "output_type": "stream",
     "text": [
      "100%|██████████| 1022/1022 [00:00<00:00, 1076.29it/s]\n"
     ]
    },
    {
     "name": "stdout",
     "output_type": "stream",
     "text": [
      "Cluster 0: 359 data points\n"
     ]
    },
    {
     "name": "stderr",
     "output_type": "stream",
     "text": [
      "100%|██████████| 1022/1022 [00:00<00:00, 1076.74it/s]\n",
      "100%|██████████| 1022/1022 [00:00<00:00, 1057.21it/s]\n",
      "100%|██████████| 1022/1022 [00:00<00:00, 1272.46it/s]\n",
      "100%|██████████| 1022/1022 [00:00<00:00, 3977.53it/s]\n"
     ]
    },
    {
     "name": "stdout",
     "output_type": "stream",
     "text": [
      "Cluster 1: 233 data points\n"
     ]
    },
    {
     "name": "stderr",
     "output_type": "stream",
     "text": [
      "100%|██████████| 1022/1022 [00:00<00:00, 1073.97it/s]\n",
      "100%|██████████| 1022/1022 [00:00<00:00, 1058.76it/s]\n",
      "100%|██████████| 1022/1022 [00:00<00:00, 1264.49it/s]\n",
      "100%|██████████| 1022/1022 [00:00<00:00, 3966.88it/s]\n"
     ]
    },
    {
     "name": "stdout",
     "output_type": "stream",
     "text": [
      "Cluster 2: 112 data points\n"
     ]
    },
    {
     "name": "stderr",
     "output_type": "stream",
     "text": [
      "100%|██████████| 1022/1022 [00:00<00:00, 1071.15it/s]\n",
      "100%|██████████| 1022/1022 [00:00<00:00, 1053.33it/s]\n",
      "100%|██████████| 1022/1022 [00:00<00:00, 1274.18it/s]\n",
      "100%|██████████| 1022/1022 [00:00<00:00, 3976.10it/s]\n"
     ]
    },
    {
     "name": "stdout",
     "output_type": "stream",
     "text": [
      "Cluster 3: 88 data points\n"
     ]
    },
    {
     "name": "stderr",
     "output_type": "stream",
     "text": [
      "100%|██████████| 1022/1022 [00:00<00:00, 1075.92it/s]\n",
      "100%|██████████| 1022/1022 [00:00<00:00, 1074.67it/s]\n",
      "100%|██████████| 1022/1022 [00:00<00:00, 1277.70it/s]\n",
      "100%|██████████| 1022/1022 [00:00<00:00, 3992.29it/s]\n"
     ]
    },
    {
     "name": "stdout",
     "output_type": "stream",
     "text": [
      "Cluster 4: 230 data points\n"
     ]
    },
    {
     "name": "stderr",
     "output_type": "stream",
     "text": [
      "100%|██████████| 1022/1022 [00:00<00:00, 1077.16it/s]\n",
      "100%|██████████| 1022/1022 [00:00<00:00, 1066.33it/s]\n",
      "100%|██████████| 1022/1022 [00:00<00:00, 1277.71it/s]\n",
      "100%|██████████| 1022/1022 [00:00<00:00, 3964.77it/s]\n"
     ]
    },
    {
     "name": "stdout",
     "output_type": "stream",
     "text": [
      "curated_file is: nor_agon_G_GTP_EC50_curated.csv\n",
      "\n"
     ]
    },
    {
     "name": "stderr",
     "output_type": "stream",
     "text": [
      "100%|██████████| 190/190 [00:00<00:00, 5887.66it/s]\n"
     ]
    },
    {
     "name": "stdout",
     "output_type": "stream",
     "text": [
      "Cluster 0: 26 data points\n"
     ]
    },
    {
     "name": "stderr",
     "output_type": "stream",
     "text": [
      "100%|██████████| 190/190 [00:00<00:00, 3940.12it/s]\n",
      "100%|██████████| 190/190 [00:00<00:00, 5947.64it/s]\n",
      "100%|██████████| 190/190 [00:00<00:00, 9902.55it/s]\n",
      "100%|██████████| 190/190 [00:00<00:00, 21730.96it/s]\n"
     ]
    },
    {
     "name": "stdout",
     "output_type": "stream",
     "text": [
      "Cluster 1: 40 data points\n"
     ]
    },
    {
     "name": "stderr",
     "output_type": "stream",
     "text": [
      "100%|██████████| 190/190 [00:00<00:00, 5904.19it/s]\n",
      "100%|██████████| 190/190 [00:00<00:00, 5883.18it/s]\n",
      "100%|██████████| 190/190 [00:00<00:00, 9915.00it/s]\n",
      "100%|██████████| 190/190 [00:00<00:00, 21723.26it/s]\n"
     ]
    },
    {
     "name": "stdout",
     "output_type": "stream",
     "text": [
      "Cluster 2: 61 data points\n"
     ]
    },
    {
     "name": "stderr",
     "output_type": "stream",
     "text": [
      "100%|██████████| 190/190 [00:00<00:00, 5895.80it/s]\n",
      "100%|██████████| 190/190 [00:00<00:00, 5902.61it/s]\n",
      "100%|██████████| 190/190 [00:00<00:00, 9952.39it/s]\n",
      "100%|██████████| 190/190 [00:00<00:00, 21853.72it/s]\n"
     ]
    },
    {
     "name": "stdout",
     "output_type": "stream",
     "text": [
      "Cluster 3: 43 data points\n"
     ]
    },
    {
     "name": "stderr",
     "output_type": "stream",
     "text": [
      "100%|██████████| 190/190 [00:00<00:00, 5947.32it/s]\n",
      "100%|██████████| 190/190 [00:00<00:00, 5894.19it/s]\n",
      "100%|██████████| 190/190 [00:00<00:00, 9899.97it/s]\n",
      "100%|██████████| 190/190 [00:00<00:00, 21922.25it/s]\n"
     ]
    },
    {
     "name": "stdout",
     "output_type": "stream",
     "text": [
      "Cluster 4: 20 data points\n"
     ]
    },
    {
     "name": "stderr",
     "output_type": "stream",
     "text": [
      "100%|██████████| 190/190 [00:00<00:00, 5916.94it/s]\n",
      "100%|██████████| 190/190 [00:00<00:00, 5825.46it/s]\n",
      "100%|██████████| 190/190 [00:00<00:00, 9978.31it/s]\n",
      "100%|██████████| 190/190 [00:00<00:00, 21877.72it/s]\n"
     ]
    },
    {
     "name": "stdout",
     "output_type": "stream",
     "text": [
      "curated_file is: mor_bind_RBA_IC50_curated.csv\n",
      "\n"
     ]
    },
    {
     "name": "stderr",
     "output_type": "stream",
     "text": [
      "100%|██████████| 561/561 [00:00<00:00, 1983.74it/s]\n"
     ]
    },
    {
     "name": "stdout",
     "output_type": "stream",
     "text": [
      "Cluster 0: 20 data points\n"
     ]
    },
    {
     "name": "stderr",
     "output_type": "stream",
     "text": [
      "100%|██████████| 561/561 [00:00<00:00, 1964.61it/s]\n",
      "100%|██████████| 561/561 [00:00<00:00, 1938.76it/s]\n",
      "100%|██████████| 561/561 [00:00<00:00, 3265.88it/s]\n",
      "100%|██████████| 561/561 [00:00<00:00, 7330.03it/s]\n"
     ]
    },
    {
     "name": "stdout",
     "output_type": "stream",
     "text": [
      "Cluster 1: 77 data points\n"
     ]
    },
    {
     "name": "stderr",
     "output_type": "stream",
     "text": [
      "100%|██████████| 561/561 [00:00<00:00, 1992.01it/s]\n",
      "100%|██████████| 561/561 [00:00<00:00, 1993.67it/s]\n",
      "100%|██████████| 561/561 [00:00<00:00, 3305.27it/s]\n",
      "100%|██████████| 561/561 [00:00<00:00, 7381.79it/s]\n"
     ]
    },
    {
     "name": "stdout",
     "output_type": "stream",
     "text": [
      "Cluster 2: 101 data points\n"
     ]
    },
    {
     "name": "stderr",
     "output_type": "stream",
     "text": [
      "100%|██████████| 561/561 [00:00<00:00, 1990.97it/s]\n",
      "100%|██████████| 561/561 [00:00<00:00, 1994.34it/s]\n",
      "100%|██████████| 561/561 [00:00<00:00, 3274.18it/s]\n",
      "100%|██████████| 561/561 [00:00<00:00, 7366.24it/s]\n"
     ]
    },
    {
     "name": "stdout",
     "output_type": "stream",
     "text": [
      "Cluster 3: 322 data points\n"
     ]
    },
    {
     "name": "stderr",
     "output_type": "stream",
     "text": [
      "100%|██████████| 561/561 [00:00<00:00, 1985.65it/s]\n",
      "100%|██████████| 561/561 [00:00<00:00, 1973.45it/s]\n",
      "100%|██████████| 561/561 [00:00<00:00, 3322.13it/s]\n",
      "100%|██████████| 561/561 [00:00<00:00, 7399.64it/s]\n"
     ]
    },
    {
     "name": "stdout",
     "output_type": "stream",
     "text": [
      "Cluster 4: 41 data points\n"
     ]
    },
    {
     "name": "stderr",
     "output_type": "stream",
     "text": [
      "100%|██████████| 561/561 [00:00<00:00, 1989.47it/s]\n",
      "100%|██████████| 561/561 [00:00<00:00, 1985.64it/s]\n",
      "100%|██████████| 561/561 [00:00<00:00, 3289.39it/s]\n",
      "100%|██████████| 561/561 [00:00<00:00, 7338.37it/s]\n"
     ]
    },
    {
     "name": "stdout",
     "output_type": "stream",
     "text": [
      "curated_file is: kor_antag_G_GTP_IC50_curated.csv\n",
      "\n"
     ]
    },
    {
     "name": "stderr",
     "output_type": "stream",
     "text": [
      "100%|██████████| 133/133 [00:00<00:00, 8371.49it/s]\n"
     ]
    },
    {
     "name": "stdout",
     "output_type": "stream",
     "text": [
      "Cluster 0: 78 data points\n"
     ]
    },
    {
     "name": "stderr",
     "output_type": "stream",
     "text": [
      "100%|██████████| 133/133 [00:00<00:00, 5520.24it/s]\n",
      "100%|██████████| 133/133 [00:00<00:00, 8096.52it/s]\n",
      "100%|██████████| 133/133 [00:00<00:00, 13157.59it/s]\n",
      "100%|██████████| 133/133 [00:00<00:00, 31365.89it/s]\n"
     ]
    },
    {
     "name": "stdout",
     "output_type": "stream",
     "text": [
      "Cluster 1: 19 data points\n"
     ]
    },
    {
     "name": "stderr",
     "output_type": "stream",
     "text": [
      "100%|██████████| 133/133 [00:00<00:00, 8401.37it/s]\n",
      "100%|██████████| 133/133 [00:00<00:00, 8077.30it/s]\n",
      "100%|██████████| 133/133 [00:00<00:00, 13378.80it/s]\n",
      "100%|██████████| 133/133 [00:00<00:00, 31279.71it/s]\n"
     ]
    },
    {
     "name": "stdout",
     "output_type": "stream",
     "text": [
      "Cluster 2: 5 data points\n"
     ]
    },
    {
     "name": "stderr",
     "output_type": "stream",
     "text": [
      "100%|██████████| 133/133 [00:00<00:00, 8299.37it/s]\n",
      "100%|██████████| 133/133 [00:00<00:00, 8453.05it/s]\n",
      "100%|██████████| 133/133 [00:00<00:00, 13338.49it/s]\n",
      "100%|██████████| 133/133 [00:00<00:00, 31255.18it/s]\n"
     ]
    },
    {
     "name": "stdout",
     "output_type": "stream",
     "text": [
      "Cluster 3: 16 data points\n"
     ]
    },
    {
     "name": "stderr",
     "output_type": "stream",
     "text": [
      "100%|██████████| 133/133 [00:00<00:00, 8486.23it/s]\n",
      "100%|██████████| 133/133 [00:00<00:00, 8248.57it/s]\n",
      "100%|██████████| 133/133 [00:00<00:00, 13309.85it/s]\n",
      "100%|██████████| 133/133 [00:00<00:00, 31074.11it/s]\n"
     ]
    },
    {
     "name": "stdout",
     "output_type": "stream",
     "text": [
      "Cluster 4: 15 data points\n"
     ]
    },
    {
     "name": "stderr",
     "output_type": "stream",
     "text": [
      "100%|██████████| 133/133 [00:00<00:00, 8295.92it/s]\n",
      "100%|██████████| 133/133 [00:00<00:00, 8185.63it/s]\n",
      "100%|██████████| 133/133 [00:00<00:00, 13338.17it/s]\n",
      "100%|██████████| 133/133 [00:00<00:00, 31037.80it/s]\n"
     ]
    },
    {
     "name": "stdout",
     "output_type": "stream",
     "text": [
      "curated_file is: nor_agon_G_cAMP_EC50_curated.csv\n",
      "\n",
      "The number of data points in this file is lower than 50, which is not enough to build a good machine learning model. Skipping this file.\n",
      "curated_file is: nor_bind_RBA_IC50_curated.csv\n",
      "\n"
     ]
    },
    {
     "name": "stderr",
     "output_type": "stream",
     "text": [
      "100%|██████████| 417/417 [00:00<00:00, 2662.17it/s]\n"
     ]
    },
    {
     "name": "stdout",
     "output_type": "stream",
     "text": [
      "Cluster 0: 201 data points\n"
     ]
    },
    {
     "name": "stderr",
     "output_type": "stream",
     "text": [
      "100%|██████████| 417/417 [00:00<00:00, 2355.13it/s]\n",
      "100%|██████████| 417/417 [00:00<00:00, 2617.98it/s]\n",
      "100%|██████████| 417/417 [00:00<00:00, 4685.86it/s]\n",
      "100%|██████████| 417/417 [00:00<00:00, 9882.95it/s]\n"
     ]
    },
    {
     "name": "stdout",
     "output_type": "stream",
     "text": [
      "Cluster 1: 46 data points\n"
     ]
    },
    {
     "name": "stderr",
     "output_type": "stream",
     "text": [
      "100%|██████████| 417/417 [00:00<00:00, 2681.87it/s]\n",
      "100%|██████████| 417/417 [00:00<00:00, 2647.15it/s]\n",
      "100%|██████████| 417/417 [00:00<00:00, 4631.12it/s]\n",
      "100%|██████████| 417/417 [00:00<00:00, 9780.81it/s]\n"
     ]
    },
    {
     "name": "stdout",
     "output_type": "stream",
     "text": [
      "Cluster 2: 33 data points\n"
     ]
    },
    {
     "name": "stderr",
     "output_type": "stream",
     "text": [
      "100%|██████████| 417/417 [00:00<00:00, 2656.26it/s]\n",
      "100%|██████████| 417/417 [00:00<00:00, 2679.07it/s]\n",
      "100%|██████████| 417/417 [00:00<00:00, 4664.53it/s]\n",
      "100%|██████████| 417/417 [00:00<00:00, 9918.99it/s]\n"
     ]
    },
    {
     "name": "stdout",
     "output_type": "stream",
     "text": [
      "Cluster 3: 75 data points\n"
     ]
    },
    {
     "name": "stderr",
     "output_type": "stream",
     "text": [
      "100%|██████████| 417/417 [00:00<00:00, 2665.06it/s]\n",
      "100%|██████████| 417/417 [00:00<00:00, 2667.68it/s]\n",
      "100%|██████████| 417/417 [00:00<00:00, 4674.79it/s]\n",
      "100%|██████████| 417/417 [00:00<00:00, 9939.73it/s]\n"
     ]
    },
    {
     "name": "stdout",
     "output_type": "stream",
     "text": [
      "Cluster 4: 62 data points\n"
     ]
    },
    {
     "name": "stderr",
     "output_type": "stream",
     "text": [
      "100%|██████████| 417/417 [00:00<00:00, 2659.81it/s]\n",
      "100%|██████████| 417/417 [00:00<00:00, 2624.97it/s]\n",
      "100%|██████████| 417/417 [00:00<00:00, 4701.88it/s]\n",
      "100%|██████████| 417/417 [00:00<00:00, 9959.71it/s]\n"
     ]
    },
    {
     "name": "stdout",
     "output_type": "stream",
     "text": [
      "curated_file is: nor_agon_G_cAMP_IC50_curated.csv\n",
      "\n"
     ]
    },
    {
     "name": "stderr",
     "output_type": "stream",
     "text": [
      "100%|██████████| 59/59 [00:00<00:00, 17989.53it/s]\n"
     ]
    },
    {
     "name": "stdout",
     "output_type": "stream",
     "text": [
      "Cluster 0: 27 data points\n"
     ]
    },
    {
     "name": "stderr",
     "output_type": "stream",
     "text": [
      "100%|██████████| 59/59 [00:00<00:00, 11385.50it/s]\n",
      "100%|██████████| 59/59 [00:00<00:00, 12333.11it/s]\n",
      "100%|██████████| 59/59 [00:00<00:00, 22356.49it/s]\n",
      "100%|██████████| 59/59 [00:00<00:00, 38077.23it/s]"
     ]
    },
    {
     "name": "stdout",
     "output_type": "stream",
     "text": [
      "Cluster 1: 7 data points\n"
     ]
    },
    {
     "name": "stderr",
     "output_type": "stream",
     "text": [
      "\n",
      "100%|██████████| 59/59 [00:00<00:00, 11736.49it/s]\n",
      "100%|██████████| 59/59 [00:00<00:00, 18226.70it/s]\n",
      "100%|██████████| 59/59 [00:00<00:00, 32221.87it/s]\n",
      "100%|██████████| 59/59 [00:00<00:00, 63144.66it/s]\n"
     ]
    },
    {
     "name": "stdout",
     "output_type": "stream",
     "text": [
      "Cluster 2: 6 data points\n"
     ]
    },
    {
     "name": "stderr",
     "output_type": "stream",
     "text": [
      "100%|██████████| 59/59 [00:00<00:00, 18408.39it/s]\n",
      "100%|██████████| 59/59 [00:00<00:00, 18500.59it/s]\n",
      "100%|██████████| 59/59 [00:00<00:00, 32213.48it/s]\n",
      "100%|██████████| 59/59 [00:00<00:00, 61223.14it/s]\n"
     ]
    },
    {
     "name": "stdout",
     "output_type": "stream",
     "text": [
      "Cluster 3: 7 data points\n"
     ]
    },
    {
     "name": "stderr",
     "output_type": "stream",
     "text": [
      "100%|██████████| 59/59 [00:00<00:00, 18501.98it/s]\n",
      "100%|██████████| 59/59 [00:00<00:00, 18123.92it/s]\n",
      "100%|██████████| 59/59 [00:00<00:00, 32179.97it/s]\n",
      "100%|██████████| 59/59 [00:00<00:00, 65588.11it/s]\n"
     ]
    },
    {
     "name": "stdout",
     "output_type": "stream",
     "text": [
      "Cluster 4: 12 data points\n"
     ]
    },
    {
     "name": "stderr",
     "output_type": "stream",
     "text": [
      "100%|██████████| 59/59 [00:00<00:00, 18098.73it/s]\n",
      "100%|██████████| 59/59 [00:00<00:00, 18265.72it/s]\n",
      "100%|██████████| 59/59 [00:00<00:00, 31495.98it/s]\n",
      "100%|██████████| 59/59 [00:00<00:00, 64043.46it/s]\n"
     ]
    },
    {
     "name": "stdout",
     "output_type": "stream",
     "text": [
      "curated_file is: dor_agon_B_arrest_EC50_curated.csv\n",
      "\n",
      "The number of data points in this file is lower than 50, which is not enough to build a good machine learning model. Skipping this file.\n",
      "curated_file is: dor_agon_G_Ca_EC50_curated.csv\n",
      "\n",
      "The number of data points in this file is lower than 50, which is not enough to build a good machine learning model. Skipping this file.\n",
      "curated_file is: mor_bind_RBA_Ki_curated.csv\n",
      "\n"
     ]
    },
    {
     "name": "stderr",
     "output_type": "stream",
     "text": [
      "100%|██████████| 4523/4523 [00:18<00:00, 243.18it/s] \n"
     ]
    },
    {
     "name": "stdout",
     "output_type": "stream",
     "text": [
      "Cluster 0: 514 data points\n"
     ]
    },
    {
     "name": "stderr",
     "output_type": "stream",
     "text": [
      "100%|██████████| 4523/4523 [00:18<00:00, 242.97it/s] \n",
      "[11:31:20] Explicit valence for atom # 12 C, 6, is greater than permitted\n"
     ]
    },
    {
     "name": "stdout",
     "output_type": "stream",
     "text": [
      "Could not create a generic scaffold of Cc1cc(NC(=O)c2cccc(S(F)(F)(F)(F)F)c2)cc(-n2ccn3nc(-c4cccnc4)cc23)c1, then used a normal scaffold instead\n"
     ]
    },
    {
     "name": "stderr",
     "output_type": "stream",
     "text": [
      "100%|██████████| 4523/4523 [00:18<00:00, 244.89it/s] \n",
      "100%|██████████| 4523/4523 [00:12<00:00, 350.68it/s] \n",
      "100%|██████████| 4523/4523 [00:05<00:00, 900.58it/s] \n"
     ]
    },
    {
     "name": "stdout",
     "output_type": "stream",
     "text": [
      "Cluster 1: 225 data points\n"
     ]
    },
    {
     "name": "stderr",
     "output_type": "stream",
     "text": [
      "100%|██████████| 4523/4523 [00:18<00:00, 245.03it/s] \n",
      "[11:32:21] Explicit valence for atom # 12 C, 6, is greater than permitted\n"
     ]
    },
    {
     "name": "stdout",
     "output_type": "stream",
     "text": [
      "Could not create a generic scaffold of Cc1cc(NC(=O)c2cccc(S(F)(F)(F)(F)F)c2)cc(-n2ccn3nc(-c4cccnc4)cc23)c1, then used a normal scaffold instead\n"
     ]
    },
    {
     "name": "stderr",
     "output_type": "stream",
     "text": [
      "100%|██████████| 4523/4523 [00:18<00:00, 244.67it/s] \n",
      "100%|██████████| 4523/4523 [00:12<00:00, 350.87it/s] \n",
      "100%|██████████| 4523/4523 [00:04<00:00, 905.01it/s] \n"
     ]
    },
    {
     "name": "stdout",
     "output_type": "stream",
     "text": [
      "Cluster 2: 1200 data points\n"
     ]
    },
    {
     "name": "stderr",
     "output_type": "stream",
     "text": [
      "100%|██████████| 4523/4523 [00:18<00:00, 244.43it/s] \n",
      "[11:33:21] Explicit valence for atom # 12 C, 6, is greater than permitted\n"
     ]
    },
    {
     "name": "stdout",
     "output_type": "stream",
     "text": [
      "Could not create a generic scaffold of Cc1cc(NC(=O)c2cccc(S(F)(F)(F)(F)F)c2)cc(-n2ccn3nc(-c4cccnc4)cc23)c1, then used a normal scaffold instead\n"
     ]
    },
    {
     "name": "stderr",
     "output_type": "stream",
     "text": [
      "100%|██████████| 4523/4523 [00:18<00:00, 242.26it/s] \n",
      "100%|██████████| 4523/4523 [00:12<00:00, 350.76it/s] \n",
      "100%|██████████| 4523/4523 [00:05<00:00, 904.42it/s] \n"
     ]
    },
    {
     "name": "stdout",
     "output_type": "stream",
     "text": [
      "Cluster 3: 2437 data points\n"
     ]
    },
    {
     "name": "stderr",
     "output_type": "stream",
     "text": [
      "100%|██████████| 4523/4523 [00:18<00:00, 243.88it/s] \n",
      "[11:34:22] Explicit valence for atom # 12 C, 6, is greater than permitted\n"
     ]
    },
    {
     "name": "stdout",
     "output_type": "stream",
     "text": [
      "Could not create a generic scaffold of Cc1cc(NC(=O)c2cccc(S(F)(F)(F)(F)F)c2)cc(-n2ccn3nc(-c4cccnc4)cc23)c1, then used a normal scaffold instead\n"
     ]
    },
    {
     "name": "stderr",
     "output_type": "stream",
     "text": [
      "100%|██████████| 4523/4523 [00:18<00:00, 243.92it/s] \n",
      "100%|██████████| 4523/4523 [00:12<00:00, 352.82it/s] \n",
      "100%|██████████| 4523/4523 [00:04<00:00, 906.10it/s] \n"
     ]
    },
    {
     "name": "stdout",
     "output_type": "stream",
     "text": [
      "Cluster 4: 147 data points\n"
     ]
    },
    {
     "name": "stderr",
     "output_type": "stream",
     "text": [
      "100%|██████████| 4523/4523 [00:18<00:00, 244.51it/s] \n",
      "[11:35:22] Explicit valence for atom # 12 C, 6, is greater than permitted\n"
     ]
    },
    {
     "name": "stdout",
     "output_type": "stream",
     "text": [
      "Could not create a generic scaffold of Cc1cc(NC(=O)c2cccc(S(F)(F)(F)(F)F)c2)cc(-n2ccn3nc(-c4cccnc4)cc23)c1, then used a normal scaffold instead\n"
     ]
    },
    {
     "name": "stderr",
     "output_type": "stream",
     "text": [
      "100%|██████████| 4523/4523 [00:18<00:00, 244.07it/s] \n",
      "100%|██████████| 4523/4523 [00:12<00:00, 353.63it/s] \n",
      "100%|██████████| 4523/4523 [00:04<00:00, 907.86it/s] \n"
     ]
    },
    {
     "name": "stdout",
     "output_type": "stream",
     "text": [
      "curated_file is: dor_agon_G_GTP_EC50_curated.csv\n",
      "\n"
     ]
    },
    {
     "name": "stderr",
     "output_type": "stream",
     "text": [
      "100%|██████████| 581/581 [00:00<00:00, 1919.31it/s]\n"
     ]
    },
    {
     "name": "stdout",
     "output_type": "stream",
     "text": [
      "Cluster 0: 201 data points\n"
     ]
    },
    {
     "name": "stderr",
     "output_type": "stream",
     "text": [
      "100%|██████████| 581/581 [00:00<00:00, 1840.11it/s]\n",
      "100%|██████████| 581/581 [00:00<00:00, 1861.20it/s]\n",
      "100%|██████████| 581/581 [00:00<00:00, 2490.86it/s]\n",
      "100%|██████████| 581/581 [00:00<00:00, 7059.60it/s]\n"
     ]
    },
    {
     "name": "stdout",
     "output_type": "stream",
     "text": [
      "Cluster 1: 114 data points\n"
     ]
    },
    {
     "name": "stderr",
     "output_type": "stream",
     "text": [
      "100%|██████████| 581/581 [00:00<00:00, 1870.14it/s]\n",
      "100%|██████████| 581/581 [00:00<00:00, 1869.00it/s]\n",
      "100%|██████████| 581/581 [00:00<00:00, 2489.40it/s]\n",
      "100%|██████████| 581/581 [00:00<00:00, 7159.43it/s]\n"
     ]
    },
    {
     "name": "stdout",
     "output_type": "stream",
     "text": [
      "Cluster 2: 39 data points\n"
     ]
    },
    {
     "name": "stderr",
     "output_type": "stream",
     "text": [
      "100%|██████████| 581/581 [00:00<00:00, 1914.11it/s]\n",
      "100%|██████████| 581/581 [00:00<00:00, 1872.64it/s]\n",
      "100%|██████████| 581/581 [00:00<00:00, 2495.52it/s]\n",
      "100%|██████████| 581/581 [00:00<00:00, 7040.76it/s]\n"
     ]
    },
    {
     "name": "stdout",
     "output_type": "stream",
     "text": [
      "Cluster 3: 89 data points\n"
     ]
    },
    {
     "name": "stderr",
     "output_type": "stream",
     "text": [
      "100%|██████████| 581/581 [00:00<00:00, 1902.53it/s]\n",
      "100%|██████████| 581/581 [00:00<00:00, 1898.24it/s]\n",
      "100%|██████████| 581/581 [00:00<00:00, 2494.29it/s]\n",
      "100%|██████████| 581/581 [00:00<00:00, 7007.35it/s]\n"
     ]
    },
    {
     "name": "stdout",
     "output_type": "stream",
     "text": [
      "Cluster 4: 138 data points\n"
     ]
    },
    {
     "name": "stderr",
     "output_type": "stream",
     "text": [
      "100%|██████████| 581/581 [00:00<00:00, 1898.01it/s]\n",
      "100%|██████████| 581/581 [00:00<00:00, 1873.95it/s]\n",
      "100%|██████████| 581/581 [00:00<00:00, 2490.90it/s]\n",
      "100%|██████████| 581/581 [00:00<00:00, 7056.89it/s]\n"
     ]
    },
    {
     "name": "stdout",
     "output_type": "stream",
     "text": [
      "curated_file is: mor_agon_G_Ca_EC50_curated.csv\n",
      "\n"
     ]
    },
    {
     "name": "stderr",
     "output_type": "stream",
     "text": [
      "100%|██████████| 144/144 [00:00<00:00, 7722.74it/s]\n"
     ]
    },
    {
     "name": "stdout",
     "output_type": "stream",
     "text": [
      "Cluster 0: 24 data points\n"
     ]
    },
    {
     "name": "stderr",
     "output_type": "stream",
     "text": [
      "100%|██████████| 144/144 [00:00<00:00, 5104.28it/s]\n",
      "100%|██████████| 144/144 [00:00<00:00, 7585.87it/s]\n",
      "100%|██████████| 144/144 [00:00<00:00, 12122.75it/s]\n",
      "100%|██████████| 144/144 [00:00<00:00, 28232.59it/s]\n"
     ]
    },
    {
     "name": "stdout",
     "output_type": "stream",
     "text": [
      "Cluster 1: 25 data points\n"
     ]
    },
    {
     "name": "stderr",
     "output_type": "stream",
     "text": [
      "100%|██████████| 144/144 [00:00<00:00, 7734.41it/s]\n",
      "100%|██████████| 144/144 [00:00<00:00, 7720.07it/s]\n",
      "100%|██████████| 144/144 [00:00<00:00, 12090.72it/s]\n",
      "100%|██████████| 144/144 [00:00<00:00, 27696.60it/s]\n"
     ]
    },
    {
     "name": "stdout",
     "output_type": "stream",
     "text": [
      "Cluster 2: 26 data points\n"
     ]
    },
    {
     "name": "stderr",
     "output_type": "stream",
     "text": [
      "100%|██████████| 144/144 [00:00<00:00, 7685.00it/s]\n",
      "100%|██████████| 144/144 [00:00<00:00, 7455.25it/s]\n",
      "100%|██████████| 144/144 [00:00<00:00, 12058.37it/s]\n",
      "100%|██████████| 144/144 [00:00<00:00, 28713.09it/s]\n"
     ]
    },
    {
     "name": "stdout",
     "output_type": "stream",
     "text": [
      "Cluster 3: 35 data points\n"
     ]
    },
    {
     "name": "stderr",
     "output_type": "stream",
     "text": [
      "100%|██████████| 144/144 [00:00<00:00, 7671.44it/s]\n",
      "100%|██████████| 144/144 [00:00<00:00, 7555.60it/s]\n",
      "100%|██████████| 144/144 [00:00<00:00, 11946.75it/s]\n",
      "100%|██████████| 144/144 [00:00<00:00, 28870.93it/s]\n"
     ]
    },
    {
     "name": "stdout",
     "output_type": "stream",
     "text": [
      "Cluster 4: 34 data points\n"
     ]
    },
    {
     "name": "stderr",
     "output_type": "stream",
     "text": [
      "100%|██████████| 144/144 [00:00<00:00, 7486.95it/s]\n",
      "100%|██████████| 144/144 [00:00<00:00, 7510.60it/s]\n",
      "100%|██████████| 144/144 [00:00<00:00, 11831.37it/s]\n",
      "100%|██████████| 144/144 [00:00<00:00, 28607.01it/s]\n"
     ]
    },
    {
     "name": "stdout",
     "output_type": "stream",
     "text": [
      "curated_file is: kor_antag_G_GTP_Ki_curated.csv\n",
      "\n"
     ]
    },
    {
     "name": "stderr",
     "output_type": "stream",
     "text": [
      "100%|██████████| 53/53 [00:00<00:00, 20351.38it/s]\n"
     ]
    },
    {
     "name": "stdout",
     "output_type": "stream",
     "text": [
      "Cluster 0: 12 data points\n"
     ]
    },
    {
     "name": "stderr",
     "output_type": "stream",
     "text": [
      "100%|██████████| 53/53 [00:00<00:00, 13102.56it/s]\n",
      "100%|██████████| 53/53 [00:00<00:00, 12791.19it/s]\n",
      "100%|██████████| 53/53 [00:00<00:00, 23749.80it/s]\n",
      "100%|██████████| 53/53 [00:00<00:00, 43223.43it/s]\n"
     ]
    },
    {
     "name": "stdout",
     "output_type": "stream",
     "text": [
      "Cluster 1: 3 data points\n"
     ]
    },
    {
     "name": "stderr",
     "output_type": "stream",
     "text": [
      "100%|██████████| 53/53 [00:00<00:00, 13427.04it/s]\n",
      "100%|██████████| 53/53 [00:00<00:00, 13384.20it/s]\n",
      "100%|██████████| 53/53 [00:00<00:00, 22995.56it/s]\n",
      "100%|██████████| 53/53 [00:00<00:00, 40886.17it/s]"
     ]
    },
    {
     "name": "stdout",
     "output_type": "stream",
     "text": [
      "Cluster 2: 10 data points\n"
     ]
    },
    {
     "name": "stderr",
     "output_type": "stream",
     "text": [
      "\n",
      "100%|██████████| 53/53 [00:00<00:00, 20615.61it/s]\n",
      "100%|██████████| 53/53 [00:00<00:00, 20254.95it/s]\n",
      "100%|██████████| 53/53 [00:00<00:00, 32797.01it/s]\n",
      "100%|██████████| 53/53 [00:00<00:00, 73244.85it/s]\n"
     ]
    },
    {
     "name": "stdout",
     "output_type": "stream",
     "text": [
      "Cluster 3: 10 data points\n"
     ]
    },
    {
     "name": "stderr",
     "output_type": "stream",
     "text": [
      "100%|██████████| 53/53 [00:00<00:00, 20439.33it/s]\n",
      "100%|██████████| 53/53 [00:00<00:00, 19974.67it/s]\n",
      "100%|██████████| 53/53 [00:00<00:00, 32996.60it/s]\n",
      "100%|██████████| 53/53 [00:00<00:00, 72433.40it/s]\n"
     ]
    },
    {
     "name": "stdout",
     "output_type": "stream",
     "text": [
      "Cluster 4: 18 data points\n"
     ]
    },
    {
     "name": "stderr",
     "output_type": "stream",
     "text": [
      "100%|██████████| 53/53 [00:00<00:00, 19709.03it/s]\n",
      "100%|██████████| 53/53 [00:00<00:00, 20566.02it/s]\n",
      "100%|██████████| 53/53 [00:00<00:00, 33168.92it/s]\n",
      "100%|██████████| 53/53 [00:00<00:00, 72221.61it/s]\n"
     ]
    },
    {
     "name": "stdout",
     "output_type": "stream",
     "text": [
      "curated_file is: mor_antag_G_GTP_IC50_curated.csv\n",
      "\n"
     ]
    },
    {
     "name": "stderr",
     "output_type": "stream",
     "text": [
      "100%|██████████| 268/268 [00:00<00:00, 4242.56it/s]\n"
     ]
    },
    {
     "name": "stdout",
     "output_type": "stream",
     "text": [
      "Cluster 0: 58 data points\n"
     ]
    },
    {
     "name": "stderr",
     "output_type": "stream",
     "text": [
      "100%|██████████| 268/268 [00:00<00:00, 2889.92it/s]\n",
      "100%|██████████| 268/268 [00:00<00:00, 4130.72it/s]\n",
      "100%|██████████| 268/268 [00:00<00:00, 6458.37it/s]\n",
      "100%|██████████| 268/268 [00:00<00:00, 15250.57it/s]\n"
     ]
    },
    {
     "name": "stdout",
     "output_type": "stream",
     "text": [
      "Cluster 1: 50 data points\n"
     ]
    },
    {
     "name": "stderr",
     "output_type": "stream",
     "text": [
      "100%|██████████| 268/268 [00:00<00:00, 4165.36it/s]\n",
      "100%|██████████| 268/268 [00:00<00:00, 4087.20it/s]\n",
      "100%|██████████| 268/268 [00:00<00:00, 6380.58it/s]\n",
      "100%|██████████| 268/268 [00:00<00:00, 15278.97it/s]\n"
     ]
    },
    {
     "name": "stdout",
     "output_type": "stream",
     "text": [
      "Cluster 2: 75 data points\n"
     ]
    },
    {
     "name": "stderr",
     "output_type": "stream",
     "text": [
      "100%|██████████| 268/268 [00:00<00:00, 4192.85it/s]\n",
      "100%|██████████| 268/268 [00:00<00:00, 4071.45it/s]\n",
      "100%|██████████| 268/268 [00:00<00:00, 6393.79it/s]\n",
      "100%|██████████| 268/268 [00:00<00:00, 15474.37it/s]\n"
     ]
    },
    {
     "name": "stdout",
     "output_type": "stream",
     "text": [
      "Cluster 3: 52 data points\n"
     ]
    },
    {
     "name": "stderr",
     "output_type": "stream",
     "text": [
      "100%|██████████| 268/268 [00:00<00:00, 4165.61it/s]\n",
      "100%|██████████| 268/268 [00:00<00:00, 4095.02it/s]\n",
      "100%|██████████| 268/268 [00:00<00:00, 6386.74it/s]\n",
      "100%|██████████| 268/268 [00:00<00:00, 15385.20it/s]\n"
     ]
    },
    {
     "name": "stdout",
     "output_type": "stream",
     "text": [
      "Cluster 4: 33 data points\n"
     ]
    },
    {
     "name": "stderr",
     "output_type": "stream",
     "text": [
      "100%|██████████| 268/268 [00:00<00:00, 4113.49it/s]\n",
      "100%|██████████| 268/268 [00:00<00:00, 4057.28it/s]\n",
      "100%|██████████| 268/268 [00:00<00:00, 6242.77it/s]\n",
      "100%|██████████| 268/268 [00:00<00:00, 14850.62it/s]\n"
     ]
    },
    {
     "name": "stdout",
     "output_type": "stream",
     "text": [
      "curated_file is: nor_bind_RBA_Ki_curated.csv\n",
      "\n"
     ]
    },
    {
     "name": "stderr",
     "output_type": "stream",
     "text": [
      "100%|██████████| 1126/1126 [00:01<00:00, 989.27it/s]\n"
     ]
    },
    {
     "name": "stdout",
     "output_type": "stream",
     "text": [
      "Cluster 0: 85 data points\n"
     ]
    },
    {
     "name": "stderr",
     "output_type": "stream",
     "text": [
      "100%|██████████| 1126/1126 [00:01<00:00, 987.18it/s]\n",
      "100%|██████████| 1126/1126 [00:01<00:00, 962.10it/s]\n",
      "100%|██████████| 1126/1126 [00:00<00:00, 1670.21it/s]\n",
      "100%|██████████| 1126/1126 [00:00<00:00, 3638.36it/s]\n"
     ]
    },
    {
     "name": "stdout",
     "output_type": "stream",
     "text": [
      "Cluster 1: 510 data points\n"
     ]
    },
    {
     "name": "stderr",
     "output_type": "stream",
     "text": [
      "100%|██████████| 1126/1126 [00:01<00:00, 984.71it/s]\n",
      "100%|██████████| 1126/1126 [00:01<00:00, 961.69it/s]\n",
      "100%|██████████| 1126/1126 [00:00<00:00, 1676.18it/s]\n",
      "100%|██████████| 1126/1126 [00:00<00:00, 3642.19it/s]\n"
     ]
    },
    {
     "name": "stdout",
     "output_type": "stream",
     "text": [
      "Cluster 2: 245 data points\n"
     ]
    },
    {
     "name": "stderr",
     "output_type": "stream",
     "text": [
      "100%|██████████| 1126/1126 [00:01<00:00, 983.24it/s]\n",
      "100%|██████████| 1126/1126 [00:01<00:00, 964.26it/s]\n",
      "100%|██████████| 1126/1126 [00:00<00:00, 1658.68it/s]\n",
      "100%|██████████| 1126/1126 [00:00<00:00, 3613.12it/s]\n"
     ]
    },
    {
     "name": "stdout",
     "output_type": "stream",
     "text": [
      "Cluster 3: 145 data points\n"
     ]
    },
    {
     "name": "stderr",
     "output_type": "stream",
     "text": [
      "100%|██████████| 1126/1126 [00:01<00:00, 985.25it/s]\n",
      "100%|██████████| 1126/1126 [00:01<00:00, 963.52it/s]\n",
      "100%|██████████| 1126/1126 [00:00<00:00, 1659.11it/s]\n",
      "100%|██████████| 1126/1126 [00:00<00:00, 3638.63it/s]\n"
     ]
    },
    {
     "name": "stdout",
     "output_type": "stream",
     "text": [
      "Cluster 4: 141 data points\n"
     ]
    },
    {
     "name": "stderr",
     "output_type": "stream",
     "text": [
      "100%|██████████| 1126/1126 [00:01<00:00, 985.87it/s]\n",
      "100%|██████████| 1126/1126 [00:01<00:00, 964.74it/s]\n",
      "100%|██████████| 1126/1126 [00:00<00:00, 1701.45it/s]\n",
      "100%|██████████| 1126/1126 [00:00<00:00, 3653.26it/s]\n"
     ]
    },
    {
     "name": "stdout",
     "output_type": "stream",
     "text": [
      "curated_file is: mor_agon_G_cAMP_EC50_curated.csv\n",
      "\n"
     ]
    },
    {
     "name": "stderr",
     "output_type": "stream",
     "text": [
      "100%|██████████| 418/418 [00:00<00:00, 2700.10it/s]\n"
     ]
    },
    {
     "name": "stdout",
     "output_type": "stream",
     "text": [
      "Cluster 0: 134 data points\n"
     ]
    },
    {
     "name": "stderr",
     "output_type": "stream",
     "text": [
      "100%|██████████| 418/418 [00:00<00:00, 2309.88it/s]\n",
      "100%|██████████| 418/418 [00:00<00:00, 2636.63it/s]\n",
      "100%|██████████| 418/418 [00:00<00:00, 4024.02it/s]\n",
      "100%|██████████| 418/418 [00:00<00:00, 9754.52it/s]\n"
     ]
    },
    {
     "name": "stdout",
     "output_type": "stream",
     "text": [
      "Cluster 1: 57 data points\n"
     ]
    },
    {
     "name": "stderr",
     "output_type": "stream",
     "text": [
      "100%|██████████| 418/418 [00:00<00:00, 2653.76it/s]\n",
      "100%|██████████| 418/418 [00:00<00:00, 2660.79it/s]\n",
      "100%|██████████| 418/418 [00:00<00:00, 4017.95it/s]\n",
      "100%|██████████| 418/418 [00:00<00:00, 9830.82it/s]\n"
     ]
    },
    {
     "name": "stdout",
     "output_type": "stream",
     "text": [
      "Cluster 2: 81 data points\n"
     ]
    },
    {
     "name": "stderr",
     "output_type": "stream",
     "text": [
      "100%|██████████| 418/418 [00:00<00:00, 2673.03it/s]\n",
      "100%|██████████| 418/418 [00:00<00:00, 2691.65it/s]\n",
      "100%|██████████| 418/418 [00:00<00:00, 4058.53it/s]\n",
      "100%|██████████| 418/418 [00:00<00:00, 9834.08it/s]\n"
     ]
    },
    {
     "name": "stdout",
     "output_type": "stream",
     "text": [
      "Cluster 3: 60 data points\n"
     ]
    },
    {
     "name": "stderr",
     "output_type": "stream",
     "text": [
      "100%|██████████| 418/418 [00:00<00:00, 2671.66it/s]\n",
      "100%|██████████| 418/418 [00:00<00:00, 2683.83it/s]\n",
      "100%|██████████| 418/418 [00:00<00:00, 4044.44it/s]\n",
      "100%|██████████| 418/418 [00:00<00:00, 9940.91it/s]\n"
     ]
    },
    {
     "name": "stdout",
     "output_type": "stream",
     "text": [
      "Cluster 4: 86 data points\n"
     ]
    },
    {
     "name": "stderr",
     "output_type": "stream",
     "text": [
      "100%|██████████| 418/418 [00:00<00:00, 2674.07it/s]\n",
      "100%|██████████| 418/418 [00:00<00:00, 2700.66it/s]\n",
      "100%|██████████| 418/418 [00:00<00:00, 4000.87it/s]\n",
      "100%|██████████| 418/418 [00:00<00:00, 9906.70it/s]\n"
     ]
    },
    {
     "name": "stdout",
     "output_type": "stream",
     "text": [
      "curated_file is: kor_agon_B_arrest_EC50_curated.csv\n",
      "\n",
      "The number of data points in this file is lower than 50, which is not enough to build a good machine learning model. Skipping this file.\n",
      "curated_file is: dor_bind_RBA_Ki_curated.csv\n",
      "\n"
     ]
    },
    {
     "name": "stderr",
     "output_type": "stream",
     "text": [
      "100%|██████████| 3923/3923 [00:13<00:00, 284.45it/s] \n"
     ]
    },
    {
     "name": "stdout",
     "output_type": "stream",
     "text": [
      "Cluster 0: 445 data points\n"
     ]
    },
    {
     "name": "stderr",
     "output_type": "stream",
     "text": [
      "100%|██████████| 3923/3923 [00:13<00:00, 282.12it/s] \n",
      "[11:37:24] Explicit valence for atom # 12 C, 6, is greater than permitted\n"
     ]
    },
    {
     "name": "stdout",
     "output_type": "stream",
     "text": [
      "Could not create a generic scaffold of Cc1cc(NC(=O)c2cccc(S(F)(F)(F)(F)F)c2)cc(-n2ccn3nc(-c4cccnc4)cc23)c1, then used a normal scaffold instead\n"
     ]
    },
    {
     "name": "stderr",
     "output_type": "stream",
     "text": [
      "100%|██████████| 3923/3923 [00:13<00:00, 283.56it/s] \n",
      "100%|██████████| 3923/3923 [00:10<00:00, 383.24it/s] \n",
      "100%|██████████| 3923/3923 [00:03<00:00, 1039.07it/s]\n"
     ]
    },
    {
     "name": "stdout",
     "output_type": "stream",
     "text": [
      "Cluster 1: 2233 data points\n"
     ]
    },
    {
     "name": "stderr",
     "output_type": "stream",
     "text": [
      "100%|██████████| 3923/3923 [00:13<00:00, 283.09it/s] \n",
      "[11:38:11] Explicit valence for atom # 12 C, 6, is greater than permitted\n"
     ]
    },
    {
     "name": "stdout",
     "output_type": "stream",
     "text": [
      "Could not create a generic scaffold of Cc1cc(NC(=O)c2cccc(S(F)(F)(F)(F)F)c2)cc(-n2ccn3nc(-c4cccnc4)cc23)c1, then used a normal scaffold instead\n"
     ]
    },
    {
     "name": "stderr",
     "output_type": "stream",
     "text": [
      "100%|██████████| 3923/3923 [00:13<00:00, 281.67it/s] \n",
      "100%|██████████| 3923/3923 [00:10<00:00, 382.41it/s] \n",
      "100%|██████████| 3923/3923 [00:03<00:00, 1043.12it/s]\n"
     ]
    },
    {
     "name": "stdout",
     "output_type": "stream",
     "text": [
      "Cluster 2: 871 data points\n"
     ]
    },
    {
     "name": "stderr",
     "output_type": "stream",
     "text": [
      "100%|██████████| 3923/3923 [00:13<00:00, 280.64it/s] \n",
      "[11:38:57] Explicit valence for atom # 12 C, 6, is greater than permitted\n"
     ]
    },
    {
     "name": "stdout",
     "output_type": "stream",
     "text": [
      "Could not create a generic scaffold of Cc1cc(NC(=O)c2cccc(S(F)(F)(F)(F)F)c2)cc(-n2ccn3nc(-c4cccnc4)cc23)c1, then used a normal scaffold instead\n"
     ]
    },
    {
     "name": "stderr",
     "output_type": "stream",
     "text": [
      "100%|██████████| 3923/3923 [00:13<00:00, 281.00it/s] \n",
      "100%|██████████| 3923/3923 [00:10<00:00, 383.33it/s] \n",
      "100%|██████████| 3923/3923 [00:03<00:00, 1044.82it/s]\n"
     ]
    },
    {
     "name": "stdout",
     "output_type": "stream",
     "text": [
      "Cluster 3: 148 data points\n"
     ]
    },
    {
     "name": "stderr",
     "output_type": "stream",
     "text": [
      "100%|██████████| 3923/3923 [00:13<00:00, 283.46it/s] \n",
      "[11:39:44] Explicit valence for atom # 12 C, 6, is greater than permitted\n"
     ]
    },
    {
     "name": "stdout",
     "output_type": "stream",
     "text": [
      "Could not create a generic scaffold of Cc1cc(NC(=O)c2cccc(S(F)(F)(F)(F)F)c2)cc(-n2ccn3nc(-c4cccnc4)cc23)c1, then used a normal scaffold instead\n"
     ]
    },
    {
     "name": "stderr",
     "output_type": "stream",
     "text": [
      "100%|██████████| 3923/3923 [00:13<00:00, 280.74it/s] \n",
      "100%|██████████| 3923/3923 [00:10<00:00, 384.38it/s] \n",
      "100%|██████████| 3923/3923 [00:03<00:00, 1045.69it/s]\n"
     ]
    },
    {
     "name": "stdout",
     "output_type": "stream",
     "text": [
      "Cluster 4: 226 data points\n"
     ]
    },
    {
     "name": "stderr",
     "output_type": "stream",
     "text": [
      "100%|██████████| 3923/3923 [00:13<00:00, 282.13it/s] \n",
      "[11:40:31] Explicit valence for atom # 12 C, 6, is greater than permitted\n"
     ]
    },
    {
     "name": "stdout",
     "output_type": "stream",
     "text": [
      "Could not create a generic scaffold of Cc1cc(NC(=O)c2cccc(S(F)(F)(F)(F)F)c2)cc(-n2ccn3nc(-c4cccnc4)cc23)c1, then used a normal scaffold instead\n"
     ]
    },
    {
     "name": "stderr",
     "output_type": "stream",
     "text": [
      "100%|██████████| 3923/3923 [00:14<00:00, 279.77it/s] \n",
      "100%|██████████| 3923/3923 [00:10<00:00, 381.41it/s] \n",
      "100%|██████████| 3923/3923 [00:03<00:00, 1021.01it/s]\n"
     ]
    },
    {
     "name": "stdout",
     "output_type": "stream",
     "text": [
      "curated_file is: kor_bind_RBA_Ki_curated.csv\n",
      "\n"
     ]
    },
    {
     "name": "stderr",
     "output_type": "stream",
     "text": [
      "100%|██████████| 3759/3759 [00:12<00:00, 296.96it/s] \n"
     ]
    },
    {
     "name": "stdout",
     "output_type": "stream",
     "text": [
      "Cluster 0: 398 data points\n"
     ]
    },
    {
     "name": "stderr",
     "output_type": "stream",
     "text": [
      "100%|██████████| 3759/3759 [00:12<00:00, 293.36it/s] \n",
      "[11:41:37] Explicit valence for atom # 32 C, 6, is greater than permitted\n"
     ]
    },
    {
     "name": "stdout",
     "output_type": "stream",
     "text": [
      "Could not create a generic scaffold of Cc1cc(C)c(-n2ccn3nc(-c4cccnc4)cc23)cc1NC(=O)c1cc(C#N)cc(S(F)(F)(F)(F)F)c1, then used a normal scaffold instead\n"
     ]
    },
    {
     "name": "stderr",
     "output_type": "stream",
     "text": [
      "100%|██████████| 3759/3759 [00:12<00:00, 295.60it/s] \n",
      "100%|██████████| 3759/3759 [00:09<00:00, 399.02it/s] \n",
      "100%|██████████| 3759/3759 [00:03<00:00, 1071.63it/s]\n"
     ]
    },
    {
     "name": "stdout",
     "output_type": "stream",
     "text": [
      "Cluster 1: 1858 data points\n"
     ]
    },
    {
     "name": "stderr",
     "output_type": "stream",
     "text": [
      "100%|██████████| 3759/3759 [00:12<00:00, 295.55it/s] \n",
      "[11:42:21] Explicit valence for atom # 32 C, 6, is greater than permitted\n"
     ]
    },
    {
     "name": "stdout",
     "output_type": "stream",
     "text": [
      "Could not create a generic scaffold of Cc1cc(C)c(-n2ccn3nc(-c4cccnc4)cc23)cc1NC(=O)c1cc(C#N)cc(S(F)(F)(F)(F)F)c1, then used a normal scaffold instead\n"
     ]
    },
    {
     "name": "stderr",
     "output_type": "stream",
     "text": [
      "100%|██████████| 3759/3759 [00:12<00:00, 294.58it/s] \n",
      "100%|██████████| 3759/3759 [00:09<00:00, 397.17it/s] \n",
      "100%|██████████| 3759/3759 [00:03<00:00, 1068.74it/s]\n"
     ]
    },
    {
     "name": "stdout",
     "output_type": "stream",
     "text": [
      "Cluster 2: 290 data points\n"
     ]
    },
    {
     "name": "stderr",
     "output_type": "stream",
     "text": [
      "100%|██████████| 3759/3759 [00:12<00:00, 294.51it/s] \n",
      "[11:43:04] Explicit valence for atom # 32 C, 6, is greater than permitted\n"
     ]
    },
    {
     "name": "stdout",
     "output_type": "stream",
     "text": [
      "Could not create a generic scaffold of Cc1cc(C)c(-n2ccn3nc(-c4cccnc4)cc23)cc1NC(=O)c1cc(C#N)cc(S(F)(F)(F)(F)F)c1, then used a normal scaffold instead\n"
     ]
    },
    {
     "name": "stderr",
     "output_type": "stream",
     "text": [
      "100%|██████████| 3759/3759 [00:12<00:00, 290.46it/s] \n",
      "100%|██████████| 3759/3759 [00:09<00:00, 398.96it/s] \n",
      "100%|██████████| 3759/3759 [00:03<00:00, 1064.98it/s]\n"
     ]
    },
    {
     "name": "stdout",
     "output_type": "stream",
     "text": [
      "Cluster 3: 898 data points\n"
     ]
    },
    {
     "name": "stderr",
     "output_type": "stream",
     "text": [
      "100%|██████████| 3759/3759 [00:12<00:00, 293.16it/s] \n",
      "[11:43:47] Explicit valence for atom # 32 C, 6, is greater than permitted\n"
     ]
    },
    {
     "name": "stdout",
     "output_type": "stream",
     "text": [
      "Could not create a generic scaffold of Cc1cc(C)c(-n2ccn3nc(-c4cccnc4)cc23)cc1NC(=O)c1cc(C#N)cc(S(F)(F)(F)(F)F)c1, then used a normal scaffold instead\n"
     ]
    },
    {
     "name": "stderr",
     "output_type": "stream",
     "text": [
      "100%|██████████| 3759/3759 [00:12<00:00, 292.76it/s] \n",
      "100%|██████████| 3759/3759 [00:09<00:00, 398.66it/s] \n",
      "100%|██████████| 3759/3759 [00:03<00:00, 1067.99it/s]\n"
     ]
    },
    {
     "name": "stdout",
     "output_type": "stream",
     "text": [
      "Cluster 4: 315 data points\n"
     ]
    },
    {
     "name": "stderr",
     "output_type": "stream",
     "text": [
      "100%|██████████| 3759/3759 [00:12<00:00, 295.39it/s] \n",
      "[11:44:30] Explicit valence for atom # 32 C, 6, is greater than permitted\n"
     ]
    },
    {
     "name": "stdout",
     "output_type": "stream",
     "text": [
      "Could not create a generic scaffold of Cc1cc(C)c(-n2ccn3nc(-c4cccnc4)cc23)cc1NC(=O)c1cc(C#N)cc(S(F)(F)(F)(F)F)c1, then used a normal scaffold instead\n"
     ]
    },
    {
     "name": "stderr",
     "output_type": "stream",
     "text": [
      "100%|██████████| 3759/3759 [00:12<00:00, 295.40it/s] \n",
      "100%|██████████| 3759/3759 [00:09<00:00, 399.48it/s] \n",
      "100%|██████████| 3759/3759 [00:03<00:00, 1066.04it/s]\n"
     ]
    },
    {
     "name": "stdout",
     "output_type": "stream",
     "text": [
      "curated_file is: nor_antag_G_GTP_Ki_curated.csv\n",
      "\n",
      "The number of data points in this file is lower than 50, which is not enough to build a good machine learning model. Skipping this file.\n",
      "curated_file is: dor_bind_RBA_IC50_curated.csv\n",
      "\n"
     ]
    },
    {
     "name": "stderr",
     "output_type": "stream",
     "text": [
      "100%|██████████| 672/672 [00:00<00:00, 1645.12it/s]\n"
     ]
    },
    {
     "name": "stdout",
     "output_type": "stream",
     "text": [
      "Cluster 0: 297 data points\n"
     ]
    },
    {
     "name": "stderr",
     "output_type": "stream",
     "text": [
      "100%|██████████| 672/672 [00:00<00:00, 1549.35it/s]\n",
      "100%|██████████| 672/672 [00:00<00:00, 1597.33it/s]\n",
      "100%|██████████| 672/672 [00:00<00:00, 2459.06it/s]\n",
      "100%|██████████| 672/672 [00:00<00:00, 5958.67it/s]\n"
     ]
    },
    {
     "name": "stdout",
     "output_type": "stream",
     "text": [
      "Cluster 1: 143 data points\n"
     ]
    },
    {
     "name": "stderr",
     "output_type": "stream",
     "text": [
      "100%|██████████| 672/672 [00:00<00:00, 1636.34it/s]\n",
      "100%|██████████| 672/672 [00:00<00:00, 1601.14it/s]\n",
      "100%|██████████| 672/672 [00:00<00:00, 2472.50it/s]\n",
      "100%|██████████| 672/672 [00:00<00:00, 6013.57it/s]\n"
     ]
    },
    {
     "name": "stdout",
     "output_type": "stream",
     "text": [
      "Cluster 2: 87 data points\n"
     ]
    },
    {
     "name": "stderr",
     "output_type": "stream",
     "text": [
      "100%|██████████| 672/672 [00:00<00:00, 1647.12it/s]\n",
      "100%|██████████| 672/672 [00:00<00:00, 1633.02it/s]\n",
      "100%|██████████| 672/672 [00:00<00:00, 2454.62it/s]\n",
      "100%|██████████| 672/672 [00:00<00:00, 5928.23it/s]\n"
     ]
    },
    {
     "name": "stdout",
     "output_type": "stream",
     "text": [
      "Cluster 3: 83 data points\n"
     ]
    },
    {
     "name": "stderr",
     "output_type": "stream",
     "text": [
      "100%|██████████| 672/672 [00:00<00:00, 1644.02it/s]\n",
      "100%|██████████| 672/672 [00:00<00:00, 1603.21it/s]\n",
      "100%|██████████| 672/672 [00:00<00:00, 2468.00it/s]\n",
      "100%|██████████| 672/672 [00:00<00:00, 6041.26it/s]\n"
     ]
    },
    {
     "name": "stdout",
     "output_type": "stream",
     "text": [
      "Cluster 4: 62 data points\n"
     ]
    },
    {
     "name": "stderr",
     "output_type": "stream",
     "text": [
      "100%|██████████| 672/672 [00:00<00:00, 1648.86it/s]\n",
      "100%|██████████| 672/672 [00:00<00:00, 1641.71it/s]\n",
      "100%|██████████| 672/672 [00:00<00:00, 2479.21it/s]\n",
      "100%|██████████| 672/672 [00:00<00:00, 5981.33it/s]\n"
     ]
    },
    {
     "name": "stdout",
     "output_type": "stream",
     "text": [
      "Done!\n",
      "====================================\n",
      "\n",
      "use_clustering is: False\n",
      "\n",
      "curated_file is: nor_antag_G_GTP_IC50_curated.csv\n",
      "\n"
     ]
    },
    {
     "ename": "UnboundLocalError",
     "evalue": "local variable 'cliff_mols' referenced before assignment",
     "output_type": "error",
     "traceback": [
      "\u001b[0;31m---------------------------------------------------------------------------\u001b[0m",
      "\u001b[0;31mUnboundLocalError\u001b[0m                         Traceback (most recent call last)",
      "Cell \u001b[0;32mIn[8], line 9\u001b[0m\n\u001b[1;32m      6\u001b[0m     \u001b[38;5;28;01mfor\u001b[39;00m use_clustering \u001b[38;5;129;01min\u001b[39;00m use_clusterings:\n\u001b[1;32m      7\u001b[0m         \u001b[38;5;28mprint\u001b[39m (\u001b[38;5;124mf\u001b[39m\u001b[38;5;124m\"\u001b[39m\u001b[38;5;124muse_clustering is: \u001b[39m\u001b[38;5;132;01m{\u001b[39;00muse_clustering\u001b[38;5;132;01m}\u001b[39;00m\u001b[38;5;130;01m\\n\u001b[39;00m\u001b[38;5;124m\"\u001b[39m)\n\u001b[0;32m----> 9\u001b[0m         \u001b[43msplit_data\u001b[49m\u001b[43m(\u001b[49m\u001b[43minput_filepath\u001b[49m\u001b[43m \u001b[49m\u001b[38;5;241;43m=\u001b[39;49m\u001b[43m \u001b[49m\u001b[43mCURA_CAT_DATASETS_DIR\u001b[49m\u001b[43m,\u001b[49m\u001b[43m \u001b[49m\u001b[43moutput_filepath\u001b[49m\u001b[43m \u001b[49m\u001b[38;5;241;43m=\u001b[39;49m\u001b[43m \u001b[49m\u001b[43mSPLIT_CAT_DATASETS_DIR\u001b[49m\u001b[43m,\u001b[49m\u001b[43m \u001b[49m\n\u001b[1;32m     10\u001b[0m \u001b[43m                   \u001b[49m\u001b[43mtask\u001b[49m\u001b[38;5;241;43m=\u001b[39;49m\u001b[43mtask\u001b[49m\u001b[43m,\u001b[49m\u001b[43m \u001b[49m\u001b[43muse_clustering\u001b[49m\u001b[38;5;241;43m=\u001b[39;49m\u001b[43muse_clustering\u001b[49m\u001b[43m)\u001b[49m\n\u001b[1;32m     11\u001b[0m         \u001b[38;5;28mprint\u001b[39m(\u001b[38;5;124mf\u001b[39m\u001b[38;5;124m'\u001b[39m\u001b[38;5;124mDone!\u001b[39m\u001b[38;5;130;01m\\n\u001b[39;00m\u001b[38;5;124m====================================\u001b[39m\u001b[38;5;130;01m\\n\u001b[39;00m\u001b[38;5;124m'\u001b[39m)\n\u001b[1;32m     12\u001b[0m \u001b[38;5;66;03m#It took around 1 hour to run the above code locally\u001b[39;00m\n",
      "Cell \u001b[0;32mIn[7], line 22\u001b[0m, in \u001b[0;36msplit_data\u001b[0;34m(input_filepath, output_filepath, task, use_clustering)\u001b[0m\n\u001b[1;32m     19\u001b[0m df \u001b[38;5;241m=\u001b[39m df\u001b[38;5;241m.\u001b[39mdrop(columns\u001b[38;5;241m=\u001b[39m[\u001b[38;5;124m'\u001b[39m\u001b[38;5;124mUnnamed: 0\u001b[39m\u001b[38;5;124m'\u001b[39m])\n\u001b[1;32m     21\u001b[0m \u001b[38;5;66;03m# split the data into train and test sets\u001b[39;00m\n\u001b[0;32m---> 22\u001b[0m data_splited_df \u001b[38;5;241m=\u001b[39m \u001b[43mdata_spliter\u001b[49m\u001b[43m(\u001b[49m\u001b[43mdf\u001b[49m\u001b[43m[\u001b[49m\u001b[38;5;124;43m'\u001b[39;49m\u001b[38;5;124;43mcanonical_smiles_by_Std\u001b[39;49m\u001b[38;5;124;43m'\u001b[39;49m\u001b[43m]\u001b[49m\u001b[38;5;241;43m.\u001b[39;49m\u001b[43mtolist\u001b[49m\u001b[43m(\u001b[49m\u001b[43m)\u001b[49m\u001b[43m,\u001b[49m\u001b[43m \u001b[49m\u001b[43mdf\u001b[49m\u001b[43m[\u001b[49m\u001b[38;5;124;43m'\u001b[39;49m\u001b[38;5;124;43mpStandard_value\u001b[39;49m\u001b[38;5;124;43m'\u001b[39;49m\u001b[43m]\u001b[49m\u001b[38;5;241;43m.\u001b[39;49m\u001b[43mtolist\u001b[49m\u001b[43m(\u001b[49m\u001b[43m)\u001b[49m\u001b[43m,\u001b[49m\u001b[43m \u001b[49m\u001b[43mdf\u001b[49m\u001b[43m[\u001b[49m\u001b[38;5;124;43m'\u001b[39;49m\u001b[38;5;124;43mactivity\u001b[39;49m\u001b[38;5;124;43m'\u001b[39;49m\u001b[43m]\u001b[49m\u001b[38;5;241;43m.\u001b[39;49m\u001b[43mtolist\u001b[49m\u001b[43m(\u001b[49m\u001b[43m)\u001b[49m\u001b[43m,\u001b[49m\u001b[43m \u001b[49m\n\u001b[1;32m     23\u001b[0m \u001b[43m                               \u001b[49m\u001b[43muse_clustering\u001b[49m\u001b[38;5;241;43m=\u001b[39;49m\u001b[43muse_clustering\u001b[49m\u001b[43m,\u001b[49m\u001b[43m \u001b[49m\u001b[43mtask\u001b[49m\u001b[38;5;241;43m=\u001b[39;49m\u001b[43mtask\u001b[49m\u001b[43m)\u001b[49m\n\u001b[1;32m     25\u001b[0m \u001b[38;5;66;03m# save data_splited_df as a csv file if it is not None\u001b[39;00m\n\u001b[1;32m     26\u001b[0m \u001b[38;5;28;01mif\u001b[39;00m data_splited_df \u001b[38;5;129;01mis\u001b[39;00m \u001b[38;5;129;01mnot\u001b[39;00m \u001b[38;5;28;01mNone\u001b[39;00m:\n",
      "Cell \u001b[0;32mIn[6], line 70\u001b[0m, in \u001b[0;36mdata_spliter\u001b[0;34m(smiles, pStandard_value, similarity, potency_fold, use_clustering, n_clusters, test_size, task)\u001b[0m\n\u001b[1;32m     66\u001b[0m \u001b[38;5;28;01melse\u001b[39;00m:\n\u001b[1;32m     67\u001b[0m     \u001b[38;5;66;03m# don't use clustering before spliting. This is to avoid potential cheating by using clustering to split the data, \u001b[39;00m\n\u001b[1;32m     68\u001b[0m     \u001b[38;5;66;03m# which make the structual diversity of the train and test sets the same\u001b[39;00m\n\u001b[1;32m     69\u001b[0m     \u001b[38;5;28;01mif\u001b[39;00m task \u001b[38;5;241m==\u001b[39m \u001b[38;5;124m'\u001b[39m\u001b[38;5;124mreg\u001b[39m\u001b[38;5;124m'\u001b[39m:\n\u001b[0;32m---> 70\u001b[0m         \u001b[38;5;28;01mif\u001b[39;00m \u001b[38;5;28msum\u001b[39m(\u001b[43mcliff_mols\u001b[49m) \u001b[38;5;241m>\u001b[39m \u001b[38;5;241m2\u001b[39m:\n\u001b[1;32m     71\u001b[0m             train_idx, test_idx \u001b[38;5;241m=\u001b[39m train_test_split(\u001b[38;5;28mrange\u001b[39m(\u001b[38;5;28mlen\u001b[39m(smiles)), test_size\u001b[38;5;241m=\u001b[39mtest_size, \n\u001b[1;32m     72\u001b[0m                                             stratify\u001b[38;5;241m=\u001b[39mcliff_mols, \u001b[38;5;66;03m# ensure that the train/test split has the same proportion of cliff molecules\u001b[39;00m\n\u001b[1;32m     73\u001b[0m                                             random_state\u001b[38;5;241m=\u001b[39mRANDOM_SEED, shuffle\u001b[38;5;241m=\u001b[39m\u001b[38;5;28;01mTrue\u001b[39;00m)\n\u001b[1;32m     74\u001b[0m         \u001b[38;5;28;01melse\u001b[39;00m:\n",
      "\u001b[0;31mUnboundLocalError\u001b[0m: local variable 'cliff_mols' referenced before assignment"
     ]
    }
   ],
   "source": [
    "use_clusterings = [True, False]\n",
    "\n",
    "for task in Tasks:\n",
    "    print (f\"task is: {task}\\n\")\n",
    "    \n",
    "    for use_clustering in use_clusterings:\n",
    "        print (f\"use_clustering is: {use_clustering}\\n\")\n",
    "        \n",
    "        split_data(input_filepath = CURA_CAT_DATASETS_DIR, output_filepath = SPLIT_CAT_DATASETS_DIR, \n",
    "                   task=task, use_clustering=use_clustering)\n",
    "        print(f'Done!\\n====================================\\n')\n",
    "#It took around 1 hour to run the above code locally"
   ]
  }
 ],
 "metadata": {
  "kernelspec": {
   "display_name": "pyg",
   "language": "python",
   "name": "python3"
  },
  "language_info": {
   "codemirror_mode": {
    "name": "ipython",
    "version": 3
   },
   "file_extension": ".py",
   "mimetype": "text/x-python",
   "name": "python",
   "nbconvert_exporter": "python",
   "pygments_lexer": "ipython3",
   "version": "3.9.16"
  }
 },
 "nbformat": 4,
 "nbformat_minor": 2
}
