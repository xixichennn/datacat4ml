{
 "cells": [
  {
   "cell_type": "code",
   "execution_count": 1,
   "metadata": {},
   "outputs": [],
   "source": [
    "# conda env: pyg (Python 3.9.16)\n",
    "import sys\n",
    "from datacat4ml.const import *\n",
    "\n",
    "import os\n",
    "import pandas as pd\n",
    "import numpy as np\n",
    "import tmap as tm\n",
    "from matplotlib import pyplot as plt\n",
    "from matplotlib.colors import ListedColormap\n",
    "from faerun import Faerun\n",
    "\n",
    "from rdkit import Chem\n",
    "from rdkit.Chem import AllChem"
   ]
  },
  {
   "cell_type": "code",
   "execution_count": 4,
   "metadata": {},
   "outputs": [],
   "source": [
    "def calc_fp_in_df(df, radius=2, nbits=1024):\n",
    "    '''\n",
    "    Cacluate the fingerprint based on column 'canonical_smiles' in the dataframe and add it to the dataframe\n",
    "    '''\n",
    "    new_df = df.copy()\n",
    "    # Calculate the fingerprint based on the canonical_smiles\n",
    "    new_df['mol'] = new_df['canonical_smiles_by_Std'].apply(Chem.MolFromSmiles)\n",
    "    new_df['ecfp4'] = new_df['mol'].apply(lambda x: AllChem.GetMorganFingerprintAsBitVect(x, radius, nbits))\n",
    "\n",
    "    print(f'The shape of df is {new_df.shape}')\n",
    "    \n",
    "    return new_df "
   ]
  },
  {
   "cell_type": "code",
   "execution_count": 49,
   "metadata": {},
   "outputs": [],
   "source": [
    "def tmap_plot(df, title:str ='tmap', fp:str='ecfp4',\n",
    "              hf:int=1024, nb:int=32,\n",
    "              category_col:str='target_chembl_id',\n",
    "              node_size:float=1/32, mmm_repeats:int=2, steps:int=5, k:int=1000,\n",
    "              shader:str='smoothCircle',  point_scale:float=2.5, max_point_size:int=10,\n",
    "              colormap:list=['Set1', 'tab20', 'turbo', 'tab10' ]):\n",
    "    '''determining the layout of the TMAP, and plotting the TMAP'''\n",
    "    lf = tm.LSHForest(hf, nb) # a locality-sensitive hashing forest, used for approximate nearest neighbor search is initialized with parameters 512 and 32.\n",
    "    fp = np.array(df[fp])  # converting the FPs to vector units\n",
    "    fps = []\n",
    "    for i in fp:\n",
    "        vec = tm.VectorUint(i)\n",
    "        fps.append(vec)\n",
    "    lf.batch_add(fps)\n",
    "    lf.index()\n",
    "    cfg = tm.LayoutConfiguration()  # configuration parameters for TMAP layout\n",
    "    cfg.node_size = node_size  # size of nodes which affects the magnitude of their repelling force.\n",
    "    cfg.mmm_repeats = mmm_repeats  # number of repeats of the per-level layout algorithm\n",
    "    cfg.sl_extra_scaling_steps = steps  # sets the number of repeats of the scaling\n",
    "    cfg.k = k  # number of nearest neighbours used to create the k-nearest neighbour graph. The higher the value, the more computationally expensive.\n",
    "    cfg.sl_scaling_type = tm.RelativeToAvgLength  # Defines the relative scale of the graph\n",
    "\n",
    "    x, y, s, t, _ = tm.layout_from_lsh_forest(lf, cfg)\n",
    "\n",
    "    # create a dict for the categories in 'dataset' column\n",
    "    category_labels, category_data = Faerun.create_categories(df[category_col])\n",
    "    print(f'category_labels: {category_labels}')\n",
    "\n",
    "    # TMAP for Aline's compounds based on the three categories, aromatic ring fraction, heavy atom counts and qualitative estimation drug-likeliness\n",
    "    f = Faerun(\n",
    "        view=\"front\",\n",
    "        coords=False,\n",
    "        title=\"\",\n",
    "        clear_color=\"#FFFFFF\"\n",
    "    )\n",
    "\n",
    "    f.add_scatter(\n",
    "        title,\n",
    "        {\n",
    "            \"x\": x,\n",
    "            \"y\": y,\n",
    "            \"c\": [category_data, # categories\n",
    "\n",
    "                df['tid'].values.tolist(), # aromatic fraction\n",
    "                df['assay_id'].values.tolist(), # heavy atom counts\n",
    "                df['threshold'].values.tolist(), # qualitative estimation of drug likeliness\n",
    "\n",
    "                ],\n",
    "            \"labels\": df['canonical_smiles_by_Std'].values.tolist(), # SMILES as labels\n",
    "        },\n",
    "        shader=\"sphere\",\n",
    "        point_scale=5,\n",
    "        max_point_size=20,\n",
    "        legend_labels=[category_labels, None, None, None],\n",
    "        categorical=[True, False, False, False],\n",
    "        colormap=colormap,\n",
    "        series_title=[category_col, 'tid', 'assay_id', 'threshold'],\n",
    "        has_legend=True,\n",
    "    )\n",
    "    f.add_tree(\"AlineDB_TMAP_tree\", {\"from\": s, \"to\": t}, point_helper=title)\n",
    "    f.plot(title, template='smiles')\n",
    "\n",
    "    #labels = [] # the widget labels\n",
    "    #for i, s in enumerate(df['canonical_smiles']):\n",
    "    #    labels.append(\n",
    "    #        s\n",
    "    #        + \"__\"\n",
    "    #        # convert df['tid'].values to a list of strings and append it to the labels\n",
    "    #        + str(df['tid'].values.tolist()[i])\n",
    "    #        + \"__\"\n",
    "    #        + str(df['assay_id'].tolist()[i])\n",
    "    #        + \"__\"\n",
    "    #        + str(df['pchembl_value'].tolist()[i])\n",
    "    #        )\n"
   ]
  },
  {
   "cell_type": "markdown",
   "metadata": {},
   "source": [
    "# Load files"
   ]
  },
  {
   "cell_type": "markdown",
   "metadata": {},
   "source": [
    "## mor_effect "
   ]
  },
  {
   "cell_type": "code",
   "execution_count": 2,
   "metadata": {},
   "outputs": [
    {
     "name": "stdout",
     "output_type": "stream",
     "text": [
      "The shape of mor_df is (7497, 45)\n"
     ]
    },
    {
     "data": {
      "text/plain": [
       "Index(['Unnamed: 0', 'assay_id', 'assay_chembl_id', 'tid', 'target_chembl_id',\n",
       "       'standard_type', 'standard_relation', 'standard_value',\n",
       "       'standard_units', 'pchembl_value', 'assay_type', 'assay_category',\n",
       "       'assay_organism', 'assay_tax_id', 'assay_strain', 'assay_tissue',\n",
       "       'assay_cell_type', 'assay_subcellular_fraction', 'bao_format',\n",
       "       'variant_id', 'assay_test_type', 'assay_desc', 'cell_id', 'tissue_id',\n",
       "       'curated_by', 'relationship_type', 'aidx', 'confidence_score',\n",
       "       'molregno', 'compound_chembl_id', 'canonical_smiles', 'assay_info_hash',\n",
       "       'canonical_smiles_by_Std', 'molecular_weight', 'num_atoms',\n",
       "       'pStandard_value', 'max_num_atoms', 'max_molecular_weight',\n",
       "       'activity_string', 'activity', 'threshold', 'target', 'effect', 'assay',\n",
       "       'std_type'],\n",
       "      dtype='object')"
      ]
     },
     "execution_count": 2,
     "metadata": {},
     "output_type": "execute_result"
    }
   ],
   "source": [
    "import glob\n",
    "\n",
    "# Find all files starting with 'ki_target_CHEMBL233' in the FEATURIZE_DATA_DIR\n",
    "file_pattern = os.path.join(CURA_CAT_DATASETS_DIR, 'cls', 'mor*csv')\n",
    "file_list = glob.glob(file_pattern)\n",
    "\n",
    "mor_df = pd.DataFrame()\n",
    "for file in file_list:\n",
    "    df = pd.read_csv(file)\n",
    "    \n",
    "    mor_df = pd.concat([mor_df, df], axis=0)\n",
    "\n",
    "print(f'The shape of mor_df is {mor_df.shape}')\n",
    "mor_df.columns\n"
   ]
  },
  {
   "cell_type": "code",
   "execution_count": 5,
   "metadata": {},
   "outputs": [
    {
     "name": "stdout",
     "output_type": "stream",
     "text": [
      "The shape of df is (7497, 47)\n"
     ]
    }
   ],
   "source": [
    "mor_with_fp = calc_fp_in_df(mor_df)"
   ]
  },
  {
   "cell_type": "code",
   "execution_count": 5,
   "metadata": {},
   "outputs": [
    {
     "data": {
      "text/html": [
       "<div>\n",
       "<style scoped>\n",
       "    .dataframe tbody tr th:only-of-type {\n",
       "        vertical-align: middle;\n",
       "    }\n",
       "\n",
       "    .dataframe tbody tr th {\n",
       "        vertical-align: top;\n",
       "    }\n",
       "\n",
       "    .dataframe thead th {\n",
       "        text-align: right;\n",
       "    }\n",
       "</style>\n",
       "<table border=\"1\" class=\"dataframe\">\n",
       "  <thead>\n",
       "    <tr style=\"text-align: right;\">\n",
       "      <th></th>\n",
       "      <th>Unnamed: 0</th>\n",
       "      <th>assay_id</th>\n",
       "      <th>assay_chembl_id</th>\n",
       "      <th>tid</th>\n",
       "      <th>target_chembl_id</th>\n",
       "      <th>standard_type</th>\n",
       "      <th>standard_relation</th>\n",
       "      <th>standard_value</th>\n",
       "      <th>standard_units</th>\n",
       "      <th>pchembl_value</th>\n",
       "      <th>...</th>\n",
       "      <th>max_molecular_weight</th>\n",
       "      <th>activity_string</th>\n",
       "      <th>activity</th>\n",
       "      <th>threshold</th>\n",
       "      <th>target</th>\n",
       "      <th>effect</th>\n",
       "      <th>assay</th>\n",
       "      <th>std_type</th>\n",
       "      <th>mol</th>\n",
       "      <th>ecfp4</th>\n",
       "    </tr>\n",
       "  </thead>\n",
       "  <tbody>\n",
       "    <tr>\n",
       "      <th>0</th>\n",
       "      <td>0</td>\n",
       "      <td>1352793</td>\n",
       "      <td>CHEMBL3268193</td>\n",
       "      <td>129</td>\n",
       "      <td>CHEMBL233</td>\n",
       "      <td>IC50</td>\n",
       "      <td>&gt;</td>\n",
       "      <td>24000.0</td>\n",
       "      <td>nM</td>\n",
       "      <td>None</td>\n",
       "      <td>...</td>\n",
       "      <td>558.542</td>\n",
       "      <td>inactive</td>\n",
       "      <td>0.0</td>\n",
       "      <td>5.505344</td>\n",
       "      <td>mor</td>\n",
       "      <td>antag</td>\n",
       "      <td>B_arrest</td>\n",
       "      <td>IC50</td>\n",
       "      <td>&lt;rdkit.Chem.rdchem.Mol object at 0x7fed3fcbd1c0&gt;</td>\n",
       "      <td>[0, 1, 0, 0, 0, 0, 0, 0, 1, 0, 0, 0, 0, 0, 0, ...</td>\n",
       "    </tr>\n",
       "    <tr>\n",
       "      <th>1</th>\n",
       "      <td>1</td>\n",
       "      <td>1352793</td>\n",
       "      <td>CHEMBL3268193</td>\n",
       "      <td>129</td>\n",
       "      <td>CHEMBL233</td>\n",
       "      <td>IC50</td>\n",
       "      <td>&gt;</td>\n",
       "      <td>32000.0</td>\n",
       "      <td>nM</td>\n",
       "      <td>None</td>\n",
       "      <td>...</td>\n",
       "      <td>558.542</td>\n",
       "      <td>inactive</td>\n",
       "      <td>0.0</td>\n",
       "      <td>5.505344</td>\n",
       "      <td>mor</td>\n",
       "      <td>antag</td>\n",
       "      <td>B_arrest</td>\n",
       "      <td>IC50</td>\n",
       "      <td>&lt;rdkit.Chem.rdchem.Mol object at 0x7fed3fcbd160&gt;</td>\n",
       "      <td>[0, 1, 0, 0, 0, 0, 0, 0, 1, 0, 0, 0, 0, 0, 0, ...</td>\n",
       "    </tr>\n",
       "    <tr>\n",
       "      <th>2</th>\n",
       "      <td>2</td>\n",
       "      <td>1352793</td>\n",
       "      <td>CHEMBL3268193</td>\n",
       "      <td>129</td>\n",
       "      <td>CHEMBL233</td>\n",
       "      <td>IC50</td>\n",
       "      <td>&gt;</td>\n",
       "      <td>32000.0</td>\n",
       "      <td>nM</td>\n",
       "      <td>None</td>\n",
       "      <td>...</td>\n",
       "      <td>558.542</td>\n",
       "      <td>inactive</td>\n",
       "      <td>0.0</td>\n",
       "      <td>5.505344</td>\n",
       "      <td>mor</td>\n",
       "      <td>antag</td>\n",
       "      <td>B_arrest</td>\n",
       "      <td>IC50</td>\n",
       "      <td>&lt;rdkit.Chem.rdchem.Mol object at 0x7fed3fcbd0a0&gt;</td>\n",
       "      <td>[0, 1, 0, 0, 0, 0, 0, 0, 1, 0, 0, 0, 0, 0, 0, ...</td>\n",
       "    </tr>\n",
       "    <tr>\n",
       "      <th>3</th>\n",
       "      <td>3</td>\n",
       "      <td>1352793</td>\n",
       "      <td>CHEMBL3268193</td>\n",
       "      <td>129</td>\n",
       "      <td>CHEMBL233</td>\n",
       "      <td>IC50</td>\n",
       "      <td>&gt;</td>\n",
       "      <td>32000.0</td>\n",
       "      <td>nM</td>\n",
       "      <td>None</td>\n",
       "      <td>...</td>\n",
       "      <td>558.542</td>\n",
       "      <td>inactive</td>\n",
       "      <td>0.0</td>\n",
       "      <td>5.505344</td>\n",
       "      <td>mor</td>\n",
       "      <td>antag</td>\n",
       "      <td>B_arrest</td>\n",
       "      <td>IC50</td>\n",
       "      <td>&lt;rdkit.Chem.rdchem.Mol object at 0x7fed3fcbda00&gt;</td>\n",
       "      <td>[0, 1, 0, 0, 0, 0, 0, 0, 1, 0, 0, 0, 0, 0, 0, ...</td>\n",
       "    </tr>\n",
       "    <tr>\n",
       "      <th>4</th>\n",
       "      <td>4</td>\n",
       "      <td>1352793</td>\n",
       "      <td>CHEMBL3268193</td>\n",
       "      <td>129</td>\n",
       "      <td>CHEMBL233</td>\n",
       "      <td>IC50</td>\n",
       "      <td>=</td>\n",
       "      <td>10300.0</td>\n",
       "      <td>nM</td>\n",
       "      <td>4.99</td>\n",
       "      <td>...</td>\n",
       "      <td>558.542</td>\n",
       "      <td>inactive</td>\n",
       "      <td>0.0</td>\n",
       "      <td>5.505344</td>\n",
       "      <td>mor</td>\n",
       "      <td>antag</td>\n",
       "      <td>B_arrest</td>\n",
       "      <td>IC50</td>\n",
       "      <td>&lt;rdkit.Chem.rdchem.Mol object at 0x7fed3fcbd040&gt;</td>\n",
       "      <td>[0, 0, 0, 0, 0, 0, 0, 0, 1, 0, 0, 0, 0, 0, 0, ...</td>\n",
       "    </tr>\n",
       "    <tr>\n",
       "      <th>...</th>\n",
       "      <td>...</td>\n",
       "      <td>...</td>\n",
       "      <td>...</td>\n",
       "      <td>...</td>\n",
       "      <td>...</td>\n",
       "      <td>...</td>\n",
       "      <td>...</td>\n",
       "      <td>...</td>\n",
       "      <td>...</td>\n",
       "      <td>...</td>\n",
       "      <td>...</td>\n",
       "      <td>...</td>\n",
       "      <td>...</td>\n",
       "      <td>...</td>\n",
       "      <td>...</td>\n",
       "      <td>...</td>\n",
       "      <td>...</td>\n",
       "      <td>...</td>\n",
       "      <td>...</td>\n",
       "      <td>...</td>\n",
       "      <td>...</td>\n",
       "    </tr>\n",
       "    <tr>\n",
       "      <th>430</th>\n",
       "      <td>151</td>\n",
       "      <td>1686080</td>\n",
       "      <td>CHEMBL4036559</td>\n",
       "      <td>129</td>\n",
       "      <td>CHEMBL233</td>\n",
       "      <td>EC50</td>\n",
       "      <td>None</td>\n",
       "      <td>None</td>\n",
       "      <td>None</td>\n",
       "      <td>None</td>\n",
       "      <td>...</td>\n",
       "      <td>898.083</td>\n",
       "      <td>inactive</td>\n",
       "      <td>0.0</td>\n",
       "      <td>5.000000</td>\n",
       "      <td>mor</td>\n",
       "      <td>agon</td>\n",
       "      <td>G_cAMP</td>\n",
       "      <td>EC50</td>\n",
       "      <td>&lt;rdkit.Chem.rdchem.Mol object at 0x7fed3f9b6fa0&gt;</td>\n",
       "      <td>[0, 0, 0, 0, 0, 0, 0, 0, 0, 0, 0, 0, 0, 0, 0, ...</td>\n",
       "    </tr>\n",
       "    <tr>\n",
       "      <th>431</th>\n",
       "      <td>331</td>\n",
       "      <td>2026352</td>\n",
       "      <td>CHEMBL4680510</td>\n",
       "      <td>129</td>\n",
       "      <td>CHEMBL233</td>\n",
       "      <td>EC50</td>\n",
       "      <td>None</td>\n",
       "      <td>None</td>\n",
       "      <td>None</td>\n",
       "      <td>None</td>\n",
       "      <td>...</td>\n",
       "      <td>898.083</td>\n",
       "      <td>inactive</td>\n",
       "      <td>0.0</td>\n",
       "      <td>5.000000</td>\n",
       "      <td>mor</td>\n",
       "      <td>agon</td>\n",
       "      <td>G_cAMP</td>\n",
       "      <td>EC50</td>\n",
       "      <td>&lt;rdkit.Chem.rdchem.Mol object at 0x7fed3f9b7040&gt;</td>\n",
       "      <td>[0, 1, 0, 0, 0, 0, 0, 0, 0, 0, 0, 0, 0, 0, 0, ...</td>\n",
       "    </tr>\n",
       "    <tr>\n",
       "      <th>432</th>\n",
       "      <td>332</td>\n",
       "      <td>2026352</td>\n",
       "      <td>CHEMBL4680510</td>\n",
       "      <td>129</td>\n",
       "      <td>CHEMBL233</td>\n",
       "      <td>EC50</td>\n",
       "      <td>None</td>\n",
       "      <td>None</td>\n",
       "      <td>None</td>\n",
       "      <td>None</td>\n",
       "      <td>...</td>\n",
       "      <td>898.083</td>\n",
       "      <td>inactive</td>\n",
       "      <td>0.0</td>\n",
       "      <td>5.000000</td>\n",
       "      <td>mor</td>\n",
       "      <td>agon</td>\n",
       "      <td>G_cAMP</td>\n",
       "      <td>EC50</td>\n",
       "      <td>&lt;rdkit.Chem.rdchem.Mol object at 0x7fed3f9b70a0&gt;</td>\n",
       "      <td>[0, 0, 0, 0, 0, 0, 0, 0, 0, 0, 0, 1, 0, 0, 0, ...</td>\n",
       "    </tr>\n",
       "    <tr>\n",
       "      <th>433</th>\n",
       "      <td>524</td>\n",
       "      <td>2150927</td>\n",
       "      <td>CHEMBL5035389</td>\n",
       "      <td>129</td>\n",
       "      <td>CHEMBL233</td>\n",
       "      <td>EC50</td>\n",
       "      <td>None</td>\n",
       "      <td>None</td>\n",
       "      <td>None</td>\n",
       "      <td>None</td>\n",
       "      <td>...</td>\n",
       "      <td>898.083</td>\n",
       "      <td>inactive</td>\n",
       "      <td>0.0</td>\n",
       "      <td>5.000000</td>\n",
       "      <td>mor</td>\n",
       "      <td>agon</td>\n",
       "      <td>G_cAMP</td>\n",
       "      <td>EC50</td>\n",
       "      <td>&lt;rdkit.Chem.rdchem.Mol object at 0x7fed3f9b7100&gt;</td>\n",
       "      <td>[0, 0, 1, 0, 1, 0, 0, 0, 0, 0, 0, 0, 0, 0, 0, ...</td>\n",
       "    </tr>\n",
       "    <tr>\n",
       "      <th>434</th>\n",
       "      <td>525</td>\n",
       "      <td>2150927</td>\n",
       "      <td>CHEMBL5035389</td>\n",
       "      <td>129</td>\n",
       "      <td>CHEMBL233</td>\n",
       "      <td>EC50</td>\n",
       "      <td>None</td>\n",
       "      <td>None</td>\n",
       "      <td>None</td>\n",
       "      <td>None</td>\n",
       "      <td>...</td>\n",
       "      <td>898.083</td>\n",
       "      <td>inactive</td>\n",
       "      <td>0.0</td>\n",
       "      <td>5.000000</td>\n",
       "      <td>mor</td>\n",
       "      <td>agon</td>\n",
       "      <td>G_cAMP</td>\n",
       "      <td>EC50</td>\n",
       "      <td>&lt;rdkit.Chem.rdchem.Mol object at 0x7fed3f9b7160&gt;</td>\n",
       "      <td>[0, 1, 0, 0, 0, 0, 0, 0, 0, 0, 1, 0, 0, 0, 0, ...</td>\n",
       "    </tr>\n",
       "  </tbody>\n",
       "</table>\n",
       "<p>7497 rows × 47 columns</p>\n",
       "</div>"
      ],
      "text/plain": [
       "     Unnamed: 0  assay_id assay_chembl_id  tid target_chembl_id standard_type  \\\n",
       "0             0   1352793   CHEMBL3268193  129        CHEMBL233          IC50   \n",
       "1             1   1352793   CHEMBL3268193  129        CHEMBL233          IC50   \n",
       "2             2   1352793   CHEMBL3268193  129        CHEMBL233          IC50   \n",
       "3             3   1352793   CHEMBL3268193  129        CHEMBL233          IC50   \n",
       "4             4   1352793   CHEMBL3268193  129        CHEMBL233          IC50   \n",
       "..          ...       ...             ...  ...              ...           ...   \n",
       "430         151   1686080   CHEMBL4036559  129        CHEMBL233          EC50   \n",
       "431         331   2026352   CHEMBL4680510  129        CHEMBL233          EC50   \n",
       "432         332   2026352   CHEMBL4680510  129        CHEMBL233          EC50   \n",
       "433         524   2150927   CHEMBL5035389  129        CHEMBL233          EC50   \n",
       "434         525   2150927   CHEMBL5035389  129        CHEMBL233          EC50   \n",
       "\n",
       "    standard_relation standard_value standard_units pchembl_value  ...  \\\n",
       "0                   >        24000.0             nM          None  ...   \n",
       "1                   >        32000.0             nM          None  ...   \n",
       "2                   >        32000.0             nM          None  ...   \n",
       "3                   >        32000.0             nM          None  ...   \n",
       "4                   =        10300.0             nM          4.99  ...   \n",
       "..                ...            ...            ...           ...  ...   \n",
       "430              None           None           None          None  ...   \n",
       "431              None           None           None          None  ...   \n",
       "432              None           None           None          None  ...   \n",
       "433              None           None           None          None  ...   \n",
       "434              None           None           None          None  ...   \n",
       "\n",
       "    max_molecular_weight activity_string activity threshold target effect  \\\n",
       "0                558.542        inactive      0.0  5.505344    mor  antag   \n",
       "1                558.542        inactive      0.0  5.505344    mor  antag   \n",
       "2                558.542        inactive      0.0  5.505344    mor  antag   \n",
       "3                558.542        inactive      0.0  5.505344    mor  antag   \n",
       "4                558.542        inactive      0.0  5.505344    mor  antag   \n",
       "..                   ...             ...      ...       ...    ...    ...   \n",
       "430              898.083        inactive      0.0  5.000000    mor   agon   \n",
       "431              898.083        inactive      0.0  5.000000    mor   agon   \n",
       "432              898.083        inactive      0.0  5.000000    mor   agon   \n",
       "433              898.083        inactive      0.0  5.000000    mor   agon   \n",
       "434              898.083        inactive      0.0  5.000000    mor   agon   \n",
       "\n",
       "        assay std_type                                               mol  \\\n",
       "0    B_arrest     IC50  <rdkit.Chem.rdchem.Mol object at 0x7fed3fcbd1c0>   \n",
       "1    B_arrest     IC50  <rdkit.Chem.rdchem.Mol object at 0x7fed3fcbd160>   \n",
       "2    B_arrest     IC50  <rdkit.Chem.rdchem.Mol object at 0x7fed3fcbd0a0>   \n",
       "3    B_arrest     IC50  <rdkit.Chem.rdchem.Mol object at 0x7fed3fcbda00>   \n",
       "4    B_arrest     IC50  <rdkit.Chem.rdchem.Mol object at 0x7fed3fcbd040>   \n",
       "..        ...      ...                                               ...   \n",
       "430    G_cAMP     EC50  <rdkit.Chem.rdchem.Mol object at 0x7fed3f9b6fa0>   \n",
       "431    G_cAMP     EC50  <rdkit.Chem.rdchem.Mol object at 0x7fed3f9b7040>   \n",
       "432    G_cAMP     EC50  <rdkit.Chem.rdchem.Mol object at 0x7fed3f9b70a0>   \n",
       "433    G_cAMP     EC50  <rdkit.Chem.rdchem.Mol object at 0x7fed3f9b7100>   \n",
       "434    G_cAMP     EC50  <rdkit.Chem.rdchem.Mol object at 0x7fed3f9b7160>   \n",
       "\n",
       "                                                 ecfp4  \n",
       "0    [0, 1, 0, 0, 0, 0, 0, 0, 1, 0, 0, 0, 0, 0, 0, ...  \n",
       "1    [0, 1, 0, 0, 0, 0, 0, 0, 1, 0, 0, 0, 0, 0, 0, ...  \n",
       "2    [0, 1, 0, 0, 0, 0, 0, 0, 1, 0, 0, 0, 0, 0, 0, ...  \n",
       "3    [0, 1, 0, 0, 0, 0, 0, 0, 1, 0, 0, 0, 0, 0, 0, ...  \n",
       "4    [0, 0, 0, 0, 0, 0, 0, 0, 1, 0, 0, 0, 0, 0, 0, ...  \n",
       "..                                                 ...  \n",
       "430  [0, 0, 0, 0, 0, 0, 0, 0, 0, 0, 0, 0, 0, 0, 0, ...  \n",
       "431  [0, 1, 0, 0, 0, 0, 0, 0, 0, 0, 0, 0, 0, 0, 0, ...  \n",
       "432  [0, 0, 0, 0, 0, 0, 0, 0, 0, 0, 0, 1, 0, 0, 0, ...  \n",
       "433  [0, 0, 1, 0, 1, 0, 0, 0, 0, 0, 0, 0, 0, 0, 0, ...  \n",
       "434  [0, 1, 0, 0, 0, 0, 0, 0, 0, 0, 1, 0, 0, 0, 0, ...  \n",
       "\n",
       "[7497 rows x 47 columns]"
      ]
     },
     "execution_count": 5,
     "metadata": {},
     "output_type": "execute_result"
    }
   ],
   "source": [
    "mor_with_fp"
   ]
  },
  {
   "cell_type": "code",
   "execution_count": 15,
   "metadata": {},
   "outputs": [
    {
     "data": {
      "text/plain": [
       "bind     5236\n",
       "agon     1821\n",
       "antag     440\n",
       "Name: effect, dtype: int64"
      ]
     },
     "execution_count": 15,
     "metadata": {},
     "output_type": "execute_result"
    }
   ],
   "source": [
    "mor_with_fp['effect'].value_counts()"
   ]
  },
  {
   "cell_type": "code",
   "execution_count": 7,
   "metadata": {},
   "outputs": [
    {
     "data": {
      "text/plain": [
       "Index(['Unnamed: 0', 'assay_id', 'assay_chembl_id', 'tid', 'target_chembl_id',\n",
       "       'standard_type', 'standard_relation', 'standard_value',\n",
       "       'standard_units', 'pchembl_value', 'assay_type', 'assay_category',\n",
       "       'assay_organism', 'assay_tax_id', 'assay_strain', 'assay_tissue',\n",
       "       'assay_cell_type', 'assay_subcellular_fraction', 'bao_format',\n",
       "       'variant_id', 'assay_test_type', 'assay_desc', 'cell_id', 'tissue_id',\n",
       "       'curated_by', 'relationship_type', 'aidx', 'confidence_score',\n",
       "       'molregno', 'compound_chembl_id', 'canonical_smiles', 'assay_info_hash',\n",
       "       'canonical_smiles_by_Std', 'molecular_weight', 'num_atoms',\n",
       "       'pStandard_value', 'max_num_atoms', 'max_molecular_weight',\n",
       "       'activity_string', 'activity', 'threshold', 'target', 'effect', 'assay',\n",
       "       'std_type', 'mol', 'ecfp4'],\n",
       "      dtype='object')"
      ]
     },
     "execution_count": 7,
     "metadata": {},
     "output_type": "execute_result"
    }
   ],
   "source": [
    "mor_with_fp.columns"
   ]
  },
  {
   "cell_type": "code",
   "execution_count": null,
   "metadata": {},
   "outputs": [
    {
     "name": "stdout",
     "output_type": "stream",
     "text": [
      "category_labels: [(0, 'agon'), (1, 'antag'), (2, 'bind')]\n"
     ]
    },
    {
     "data": {
      "text/html": [
       "\n",
       "        <iframe\n",
       "            width=\"100%\"\n",
       "            height=\"500\"\n",
       "            src=\"./mor_effect_tmap.html\"\n",
       "            frameborder=\"0\"\n",
       "            allowfullscreen\n",
       "            \n",
       "        ></iframe>\n",
       "        "
      ],
      "text/plain": [
       "<IPython.lib.display.IFrame at 0x7fed3c4d5220>"
      ]
     },
     "metadata": {},
     "output_type": "display_data"
    },
    {
     "data": {
      "text/html": [
       "<a href='./mor_effect_tmap.html' target='_blank'>./mor_effect_tmap.html</a><br>"
      ],
      "text/plain": [
       "/storage/homefs/yc24j783/datacat4ml/datacat4ml/Scripts/data_prep/data_split/mor_effect_tmap.html"
      ]
     },
     "metadata": {},
     "output_type": "display_data"
    }
   ],
   "source": [
    "#title = os.path.join(CURA_CAT_DATASETS_DIR, 'cls', 'mor_tmap')\n",
    "title = 'mor_effect_tmap'\n",
    "colormap = ListedColormap([\"#E2516E\", \"#4F77ED\", \"#BAE1E5\"])\n",
    "tmap_plot(mor_with_fp, \n",
    "          title=title, \n",
    "          category_col='effect', \n",
    "          node_size=1/50, point_scale=2.5, max_point_size=10, k=1000, \n",
    "          colormap=colormap) # 512, 32\n",
    "# 2048, 32"
   ]
  },
  {
   "cell_type": "markdown",
   "metadata": {},
   "source": [
    "## mor_effect_assay"
   ]
  },
  {
   "cell_type": "code",
   "execution_count": 8,
   "metadata": {},
   "outputs": [
    {
     "name": "stdout",
     "output_type": "stream",
     "text": [
      "The shape of mor_bind_df is (5236, 47)\n"
     ]
    },
    {
     "data": {
      "text/plain": [
       "RBA    5236\n",
       "Name: assay, dtype: int64"
      ]
     },
     "execution_count": 8,
     "metadata": {},
     "output_type": "execute_result"
    }
   ],
   "source": [
    "mor_bind_df = mor_with_fp[mor_with_fp['effect'] == 'bind']\n",
    "print(f'The shape of mor_bind_df is {mor_bind_df.shape}')\n",
    "mor_bind_df['assay'].value_counts()"
   ]
  },
  {
   "cell_type": "code",
   "execution_count": 7,
   "metadata": {},
   "outputs": [
    {
     "name": "stdout",
     "output_type": "stream",
     "text": [
      "The shape of mor_agon_df is (1821, 47)\n"
     ]
    },
    {
     "data": {
      "text/plain": [
       "G_GTP       980\n",
       "G_cAMP      490\n",
       "B_arrest    207\n",
       "G_Ca        144\n",
       "Name: assay, dtype: int64"
      ]
     },
     "execution_count": 7,
     "metadata": {},
     "output_type": "execute_result"
    }
   ],
   "source": [
    "mor_agon_df = mor_with_fp[mor_with_fp['effect'] == 'agon']\n",
    "print(f'The shape of mor_agon_df is {mor_agon_df.shape}')\n",
    "mor_agon_df['assay'].value_counts()"
   ]
  },
  {
   "cell_type": "code",
   "execution_count": 25,
   "metadata": {},
   "outputs": [
    {
     "data": {
      "text/plain": [
       "G_GTP       400\n",
       "B_arrest     40\n",
       "Name: assay, dtype: int64"
      ]
     },
     "execution_count": 25,
     "metadata": {},
     "output_type": "execute_result"
    }
   ],
   "source": [
    "mor_antag_df = mor_with_fp[mor_with_fp['effect'] == 'antag']\n",
    "mor_antag_df['assay'].value_counts()"
   ]
  },
  {
   "cell_type": "code",
   "execution_count": null,
   "metadata": {},
   "outputs": [
    {
     "name": "stdout",
     "output_type": "stream",
     "text": [
      "category_labels: [(0, 'RBA')]\n"
     ]
    },
    {
     "name": "stderr",
     "output_type": "stream",
     "text": [
      "/storage/homefs/yc24j783/miniconda3/envs/pyg/lib/python3.9/site-packages/faerun/faerun.py:402: RuntimeWarning: invalid value encountered in true_divide\n",
      "  data_c[s] = (data_c[s] - min_c[s]) / (max_c[s] - min_c[s])\n"
     ]
    },
    {
     "data": {
      "text/html": [
       "\n",
       "        <iframe\n",
       "            width=\"100%\"\n",
       "            height=\"500\"\n",
       "            src=\"./mor_bind_assay_tmap.html\"\n",
       "            frameborder=\"0\"\n",
       "            allowfullscreen\n",
       "            \n",
       "        ></iframe>\n",
       "        "
      ],
      "text/plain": [
       "<IPython.lib.display.IFrame at 0x7fed3c33d7f0>"
      ]
     },
     "metadata": {},
     "output_type": "display_data"
    },
    {
     "data": {
      "text/html": [
       "<a href='./mor_bind_assay_tmap.html' target='_blank'>./mor_bind_assay_tmap.html</a><br>"
      ],
      "text/plain": [
       "/storage/homefs/yc24j783/datacat4ml/datacat4ml/Scripts/data_prep/data_split/mor_bind_assay_tmap.html"
      ]
     },
     "metadata": {},
     "output_type": "display_data"
    }
   ],
   "source": [
    "colormap = ListedColormap([\"#BAE1E5\"])\n",
    "tmap_plot(mor_bind_df, \n",
    "          title='mor_bind_assay_tmap', \n",
    "          category_col='assay', \n",
    "          node_size=1/50, point_scale=1.0, colormap=colormap) # 512, 32"
   ]
  },
  {
   "cell_type": "code",
   "execution_count": null,
   "metadata": {},
   "outputs": [
    {
     "name": "stdout",
     "output_type": "stream",
     "text": [
      "category_labels: [(0, 'B_arrest'), (1, 'G_Ca'), (2, 'G_GTP'), (3, 'G_cAMP')]\n"
     ]
    },
    {
     "data": {
      "text/html": [
       "\n",
       "        <iframe\n",
       "            width=\"100%\"\n",
       "            height=\"500\"\n",
       "            src=\"./mor_agon_assay_tmap.html\"\n",
       "            frameborder=\"0\"\n",
       "            allowfullscreen\n",
       "            \n",
       "        ></iframe>\n",
       "        "
      ],
      "text/plain": [
       "<IPython.lib.display.IFrame at 0x7fed3c157e80>"
      ]
     },
     "metadata": {},
     "output_type": "display_data"
    },
    {
     "data": {
      "text/html": [
       "<a href='./mor_agon_assay_tmap.html' target='_blank'>./mor_agon_assay_tmap.html</a><br>"
      ],
      "text/plain": [
       "/storage/homefs/yc24j783/datacat4ml/datacat4ml/Scripts/data_prep/data_split/mor_agon_assay_tmap.html"
      ]
     },
     "metadata": {},
     "output_type": "display_data"
    }
   ],
   "source": [
    "#grey = \"#D3D3D3\"\n",
    "# green_dark = \"#15B392\"\n",
    "# green_mid = \"#73EC8B\"\n",
    "# gresn_light = \"#D2FF72\"\n",
    "# orange = \"#FF8000\"\n",
    "\n",
    "#colormap = ListedColormap([\"#FF7F3E\", \"#FFFBE6\", \"#347928\",\"#C0EBA6\"])\n",
    "colormap = ListedColormap([\"#FF7F3E\", \"#FFFBE6\", \"#8E4DE4\",\"#85B8E7\"])\n",
    "\n",
    "tmap_plot(mor_agon_df, \n",
    "          title='mor_agon_assay_tmap', \n",
    "          category_col='assay', \n",
    "          hf=256, nb=32,\n",
    "          node_size=1/25, point_scale=50.0, colormap=colormap) # 256, 32"
   ]
  },
  {
   "cell_type": "code",
   "execution_count": 62,
   "metadata": {},
   "outputs": [
    {
     "name": "stdout",
     "output_type": "stream",
     "text": [
      "category_labels: [(0, 'B_arrest'), (1, 'G_GTP')]\n"
     ]
    },
    {
     "data": {
      "text/html": [
       "\n",
       "        <iframe\n",
       "            width=\"100%\"\n",
       "            height=\"500\"\n",
       "            src=\"./mor_antag_assay_tmap.html\"\n",
       "            frameborder=\"0\"\n",
       "            allowfullscreen\n",
       "            \n",
       "        ></iframe>\n",
       "        "
      ],
      "text/plain": [
       "<IPython.lib.display.IFrame at 0x7fed3c15e640>"
      ]
     },
     "metadata": {},
     "output_type": "display_data"
    },
    {
     "data": {
      "text/html": [
       "<a href='./mor_antag_assay_tmap.html' target='_blank'>./mor_antag_assay_tmap.html</a><br>"
      ],
      "text/plain": [
       "/storage/homefs/yc24j783/datacat4ml/datacat4ml/Scripts/data_prep/data_split/mor_antag_assay_tmap.html"
      ]
     },
     "metadata": {},
     "output_type": "display_data"
    }
   ],
   "source": [
    "colormap = ListedColormap([\"#FF7F3E\",\"#8E4DE4\"])\n",
    "tmap_plot(mor_antag_df, \n",
    "          title='mor_antag_assay_tmap', \n",
    "          category_col='assay', \n",
    "          hf=128, nb=128,\n",
    "          node_size=1/25, point_scale=50.0, colormap=colormap) # 128, 32"
   ]
  },
  {
   "cell_type": "markdown",
   "metadata": {},
   "source": [
    "# mor_effect_assay_type"
   ]
  },
  {
   "cell_type": "code",
   "execution_count": 65,
   "metadata": {},
   "outputs": [
    {
     "data": {
      "text/plain": [
       "Ki      4654\n",
       "IC50     582\n",
       "Name: standard_type, dtype: int64"
      ]
     },
     "execution_count": 65,
     "metadata": {},
     "output_type": "execute_result"
    }
   ],
   "source": [
    "mor_bind_RBA_df = mor_bind_df[mor_bind_df['assay'] == 'RBA']\n",
    "mor_bind_RBA_df['standard_type'].value_counts()"
   ]
  },
  {
   "cell_type": "code",
   "execution_count": 68,
   "metadata": {},
   "outputs": [
    {
     "name": "stdout",
     "output_type": "stream",
     "text": [
      "category_labels: [(0, 'IC50'), (1, 'Ki')]\n"
     ]
    },
    {
     "data": {
      "text/html": [
       "\n",
       "        <iframe\n",
       "            width=\"100%\"\n",
       "            height=\"500\"\n",
       "            src=\"./mor_bind_RBA_type_tmap.html\"\n",
       "            frameborder=\"0\"\n",
       "            allowfullscreen\n",
       "            \n",
       "        ></iframe>\n",
       "        "
      ],
      "text/plain": [
       "<IPython.lib.display.IFrame at 0x7fed3c4445e0>"
      ]
     },
     "metadata": {},
     "output_type": "display_data"
    },
    {
     "data": {
      "text/html": [
       "<a href='./mor_bind_RBA_type_tmap.html' target='_blank'>./mor_bind_RBA_type_tmap.html</a><br>"
      ],
      "text/plain": [
       "/storage/homefs/yc24j783/datacat4ml/datacat4ml/Scripts/data_prep/data_split/mor_bind_RBA_type_tmap.html"
      ]
     },
     "metadata": {},
     "output_type": "display_data"
    }
   ],
   "source": [
    "colormap = ListedColormap([\"#E3516E\",\"#1942C6\"])\n",
    "tmap_plot(mor_bind_RBA_df, \n",
    "          title='mor_bind_RBA_type_tmap', \n",
    "          category_col='standard_type', \n",
    "          hf=512, nb=32,\n",
    "          node_size=1/25, point_scale=50.0, colormap=colormap) # 128, 32"
   ]
  }
 ],
 "metadata": {
  "kernelspec": {
   "display_name": "pyg",
   "language": "python",
   "name": "python3"
  },
  "language_info": {
   "codemirror_mode": {
    "name": "ipython",
    "version": 3
   },
   "file_extension": ".py",
   "mimetype": "text/x-python",
   "name": "python",
   "nbconvert_exporter": "python",
   "pygments_lexer": "ipython3",
   "version": "3.9.16"
  }
 },
 "nbformat": 4,
 "nbformat_minor": 2
}
