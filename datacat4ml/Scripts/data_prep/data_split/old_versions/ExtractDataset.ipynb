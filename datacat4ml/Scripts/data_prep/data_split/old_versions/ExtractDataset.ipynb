{
 "cells": [
  {
   "cell_type": "code",
   "execution_count": 1,
   "metadata": {},
   "outputs": [],
   "source": [
    "# conda env: datacat (Python 3.8.20)\n",
    "# adapted from FS-Mol: https://github.com/microsoft/FS-Mol/blob/92aa95daba3f43863227e65be85a07b4a2ee754f/notebooks/ExtractDataset.ipynb#L371"
   ]
  },
  {
   "cell_type": "markdown",
   "metadata": {},
   "source": [
    "# Setup"
   ]
  },
  {
   "cell_type": "code",
   "execution_count": 2,
   "metadata": {},
   "outputs": [],
   "source": [
    "import os\n",
    "import sys\n",
    "import json\n",
    "\n",
    "import csv\n",
    "from datacat4ml.const import CURA_CAT_GPCR_DIR, SPLIT_DATA_DIR"
   ]
  },
  {
   "cell_type": "code",
   "execution_count": null,
   "metadata": {},
   "outputs": [],
   "source": []
  },
  {
   "cell_type": "markdown",
   "metadata": {},
   "source": [
    "# 3. Assay Selection for train-valid-split"
   ]
  },
  {
   "cell_type": "code",
   "execution_count": 94,
   "metadata": {},
   "outputs": [],
   "source": [
    "def generate_or_test(input_gpcr_list=LHDs_min32, input_dir=LHDs_dir):\n",
    "    \"\"\"Generate the OR test set out of the whole GPCR datasets for testing in the few-shot tasks.\"\"\"\n",
    "    or_list = [f for f in input_gpcr_list if f.startswith(('CHEMBL233_', 'CHEMBL236_', 'CHEMBL237_', 'CHEMBL2014_'))]\n",
    "    print(f'len(or_list): {len(or_list)}')\n",
    "\n",
    "    test_list_low = []\n",
    "    test_list_middle = []\n",
    "    test_list_high = []\n",
    "    for f in or_list:\n",
    "        f_path = os.path.join(input_dir, f)\n",
    "        df = pd.read_csv(f_path)\n",
    "        percentage_active = df['activity'].sum() / df.shape[0]\n",
    "\n",
    "        # if the percentage of active data points is between 30% and 70%, we consider the assay to be balanced\n",
    "        if percentage_active < 0.3:\n",
    "            test_list_low.append(f)\n",
    "        elif 0.3 <= percentage_active <= 0.7:\n",
    "            test_list_middle.append(f)\n",
    "        elif percentage_active > 0.7:\n",
    "            test_list_high.append(f)\n",
    "    print(f'len(test_list_low): {len(test_list_low)}')\n",
    "    print(f'len(test_list_middle): {len(test_list_middle)}')\n",
    "    print(f'len(test_list_high): {len(test_list_high)}')\n",
    "\n",
    "    return test_list_middle"
   ]
  },
  {
   "cell_type": "code",
   "execution_count": 95,
   "metadata": {},
   "outputs": [
    {
     "name": "stdout",
     "output_type": "stream",
     "text": [
      "len(or_list): 106\n",
      "len(test_list_low): 0\n",
      "len(test_list_middle): 21\n",
      "len(test_list_high): 85\n",
      "len(or_list): 32\n",
      "len(test_list_low): 1\n",
      "len(test_list_middle): 4\n",
      "len(test_list_high): 27\n"
     ]
    }
   ],
   "source": [
    "test_or_lhds = generate_or_test(input_gpcr_list=LHDs_min32, input_dir=LHDs_dir)\n",
    "test_or_mhds = generate_or_test(input_gpcr_list=MHDs_min32, input_dir=os.path.join(CURA_CAT_GPCR_DIR, 'cls'))"
   ]
  },
  {
   "cell_type": "code",
   "execution_count": null,
   "metadata": {},
   "outputs": [],
   "source": [
    "few_shot_split = {\n",
    "    'test': test_or_lhds,\n",
    "    'train': [f for f in LHDs_min32 if f not in test_or_lhds],\n",
    "    'valid':\n",
    "}"
   ]
  }
 ],
 "metadata": {
  "kernelspec": {
   "display_name": "datacat",
   "language": "python",
   "name": "python3"
  },
  "language_info": {
   "codemirror_mode": {
    "name": "ipython",
    "version": 3
   },
   "file_extension": ".py",
   "mimetype": "text/x-python",
   "name": "python",
   "nbconvert_exporter": "python",
   "pygments_lexer": "ipython3",
   "version": "3.8.20"
  }
 },
 "nbformat": 4,
 "nbformat_minor": 2
}
