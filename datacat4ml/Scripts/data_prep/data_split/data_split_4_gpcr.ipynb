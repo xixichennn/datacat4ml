{
 "cells": [
  {
   "cell_type": "markdown",
   "metadata": {
    "vscode": {
     "languageId": "plaintext"
    }
   },
   "source": [
    "Because the GPCR heterogeneous data here is mainly for pretraining, thus the data split here is to avoid the data leakage in the downstream task"
   ]
  }
 ],
 "metadata": {
  "language_info": {
   "name": "python"
  }
 },
 "nbformat": 4,
 "nbformat_minor": 2
}
