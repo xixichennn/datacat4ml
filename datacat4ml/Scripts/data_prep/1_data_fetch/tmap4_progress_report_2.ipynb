{
 "cells": [
  {
   "cell_type": "code",
   "execution_count": null,
   "metadata": {},
   "outputs": [],
   "source": [
    "# inner module import\n",
    "import sys\n",
    "from const import FETCH_DATA_DIR, FETCH_FIG_DIR, FEATURIZE_DATA_DIR, FEATURIZE_FIG_DIR\n",
    "\n",
    "import os\n",
    "import pandas as pd\n",
    "import numpy as np\n",
    "import tmap as tm\n",
    "from matplotlib import pyplot as plt\n",
    "from matplotlib.colors import ListedColormap\n",
    "from faerun import Faerun"
   ]
  },
  {
   "cell_type": "markdown",
   "metadata": {},
   "source": [
    "# Functions"
   ]
  },
  {
   "cell_type": "code",
   "execution_count": null,
   "metadata": {},
   "outputs": [],
   "source": [
    "def calc_fp_in_df(df, radius=2, nbits=1024):\n",
    "    '''\n",
    "    Cacluate the fingerprint based on column 'canonical_smiles' in the dataframe and add it to the dataframe\n",
    "    '''\n",
    "    new_df = df.copy()\n",
    "    # Calculate the fingerprint based on the canonical_smiles\n",
    "    new_df['mol'] = new_df['canonical_smiles'].apply(Chem.MolFromSmiles)\n",
    "    new_df['fp'] = new_df['mol'].apply(lambda x: AllChem.GetMorganFingerprintAsBitVect(x, radius, nbits))\n",
    "\n",
    "    print(f'The shape of df is {new_df.shape}')\n",
    "    \n",
    "    return new_df \n",
    "\n",
    "def get_activity(x):\n",
    "    ''' active is defined as pchembl_value > 7 '''\n",
    "    if x > 7:\n",
    "        return 'active'\n",
    "    elif 5 < x <= 7:\n",
    "        return 'intermediate'\n",
    "    else:\n",
    "        return 'inactive'"
   ]
  },
  {
   "cell_type": "code",
   "execution_count": 17,
   "metadata": {},
   "outputs": [],
   "source": [
    "def tmap_plot(df, title:str ='tmap', fp:str='ecfp4',category_col:str='target_chembl_id',\n",
    "              node_size:float=1/32, mmm_repeats:int=2, steps:int=5, k:int=1000,\n",
    "              shader:str='smoothCircle',  point_scale:float=2.5, max_point_size:int=10,\n",
    "              colormap:list=['Set1', 'tab20', 'turbo', 'tab10' ]):\n",
    "    '''determining the layout of the TMAP, and plotting the TMAP'''\n",
    "    lf = tm.LSHForest(2048, 32) # a locality-sensitive hashing forest, used for approximate nearest neighbor search is initialized with parameters 512 and 32.\n",
    "    fp = np.array(df[fp])  # converting the FPs to vector units\n",
    "    fps = []\n",
    "    for i in fp:\n",
    "        vec = tm.VectorUint(i)\n",
    "        fps.append(vec)\n",
    "    lf.batch_add(fps)\n",
    "    lf.index()\n",
    "    cfg = tm.LayoutConfiguration()  # configuration parameters for TMAP layout\n",
    "    cfg.node_size = node_size  # size of nodes which affects the magnitude of their repelling force.\n",
    "    cfg.mmm_repeats = mmm_repeats  # number of repeats of the per-level layout algorithm\n",
    "    cfg.sl_extra_scaling_steps = steps  # sets the number of repeats of the scaling\n",
    "    cfg.k = k  # number of nearest neighbours used to create the k-nearest neighbour graph. The higher the value, the more computationally expensive.\n",
    "    cfg.sl_scaling_type = tm.RelativeToAvgLength  # Defines the relative scale of the graph\n",
    "\n",
    "    x, y, s, t, _ = tm.layout_from_lsh_forest(lf, cfg)\n",
    "\n",
    "    # create a dict for the categories in 'dataset' column\n",
    "    category_labels, category_data = Faerun.create_categories(df[category_col])\n",
    "\n",
    "    # TMAP for Aline's compounds based on the three categories, aromatic ring fraction, heavy atom counts and qualitative estimation drug-likeliness\n",
    "    f = Faerun(\n",
    "        view=\"front\",\n",
    "        coords=False,\n",
    "        title=\"\",\n",
    "        clear_color=\"#FFFFFF\"\n",
    "    )\n",
    "\n",
    "    f.add_scatter(\n",
    "        title,\n",
    "        {\n",
    "            \"x\": x,\n",
    "            \"y\": y,\n",
    "            \"c\": [category_data, # categories\n",
    "\n",
    "                df['tid'].values.tolist(), # aromatic fraction\n",
    "                df['assay_id'].values.tolist(), # heavy atom counts\n",
    "                df['pchembl_value'].values.tolist(), # qualitative estimation of drug likeliness\n",
    "\n",
    "                ],\n",
    "            \"labels\": df['canonical_smiles'].values.tolist(), # SMILES as labels\n",
    "        },\n",
    "        shader=\"sphere\",\n",
    "        point_scale=5,\n",
    "        max_point_size=20,\n",
    "        legend_labels=[category_labels, None, None, None],\n",
    "        categorical=[True, False, False, False],\n",
    "        colormap=colormap,\n",
    "        series_title=[category_col, 'tid', 'assay_id', 'pchembl_value'],\n",
    "        has_legend=True,\n",
    "    )\n",
    "    f.add_tree(\"AlineDB_TMAP_tree\", {\"from\": s, \"to\": t}, point_helper=title)\n",
    "    f.plot(title, template='smiles')\n",
    "\n",
    "    #labels = [] # the widget labels\n",
    "    #for i, s in enumerate(df['canonical_smiles']):\n",
    "    #    labels.append(\n",
    "    #        s\n",
    "    #        + \"__\"\n",
    "    #        # convert df['tid'].values to a list of strings and append it to the labels\n",
    "    #        + str(df['tid'].values.tolist()[i])\n",
    "    #        + \"__\"\n",
    "    #        + str(df['assay_id'].tolist()[i])\n",
    "    #        + \"__\"\n",
    "    #        + str(df['pchembl_value'].tolist()[i])\n",
    "    #        )\n"
   ]
  },
  {
   "cell_type": "markdown",
   "metadata": {},
   "source": [
    "# Load the data"
   ]
  },
  {
   "cell_type": "markdown",
   "metadata": {},
   "source": [
    "## Ki"
   ]
  },
  {
   "cell_type": "code",
   "execution_count": 7,
   "metadata": {},
   "outputs": [
    {
     "name": "stdout",
     "output_type": "stream",
     "text": [
      "1\n",
      "1022\n",
      "38\n",
      "639\n",
      "308\n",
      "36\n",
      "379\n",
      "1632\n",
      "2942\n"
     ]
    }
   ],
   "source": [
    "import glob\n",
    "\n",
    "# Find all files starting with 'ki_target_CHEMBL233' in the FEATURIZE_DATA_DIR\n",
    "file_pattern = os.path.join(FEATURIZE_DATA_DIR, 'ki_maxcur', 'ki_target_CHEMBL233*.pkl')\n",
    "file_list = glob.glob(file_pattern)\n",
    "\n",
    "# for file 'ki_target_CHEMBL233_1_fp.pkl', add a column 'dataset' with value 'ki_mor_1'; In a similar fashion, for all other files, add a column 'dataset' with value 'ki_mor_2' for file 'ki_target_CHEMBL233_2_fp.pkl'. Finally, concatenate all the dataframes into a single dataframe ki_mor_df.\n",
    "ki_mor_df = pd.DataFrame()\n",
    "for file in file_list:\n",
    "    df = pd.read_pickle(file)\n",
    "    dataset = os.path.basename(file).split('_')[3]\n",
    "    print(dataset)\n",
    "    df['dataset'] = dataset\n",
    "\n",
    "    ki_mor_df = pd.concat([ki_mor_df, df], axis=0)\n",
    "\n",
    "# load  all ki data for GPCR\n",
    "ki_gpcr_df = pd.read_pickle(os.path.join(FEATURIZE_DATA_DIR,'ki_maxcur_8_fp.pkl'))\n",
    "ic50_gpcr_df = pd.read_pickle(os.path.join(FEATURIZE_DATA_DIR,'ic50_maxcur_8_fp.pkl'))\n",
    "ec50_gpcr_df = pd.read_pickle(os.path.join(FEATURIZE_DATA_DIR,'ec50_maxcur_8_fp.pkl'))\n",
    "# add a column 'target_name', for rows with 'target_chembl_id' = 'CHEMBL233', with value 'MOR' and for rows with 'target_chembl_id' = 'CHEMBL237', with value 'KOR' and for rows with 'target_chembl_id' = 'CHEMBL236', with value 'DOR'and for rows with 'target_chembl_id' = 'CHEMBL2014', with value 'NOR', the rest with value 'Others'\n",
    "ki_gpcr_df['target_name'] = ki_gpcr_df['target_chembl_id'].apply(lambda x: 'MOR' if x == 'CHEMBL233' else 'KOR' if x == 'CHEMBL237' else 'DOR' if x == 'CHEMBL236' else 'NOR' if x == 'CHEMBL2014' else 'Others')"
   ]
  },
  {
   "cell_type": "code",
   "execution_count": 3,
   "metadata": {},
   "outputs": [
    {
     "name": "stdout",
     "output_type": "stream",
     "text": [
      "The length of ki_mor_df is 3821\n",
      "The columns in ki_mor_df is Index(['assay_id', 'assay_chembl_id', 'tid', 'target_chembl_id',\n",
      "       'standard_type', 'pchembl_value', 'assay_type', 'assay_category',\n",
      "       'assay_organism', 'assay_tax_id', 'assay_strain', 'assay_tissue',\n",
      "       'assay_cell_type', 'assay_subcellular_fraction', 'bao_format',\n",
      "       'variant_id', 'assay_test_type', 'assay_desc', 'cell_id', 'tissue_id',\n",
      "       'curated_by', 'relationship_type', 'aidx', 'confidence_score',\n",
      "       'molregno', 'compound_chembl_id', 'canonical_smiles', 'assay_info_hash',\n",
      "       'ecfp4', 'map4c', 'activity', 'dataset'],\n",
      "      dtype='object')\n",
      "The length of ki_gpcr_df is 139416\n",
      "The columns in ki_gpcr_df is Index(['assay_id', 'assay_chembl_id', 'tid', 'target_chembl_id',\n",
      "       'standard_type', 'pchembl_value', 'assay_type', 'assay_category',\n",
      "       'assay_organism', 'assay_tax_id', 'assay_strain', 'assay_tissue',\n",
      "       'assay_cell_type', 'assay_subcellular_fraction', 'bao_format',\n",
      "       'variant_id', 'assay_test_type', 'assay_desc', 'cell_id', 'tissue_id',\n",
      "       'curated_by', 'relationship_type', 'aidx', 'confidence_score',\n",
      "       'molregno', 'compound_chembl_id', 'canonical_smiles', 'assay_info_hash',\n",
      "       'ecfp4', 'map4c', 'activity', 'target_name'],\n",
      "      dtype='object')\n"
     ]
    }
   ],
   "source": [
    "# for column 'dataset' where the value is not '1', replace the value with '2'\n",
    "ki_mor_df['dataset'] = ki_mor_df['dataset'].apply(lambda x: 'others' if x != '1' else x)\n",
    "print(f'The length of ki_mor_df is {len(ki_mor_df)}')\n",
    "print(f'The columns in ki_mor_df is {ki_mor_df.columns}')\n",
    "\n",
    "print(f'The length of ki_gpcr_df is {len(ki_gpcr_df)}')\n",
    "print(f'The columns in ki_gpcr_df is {ki_gpcr_df.columns}')"
   ]
  },
  {
   "cell_type": "code",
   "execution_count": 11,
   "metadata": {},
   "outputs": [
    {
     "name": "stdout",
     "output_type": "stream",
     "text": [
      "The length of ki_mor_from_gpcr_df is 3821\n",
      "The length of ic50_mor_from_gpcr_df is 1088\n",
      "The length of ec50_mor_from_gpcr_df is 1850\n"
     ]
    }
   ],
   "source": [
    "#ki_mor_from_gpcr_df = ki_gpcr_df[ki_gpcr_df['target_chembl_id'] == 'CHEMBL233']\n",
    "#print(f'The length of ki_mor_from_gpcr_df is {len(ki_mor_df)}')\n",
    "#ki_mor_from_gpcr_df.to_csv('ki_mor_from_gpcr.csv', index=False)\n",
    "#ic50_mor_from_gpcr_df = ic50_gpcr_df[ic50_gpcr_df['target_chembl_id'] == 'CHEMBL233']\n",
    "#print(f'The length of ic50_mor_from_gpcr_df is {len(ic50_mor_from_gpcr_df)}')\n",
    "#ic50_mor_from_gpcr_df.to_csv('ic50_mor_from_gpcr.csv', index=False)\n",
    "#ec50_mor_from_gpcr_df = ec50_gpcr_df[ec50_gpcr_df['target_chembl_id'] == 'CHEMBL233']\n",
    "#print(f'The length of ec50_mor_from_gpcr_df is {len(ec50_mor_from_gpcr_df)}')\n",
    "#ec50_mor_from_gpcr_df.to_csv('ec50_mor_from_gpcr.csv', index=False)"
   ]
  },
  {
   "cell_type": "code",
   "execution_count": 4,
   "metadata": {},
   "outputs": [],
   "source": [
    "ki_mor_df['assay_category']= ki_mor_df['dataset'].apply(lambda x : 'RBA' if x in ['1', '36', '38', ] else 'Others')"
   ]
  },
  {
   "cell_type": "markdown",
   "metadata": {},
   "source": [
    "## IC50"
   ]
  },
  {
   "cell_type": "code",
   "execution_count": 14,
   "metadata": {},
   "outputs": [
    {
     "name": "stdout",
     "output_type": "stream",
     "text": [
      "1\n"
     ]
    }
   ],
   "source": [
    "import glob\n",
    "\n",
    "# Find all files starting with 'ki_target_CHEMBL233' in the FEATURIZE_DATA_DIR\n",
    "file_pattern = os.path.join(FEATURIZE_DATA_DIR, 'ic50_maxcur', 'ic50_target_CHEMBL233*.pkl')\n",
    "file_list = glob.glob(file_pattern)\n",
    "\n",
    "# for file 'ki_target_CHEMBL233_1_fp.pkl', add a column 'dataset' with value 'ki_mor_1'; In a similar fashion, for all other files, add a column 'dataset' with value 'ki_mor_2' for file 'ki_target_CHEMBL233_2_fp.pkl'. Finally, concatenate all the dataframes into a single dataframe ki_mor_df.\n",
    "ic50_mor_df = pd.DataFrame()\n",
    "for file in file_list:\n",
    "    df = pd.read_pickle(file)\n",
    "    dataset = os.path.basename(file).split('_')[3]\n",
    "    print(dataset)\n",
    "    df['dataset'] = dataset\n",
    "\n",
    "    ic50_mor_df = pd.concat([ic50_mor_df, df], axis=0)\n",
    "\n",
    "# load  all ki data for GPCR\n",
    "ic50_gpcr_df = pd.read_pickle(os.path.join(FEATURIZE_DATA_DIR,'ic50_maxcur_8_fp.pkl'))"
   ]
  },
  {
   "cell_type": "code",
   "execution_count": 15,
   "metadata": {},
   "outputs": [
    {
     "name": "stdout",
     "output_type": "stream",
     "text": [
      "The length of ic50_gpcr_df is 88622\n",
      "The columns in ic50_gpcr_df is Index(['assay_id', 'assay_chembl_id', 'tid', 'target_chembl_id',\n",
      "       'standard_type', 'pchembl_value', 'assay_type', 'assay_category',\n",
      "       'assay_organism', 'assay_tax_id', 'assay_strain', 'assay_tissue',\n",
      "       'assay_cell_type', 'assay_subcellular_fraction', 'bao_format',\n",
      "       'variant_id', 'assay_test_type', 'assay_desc', 'cell_id', 'tissue_id',\n",
      "       'curated_by', 'relationship_type', 'aidx', 'confidence_score',\n",
      "       'molregno', 'compound_chembl_id', 'canonical_smiles', 'assay_info_hash',\n",
      "       'ecfp4', 'map4c', 'activity'],\n",
      "      dtype='object')\n"
     ]
    }
   ],
   "source": [
    "print(f'The length of ic50_gpcr_df is {len(ic50_gpcr_df)}')\n",
    "print(f'The columns in ic50_gpcr_df is {ic50_gpcr_df.columns}')"
   ]
  },
  {
   "cell_type": "markdown",
   "metadata": {},
   "source": [
    "# tmap"
   ]
  },
  {
   "cell_type": "code",
   "execution_count": 29,
   "metadata": {},
   "outputs": [
    {
     "data": {
      "text/html": [
       "\n",
       "        <iframe\n",
       "            width=\"100%\"\n",
       "            height=\"500\"\n",
       "            src=\"./ki_mor_binary_tmap.html\"\n",
       "            frameborder=\"0\"\n",
       "            allowfullscreen\n",
       "            \n",
       "        ></iframe>\n",
       "        "
      ],
      "text/plain": [
       "<IPython.lib.display.IFrame at 0x7fd29412bac0>"
      ]
     },
     "metadata": {},
     "output_type": "display_data"
    },
    {
     "data": {
      "text/html": [
       "<a href='./ki_mor_binary_tmap.html' target='_blank'>./ki_mor_binary_tmap.html</a><br>"
      ],
      "text/plain": [
       "/storage/homefs/yc24j783/datacat4ml/datacat4ml/Scripts/data_prep/1_data_fetch/ki_mor_binary_tmap.html"
      ]
     },
     "metadata": {},
     "output_type": "display_data"
    }
   ],
   "source": [
    "tmap_plot(ki_mor_df, title='ki_mor_binary_tmap', category_col='dataset', node_size=1/50, point_scale=1.0, colormap=ListedColormap([\"#D62728\", \"#59B4C3\"]))"
   ]
  },
  {
   "cell_type": "code",
   "execution_count": 27,
   "metadata": {},
   "outputs": [
    {
     "data": {
      "text/html": [
       "\n",
       "        <iframe\n",
       "            width=\"100%\"\n",
       "            height=\"500\"\n",
       "            src=\"./ki_gpcr_tmap.html\"\n",
       "            frameborder=\"0\"\n",
       "            allowfullscreen\n",
       "            \n",
       "        ></iframe>\n",
       "        "
      ],
      "text/plain": [
       "<IPython.lib.display.IFrame at 0x7fd29f653160>"
      ]
     },
     "metadata": {},
     "output_type": "display_data"
    },
    {
     "data": {
      "text/html": [
       "<a href='./ki_gpcr_tmap.html' target='_blank'>./ki_gpcr_tmap.html</a><br>"
      ],
      "text/plain": [
       "/storage/homefs/yc24j783/datacat4ml/datacat4ml/Scripts/data_prep/1_data_fetch/ki_gpcr_tmap.html"
      ]
     },
     "metadata": {},
     "output_type": "display_data"
    }
   ],
   "source": [
    "#tmap_plot(ki_gpcr_df, title='ki_gpcr_tmap', category_col='target_chembl_id', node_size=1/50, point_scale=2.0, max_point_size=100, k=1000, colormap=['viridis', 'tab20', 'turbo', 'tab10'])\n",
    "#tmap_plot(ki_gpcr_df, title='ki_gpcr_tmap', category_col='target_chembl_id', node_size=50, point_scale=2.0, max_point_size=20, k=1000, colormap=['viridis', 'tab20', 'turbo', 'tab10']) # Ye's parameters\n",
    "#tmap_plot(ki_gpcr_df, title='ki_gpcr_tmap', category_col='target_chembl_id', node_size=1/32, point_scale=5, max_point_size=20, k=1000, colormap=['viridis', 'tab20', 'turbo', 'tab10']) # Maedeh's parameters\n",
    "#tmap_plot(ic50_gpcr_df, title='ic50_gpcr_tmap', category_col='target_chembl_id', node_size=1/32, point_scale=5, max_point_size=50, k=1000, colormap=['viridis', 'tab20', 'turbo', 'tab10'])\n",
    "tmap_plot(ki_gpcr_df, title='ki_gpcr_tmap', category_col='target_name', node_size=1/50, point_scale=2.5, max_point_size=10, k=1000, colormap=ListedColormap([\"#211C6A\", \"#74E291\", \"#59B4C3\", \"#EFF396\", \"#D9D9D9\"])) # 2048, 32"
   ]
  }
 ],
 "metadata": {
  "kernelspec": {
   "display_name": "pyg",
   "language": "python",
   "name": "python3"
  },
  "language_info": {
   "codemirror_mode": {
    "name": "ipython",
    "version": 3
   },
   "file_extension": ".py",
   "mimetype": "text/x-python",
   "name": "python",
   "nbconvert_exporter": "python",
   "pygments_lexer": "ipython3",
   "version": "3.9.16"
  }
 },
 "nbformat": 4,
 "nbformat_minor": 2
}
