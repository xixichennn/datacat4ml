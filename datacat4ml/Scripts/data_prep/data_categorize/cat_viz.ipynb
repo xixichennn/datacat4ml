{
 "cells": [
  {
   "cell_type": "code",
   "execution_count": 1,
   "id": "368692e7",
   "metadata": {},
   "outputs": [],
   "source": [
    "# conda env: datacat(Python 3.8.20)\n",
    "import os\n",
    "import pandas as pd\n",
    "\n",
    "import seaborn as sns\n",
    "import matplotlib\n",
    "matplotlib.use('Agg')\n",
    "import matplotlib.pyplot as plt\n",
    "\n",
    "from datacat4ml.const import CAT_DATA_DIR"
   ]
  },
  {
   "cell_type": "code",
   "execution_count": 2,
   "id": "ae61a9e7",
   "metadata": {},
   "outputs": [],
   "source": [
    "hhd_or_dfs_len = pd.read_csv(os.path.join(CAT_DATA_DIR, 'hhd_or_dfs_len.csv'))\n",
    "hhd_gpcr_dfs_len = pd.read_csv(os.path.join(CAT_DATA_DIR, 'hhd_gpcr_dfs_len.csv'))\n",
    "mhd_or_dfs_len = pd.read_csv(os.path.join(CAT_DATA_DIR, 'mhd_or_dfs_len.csv'))\n",
    "mhd_gpcr_dfs_len = pd.read_csv(os.path.join(CAT_DATA_DIR, 'mhd_gpcr_dfs_len.csv'))\n",
    "lhd_or_dfs_len = pd.read_csv(os.path.join(CAT_DATA_DIR, 'lhd_or_dfs_len.csv'))\n",
    "lhd_gpcr_dfs_len = pd.read_csv(os.path.join(CAT_DATA_DIR, 'lhd_gpcr_dfs_len.csv'))"
   ]
  },
  {
   "cell_type": "code",
   "execution_count": 3,
   "id": "a0f4b4c8",
   "metadata": {},
   "outputs": [
    {
     "name": "stdout",
     "output_type": "stream",
     "text": [
      "The shape of hhd_or_dfs_len: (12, 13)\n",
      "The shape of hhd_gpcr_dfs_len: (828, 13)\n",
      "The shape of mhd_or_dfs_len: (39, 13)\n",
      "The shape of mhd_gpcr_dfs_len: (1120, 13)\n",
      "The shape of lhd_or_dfs_len: (35, 13)\n",
      "The shape of lhd_gpcr_dfs_len: (713, 13)\n"
     ]
    }
   ],
   "source": [
    "print(f'The shape of hhd_or_dfs_len: {hhd_or_dfs_len.shape}')\n",
    "print(f'The shape of hhd_gpcr_dfs_len: {hhd_gpcr_dfs_len.shape}')\n",
    "print(f'The shape of mhd_or_dfs_len: {mhd_or_dfs_len.shape}')\n",
    "print(f'The shape of mhd_gpcr_dfs_len: {mhd_gpcr_dfs_len.shape}')\n",
    "print(f'The shape of lhd_or_dfs_len: {lhd_or_dfs_len.shape}')\n",
    "print(f'The shape of lhd_gpcr_dfs_len: {lhd_gpcr_dfs_len.shape}')"
   ]
  },
  {
   "cell_type": "markdown",
   "id": "61e3d007",
   "metadata": {},
   "source": [
    "# Data Visualization"
   ]
  },
  {
   "cell_type": "markdown",
   "id": "4d8ef225",
   "metadata": {},
   "source": [
    "## Create the dfs to store the stats"
   ]
  },
  {
   "cell_type": "code",
   "execution_count": null,
   "id": "cd32fe85",
   "metadata": {},
   "outputs": [],
   "source": [
    "or_combine_len_dfs = [or_bind_len_dfs, \n",
    "                    or_agon_G_GTP_len_dfs, \n",
    "                    or_agon_G_cAMP_len_dfs, \n",
    "                    or_agon_G_Ca_len_dfs, \n",
    "                    or_agon_B_arrest_len_dfs, \n",
    "                    or_antag_G_GTP_len_dfs,  \n",
    "                    or_antag_B_arrest_len_dfs]"
   ]
  },
  {
   "cell_type": "code",
   "execution_count": null,
   "id": "8bb0930a",
   "metadata": {},
   "outputs": [],
   "source": [
    "final_len_df = pd.DataFrame()\n",
    "for len_dfs in or_combine_len_dfs:\n",
    "    for key, len_df in len_dfs.items():\n",
    "        #print(key)\n",
    "        # use method 'concat' to append len_df to final_len_df\n",
    "        final_len_df = pd.concat([final_len_df, len_df], axis=0, sort=False)\n",
    "\n",
    "# remove the rows where 'std_type' is 'Ke' or 'Kb'\n",
    "final_len_df = final_len_df[~final_len_df['std_type'].isin(['Ke', 'Kb'])]\n",
    "        \n",
    "final_len_df\n",
    "# type_df = final_df + final_out_df\n",
    "# final_df = effect_type_df + plus_df - exclude_df"
   ]
  },
  {
   "cell_type": "markdown",
   "id": "daf826f4",
   "metadata": {},
   "source": [
    "## Effectwise"
   ]
  },
  {
   "cell_type": "markdown",
   "id": "b932df09",
   "metadata": {},
   "source": [
    "### donut plot for effect-wise activity space"
   ]
  },
  {
   "cell_type": "code",
   "execution_count": null,
   "id": "98d9d2c0",
   "metadata": {},
   "outputs": [],
   "source": [
    "def effect_activity_space(target='CHEMBL233', startangle=-90, fig_format='pdf'):\n",
    "    \n",
    "    target_len_df = final_len_df[final_len_df['target'] == target]\n",
    "    # extract coloums needed for plotting\n",
    "    target_len_df = target_len_df[['effect', 'assay', 'std_type', 'final_df']]\n",
    "    # create the pivot table\n",
    "    target_len_df = pd.pivot_table(target_len_df, index=['effect','assay', 'std_type'], values=['final_df'])\n",
    "    # make a new column for labeling the minor data\n",
    "    target_len_df['assay-type'] = target_len_df.index.get_level_values('std_type') + ': ' + target_len_df.index.get_level_values('assay')\n",
    "\n",
    "\n",
    "    ##########Plot the nested pie chart#####################\n",
    "    # create a figure and subplots\n",
    "    fig, ax = plt.subplots(figsize=(10, 6))\n",
    "    \n",
    "    width = 0.3\n",
    "\n",
    "    # data for pie charts\n",
    "    # Major category values = sum of minor category values\n",
    "    major_data = target_len_df.groupby('effect')['final_df'].sum()\n",
    "    major_labels = target_len_df.index.get_level_values('effect').unique()\n",
    "    # Minor category values\n",
    "    minor_data = target_len_df['final_df']\n",
    "    minor_labels = target_len_df['assay-type'] + '(' + target_len_df['final_df'].astype(str) + ')'\n",
    "\n",
    "    # create custom colormaps based on a given color\n",
    "    # color for major category\n",
    "    bind_color = '#b0e3e6'\n",
    "    agon_color = '#f5426c'\n",
    "    antag_color = '#4278f5'\n",
    "    major_colors = [agon_color, antag_color, bind_color]\n",
    "    # color for minor category\n",
    "    bind_palette = sns.light_palette(bind_color, n_colors=2)[::-1]\n",
    "    agon_palette = sns.light_palette(agon_color, n_colors=4)[::-1]\n",
    "    antag_palette = sns.light_palette(antag_color, n_colors=6)[::-1]\n",
    "    minor_colors = [agon_palette[3], agon_palette[2],agon_palette[1], agon_palette[0],\n",
    "                    antag_palette[5], antag_palette[4], antag_palette[3], antag_palette[2], antag_palette[1], antag_palette[0],\n",
    "                    bind_palette[1], bind_palette[0]\n",
    "                    ]\n",
    "\n",
    "    # Draw pies\n",
    "    hfont = {'fontname':'serif'}\n",
    "    # pie for major category - 'effect', put in the inner circle\n",
    "    ax.pie(major_data, \n",
    "        radius=1-width, \n",
    "        colors=major_colors,\n",
    "        labels=major_labels,\n",
    "        startangle=startangle,\n",
    "        textprops={'fontsize': 13, 'fontname':'serif', 'fontweight':'bold'},\n",
    "        wedgeprops=dict(width=width, edgecolor='w'),\n",
    "        labeldistance=0.6)\n",
    "    \n",
    "    # pie for minor category - 'assay', put in the outer circle\n",
    "    ax.pie(minor_data,\n",
    "        radius=1,\n",
    "        colors=minor_colors,\n",
    "        labels=minor_labels,\n",
    "        startangle=startangle,\n",
    "        textprops={'fontsize': 11, 'fontname':'serif'},\n",
    "        wedgeprops=dict(width=width, edgecolor='w'),\n",
    "        labeldistance=1)\n",
    "\n",
    "    # Set a title\n",
    "    ax.set_title(f'{target}: effect-wise activity space', fontsize=16, fontweight='bold', **hfont)\n",
    "\n",
    "    # save the figure\n",
    "    file_path = os.path.join(CAT_FIG_DIR, target)\n",
    "    mkdirs(file_path)\n",
    "\n",
    "    fig.savefig(os.path.join(file_path, f\"{target}_effect-wise_activity_space_pie.{fig_format}\"), dpi=300, bbox_inches='tight')\n",
    "\n",
    "    return target_len_df"
   ]
  },
  {
   "cell_type": "code",
   "execution_count": null,
   "id": "f08a0fd5",
   "metadata": {},
   "outputs": [],
   "source": [
    "mor_effect_len_df = effect_activity_space(target='CHEMBL233', startangle=-90, fig_format='pdf')\n",
    "kor_effect_len_df = effect_activity_space(target='CHEMBL237', startangle=-73, fig_format='pdf')\n",
    "dor_effect_len_df = effect_activity_space(target='CHEMBL236', startangle=-70, fig_format='pdf')\n",
    "nor_effect_len_df = effect_activity_space(target='CHEMBL2014', startangle=-50, fig_format='pdf')"
   ]
  },
  {
   "cell_type": "code",
   "execution_count": null,
   "id": "97bea93e",
   "metadata": {},
   "outputs": [],
   "source": [
    "mor_effect_len_df"
   ]
  },
  {
   "cell_type": "code",
   "execution_count": null,
   "id": "cd6e8079",
   "metadata": {},
   "outputs": [],
   "source": [
    "kor_effect_len_df"
   ]
  },
  {
   "cell_type": "code",
   "execution_count": null,
   "id": "0b676f97",
   "metadata": {},
   "outputs": [
    {
     "ename": "NameError",
     "evalue": "name 'dor_effect_len_df' is not defined",
     "output_type": "error",
     "traceback": [
      "\u001b[0;31m---------------------------------------------------------------------------\u001b[0m\n",
      "\u001b[0;31mNameError\u001b[0m                                 Traceback (most recent call last)\n",
      "Cell \u001b[0;32mIn[3], line 1\u001b[0m\n",
      "\u001b[0;32m----> 1\u001b[0m \u001b[43mdor_effect_len_df\u001b[49m\n",
      "\n",
      "\u001b[0;31mNameError\u001b[0m: name 'dor_effect_len_df' is not defined"
     ]
    }
   ],
   "source": [
    "dor_effect_len_df"
   ]
  },
  {
   "cell_type": "code",
   "execution_count": null,
   "id": "eeb32078",
   "metadata": {},
   "outputs": [],
   "source": [
    "nor_effect_len_df"
   ]
  },
  {
   "cell_type": "markdown",
   "id": "320f2197",
   "metadata": {},
   "source": [
    "## Typewise"
   ]
  },
  {
   "cell_type": "markdown",
   "id": "1728ecd1",
   "metadata": {},
   "source": [
    "### donut plot for type-wise activity space"
   ]
  },
  {
   "cell_type": "code",
   "execution_count": null,
   "id": "b2e80fd4",
   "metadata": {},
   "outputs": [],
   "source": [
    "def type_activity_space(target='CHEMBL233', startangle=-90, fig_format='pdf'):\n",
    "    \n",
    "    target_len_df = final_len_df[final_len_df['target'] == target]\n",
    "    # extract columns needed for plotting\n",
    "    target_len_df = target_len_df[['effect', 'assay', 'std_type', 'final_df']]\n",
    "    # create the pivot table\n",
    "    target_len_df = pd.pivot_table(target_len_df, index=['std_type', 'effect','assay'], values=['final_df'])\n",
    "    # make a new column for labeling the minor data\n",
    "    target_len_df['effect-assay'] = target_len_df.index.get_level_values('effect') + ': ' + target_len_df.index.get_level_values('assay')\n",
    "\n",
    "\n",
    "    ##########Plot the nested pie chart#####################\n",
    "    # create a figure and subplots\n",
    "    fig, ax = plt.subplots(figsize=(10, 6))\n",
    "\n",
    "    width = 0.3\n",
    "\n",
    "    # data for pie charts\n",
    "    # Major category values = sum of minor category values\n",
    "    major_data = target_len_df.groupby('std_type')['final_df'].sum()\n",
    "    major_labels = target_len_df.index.get_level_values('std_type').unique()\n",
    "    # Minor category values\n",
    "    minor_data = target_len_df['final_df']\n",
    "    minor_labels = target_len_df['effect-assay'] + '(' + target_len_df['final_df'].astype(str) + ')'\n",
    "\n",
    "    # create custom colormaps based on a given color\n",
    "    # color for major category\n",
    "    ec50_color = '#b0daff'\n",
    "    ic50_color = '#19a7ce'\n",
    "    kb_color = '#146c94'\n",
    "    ke_color = '#164b60' \n",
    "    ki_color = '#c4b0ff' #'#e5beec', #f9f54b\n",
    "\n",
    "    major_colors = [ec50_color, ic50_color, kb_color, ke_color, ki_color]\n",
    "    # color for minor category\n",
    "    ki_palette = sns.light_palette(ki_color, n_colors=2)[::-1]\n",
    "    ic50_palette = sns.light_palette(ic50_color, n_colors=4)[::-1]\n",
    "    ec50_palette = sns.light_palette(ec50_color, n_colors=4)[::-1]\n",
    "    ke_palette = sns.light_palette(ke_color, n_colors=1)[::-1]\n",
    "    kb_palette = sns.light_palette(kb_color, n_colors=1)[::-1]\n",
    "    minor_colors = [ec50_palette[3], ec50_palette[2], ec50_palette[1], ec50_palette[0],\n",
    "                    ic50_palette[3], ic50_palette[2], ic50_palette[1], ic50_palette[0],\n",
    "                    kb_palette[0],\n",
    "                    ke_palette[0],\n",
    "                    ki_palette[1], ki_palette[0]]\n",
    "    # Draw pies\n",
    "    hfont = {'fontname':'serif'}\n",
    "    # pie for major category - 'effect', put in the inner circle\n",
    "    ax.pie(major_data, \n",
    "        radius=1-width, \n",
    "        colors=major_colors,\n",
    "        labels=major_labels,\n",
    "        startangle=startangle,\n",
    "        textprops={'fontsize': 11, 'fontweight':'bold'},\n",
    "        wedgeprops=dict(width=width, edgecolor='w'),\n",
    "        labeldistance=0.65)\n",
    "    # pie for minor category - 'assay', put in the outer circle\n",
    "    ax.pie(minor_data,\n",
    "        radius=1,\n",
    "        colors=minor_colors,\n",
    "        labels=minor_labels,\n",
    "        startangle=startangle,\n",
    "        textprops={'fontsize': 11, 'fontname':'serif'},\n",
    "        wedgeprops=dict(width=width, edgecolor='w'),\n",
    "        labeldistance=1)\n",
    "    \n",
    "    # Set a title\n",
    "    ax.set_title(f'{target}: type-wise activity space', fontsize=16, fontweight='bold', **hfont)\n",
    "\n",
    "    # save the figure\n",
    "    file_path = os.path.join(CAT_FIG_DIR, target)\n",
    "    mkdirs(file_path)\n",
    "\n",
    "    fig.savefig(os.path.join(file_path, f\"{target}_type-wise_activity_space_pie.{fig_format}\"), dpi=300, bbox_inches='tight')\n",
    "    print(f\"Figure saved in {file_path}\")\n",
    "    \n",
    "    return target_len_df"
   ]
  },
  {
   "cell_type": "code",
   "execution_count": null,
   "id": "d0acd63e",
   "metadata": {},
   "outputs": [],
   "source": [
    "mor_type_len_df = type_activity_space(target='CHEMBL233', startangle=-90, fig_format='pdf')\n",
    "kor_type_len_df = type_activity_space(target='CHEMBL237', startangle=-103, fig_format='pdf')\n",
    "dor_type_len_df = type_activity_space(target='CHEMBL236', startangle=-101, fig_format='pdf')\n",
    "nor_type_len_df = type_activity_space(target='CHEMBL2014', startangle=-100, fig_format='pdf')"
   ]
  },
  {
   "cell_type": "code",
   "execution_count": null,
   "id": "20cd3c56",
   "metadata": {},
   "outputs": [],
   "source": [
    "mor_type_len_df"
   ]
  },
  {
   "cell_type": "code",
   "execution_count": null,
   "id": "061db44d",
   "metadata": {},
   "outputs": [],
   "source": [
    "kor_type_len_df"
   ]
  },
  {
   "cell_type": "code",
   "execution_count": null,
   "id": "cdcbed07",
   "metadata": {},
   "outputs": [],
   "source": [
    "dor_type_len_df"
   ]
  },
  {
   "cell_type": "code",
   "execution_count": null,
   "id": "d3f3d7f9",
   "metadata": {},
   "outputs": [],
   "source": [
    "nor_type_len_df"
   ]
  }
 ],
 "metadata": {
  "kernelspec": {
   "display_name": "datacat",
   "language": "python",
   "name": "python3"
  },
  "language_info": {
   "codemirror_mode": {
    "name": "ipython",
    "version": 3
   },
   "file_extension": ".py",
   "mimetype": "text/x-python",
   "name": "python",
   "nbconvert_exporter": "python",
   "pygments_lexer": "ipython3",
   "version": "3.8.20"
  }
 },
 "nbformat": 4,
 "nbformat_minor": 5
}
