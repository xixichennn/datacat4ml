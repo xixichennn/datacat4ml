{
 "cells": [
  {
   "cell_type": "code",
   "execution_count": null,
   "id": "97e4857c",
   "metadata": {},
   "outputs": [],
   "source": [
    "# conda env: pyg(Python 3.9.16)\n",
    "import sys\n",
    "from datacat4ml.const import FETCH_DATA_DIR, FETCH_FIG_DIR, FEAT_DATA_DIR, FEAT_FIG_DIR\n",
    "from datacat4ml.Scripts.data_prep.data_categorize.categorize_regex import ki_gpcr_df, ic50_gpcr_df, ec50_gpcr_df, OR_dfs\n",
    "\n",
    "import os\n",
    "import pandas as pd\n",
    "import numpy as np\n",
    "import tmap as tm\n",
    "from matplotlib import pyplot as plt\n",
    "from matplotlib.colors import ListedColormap\n",
    "from faerun import Faerun\n",
    "\n",
    "from rdkit import Chem\n",
    "from rdkit.Chem import AllChem"
   ]
  },
  {
   "cell_type": "markdown",
   "id": "9007a0b4",
   "metadata": {},
   "source": [
    "# Add identifier to the dfs for labeling in the tmap"
   ]
  },
  {
   "cell_type": "code",
   "execution_count": null,
   "id": "ea138901",
   "metadata": {},
   "outputs": [],
   "source": [
    "ki_gpcr_df['target_name'] = ki_gpcr_df['target_chembl_id'].apply(lambda x: 'MOR' if x == 'CHEMBL233' else 'KOR' if x == 'CHEMBL237' else 'DOR' if x == 'CHEMBL236' else 'NOR' if x == 'CHEMBL2014' else 'Others')\n",
    "ic50_gpcr_df['target_name'] = ic50_gpcr_df['target_chembl_id'].apply(lambda x: 'MOR' if x == 'CHEMBL233' else 'KOR' if x == 'CHEMBL237' else 'DOR' if x == 'CHEMBL236' else 'NOR' if x == 'CHEMBL2014' else 'Others')\n",
    "ec50_gpcr_df['target_name'] = ec50_gpcr_df['target_chembl_id'].apply(lambda x: 'MOR' if x == 'CHEMBL233' else 'KOR' if x == 'CHEMBL237' else 'DOR' if x == 'CHEMBL236' else 'NOR' if x == 'CHEMBL2014' else 'Others')"
   ]
  },
  {
   "cell_type": "markdown",
   "id": "34606d11",
   "metadata": {},
   "source": [
    "# Functions"
   ]
  },
  {
   "cell_type": "code",
   "execution_count": null,
   "id": "d33cf702",
   "metadata": {},
   "outputs": [],
   "source": [
    "def calc_fp_in_df(df, radius=2, nbits=1024):\n",
    "    '''\n",
    "    Cacluate the fingerprint based on column 'canonical_smiles' in the dataframe and add it to the dataframe\n",
    "    '''\n",
    "    new_df = df.copy()\n",
    "    # Calculate the fingerprint based on the canonical_smiles\n",
    "    new_df['mol'] = new_df['canonical_smiles'].apply(Chem.MolFromSmiles)\n",
    "    new_df['fp'] = new_df['mol'].apply(lambda x: AllChem.GetMorganFingerprintAsBitVect(x, radius, nbits))\n",
    "\n",
    "    print(f'The shape of df is {new_df.shape}')\n",
    "    \n",
    "    return new_df \n",
    "\n",
    "def tmap_plot(df, title:str ='tmap', category_col:str='target_chembl_id',\n",
    "              node_size:float=1/32, mmm_repeats:int=2, steps:int=5, k:int=1000,\n",
    "              shader:str='smoothCircle',  point_scale:float=2.5, max_point_size:int=10,\n",
    "              colormap:list=['Set1', 'tab20', 'turbo', 'tab10' ]):\n",
    "    '''determining the layout of the TMAP, and plotting the TMAP'''\n",
    "    lf = tm.LSHForest(2048, 32) # a locality-sensitive hashing forest, used for approximate nearest neighbor search is initialized with parameters 512 and 32.\n",
    "    \n",
    "    # check if the column 'fp' is in the dataframe\n",
    "    if fp not in df.columns:\n",
    "        df = calc_fp_in_df(df, radius=2, nbits=1024)\n",
    "    \n",
    "    fp = np.array(df[fp])  # converting the FPs to vector units\n",
    "    fps = []\n",
    "    for i in fp:\n",
    "        vec = tm.VectorUint(i)\n",
    "        fps.append(vec)\n",
    "    lf.batch_add(fps)\n",
    "    lf.index()\n",
    "    cfg = tm.LayoutConfiguration()  # configuration parameters for TMAP layout\n",
    "    cfg.node_size = node_size  # size of nodes which affects the magnitude of their repelling force.\n",
    "    cfg.mmm_repeats = mmm_repeats  # number of repeats of the per-level layout algorithm\n",
    "    cfg.sl_extra_scaling_steps = steps  # sets the number of repeats of the scaling\n",
    "    cfg.k = k  # number of nearest neighbours used to create the k-nearest neighbour graph. The higher the value, the more computationally expensive.\n",
    "    cfg.sl_scaling_type = tm.RelativeToAvgLength  # Defines the relative scale of the graph\n",
    "\n",
    "    x, y, s, t, _ = tm.layout_from_lsh_forest(lf, cfg)\n",
    "\n",
    "    # create a dict for the categories in 'dataset' column\n",
    "    category_labels, category_data = Faerun.create_categories(df[category_col])\n",
    "\n",
    "    # TMAP for Aline's compounds based on the three categories, aromatic ring fraction, heavy atom counts and qualitative estimation drug-likeliness\n",
    "    f = Faerun(\n",
    "        view=\"front\",\n",
    "        coords=False,\n",
    "        title=\"\",\n",
    "        clear_color=\"#FFFFFF\"\n",
    "    )\n",
    "\n",
    "    f.add_scatter(\n",
    "        title,\n",
    "        {\n",
    "            \"x\": x,\n",
    "            \"y\": y,\n",
    "            \"c\": [category_data, # categories\n",
    "\n",
    "                df['tid'].values.tolist(), # aromatic fraction\n",
    "                df['assay_id'].values.tolist(), # heavy atom counts\n",
    "                df['pchembl_value'].values.tolist(), # qualitative estimation of drug likeliness\n",
    "\n",
    "                ],\n",
    "            \"labels\": df['canonical_smiles'].values.tolist(), # SMILES as labels\n",
    "        },\n",
    "        shader=\"sphere\",\n",
    "        point_scale=5,\n",
    "        max_point_size=20,\n",
    "        legend_labels=[category_labels, None, None, None],\n",
    "        categorical=[True, False, False, False],\n",
    "        colormap=colormap,\n",
    "        series_title=[category_col, 'tid', 'assay_id', 'pchembl_value'],\n",
    "        has_legend=True,\n",
    "    )\n",
    "    f.add_tree(\"AlineDB_TMAP_tree\", {\"from\": s, \"to\": t}, point_helper=title)\n",
    "    f.plot(title, template='smiles')"
   ]
  },
  {
   "cell_type": "markdown",
   "id": "b7e540cd",
   "metadata": {},
   "source": [
    "# Plot the TMAP"
   ]
  },
  {
   "cell_type": "code",
   "execution_count": null,
   "id": "2bfa1a34",
   "metadata": {},
   "outputs": [],
   "source": [
    "tmap_plot(ki_gpcr_df, title='ki_gpcr_tmap', category_col='target_name', node_size=1/50, point_scale=2.5, max_point_size=10, k=1000, colormap=ListedColormap([\"#211C6A\", \"#74E291\", \"#59B4C3\", \"#EFF396\", \"#D9D9D9\"]))"
   ]
  }
 ],
 "metadata": {
  "language_info": {
   "name": "python"
  }
 },
 "nbformat": 4,
 "nbformat_minor": 5
}
