{
 "cells": [
  {
   "cell_type": "code",
   "execution_count": 6,
   "id": "a19c6e74",
   "metadata": {},
   "outputs": [],
   "source": [
    "import sys\n",
    "import os\n",
    "from rdkit import Chem\n",
    "from rdkit.Chem import AllChem\n",
    "from rdkit.Chem import Draw, MolStandardize\n",
    "from rdkit.Chem.Draw import IPythonConsole, MolDrawing, DrawingOptions\n",
    "\n",
    "import numpy as np\n",
    "\n",
    "from itertools import product\n",
    "from joblib import Parallel, delayed\n",
    "import re\n",
    "from collections import defaultdict\n",
    "\n",
    "#from Ipython.display import clear_output\n",
    "#IPythonConsole.ipython_useSVG = True\n",
    "\n",
    "from datacat4ml.DeepCoy.DeepCoy import DenseGGNNChemModel\n",
    "from datacat4ml.DeepCoy.data.prepare_data import read_file, preprocess\n",
    "from datacat4ml.DeepCoy.evaluation.select_and_evaluate_decoys import select_and_evaluate_decoys\n",
    "from datacat4ml.const import SPLIT_DATA_DIR"
   ]
  },
  {
   "cell_type": "code",
   "execution_count": 2,
   "id": "610fc236",
   "metadata": {},
   "outputs": [],
   "source": [
    "use_gpu = True"
   ]
  },
  {
   "cell_type": "markdown",
   "id": "05002df1",
   "metadata": {},
   "source": [
    "# Preprocess actives data"
   ]
  },
  {
   "cell_type": "markdown",
   "id": "7a32d55b",
   "metadata": {},
   "source": [
    "The function `preprocess` is used to parse smiles as graphs."
   ]
  },
  {
   "cell_type": "code",
   "execution_count": 3,
   "id": "87fb0b54",
   "metadata": {},
   "outputs": [
    {
     "name": "stdout",
     "output_type": "stream",
     "text": [
      "Finished reading: 10 / 10\n",
      "Parsing smiles as graphs.\n",
      "Processed: 10 / 10\n",
      "Saving data.\n",
      "Length raw data: \t10\n",
      "Length processed data: \t10\n"
     ]
    }
   ],
   "source": [
    "data_path = './P38-alpha_actives.smi'\n",
    "raw_data = read_file(data_path)\n",
    "preprocess(raw_data, \"zinc\", \"P38-alpha_actives\") # def preprocess(raw_data, dataset, name, save_dir=''): parsing smiles as graphs. => 'molecules_P38-alpha_actives.json"
   ]
  },
  {
   "cell_type": "markdown",
   "id": "9a9c703e",
   "metadata": {},
   "source": [
    "# Load DeepCoy model and generate decoys."
   ]
  },
  {
   "cell_type": "markdown",
   "id": "3d03a1f6",
   "metadata": {},
   "source": [
    "The below settings generate 100 candidate decoys for each active molecule."
   ]
  },
  {
   "cell_type": "code",
   "execution_count": 8,
   "id": "f3045289",
   "metadata": {},
   "outputs": [],
   "source": [
    "if not use_gpu:\n",
    "    os.environ[\"CUDA_VISIBLE_DEVICES\"] = \"-1\"\n",
    "else:\n",
    "    os.environ[\"CUDA_VISIBLE_DEVICES\"] = \"0\"\n",
    "\n",
    "# Arguments for DeepCoy\n",
    "args = defaultdict(None)\n",
    "args['--dataset'] = 'zinc'\n",
    "args['--config'] = '{\"generation\": true, \\\n",
    "                     \"batch_size\": 1, \\\n",
    "                     \"number_of_generation_per_valid\": 100, \\\n",
    "                     \"train_file\": \"molecules_P38-alpha_actives.json\", \\\n",
    "                     \"valid_file\": \"molecules_P38-alpha_actives.json\", \\\n",
    "                     \"output_name\": \"P38-alpha_example_decoys.smi\", \\\n",
    "                     \"use_subgraph_freqs\": false}'\n",
    "\n",
    "args['--freeze-graph-model'] = False\n",
    "args['--restore'] = os.path.join(SPLIT_DATA_DIR, 'fsmol_alike', 'MHDsFold', 'decoys', 'deepcoy_models', 'DeepCoy_DUDE_model_e09.pickle') #?Yu"
   ]
  },
  {
   "cell_type": "code",
   "execution_count": 10,
   "id": "69e04c8e",
   "metadata": {},
   "outputs": [
    {
     "name": "stdout",
     "output_type": "stream",
     "text": [
      "Run 2025-07-10-13-05-54_2109547 starting with following parameters:\n",
      "{\"task_sample_ratios\": {}, \"use_edge_bias\": true, \"clamp_gradient_norm\": 1.0, \"out_layer_dropout_keep_prob\": 1.0, \"tie_fwd_bkwd\": true, \"random_seed\": 0, \"batch_size\": 1, \"num_epochs\": 10, \"epoch_to_generate\": 10, \"number_of_generation_per_valid\": 100, \"maximum_distance\": 50, \"use_argmax_generation\": false, \"residual_connection_on\": true, \"residual_connections\": {\"2\": [0], \"4\": [0, 2], \"6\": [0, 2, 4], \"8\": [0, 2, 4, 6], \"10\": [0, 2, 4, 6, 8], \"12\": [0, 2, 4, 6, 8, 10], \"14\": [0, 2, 4, 6, 8, 10, 12]}, \"num_timesteps\": 7, \"hidden_size\": 100, \"encoding_size\": 8, \"kl_trade_off_lambda\": 0.3, \"learning_rate\": 0.001, \"graph_state_dropout_keep_prob\": 1, \"compensate_num\": 0, \"train_file\": \"molecules_P38-alpha_actives.json\", \"valid_file\": \"molecules_P38-alpha_actives.json\", \"try_different_starting\": true, \"num_different_starting\": 1, \"generation\": true, \"use_graph\": true, \"label_one_hot\": false, \"multi_bfs_path\": false, \"bfs_path_count\": 30, \"path_random_order\": false, \"sample_transition\": false, \"edge_weight_dropout_keep_prob\": 1, \"check_overlap_edge\": false, \"truncate_distance\": 10, \"output_name\": \"P38-alpha_example_decoys.smi\", \"subgraph_freq_file\": \"\", \"use_subgraph_freqs\": false, \"dataset\": \"zinc\", \"num_symbols\": 14}\n",
      "Subgraph frequency dictionary not used.\n",
      "Loading data from molecules_P38-alpha_actives.json\n",
      "Loading data from molecules_P38-alpha_actives.json\n",
      "Finished calculating 0 incremental matrices\r"
     ]
    },
    {
     "name": "stderr",
     "output_type": "stream",
     "text": [
      "/storage/homefs/yc24j783/datacat4ml/datacat4ml/DeepCoy/DeepCoy.py:199: UserWarning: `tf.nn.rnn_cell.GRUCell` is deprecated and will be removed in a future version. This class is equivalent as `tf.keras.layers.GRUCell`, and will be replaced by that in Tensorflow 2.0.\n",
      "  cell = tf.nn.rnn_cell.GRUCell(new_h_dim) # modified by Yu\n"
     ]
    },
    {
     "name": "stdout",
     "output_type": "stream",
     "text": [
      "Restoring weights from file /storage/homefs/yc24j783/datacat4ml/datacat4ml/Data/data_prep/data_split/fsmol_alike/MHDsFold/decoys/deepcoy_models/DeepCoy_DUDE_model_e09.pickle.\n",
      "Generated mol 0\n",
      "Generated mol 100\n",
      "Generated mol 200\n",
      "Generated mol 300\n",
      "Generated mol 400\n",
      "Generated mol 500\n",
      "Generated mol 600\n",
      "Generated mol 700\n",
      "Generated mol 800\n",
      "Generated mol 900\n",
      "Generation done\n",
      "Number of generated SMILES: 1000\n"
     ]
    }
   ],
   "source": [
    "# Setup model and generate molecules\n",
    "model = DenseGGNNChemModel(args)\n",
    "model.train()\n",
    "# Fre up some memory\n",
    "model = ''"
   ]
  },
  {
   "cell_type": "markdown",
   "id": "e48b7f29",
   "metadata": {},
   "source": [
    "# Assess generated decoys"
   ]
  },
  {
   "cell_type": "markdown",
   "id": "7c165be3",
   "metadata": {},
   "source": [
    "Now we need to select the final set of decoys from the candidate decoys.\n",
    "We will select 20 decoys per active."
   ]
  },
  {
   "cell_type": "code",
   "execution_count": 11,
   "id": "bceda5e7",
   "metadata": {},
   "outputs": [
    {
     "name": "stdout",
     "output_type": "stream",
     "text": [
      "Processing:  P38-alpha_example_decoys.smi\n",
      "Processed smiles: 0\n",
      "Done calculating properties\n",
      "Processed smiles: 0\n",
      "Done calculating properties\n",
      "Processed smiles: 0\n",
      "Done calculating properties\n",
      "Processed smiles: 0\n",
      "Done calculating properties\n",
      "Processed smiles: 0\n",
      "Done calculating properties\n",
      "Processed smiles: 0\n",
      "Done calculating properties\n",
      "Unable to assess ML model prediction. Check there are sufficient active molecules if these metrics are desired.\n"
     ]
    }
   ],
   "source": [
    "chosen_properties = \"ALL\"\n",
    "num_decoys_per_active = 20\n",
    "\n",
    "results = select_and_evaluate_decoys('P38-alpha_example_decoys.smi', file_loc='./', output_loc='./', \n",
    "                                     dataset=chosen_properties, num_cand_dec_per_act=num_decoys_per_active*2, num_dec_per_act=num_decoys_per_active)"
   ]
  },
  {
   "cell_type": "code",
   "execution_count": 12,
   "id": "cd14c6e9",
   "metadata": {},
   "outputs": [
    {
     "data": {
      "text/plain": [
       "['P38-alpha_example_decoys.smi',\n",
       " 'ALL',\n",
       " 10,\n",
       " 10,\n",
       " 1000,\n",
       " 993,\n",
       " -1,\n",
       " -1,\n",
       " 0.07578833333333335,\n",
       " 0.4352395680379868,\n",
       " 0.2101596861694829,\n",
       " 0.24299065420560748]"
      ]
     },
     "execution_count": 12,
     "metadata": {},
     "output_type": "execute_result"
    }
   ],
   "source": [
    "results"
   ]
  },
  {
   "cell_type": "markdown",
   "id": "6704afd7",
   "metadata": {},
   "source": [
    "The following results are calculated and contained in results:\n",
    "\n",
    "- File name - Name of input file\n",
    "- Chosen properties - Name of the property set chosen\n",
    "- Number of actives in input file\n",
    "- Number of actives after applying the minimum size filter\n",
    "- Number of candidate decoys\n",
    "- Number of unique candidate decoys\n",
    "- AUC ROC - 1NN - Performance as measured by AUC ROC of 1-nearest neighbour (1NN) - algorithm in 10-fold cross-validation using all of the chosen properties\n",
    "- AUC ROC - RF - Performance as measured by AUC ROC of random forest (RF) algorithm in - 10-fold cross-validation using all of the chosen properties,\n",
    "- DOE score - Deviation from Optimal Embedding score, a measure of property matching\n",
    "- LADS score - Latent Active in Decoy Set score\n",
    "- Average Doppelganger score - A measure of the structural similarity between actives - and decoys\n",
    "- Maximum Doppelganger score - A measure of the structural similarity between actives and decoys"
   ]
  }
 ],
 "metadata": {
  "kernelspec": {
   "display_name": "datacat",
   "language": "python",
   "name": "python3"
  },
  "language_info": {
   "codemirror_mode": {
    "name": "ipython",
    "version": 3
   },
   "file_extension": ".py",
   "mimetype": "text/x-python",
   "name": "python",
   "nbconvert_exporter": "python",
   "pygments_lexer": "ipython3",
   "version": "3.8.20"
  }
 },
 "nbformat": 4,
 "nbformat_minor": 5
}
