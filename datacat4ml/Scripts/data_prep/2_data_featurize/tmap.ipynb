{
 "cells": [
  {
   "cell_type": "code",
   "execution_count": 1,
   "metadata": {},
   "outputs": [],
   "source": [
    "# inner module import\n",
    "import sys\n",
    "sys.path.append(\"/storage/homefs/yc24j783/datacat4ml/datacat4ml\")\n",
    "from const import FETCH_DATA_DIR, FETCH_FIG_DIR, FEATURIZE_DATA_DIR, FEATURIZE_FIG_DIR\n",
    "\n",
    "import os\n",
    "import pandas as pd\n",
    "import numpy as np\n",
    "from scipy import stats\n",
    "import matplotlib.pyplot as pl\n",
    "\n",
    "from rdkit import Chem\n",
    "from rdkit.Chem import AllChem\n",
    "\n",
    "#-------------------------------------------------------------------------------------------------\n",
    "# categorical TMAP based on three categories of SMILES\n",
    "#-------------------------------------------------------------------------------------------------\n",
    "import tmap as tm\n",
    "from faerun import Faerun\n",
    "from mapchiral.mapchiral import encode\n",
    "from rdkit.Chem import rdMolDescriptors\n",
    "from rdkit.Chem import rdmolops\n",
    "from matplotlib.colors import ListedColormap\n",
    "from matplotlib.colors import LinearSegmentedColormap\n",
    "from matplotlib import cm\n",
    "import json\n",
    "import random\n",
    "from mhfp.encoder import MHFPEncoder\n",
    "from mhfp.lsh_forest import LSHForestHelper"
   ]
  },
  {
   "cell_type": "code",
   "execution_count": 2,
   "metadata": {},
   "outputs": [],
   "source": [
    "mor_chembl_id = 'CHEMBL233'\n",
    "kor_chembl_id = 'CHEMBL237'\n",
    "dor_chembl_id = 'CHEMBL236'\n",
    "nor_chembl_id = 'CHEMBL2014'"
   ]
  },
  {
   "cell_type": "markdown",
   "metadata": {},
   "source": [
    "# Functions"
   ]
  },
  {
   "cell_type": "code",
   "execution_count": 3,
   "metadata": {},
   "outputs": [],
   "source": [
    "def tmap_plot_maedeh(df, title:str, fp:str='map4c',\n",
    "              node_size:float=1/32, mmm_repeats:int=2, steps:int=5, k:int=15,\n",
    "              shader:str='smoothCircle',  point_scale:float=2.5, max_point_size:int=10):\n",
    "    '''determining the layout of the TMAP, and plotting the TMAP'''\n",
    "    lf = tm.LSHForest(2048, 32) # a locality-sensitive hashing forest, used for approximate nearest neighbor search is initialized with parameters 512 and 32.\n",
    "    ECFP4 = np.array(df[fp])  # converting the FPs to vector units\n",
    "    fps = []\n",
    "    for i in ECFP4:\n",
    "        vec = tm.VectorUint(i)\n",
    "        fps.append(vec)\n",
    "    lf.batch_add(fps)\n",
    "    lf.index()\n",
    "    cfg = tm.LayoutConfiguration()  # configuration parameters for TMAP layout\n",
    "    cfg.node_size = node_size  # size of nodes which affects the magnitude of their repelling force.\n",
    "    cfg.mmm_repeats = mmm_repeats  # number of repeats of the per-level layout algorithm\n",
    "    cfg.sl_extra_scaling_steps = steps  # sets the number of repeats of the scaling\n",
    "    cfg.k = k  # number of nearest neighbours used to create the k-nearest neighbour graph\n",
    "    cfg.sl_scaling_type = tm.RelativeToAvgLength  # Defines the relative scale of the graph\n",
    "\n",
    "    x, y, s, t, _ = tm.layout_from_lsh_forest(lf, cfg)\n",
    "\n",
    "    # create a Faerun object\n",
    "    category_labels, category_data = Faerun.create_categories(df['activity'])\n",
    "\n",
    "    # TMAP for Aline's compounds based on the three categories, aromatic ring fraction, heavy atom counts and qualitative estimation drug-likeliness\n",
    "    f = Faerun(\n",
    "        view=\"front\",\n",
    "        coords=False,\n",
    "        title=\"\",\n",
    "        clear_color=\"#FFFFFF\"\n",
    "    )\n",
    "\n",
    "    # \n",
    "    labels = [] # the widget labels\n",
    "    for i, smi in enumerate(df['canonical_smiles']):\n",
    "        labels.append(\n",
    "            smi\n",
    "            + \"__\"\n",
    "            # convert df['tid'].values to a list of strings and append it to the labels\n",
    "            + \"assay_chembl_id\" + str(df['assay_chembl_id'].tolist()[i])\n",
    "            + \"__\"\n",
    "            + \"target_chembl_id\" + str(df['target_chembl_id'].tolist()[i])\n",
    "            + \"__\"\n",
    "            + \"pchembl_value: \" + str(df['pchembl_value'].tolist()[i])\n",
    "            + \"__\"\n",
    "            + \"assay_type\" + str(df['assay_type'].tolist()[i])\n",
    "            + \"__\"\n",
    "            + \"assay_category\" + str(df['assay_category'].tolist()[i])\n",
    "            + \"__\"\n",
    "            + \"target_chembl_id: \" + str(df['target_chembl_id'].tolist()[i])\n",
    "            )\n",
    "    f.add_scatter(\n",
    "        title,\n",
    "        {\n",
    "            \"x\": x,\n",
    "            \"y\": y,\n",
    "            \"c\": [category_data, # categories\n",
    "\n",
    "                df['tid'].values.tolist(), \n",
    "                df['assay_id'].values.tolist(), \n",
    "                df['pchembl_value'].values.tolist(),\n",
    "                ],\n",
    "            \"labels\": labels, # SMILES as labels\n",
    "        },\n",
    "        point_scale=point_scale,\n",
    "        max_point_size=max_point_size,\n",
    "        shader=shader,\n",
    "        legend_labels=[category_labels, None, None, None],\n",
    "        categorical=[True, False, False, False],\n",
    "        colormap=['Set1', 'rainbow', 'rainbow', 'rainbow'],\n",
    "        series_title=['activity', 'tid', 'assay_id', 'pchembl_value'],\n",
    "        has_legend=True,\n",
    "    )\n",
    "    f.add_tree('Tree', {\"from\": s, \"to\": t}, point_helper=title)\n",
    "    f.plot(title, path=FEATURIZE_FIG_DIR, template='smiles')"
   ]
  },
  {
   "cell_type": "code",
   "execution_count": null,
   "metadata": {},
   "outputs": [],
   "source": [
    "def tmap_plot(df, title:str,\n",
    "              node_size:float=1/32, mmm_repeats:int=2, steps:int=5, k:int=15,\n",
    "              shader:str='smoothCircle',  point_scale:float=2.5, max_point_size:int=10):\n",
    "    '''determining the layout of the TMAP, and plotting the TMAP'''\n",
    "\n",
    "    # create a layout configuration\n",
    "    lf = tm.LSHForest(2048, 32) # a locality-sensitive hashing forest, used for approximate nearest neighbor search is initialized with parameters 512 and 32.\n",
    "    ECFP4 = np.array(df['fp'])  # converting the FPs to vector units\n",
    "    fps = []\n",
    "    for i in ECFP4:\n",
    "        vec = tm.VectorUint(i)\n",
    "        fps.append(vec)\n",
    "    lf.batch_add(fps)\n",
    "    lf.index()\n",
    "    cfg = tm.LayoutConfiguration()  # configuration parameters for TMAP layout\n",
    "    cfg.node_size = node_size  # size of nodes which affects the magnitude of their repelling force.\n",
    "    cfg.mmm_repeats = mmm_repeats  # number of repeats of the per-level layout algorithm\n",
    "    cfg.sl_extra_scaling_steps = steps  # sets the number of repeats of the scaling\n",
    "    cfg.k = k  # number of nearest neighbours used to create the k-nearest neighbour graph\n",
    "    cfg.sl_scaling_type = tm.RelativeToAvgLength  # Defines the relative scale of the graph\n",
    "\n",
    "    print(\"Creating layout\")\n",
    "    x, y, s, t, _ = tm.layout_from_lsh_forest(lf, cfg)\n",
    "    \n",
    "    # create a Faerun object\n",
    "    f = Faerun(\n",
    "        view=\"front\",\n",
    "        coords=False,\n",
    "        title=\"\",\n",
    "        clear_color=\"#FFFFFF\"\n",
    "    )\n",
    "\n",
    "    # label the points\n",
    "    labels = []\n",
    "    for i, s in enumerate(df['canonical_smiles']):\n",
    "        labels.append(\n",
    "            s\n",
    "            + \"__\"\n",
    "            + df['target_chembl_id'][i])\n",
    "\n",
    "    # color the points\n",
    "    target_chembl_id_map = dict([(y, x+1) for x, y in enumerate(sorted(set(df['target_chembl_id'])))])\n",
    "    classes = ['CHEMBL2014', 'CHEMBL233', 'CHEMBL236', 'CHEMBL237' ]\n",
    "    i = 0\n",
    "    for key, value in target_chembl_id_map.items():\n",
    "        if key not in classes:\n",
    "            target_chembl_id_map[key] = 0\n",
    "        else:\n",
    "            i += 1\n",
    "            target_chembl_id_map[key] = i\n",
    "\n",
    "    legend_labels =[\n",
    "        (0, 'Others'),\n",
    "        (1, 'Nociceptin receptor'),\n",
    "        (2, 'Mu opioid receptor'),\n",
    "        (3, 'Delta opioid receptor'),\n",
    "        (4, 'Kappa opioid receptor'),\n",
    "    ]\n",
    "\n",
    "    vals = [int(target_chembl_id_map[x]) for x in df['target_chembl_id']]\n",
    "\n",
    "    print(\"Adding scatter\")\n",
    "    # add the scatter plot\n",
    "    f.add_scatter(\n",
    "        title,\n",
    "        {\n",
    "            \"x\": x,\n",
    "            \"y\": y,\n",
    "            \"c\": vals,\n",
    "            \"labels\": labels, # the point labels\n",
    "        },\n",
    "        point_scale=point_scale,\n",
    "        max_point_size=max_point_size,\n",
    "        shader=shader,\n",
    "        legend_labels=legend_labels, # the color legend\n",
    "        categorical=True,\n",
    "        colormap=\"tab10\",\n",
    "        has_legend=True,\n",
    "        title_index=1\n",
    "    )\n",
    "    print(\"Plotting\")\n",
    "    f.add_tree('Tree', {\"from\": s, \"to\": t}, point_helper=title)\n",
    "    f.plot(title, template='smiles')"
   ]
  },
  {
   "cell_type": "markdown",
   "metadata": {},
   "source": [
    "# Plot tmap"
   ]
  },
  {
   "cell_type": "code",
   "execution_count": 4,
   "metadata": {},
   "outputs": [
    {
     "name": "stdout",
     "output_type": "stream",
     "text": [
      "The shape of the ic50_maxcur_df is (65485, 30)\n"
     ]
    }
   ],
   "source": [
    "# load the data\n",
    "ic50_maxcur_df = pd.read_pickle(os.path.join(FEATURIZE_DATA_DIR, 'ic50_maxcur_fp.pkl'))\n",
    "ki_maxcur_df = pd.read_pickle(os.path.join(FEATURIZE_DATA_DIR, 'ki_maxcur_fp.pkl'))\n",
    "ec50_maxcur_df = pd.read_pickle(os.path.join(FEATURIZE_DATA_DIR, 'ec50_maxcur_fp.pkl'))\n",
    "print(f'The shape of the ic50_maxcur_df is {ic50_maxcur_df.shape}')\n",
    "#print(f'The shape of the ki_maxcur_df is {ki_maxcur_df.shape}')\n",
    "#print(f'The shape of the ec50_maxcur_df is {ec50_maxcur_df.shape}')"
   ]
  },
  {
   "cell_type": "code",
   "execution_count": 30,
   "metadata": {},
   "outputs": [
    {
     "data": {
      "text/html": [
       "<div>\n",
       "<style scoped>\n",
       "    .dataframe tbody tr th:only-of-type {\n",
       "        vertical-align: middle;\n",
       "    }\n",
       "\n",
       "    .dataframe tbody tr th {\n",
       "        vertical-align: top;\n",
       "    }\n",
       "\n",
       "    .dataframe thead th {\n",
       "        text-align: right;\n",
       "    }\n",
       "</style>\n",
       "<table border=\"1\" class=\"dataframe\">\n",
       "  <thead>\n",
       "    <tr style=\"text-align: right;\">\n",
       "      <th></th>\n",
       "      <th>assay_id</th>\n",
       "      <th>assay_chembl_id</th>\n",
       "      <th>tid</th>\n",
       "      <th>target_chembl_id</th>\n",
       "      <th>standard_type</th>\n",
       "      <th>pchembl_value</th>\n",
       "      <th>assay_type</th>\n",
       "      <th>assay_category</th>\n",
       "      <th>assay_organism</th>\n",
       "      <th>assay_tax_id</th>\n",
       "      <th>assay_strain</th>\n",
       "      <th>assay_tissue</th>\n",
       "      <th>assay_cell_type</th>\n",
       "      <th>assay_subcellular_fraction</th>\n",
       "      <th>bao_format</th>\n",
       "    </tr>\n",
       "  </thead>\n",
       "  <tbody>\n",
       "    <tr>\n",
       "      <th>0</th>\n",
       "      <td>39161</td>\n",
       "      <td>CHEMBL650687</td>\n",
       "      <td>50</td>\n",
       "      <td>CHEMBL213</td>\n",
       "      <td>IC50</td>\n",
       "      <td>7.53</td>\n",
       "      <td>B</td>\n",
       "      <td>None</td>\n",
       "      <td>Canis lupus familiaris</td>\n",
       "      <td>9615</td>\n",
       "      <td>None</td>\n",
       "      <td>None</td>\n",
       "      <td>None</td>\n",
       "      <td>None</td>\n",
       "      <td>BAO_0000357</td>\n",
       "    </tr>\n",
       "    <tr>\n",
       "      <th>1</th>\n",
       "      <td>59914</td>\n",
       "      <td>CHEMBL671073</td>\n",
       "      <td>72</td>\n",
       "      <td>CHEMBL217</td>\n",
       "      <td>IC50</td>\n",
       "      <td>5.01</td>\n",
       "      <td>B</td>\n",
       "      <td>None</td>\n",
       "      <td>None</td>\n",
       "      <td>None</td>\n",
       "      <td>None</td>\n",
       "      <td>None</td>\n",
       "      <td>A9L</td>\n",
       "      <td>None</td>\n",
       "      <td>BAO_0000219</td>\n",
       "    </tr>\n",
       "  </tbody>\n",
       "</table>\n",
       "</div>"
      ],
      "text/plain": [
       "   assay_id assay_chembl_id  tid target_chembl_id standard_type  \\\n",
       "0     39161    CHEMBL650687   50        CHEMBL213          IC50   \n",
       "1     59914    CHEMBL671073   72        CHEMBL217          IC50   \n",
       "\n",
       "   pchembl_value assay_type assay_category          assay_organism  \\\n",
       "0           7.53          B           None  Canis lupus familiaris   \n",
       "1           5.01          B           None                    None   \n",
       "\n",
       "  assay_tax_id assay_strain assay_tissue assay_cell_type  \\\n",
       "0         9615         None         None            None   \n",
       "1         None         None         None             A9L   \n",
       "\n",
       "  assay_subcellular_fraction   bao_format  \n",
       "0                       None  BAO_0000357  \n",
       "1                       None  BAO_0000219  "
      ]
     },
     "execution_count": 30,
     "metadata": {},
     "output_type": "execute_result"
    }
   ],
   "source": [
    "ic50_maxcur_df.head(1)\n",
    "# display the first 10 columns of the ic50_mincur_df.head(1)\n",
    "ic50_maxcur_df.head(2).iloc[:, :15]"
   ]
  },
  {
   "cell_type": "code",
   "execution_count": 9,
   "metadata": {},
   "outputs": [
    {
     "data": {
      "text/plain": [
       "B    62105\n",
       "F    30177\n",
       "A      332\n",
       "T        2\n",
       "Name: assay_type, dtype: int64"
      ]
     },
     "execution_count": 9,
     "metadata": {},
     "output_type": "execute_result"
    }
   ],
   "source": [
    "ic50_maxcur_df['assay_type'].value_counts()"
   ]
  },
  {
   "cell_type": "code",
   "execution_count": 32,
   "metadata": {},
   "outputs": [
    {
     "data": {
      "text/plain": [
       "None                                 141215\n",
       "Selectivity assay                       228\n",
       "confirmatory                             96\n",
       "other                                    59\n",
       "Affinity biochemical assay                9\n",
       "screening                                 7\n",
       "Affinity on-target cellular assay         1\n",
       "Name: assay_category, dtype: int64"
      ]
     },
     "execution_count": 32,
     "metadata": {},
     "output_type": "execute_result"
    }
   ],
   "source": [
    "ki_maxcur_df['assay_category'].value_counts()"
   ]
  },
  {
   "cell_type": "code",
   "execution_count": 11,
   "metadata": {},
   "outputs": [
    {
     "data": {
      "text/plain": [
       "Homo sapiens                      69366\n",
       "None                              20733\n",
       "Cavia porcellus                    1144\n",
       "Oryctolagus cuniculus               525\n",
       "Canis lupus familiaris              299\n",
       "Sus scrofa                          169\n",
       "Bos taurus                          153\n",
       "Mus musculus                         54\n",
       "Cricetulus griseus                   48\n",
       "Cercopithecidae                      36\n",
       "Rattus norvegicus                    23\n",
       "frog                                 14\n",
       "Gerbillinae                          11\n",
       "guinea pig                           10\n",
       "Ovis aries                            8\n",
       "Rodentia sp.                          5\n",
       "Human immunodeficiency virus 1        5\n",
       "Mesocricetus auratus                  4\n",
       "Macaca mulatta                        4\n",
       "Callithrix                            2\n",
       "Bos javanicus                         1\n",
       "Meriones                              1\n",
       "Chlorocebus aethiops                  1\n",
       "Name: assay_organism, dtype: int64"
      ]
     },
     "execution_count": 11,
     "metadata": {},
     "output_type": "execute_result"
    }
   ],
   "source": [
    "ic50_maxcur_df['assay_organism'].value_counts()"
   ]
  },
  {
   "cell_type": "code",
   "execution_count": 12,
   "metadata": {},
   "outputs": [
    {
     "data": {
      "text/plain": [
       "9606     67934\n",
       "None     20832\n",
       "32644     1333\n",
       "10141     1144\n",
       "9986       525\n",
       "9615       299\n",
       "9823       179\n",
       "9913       153\n",
       "10090       54\n",
       "10029       48\n",
       "9527        36\n",
       "10116       23\n",
       "8292        14\n",
       "10045       11\n",
       "9940         8\n",
       "69158        5\n",
       "11676        5\n",
       "10036        4\n",
       "9544         4\n",
       "9481         2\n",
       "9906         1\n",
       "10046        1\n",
       "9534         1\n",
       "Name: assay_tax_id, dtype: int64"
      ]
     },
     "execution_count": 12,
     "metadata": {},
     "output_type": "execute_result"
    }
   ],
   "source": [
    "ic50_maxcur_df['assay_tax_id'].value_counts()"
   ]
  },
  {
   "cell_type": "code",
   "execution_count": 31,
   "metadata": {},
   "outputs": [
    {
     "data": {
      "text/plain": [
       "None    92611\n",
       "Ba-L        5\n",
       "Name: assay_strain, dtype: int64"
      ]
     },
     "execution_count": 31,
     "metadata": {},
     "output_type": "execute_result"
    }
   ],
   "source": [
    "ic50_maxcur_df['assay_strain'].value_counts()"
   ]
  },
  {
   "cell_type": "code",
   "execution_count": 15,
   "metadata": {},
   "outputs": [
    {
     "data": {
      "text/plain": [
       "None                 90381\n",
       "Plasma                1037\n",
       "Blood                  261\n",
       "Stomach                191\n",
       "Brain                  105\n",
       "Spleen                 100\n",
       "Liver                   84\n",
       "Venous blood            75\n",
       "Vas deferens            63\n",
       "Retina                  43\n",
       "Cortex                  34\n",
       "Kidney                  31\n",
       "Gastric mucosa          26\n",
       "Cerebral cortex         22\n",
       "Uterus                  21\n",
       "Artery                  20\n",
       "Ileum                   16\n",
       "Striatum                16\n",
       "Hippocampus             13\n",
       "Adrenal tissue          12\n",
       "Brain/Plasma            12\n",
       "Aorta                   11\n",
       "Cardiac atrium           9\n",
       "Heart                    6\n",
       "Choroid plexus           5\n",
       "Blood/Plasma             4\n",
       "Prostate gland           4\n",
       "Cerebellum               3\n",
       "Lung                     2\n",
       "Frontal cortex           2\n",
       "Cerebellar cortex        2\n",
       "Trachea                  1\n",
       "Colon                    1\n",
       "Corpus striatum          1\n",
       "Olfactory bulb           1\n",
       "Placenta                 1\n",
       "Name: assay_tissue, dtype: int64"
      ]
     },
     "execution_count": 15,
     "metadata": {},
     "output_type": "execute_result"
    }
   ],
   "source": [
    "ic50_maxcur_df['assay_tissue'].value_counts()"
   ]
  },
  {
   "cell_type": "code",
   "execution_count": 24,
   "metadata": {},
   "outputs": [
    {
     "data": {
      "text/plain": [
       "None        90529\n",
       "1969         1024\n",
       "178           205\n",
       "945           191\n",
       "955           105\n",
       "2106          100\n",
       "2107           83\n",
       "1000           63\n",
       "966            43\n",
       "1851           34\n",
       "2113           31\n",
       "1199           26\n",
       "956            22\n",
       "995            21\n",
       "1637           20\n",
       "2435           16\n",
       "2116           16\n",
       "10000000       13\n",
       "18303          12\n",
       "10000013       12\n",
       "947            11\n",
       "2081            9\n",
       "948             6\n",
       "1886            5\n",
       "2367            4\n",
       "10000041        4\n",
       "2037            3\n",
       "1870            2\n",
       "2048            2\n",
       "1155            1\n",
       "2264            1\n",
       "369             1\n",
       "3126            1\n",
       "Name: tissue_id, dtype: int64"
      ]
     },
     "execution_count": 24,
     "metadata": {},
     "output_type": "execute_result"
    }
   ],
   "source": [
    "ic50_mincur_df['tissue_id'].value_counts()"
   ]
  },
  {
   "cell_type": "code",
   "execution_count": 16,
   "metadata": {},
   "outputs": [
    {
     "data": {
      "text/plain": [
       "None      41163\n",
       "CHO       19149\n",
       "HEK293    10853\n",
       "CHO-K1     6345\n",
       "THP-1      1081\n",
       "          ...  \n",
       "chem1         1\n",
       "SW-620        1\n",
       "293           1\n",
       "Y-79          1\n",
       "PBL           1\n",
       "Name: assay_cell_type, Length: 229, dtype: int64"
      ]
     },
     "execution_count": 16,
     "metadata": {},
     "output_type": "execute_result"
    }
   ],
   "source": [
    "ic50_maxcur_df['assay_cell_type'].value_counts()"
   ]
  },
  {
   "cell_type": "code",
   "execution_count": 25,
   "metadata": {},
   "outputs": [
    {
     "data": {
      "text/plain": [
       "None    51839\n",
       "449     17961\n",
       "722      9420\n",
       "485      5510\n",
       "559      1063\n",
       "        ...  \n",
       "757         1\n",
       "422         1\n",
       "472         1\n",
       "750         1\n",
       "5639        1\n",
       "Name: cell_id, Length: 87, dtype: int64"
      ]
     },
     "execution_count": 25,
     "metadata": {},
     "output_type": "execute_result"
    }
   ],
   "source": [
    "ic50_maxcur_df['cell_id'].value_counts()"
   ]
  },
  {
   "cell_type": "code",
   "execution_count": 17,
   "metadata": {},
   "outputs": [
    {
     "data": {
      "text/plain": [
       "None             90399\n",
       "Membrane          1685\n",
       "Cell membrane      328\n",
       "Microsome           88\n",
       "Microsomes          78\n",
       "Mitochondria        22\n",
       "microsomes          16\n",
       "Name: assay_subcellular_fraction, dtype: int64"
      ]
     },
     "execution_count": 17,
     "metadata": {},
     "output_type": "execute_result"
    }
   ],
   "source": [
    "ic50_maxcur_df['assay_subcellular_fraction'].value_counts()"
   ]
  },
  {
   "cell_type": "code",
   "execution_count": 18,
   "metadata": {},
   "outputs": [
    {
     "data": {
      "text/plain": [
       "BAO_0000219    55606\n",
       "BAO_0000357    21449\n",
       "BAO_0000019    11103\n",
       "BAO_0000249     2619\n",
       "BAO_0000366      832\n",
       "BAO_0000221      751\n",
       "BAO_0000218      129\n",
       "BAO_0000251      105\n",
       "BAO_0000252       22\n",
       "Name: bao_format, dtype: int64"
      ]
     },
     "execution_count": 18,
     "metadata": {},
     "output_type": "execute_result"
    }
   ],
   "source": [
    "ic50_maxcur_df['bao_format'].value_counts()"
   ]
  },
  {
   "cell_type": "code",
   "execution_count": 5,
   "metadata": {},
   "outputs": [
    {
     "data": {
      "text/plain": [
       "None    65485\n",
       "Name: variant_id, dtype: int64"
      ]
     },
     "execution_count": 5,
     "metadata": {},
     "output_type": "execute_result"
    }
   ],
   "source": [
    "ic50_maxcur_df['variant_id'].value_counts()"
   ]
  },
  {
   "cell_type": "code",
   "execution_count": 20,
   "metadata": {},
   "outputs": [
    {
     "data": {
      "text/plain": [
       "None        86404\n",
       "In vitro     6199\n",
       "In vivo        13\n",
       "Name: assay_test_type, dtype: int64"
      ]
     },
     "execution_count": 20,
     "metadata": {},
     "output_type": "execute_result"
    }
   ],
   "source": [
    "ic50_maxcur_df['assay_test_type'].value_counts()"
   ]
  },
  {
   "cell_type": "code",
   "execution_count": 21,
   "metadata": {},
   "outputs": [
    {
     "data": {
      "text/plain": [
       "Inhibition of mTOR                                                                                                                                                                                                                                                                                                                                                                                                                                                                                                                                                                                                                                                                                                                                                                                                                                                                                                                                                                                                                                                                                                                                                                                                                                                                                                                                                                                                                                                                                                                                                                                                                                                                                                                                                                                                                                                             390\n",
       "Inhibition of human 11beta-HSD1                                                                                                                                                                                                                                                                                                                                                                                                                                                                                                                                                                                                                                                                                                                                                                                                                                                                                                                                                                                                                                                                                                                                                                                                                                                                                                                                                                                                                                                                                                                                                                                                                                                                                                                                                                                                                                                197\n",
       "Binding Assay: The binding assays were performed by testing the ability of the new compounds to displace the radiolabeled synthetic non-selective cannabinoid agonist [3H]CP55940 (168 Ci/mmol; PerkinElmer) from the human CB1 (hCB1) or human CB2 (hCB2) receptors on membranes derived from stably transfected HEK-293 cells (PerkinElmer). Membranes were diluted in assay buffer (50 mM Tris-HCl, 1 mM EDTA, 1 mM MgCl2, 1 mg/ml BSA, pH=7.4). The amount of membrane was determined for each batch of membranes according to protein binding assay. The minimum amount of membrane that gave 50% specific binding was used for the binding assay. In most assays, binding was tested using 8 μg and 4 μg protein of hCB1 and hCB2 membranes, respectively. The tested compounds were dissolved in DMSO and diluted in assay buffer to a final concentration of 0.1% solvent. Total binding of [3H]CP55940 was evaluated with 1.5 nM to hCB1 and with 0.5 nM to hCB2, according to Kd affinity of [3H]CP55940 for the respective membranes. The ability of the tested compounds to displace [3H]CP55940 was evaluated first at a single concentration point of 100 nM for binding toward hCB2 or hCB1. In certain cases, the displacement was tested at compound concentrations ranging from 0.03 nM to 10 μM. Non-specific binding was measured by the addition of 1 μM of unlabelled CP55940 to the tubes. Binding assays were performed in triplicate in a total volume of 500 μl for 60 minutes at 30° C., in a shaking bath. Free and bound radioligands were separated by rapid filtration through GF/C filter plates (PerkinElmer) that had been presoaked with 0.1% Polyethylenimine (Sigma). Filters were shaken for 1 hour in 7 ml scintillation fluid (PerkinElmer) and radioactivity was determined by liquid scintillation counter (Wallac; PerkinElmer).    169\n",
       "Inhibition of mTOR (unknown origin)                                                                                                                                                                                                                                                                                                                                                                                                                                                                                                                                                                                                                                                                                                                                                                                                                                                                                                                                                                                                                                                                                                                                                                                                                                                                                                                                                                                                                                                                                                                                                                                                                                                                                                                                                                                                                                            162\n",
       "Antagonist activity at Homo sapiens (human) CCR5 receptor                                                                                                                                                                                                                                                                                                                                                                                                                                                                                                                                                                                                                                                                                                                                                                                                                                                                                                                                                                                                                                                                                                                                                                                                                                                                                                                                                                                                                                                                                                                                                                                                                                                                                                                                                                                                                      152\n",
       "                                                                                                                                                                                                                                                                                                                                                                                                                                                                                                                                                                                                                                                                                                                                                                                                                                                                                                                                                                                                                                                                                                                                                                                                                                                                                                                                                                                                                                                                                                                                                                                                                                                                                                                                                                                                                                                                              ... \n",
       "Binding affinity at human delta opioid receptor expressed in CHO cells                                                                                                                                                                                                                                                                                                                                                                                                                                                                                                                                                                                                                                                                                                                                                                                                                                                                                                                                                                                                                                                                                                                                                                                                                                                                                                                                                                                                                                                                                                                                                                                                                                                                                                                                                                                                           1\n",
       "Antagonist activity at ETB receptor (unknown origin) expressed in membranes by radioligand assay                                                                                                                                                                                                                                                                                                                                                                                                                                                                                                                                                                                                                                                                                                                                                                                                                                                                                                                                                                                                                                                                                                                                                                                                                                                                                                                                                                                                                                                                                                                                                                                                                                                                                                                                                                                 1\n",
       "Antagonist activity at human EP1 receptor assessed as inhibition of PGE-induced intracellular Ca2+ release at 1 uM by cell-based assay                                                                                                                                                                                                                                                                                                                                                                                                                                                                                                                                                                                                                                                                                                                                                                                                                                                                                                                                                                                                                                                                                                                                                                                                                                                                                                                                                                                                                                                                                                                                                                                                                                                                                                                                           1\n",
       "Binding affinity to dopamine receptor D1                                                                                                                                                                                                                                                                                                                                                                                                                                                                                                                                                                                                                                                                                                                                                                                                                                                                                                                                                                                                                                                                                                                                                                                                                                                                                                                                                                                                                                                                                                                                                                                                                                                                                                                                                                                                                                         1\n",
       "Binding affinity to ORL1 receptor                                                                                                                                                                                                                                                                                                                                                                                                                                                                                                                                                                                                                                                                                                                                                                                                                                                                                                                                                                                                                                                                                                                                                                                                                                                                                                                                                                                                                                                                                                                                                                                                                                                                                                                                                                                                                                                1\n",
       "Name: assay_desc, Length: 8575, dtype: int64"
      ]
     },
     "execution_count": 21,
     "metadata": {},
     "output_type": "execute_result"
    }
   ],
   "source": [
    "ic50_maxcur_df['assay_desc'].value_counts()"
   ]
  },
  {
   "cell_type": "code",
   "execution_count": 23,
   "metadata": {},
   "outputs": [
    {
     "data": {
      "text/plain": [
       "None        86404\n",
       "In vitro     6199\n",
       "In vivo        13\n",
       "Name: assay_test_type, dtype: int64"
      ]
     },
     "execution_count": 23,
     "metadata": {},
     "output_type": "execute_result"
    }
   ],
   "source": [
    "ic50_maxcur_df['assay_test_type'].value_counts()"
   ]
  },
  {
   "cell_type": "code",
   "execution_count": 27,
   "metadata": {},
   "outputs": [
    {
     "data": {
      "text/plain": [
       "Autocuration    62481\n",
       "Expert          24395\n",
       "Intermediate     5740\n",
       "Name: curated_by, dtype: int64"
      ]
     },
     "execution_count": 27,
     "metadata": {},
     "output_type": "execute_result"
    }
   ],
   "source": [
    "ic50_maxcur_df['curated_by'].value_counts()"
   ]
  },
  {
   "cell_type": "code",
   "execution_count": 28,
   "metadata": {},
   "outputs": [
    {
     "data": {
      "text/plain": [
       "D    67934\n",
       "H    24682\n",
       "Name: relationship_type, dtype: int64"
      ]
     },
     "execution_count": 28,
     "metadata": {},
     "output_type": "execute_result"
    }
   ],
   "source": [
    "ic50_mincur_df['relationship_type'].value_counts()"
   ]
  },
  {
   "cell_type": "code",
   "execution_count": 29,
   "metadata": {},
   "outputs": [
    {
     "data": {
      "text/plain": [
       "CLD0                                     71856\n",
       "8349_1_pol_2137                            121\n",
       "8461_1_pol_1406                            101\n",
       "6523_1_pol_8650                            100\n",
       "7828_1_pol_5447                            100\n",
       "                                         ...  \n",
       "1229911                                      1\n",
       "1230086                                      1\n",
       "1230252                                      1\n",
       "1227939                                      1\n",
       "GSK778_cross_screeing_panel_CHRM2_Ant        1\n",
       "Name: aidx, Length: 2444, dtype: int64"
      ]
     },
     "execution_count": 29,
     "metadata": {},
     "output_type": "execute_result"
    }
   ],
   "source": [
    "ic50_mincur_df['aidx'].value_counts()"
   ]
  },
  {
   "cell_type": "code",
   "execution_count": null,
   "metadata": {},
   "outputs": [],
   "source": []
  },
  {
   "cell_type": "code",
   "execution_count": null,
   "metadata": {},
   "outputs": [],
   "source": []
  },
  {
   "cell_type": "code",
   "execution_count": 12,
   "metadata": {},
   "outputs": [],
   "source": [
    "mor_ic50_mincur_df = ic50_mincur_df[ic50_mincur_df['target_chembl_id'] == mor_chembl_id]"
   ]
  },
  {
   "cell_type": "code",
   "execution_count": 28,
   "metadata": {},
   "outputs": [],
   "source": [
    "tmap_plot_maedeh(ic50_mincur_df, title='ic50_mincur_ecfp4', fp='ecfp4')"
   ]
  },
  {
   "cell_type": "code",
   "execution_count": 27,
   "metadata": {},
   "outputs": [
    {
     "name": "stderr",
     "output_type": "stream",
     "text": [
      "/storage/homefs/yc24j783/miniconda3/envs/pyg/lib/python3.9/site-packages/faerun/faerun.py:402: RuntimeWarning: invalid value encountered in true_divide\n",
      "  data_c[s] = (data_c[s] - min_c[s]) / (max_c[s] - min_c[s])\n"
     ]
    },
    {
     "data": {
      "text/html": [
       "\n",
       "        <iframe\n",
       "            width=\"100%\"\n",
       "            height=\"500\"\n",
       "            src=\"/storage/homefs/yc24j783/datacat4ml/datacat4ml/Figures/data_prep/2_data_featurize/mor_ic50_mincur_map4c.html\"\n",
       "            frameborder=\"0\"\n",
       "            allowfullscreen\n",
       "            \n",
       "        ></iframe>\n",
       "        "
      ],
      "text/plain": [
       "<IPython.lib.display.IFrame at 0x7ff4142f4b50>"
      ]
     },
     "metadata": {},
     "output_type": "display_data"
    },
    {
     "data": {
      "text/html": [
       "<a href='/storage/homefs/yc24j783/datacat4ml/datacat4ml/Figures/data_prep/2_data_featurize/mor_ic50_mincur_map4c.html' target='_blank'>/storage/homefs/yc24j783/datacat4ml/datacat4ml/Figures/data_prep/2_data_featurize/mor_ic50_mincur_map4c.html</a><br>"
      ],
      "text/plain": [
       "/storage/homefs/yc24j783/datacat4ml/datacat4ml/Figures/data_prep/2_data_featurize/mor_ic50_mincur_map4c.html"
      ]
     },
     "metadata": {},
     "output_type": "display_data"
    }
   ],
   "source": [
    "tmap_plot_maedeh(ic50_mincur_df, title='ic50_mincur_map4c', fp='map4c')"
   ]
  },
  {
   "cell_type": "markdown",
   "metadata": {},
   "source": [
    "#### Tmap: GPCR vs OR"
   ]
  },
  {
   "cell_type": "code",
   "execution_count": null,
   "metadata": {},
   "outputs": [],
   "source": [
    "or_ic50_mincur_df = ic50_mincur_df[ic50_mincur_df['target_chembl_id'].isin([mor_chembl_id, kor_chembl_id, dor_chembl_id, nor_chembl_id])]\n",
    "df = ic50_mincur_df.copy()\n",
    "node_size = 1/32\n",
    "mmm_repeats = 2\n",
    "steps = 5\n",
    "k = 1000\n",
    "shader = 'smoothCircle'\n",
    "title = 'IC50_mincur'\n",
    "point_scale = 2.5\n",
    "max_point_size = 10"
   ]
  },
  {
   "cell_type": "code",
   "execution_count": null,
   "metadata": {},
   "outputs": [],
   "source": [
    "# create a layout configuration\n",
    "lf = tm.LSHForest(512, 32) # a locality-sensitive hashing forest, used for approximate nearest neighbor search is initialized with parameters 512 and 32.\n",
    "ECFP4 = np.array(df['map4c'])  # converting the FPs to vector units\n",
    "fps = []\n",
    "for i in ECFP4:\n",
    "    vec = tm.VectorUint(i)\n",
    "    fps.append(vec)\n",
    "lf.batch_add(fps)\n",
    "lf.index()\n",
    "\n",
    "cfg = tm.LayoutConfiguration()  # configuration parameters for TMAP layout\n",
    "cfg.node_size = node_size  # size of nodes which affects the magnitude of their repelling force.\n",
    "cfg.mmm_repeats = mmm_repeats  # number of repeats of the per-level layout algorithm\n",
    "cfg.sl_extra_scaling_steps = steps  # sets the number of repeats of the scaling\n",
    "cfg.k = k  # number of nearest neighbours used to create the k-nearest neighbour graph\n",
    "cfg.sl_scaling_type = tm.RelativeToAvgLength  # Defines the relative scale of the graph\n",
    "\n",
    "print(\"Creating layout\")\n",
    "x, y, s, t, _ = tm.layout_from_lsh_forest(lf, cfg)\n",
    "\n",
    "target_chembl_id_labels, target_chembl_id_data = Faerun.create_categories(df['target_chembl_id'])\n",
    "ors = ['CHEMBL2014', 'CHEMBL233', 'CHEMBL236', 'CHEMBL237' ]\n",
    "ors_labels = [(7, \"Other\")]\n",
    "target_chembl_id_map = [7]*len(target_chembl_id_data)\n",
    "value = 1\n",
    "for i, name in target_chembl_id_labels:\n",
    "    if i not in ors:\n",
    "        v=value\n",
    "        if v == 7:\n",
    "            v = 0\n",
    "        ors_labels.append((v, name))\n",
    "        target_chembl_id_map[i] = v\n",
    "        value += 1\n",
    "\n",
    "        \n",
    "## create a Faerun object\n",
    "#f = Faerun(\n",
    "#    view=\"front\",\n",
    "#    coords=False,\n",
    "#    title=\"\",\n",
    "#    clear_color=\"#FFFFFF\"\n",
    "#)\n",
    "#\n",
    "## label the points\n",
    "#labels = []\n",
    "#for i, s in enumerate(df['canonical_smiles']):\n",
    "#    labels.append(\n",
    "#        s\n",
    "#        + \"__\"\n",
    "#        + df['target_chembl_id'].values[i])\n",
    "#\n",
    "## color the points\n",
    "#target_chembl_id_map = dict([(y, x+1) for x, y in enumerate(sorted(set(df['target_chembl_id'])))])\n",
    "#classes = ['CHEMBL2014', 'CHEMBL233', 'CHEMBL236', 'CHEMBL237' ]\n",
    "#i = 0\n",
    "#for key, value in target_chembl_id_map.items():\n",
    "#    if key not in classes:\n",
    "#        target_chembl_id_map[key] = 0\n",
    "#    else:\n",
    "#        i += 1\n",
    "#        target_chembl_id_map[key] = i\n",
    "#\n",
    "#legend_labels =[\n",
    "#    (0, 'Others'),\n",
    "#    (1, 'Nociceptin receptor'),\n",
    "#    (2, 'Mu opioid receptor'),\n",
    "#    (3, 'Delta opioid receptor'),\n",
    "#    (4, 'Kappa opioid receptor'),\n",
    "#]\n",
    "#\n",
    "#vals = [int(target_chembl_id_map[x]) for x in df['target_chembl_id']]\n",
    "#\n",
    "#category_labels, category_data = Faerun.create_categories(vals)\n",
    "#\n",
    "#print(\"Adding scatter\")\n",
    "## add the scatter plot\n",
    "#f.add_scatter(\n",
    "#    title,\n",
    "#    {\"x\": x,\n",
    "#    \"y\": y,\n",
    "#    \"c\": category_data,\n",
    "#    \"labels\": labels, # the point labels\n",
    "#    },\n",
    "#    point_scale=point_scale,\n",
    "#    max_point_size=max_point_size,\n",
    "#    shader=shader,\n",
    "#    legend_labels=category_labels, # the color legend\n",
    "#    categorical=True,\n",
    "#    colormap=\"tab10\",\n",
    "#    has_legend=True,\n",
    "#)\n",
    "#print(\"Plotting\")\n",
    "#f.add_tree('Tree', {\"from\": s, \"to\": t}, point_helper=title)\n",
    "#f.plot(title, template='smiles')"
   ]
  },
  {
   "cell_type": "code",
   "execution_count": null,
   "metadata": {},
   "outputs": [],
   "source": [
    "target_chembl_id_labels, target_chembl_id_data = Faerun.create_categories(df['target_chembl_id'])\n",
    "print(f'target_chembl_id_data is {target_chembl_id_data}')  \n",
    "ors = ['CHEMBL2014', 'CHEMBL233', 'CHEMBL236', 'CHEMBL237' ]\n",
    "ors_labels = [(7, \"Other\")]\n",
    "target_chembl_id_map = [7]*len(target_chembl_id_data)\n",
    "value = 1\n",
    "for i, name in target_chembl_id_labels:\n",
    "    if i  in ors:\n",
    "        v=value\n",
    "        if v == 7:\n",
    "            v = 0\n",
    "        ors_labels.append((v, name))\n",
    "        target_chembl_id_map[i] = v\n",
    "        value += 1\n",
    "\n",
    "print('The value_counts for list of target_chembl_id_map is:{}\\n'.format(pd.Series(ors_labels).value_counts()))\n",
    "target_chembl_id_data = [target_chembl_id_map[val] for val in enumerate(target_chembl_id_data)]\n",
    "target_chembl_id_data"
   ]
  },
  {
   "cell_type": "code",
   "execution_count": null,
   "metadata": {},
   "outputs": [],
   "source": [
    "ors_labels"
   ]
  }
 ],
 "metadata": {
  "kernelspec": {
   "display_name": "pyg",
   "language": "python",
   "name": "python3"
  },
  "language_info": {
   "codemirror_mode": {
    "name": "ipython",
    "version": 3
   },
   "file_extension": ".py",
   "mimetype": "text/x-python",
   "name": "python",
   "nbconvert_exporter": "python",
   "pygments_lexer": "ipython3",
   "version": "3.9.16"
  }
 },
 "nbformat": 4,
 "nbformat_minor": 2
}
