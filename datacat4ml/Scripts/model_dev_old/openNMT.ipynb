{
 "cells": [
  {
   "cell_type": "code",
   "execution_count": 1,
   "metadata": {},
   "outputs": [],
   "source": [
    "import sys\n",
    "sys.path.append(\"/storage/homefs/yc24j783/datacat4ml/datacat4ml\")\n",
    "from const import DATA_DIR, FIG_DIR, FETCH_DATA_DIR , FETCH_FIG_DIR\n",
    "\n",
    "import os\n",
    "import numpy as np\n",
    "import pandas as pd\n",
    "\n",
    "# opennmt-related\n",
    "import onmt\n",
    "import onmt.inputters\n",
    "import onmt.encoders\n",
    "import onmt.decoders\n",
    "import onmt.translate\n",
    "import onmt.models\n",
    "import onmt.modules\n",
    "import onmt.utils\n",
    "import onmt.model_builder"
   ]
  },
  {
   "cell_type": "markdown",
   "metadata": {},
   "source": [
    "# Function"
   ]
  },
  {
   "cell_type": "markdown",
   "metadata": {},
   "source": [
    "# Load data"
   ]
  },
  {
   "cell_type": "code",
   "execution_count": 2,
   "metadata": {},
   "outputs": [
    {
     "name": "stderr",
     "output_type": "stream",
     "text": [
      "/tmp/ipykernel_3655534/202198655.py:3: DtypeWarning: Columns (7) have mixed types. Specify dtype option on import or set low_memory=False.\n",
      "  gpcr_ki = pd.read_csv(os.path.join(DATA_DIR, 'data_prep', '1_data_fetch', 'ki_maxcur_8_data.csv'))\n",
      "/tmp/ipykernel_3655534/202198655.py:10: DtypeWarning: Columns (7,10) have mixed types. Specify dtype option on import or set low_memory=False.\n",
      "  gpcr_ic50 = pd.read_csv(os.path.join(DATA_DIR, 'data_prep', '1_data_fetch', 'ic50_maxcur_8_data.csv'))\n",
      "/tmp/ipykernel_3655534/202198655.py:15: DtypeWarning: Columns (7,13) have mixed types. Specify dtype option on import or set low_memory=False.\n",
      "  gpcr_ec50 = pd.read_csv(os.path.join(DATA_DIR, 'data_prep', '1_data_fetch', 'ec50_maxcur_8_data.csv'))\n"
     ]
    }
   ],
   "source": [
    "or_chembl_id = ['CHEMBL233', 'CHEMBL237', 'CHEMBL236', 'CHEMBL2014']\n",
    "\n",
    "gpcr_ki = pd.read_csv(os.path.join(DATA_DIR, 'data_prep', '1_data_fetch', 'ki_maxcur_8_data.csv'))\n",
    "# extract the rows where the 'target_chembl_id' is one of the elements in the list OR_chembl_id\n",
    "or_ki = gpcr_ki[gpcr_ki['target_chembl_id'].isin(or_chembl_id)]\n",
    "# for gpcr_ki, concatenate the 'assay_description' column into a txt file\n",
    "gpcr_ki_assay_desc = gpcr_ki['assay_desc'].str.cat(sep=' ')\n",
    "or_ki_assay_desc = or_ki['assay_desc'].str.cat(sep=' ')\n",
    "\n",
    "gpcr_ic50 = pd.read_csv(os.path.join(DATA_DIR, 'data_prep', '1_data_fetch', 'ic50_maxcur_8_data.csv'))\n",
    "or_ic50 = gpcr_ic50[gpcr_ic50['target_chembl_id'].isin(or_chembl_id)]\n",
    "gpcr_ic50_assay_desc = gpcr_ic50['assay_desc'].str.cat(sep=' ')\n",
    "or_ic50_assay_desc = or_ic50['assay_desc'].str.cat(sep=' ')\n",
    "\n",
    "gpcr_ec50 = pd.read_csv(os.path.join(DATA_DIR, 'data_prep', '1_data_fetch', 'ec50_maxcur_8_data.csv'))\n",
    "or_ec50 = gpcr_ec50[gpcr_ec50['target_chembl_id'].isin(or_chembl_id)]\n",
    "gpcr_ec50_assay_desc = gpcr_ec50['assay_desc'].str.cat(sep=' ')\n",
    "or_ec50_assay_desc = or_ec50['assay_desc'].str.cat(sep=' ')"
   ]
  },
  {
   "cell_type": "markdown",
   "metadata": {},
   "source": [
    "# Preprocess"
   ]
  },
  {
   "cell_type": "markdown",
   "metadata": {},
   "source": [
    "- `/preprocess.py`: `from onmt.bin.preprocess import main`\n",
    "\n",
    "- `/onmt/bin/preprocess.py`: \n",
    "    - `def main()`: `preprocess(opt)`\n",
    "        - `def preprocess(opt)` : \n",
    "        - the chain of functions in this module:\n",
    "            - `def check_existing_pt_files` --> `def build_save_dataset` --> `def preprocess (opt)`\n",
    "            - `ded process_one_shard` --> `def shard_iterator` in `def build_save_dataset`\n",
    "            - `def maybe_load_vocab` --> `def build_save_dataset` --> `def preprocess (opt)`\n",
    "            - `def build_save_vocab` \n",
    "            - `def count_features(path)` --> `def preprocess(opt)`\n"
   ]
  },
  {
   "cell_type": "markdown",
   "metadata": {},
   "source": [
    "# Train"
   ]
  },
  {
   "cell_type": "markdown",
   "metadata": {},
   "source": [
    "- `def pred`/ `def next_batch` -->`def batch_producer` --> `def train(opt)`\n",
    "- `def run` --> `def train(opt)`\n",
    "- `class ErrorHandler` --> `def train(opt)`\n"
   ]
  },
  {
   "cell_type": "markdown",
   "metadata": {},
   "source": [
    "# Translate"
   ]
  },
  {
   "cell_type": "code",
   "execution_count": null,
   "metadata": {},
   "outputs": [],
   "source": []
  }
 ],
 "metadata": {
  "kernelspec": {
   "display_name": "opennmt",
   "language": "python",
   "name": "python3"
  },
  "language_info": {
   "codemirror_mode": {
    "name": "ipython",
    "version": 3
   },
   "file_extension": ".py",
   "mimetype": "text/x-python",
   "name": "python",
   "nbconvert_exporter": "python",
   "pygments_lexer": "ipython3",
   "version": "3.9.20"
  }
 },
 "nbformat": 4,
 "nbformat_minor": 2
}
